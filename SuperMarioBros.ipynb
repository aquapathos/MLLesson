{
  "nbformat": 4,
  "nbformat_minor": 0,
  "metadata": {
    "colab": {
      "name": "SuperMarioBros.ipynb",
      "provenance": [],
      "collapsed_sections": [],
      "authorship_tag": "ABX9TyPWCzM4Rln8PfeJb+5+xHfp",
      "include_colab_link": true
    },
    "kernelspec": {
      "name": "python3",
      "display_name": "Python 3"
    },
    "accelerator": "GPU"
  },
  "cells": [
    {
      "cell_type": "markdown",
      "metadata": {
        "id": "view-in-github",
        "colab_type": "text"
      },
      "source": [
        "<a href=\"https://colab.research.google.com/github/aquapathos/MLLesson/blob/master/SuperMarioBros.ipynb\" target=\"_parent\"><img src=\"https://colab.research.google.com/assets/colab-badge.svg\" alt=\"Open In Colab\"/></a>"
      ]
    },
    {
      "cell_type": "markdown",
      "metadata": {
        "id": "IluvcmqUHeFb"
      },
      "source": [
        "# SuperMarioBros openAI gym 環境などのインストール\r\n",
        "\r\n",
        "- gmy-super-mario-bros\r\n",
        "- wandb\r\n",
        "- 自作ライブラリ\r\n",
        "\r\n",
        "wandb のアカウントを持っていることが前提です。"
      ]
    },
    {
      "cell_type": "code",
      "metadata": {
        "id": "X1EvzpZLG1XW"
      },
      "source": [
        "!wget https://raw.githubusercontent.com/aquapathos/MLLesson/master/mksmb_env.py -q\r\n",
        "!pip install gym-super-mario-bros > /dev/null\r\n",
        "!pip install wandb > /dev/null\r\n",
        "!pip install stable-baselines3 > /dev/null"
      ],
      "execution_count": 1,
      "outputs": []
    },
    {
      "cell_type": "markdown",
      "metadata": {
        "id": "9-gi35IIHdCP"
      },
      "source": [
        "このインストール過程で、[nes-py](https://github.com/Kautenja/nes-py) というファミコンエミュレータがインストールされる模様。\r\n",
        "\r\n",
        "モデルを保存するために Google Drive をマウント"
      ]
    },
    {
      "cell_type": "code",
      "metadata": {
        "colab": {
          "base_uri": "https://localhost:8080/"
        },
        "id": "TCyow2s0HAYq",
        "outputId": "b13b4d54-b102-46c9-89ef-bd92a6652e1d"
      },
      "source": [
        "from google.colab import drive\r\n",
        "drive.mount('/content/drive')"
      ],
      "execution_count": 2,
      "outputs": [
        {
          "output_type": "stream",
          "text": [
            "Drive already mounted at /content/drive; to attempt to forcibly remount, call drive.mount(\"/content/drive\", force_remount=True).\n"
          ],
          "name": "stdout"
        }
      ]
    },
    {
      "cell_type": "markdown",
      "metadata": {
        "id": "druSn2okIMQH"
      },
      "source": [
        "# 動作確認"
      ]
    },
    {
      "cell_type": "code",
      "metadata": {
        "id": "lDC0TaruH1Ou",
        "colab": {
          "base_uri": "https://localhost:8080/",
          "height": 565
        },
        "outputId": "ba87502e-e4d3-4479-b31e-8f6b81479ded"
      },
      "source": [
        "import gym,cv2\r\n",
        "\r\n",
        "import gym_super_mario_bros\r\n",
        "from mksmb_env import Joy,make_mario_env,recordModelCallback\r\n",
        "from gym_super_mario_bros.actions import SIMPLE_MOVEMENT,COMPLEX_MOVEMENT,RIGHT_ONLY\r\n",
        "from stable_baselines3.common.vec_env import DummyVecEnv,SubprocVecEnv,VecFrameStack\r\n",
        "\r\n",
        "env_id = 'SuperMarioBros-v0'\r\n",
        "#env = make_mario_env(env_id, n_envs=8, seed=0,vec_env_cls=SubprocVecEnv, monitor_dir= \"test\")\r\n",
        "env = make_mario_env(Joy(), n_envs=4, seed=0,vec_env_cls=DummyVecEnv, monitor_dir= \"test\")\r\n",
        "env = VecFrameStack(env, n_stack=4)\r\n",
        "\r\n",
        "from PIL import Image \r\n",
        "Image.fromarray((env.render(mode='rgb_array')))"
      ],
      "execution_count": 3,
      "outputs": [
        {
          "output_type": "stream",
          "text": [
            "USEW False\n",
            "USEW False\n",
            "USEW False\n",
            "USEW False\n"
          ],
          "name": "stdout"
        },
        {
          "output_type": "execute_result",
          "data": {
            "image/png": "[encoded data removed]",
            "text/plain": [
              "<PIL.Image.Image image mode=RGB size=512x480 at 0x7F3992D52208>"
            ]
          },
          "metadata": {
            "tags": []
          },
          "execution_count": 3
        }
      ]
    },
    {
      "cell_type": "markdown",
      "metadata": {
        "id": "-k4BGPEpK5vn"
      },
      "source": [
        "スーパーマリオのアクションスペースは256種ものアクションがあり、[JoypadSpace() ](https://github.com/Kautenja/nes-py/blob/master/nes_py/wrappers/joypad_space.py))というラッパーを通すと7種に減ることがわかる。[JoypadSpace() ](https://github.com/Kautenja/nes-py/blob/master/nes_py/wrappers/joypad_space.py)のソースを見ると、\r\n",
        "\r\n",
        "```\r\n",
        "    # a mapping of buttons to binary values\r\n",
        "    _button_map = {\r\n",
        "        'right':  0b10000000,\r\n",
        "        'left':   0b01000000,\r\n",
        "        'down':   0b00100000,\r\n",
        "        'up':     0b00010000,\r\n",
        "        'start':  0b00001000,\r\n",
        "        'select': 0b00000100,\r\n",
        "        'B':      0b00000010,\r\n",
        "        'A':      0b00000001,\r\n",
        "        'NOOP':   0b00000000,\r\n",
        "    }\r\n",
        "```\r\n",
        "とあり、\r\n",
        "\r\n",
        "```\r\n",
        "from gym_super_mario_bros.actions import SIMPLE_MOVEMENT\r\n",
        "```\r\n",
        "\r\n",
        "は、[actions.py](https://github.com/Kautenja/gym-super-mario-bros/blob/1a3dde897700614f729fc3294c1e451528d9a112/gym_super_mario_bros/actions.py)で、\r\n",
        "\r\n",
        "```\r\n",
        "# actions for very simple movement\r\n",
        "SIMPLE_MOVEMENT = [\r\n",
        "    ['NOOP'],\r\n",
        "    ['right'],\r\n",
        "    ['right', 'A'],\r\n",
        "    ['right', 'B'],\r\n",
        "    ['right', 'A', 'B'],\r\n",
        "    ['A'],\r\n",
        "    ['left'],\r\n",
        "]\r\n",
        "```\r\n",
        "と定義されている。基本的にスーパーマリオは右スクロールのゲームなので、これでもよさげだが、左ジャンプぐらいもやはりほしい。upは NOOPと同じなので省いて、次のアクションスペースを使ってみる。"
      ]
    },
    {
      "cell_type": "code",
      "metadata": {
        "id": "k6lTkwft8UNo"
      },
      "source": [
        "MYACTIONSET = [\r\n",
        "    ['NOOP'],\r\n",
        "    ['right'],\r\n",
        "    ['right', 'A'],\r\n",
        "    ['right', 'B'],\r\n",
        "    ['right', 'A', 'B'],\r\n",
        "    ['A'],\r\n",
        "    ['left'],\r\n",
        "    ['left', 'A'],\r\n",
        "    ['left', 'B'],\r\n",
        "    ['left', 'A', 'B'],\r\n",
        "    ['down'],\r\n",
        "]"
      ],
      "execution_count": 4,
      "outputs": []
    },
    {
      "cell_type": "markdown",
      "metadata": {
        "id": "0XBF1d299LEm"
      },
      "source": [
        "ゲーム画面のサイズは"
      ]
    },
    {
      "cell_type": "code",
      "metadata": {
        "colab": {
          "base_uri": "https://localhost:8080/"
        },
        "id": "qOlNSIXW7Qky",
        "outputId": "a11df5f4-4449-4606-c640-3c70de334f6f"
      },
      "source": [
        "gym_super_mario_bros.make('SuperMarioBros-v0').reset().shape"
      ],
      "execution_count": 5,
      "outputs": [
        {
          "output_type": "execute_result",
          "data": {
            "text/plain": [
              "(240, 256, 3)"
            ]
          },
          "metadata": {
            "tags": []
          },
          "execution_count": 5
        }
      ]
    },
    {
      "cell_type": "markdown",
      "metadata": {
        "id": "B2A35Fcq6cVx"
      },
      "source": [
        "# PPO学習"
      ]
    },
    {
      "cell_type": "code",
      "metadata": {
        "colab": {
          "base_uri": "https://localhost:8080/"
        },
        "id": "0qkHrH0k6aNu",
        "outputId": "22a2f73a-cdf9-4b19-f2eb-a5d43d2f4c3d"
      },
      "source": [
        "from stable_baselines3.common.vec_env import DummyVecEnv,SubprocVecEnv,VecFrameStack,VecEnv\r\n",
        "from stable_baselines3 import PPO\r\n",
        "from stable_baselines3.common.callbacks import BaseCallback\r\n",
        "import wandb,os\r\n",
        "import numpy as np\r\n",
        "import torch,gym\r\n",
        "device = torch.device('cuda:0' if torch.cuda.is_available() else 'cpu')\r\n",
        "print(repr(device))"
      ],
      "execution_count": 6,
      "outputs": [
        {
          "output_type": "stream",
          "text": [
            "device(type='cuda', index=0)\n"
          ],
          "name": "stdout"
        }
      ]
    },
    {
      "cell_type": "code",
      "metadata": {
        "id": "Jq3uEnnaIiAk",
        "colab": {
          "base_uri": "https://localhost:8080/",
          "height": 633
        },
        "outputId": "f24b318a-f8ee-4fb5-b25a-7b1564d58639"
      },
      "source": [
        "log_dir ='/content/drive/MyDrive/M/smb'\r\n",
        "\r\n",
        "# Inside my model training code \r\n",
        "!export WANDB_NOTEBOOK_NAME=\"Mario\".ipynb\"\r\n",
        "import wandb\r\n",
        "PROJECTNAME='Mario'\r\n",
        "wandb.init(project=PROJECTNAME)"
      ],
      "execution_count": 7,
      "outputs": [
        {
          "output_type": "stream",
          "text": [
            "/bin/bash: -c: line 0: unexpected EOF while looking for matching `\"'\n",
            "/bin/bash: -c: line 1: syntax error: unexpected end of file\n"
          ],
          "name": "stdout"
        },
        {
          "output_type": "stream",
          "text": [
            "\u001b[34m\u001b[1mwandb\u001b[0m: Currently logged in as: \u001b[33maquapathos\u001b[0m (use `wandb login --relogin` to force relogin)\n"
          ],
          "name": "stderr"
        },
        {
          "output_type": "display_data",
          "data": {
            "text/html": [
              "\n",
              "                Tracking run with wandb version 0.10.12<br/>\n",
              "                Syncing run <strong style=\"color:#cdcd00\">drawn-cosmos-18</strong> to <a href=\"https://wandb.ai\" target=\"_blank\">Weights & Biases</a> <a href=\"https://docs.wandb.com/integrations/jupyter.html\" target=\"_blank\">(Documentation)</a>.<br/>\n",
              "                Project page: <a href=\"https://wandb.ai/aquapathos/Mario\" target=\"_blank\">https://wandb.ai/aquapathos/Mario</a><br/>\n",
              "                Run page: <a href=\"https://wandb.ai/aquapathos/Mario/runs/1sg4ar5x\" target=\"_blank\">https://wandb.ai/aquapathos/Mario/runs/1sg4ar5x</a><br/>\n",
              "                Run data is saved locally in <code>/content/wandb/run-20210111_110439-1sg4ar5x</code><br/><br/>\n",
              "            "
            ],
            "text/plain": [
              "<IPython.core.display.HTML object>"
            ]
          },
          "metadata": {
            "tags": []
          }
        },
        {
          "output_type": "execute_result",
          "data": {
            "text/plain": [
              "<wandb.sdk.wandb_run.Run at 0x7f39336a7630>"
            ],
            "text/html": [
              "<h1>Run(1sg4ar5x)</h1><p></p><iframe src=\"https://wandb.ai/aquapathos/Mario/runs/1sg4ar5x\" style=\"border:none;width:100%;height:400px\"></iframe>"
            ]
          },
          "metadata": {
            "tags": []
          },
          "execution_count": 7
        }
      ]
    },
    {
      "cell_type": "code",
      "metadata": {
        "colab": {
          "base_uri": "https://localhost:8080/"
        },
        "id": "n7sLq58-62b9",
        "outputId": "82aa5ae9-b65b-478f-b8d6-bf28f82119e6"
      },
      "source": [
        "monargs={'usewandb':True}\r\n",
        "#env = make_mario_env(Joy(movement=MYACTIONSET), n_envs=8, seed=0,vec_env_cls=SubprocVecEnv, monitor_dir=log_dir,monitor_kwargs=monargs)\r\n",
        "env = make_mario_env(Joy(movement=MYACTIONSET), n_envs=8, seed=0,vec_env_cls=DummyVecEnv, monitor_dir= log_dir,monitor_kwargs=monargs)\r\n",
        "env = VecFrameStack(env, n_stack=4)\r\n",
        "\r\n",
        "model = PPO('CnnPolicy', env, verbose=0,device=device,        \r\n",
        "    learning_rate = 3e-4,  # default  3e-4\r\n",
        "    n_steps = 2048, # 2048\r\n",
        "    clip_range = 0.2, # default 0.2\r\n",
        "    ent_coef = 0.01, # default 0.01\r\n",
        "    batch_size = 64, #64\r\n",
        "    n_epochs = 4 ) # 4\r\n",
        "\r\n",
        "# model.load('/content/drive/MyDrive/M/smb/best_model.zip')\r\n",
        "callback = recordModelCallback(check_freq=50, log_dir=log_dir, usewandb=True)\r\n",
        "total_timesteps = 1e8\r\n",
        "%time model.learn(total_timesteps=total_timesteps,callback=callback)"
      ],
      "execution_count": null,
      "outputs": [
        {
          "output_type": "stream",
          "text": [
            "USEW True\n",
            "USEW True\n",
            "USEW True\n",
            "USEW True\n",
            "USEW True\n",
            "USEW True\n",
            "USEW True\n",
            "USEW True\n",
            "Num timesteps: 4400 : Best mean reward: 0.00 - Last mean reward/ep: 314.00\n",
            "Saving new best model to /content/drive/MyDrive/M/smb/best_model.zip\n",
            "Num timesteps: 4800 : Best mean reward: 314.00 - Last mean reward/ep: 314.00\n",
            "Num timesteps: 5200 : Best mean reward: 314.00 - Last mean reward/ep: 314.00\n",
            "Num timesteps: 5600 : Best mean reward: 314.00 - Last mean reward/ep: 314.00\n",
            "Num timesteps: 6000 : Best mean reward: 314.00 - Last mean reward/ep: 314.00\n",
            "Num timesteps: 6400 : Best mean reward: 314.00 - Last mean reward/ep: 314.00\n",
            "Num timesteps: 6800 : Best mean reward: 314.00 - Last mean reward/ep: 314.00\n",
            "Num timesteps: 7200 : Best mean reward: 314.00 - Last mean reward/ep: 314.00\n",
            "Num timesteps: 7600 : Best mean reward: 314.00 - Last mean reward/ep: 252.00\n",
            "Num timesteps: 8000 : Best mean reward: 314.00 - Last mean reward/ep: 252.00\n",
            "Num timesteps: 8400 : Best mean reward: 314.00 - Last mean reward/ep: 252.00\n",
            "Num timesteps: 8800 : Best mean reward: 314.00 - Last mean reward/ep: 252.00\n",
            "Num timesteps: 9200 : Best mean reward: 314.00 - Last mean reward/ep: 252.00\n",
            "Num timesteps: 9600 : Best mean reward: 314.00 - Last mean reward/ep: 252.00\n",
            "Num timesteps: 10000 : Best mean reward: 314.00 - Last mean reward/ep: 252.00\n",
            "Num timesteps: 10400 : Best mean reward: 314.00 - Last mean reward/ep: 252.00\n",
            "Num timesteps: 10800 : Best mean reward: 314.00 - Last mean reward/ep: 410.67\n",
            "Saving new best model to /content/drive/MyDrive/M/smb/best_model.zip\n",
            "Num timesteps: 11200 : Best mean reward: 410.67 - Last mean reward/ep: 410.67\n",
            "Num timesteps: 11600 : Best mean reward: 410.67 - Last mean reward/ep: 410.67\n",
            "Num timesteps: 12000 : Best mean reward: 410.67 - Last mean reward/ep: 410.67\n",
            "Num timesteps: 12400 : Best mean reward: 410.67 - Last mean reward/ep: 410.67\n",
            "Num timesteps: 12800 : Best mean reward: 410.67 - Last mean reward/ep: 410.67\n",
            "Num timesteps: 13200 : Best mean reward: 410.67 - Last mean reward/ep: 410.67\n",
            "Num timesteps: 13600 : Best mean reward: 410.67 - Last mean reward/ep: 410.67\n",
            "Num timesteps: 14000 : Best mean reward: 410.67 - Last mean reward/ep: 410.67\n",
            "Num timesteps: 14400 : Best mean reward: 410.67 - Last mean reward/ep: 410.67\n",
            "Num timesteps: 14800 : Best mean reward: 410.67 - Last mean reward/ep: 410.67\n",
            "Num timesteps: 15200 : Best mean reward: 410.67 - Last mean reward/ep: 410.67\n",
            "Num timesteps: 15600 : Best mean reward: 410.67 - Last mean reward/ep: 410.67\n",
            "Num timesteps: 16000 : Best mean reward: 410.67 - Last mean reward/ep: 410.67\n",
            "Num timesteps: 16400 : Best mean reward: 410.67 - Last mean reward/ep: 410.67\n",
            "Num timesteps: 16800 : Best mean reward: 410.67 - Last mean reward/ep: 410.67\n",
            "Num timesteps: 17200 : Best mean reward: 410.67 - Last mean reward/ep: 410.67\n",
            "Num timesteps: 17600 : Best mean reward: 410.67 - Last mean reward/ep: 410.67\n",
            "Num timesteps: 18000 : Best mean reward: 410.67 - Last mean reward/ep: 410.67\n",
            "Num timesteps: 18400 : Best mean reward: 410.67 - Last mean reward/ep: 410.67\n",
            "Num timesteps: 18800 : Best mean reward: 410.67 - Last mean reward/ep: 410.67\n",
            "Num timesteps: 19200 : Best mean reward: 410.67 - Last mean reward/ep: 410.67\n",
            "Num timesteps: 19600 : Best mean reward: 410.67 - Last mean reward/ep: 528.75\n",
            "Saving new best model to /content/drive/MyDrive/M/smb/best_model.zip\n",
            "Num timesteps: 20000 : Best mean reward: 528.75 - Last mean reward/ep: 528.75\n",
            "Num timesteps: 20400 : Best mean reward: 528.75 - Last mean reward/ep: 528.75\n",
            "Num timesteps: 20800 : Best mean reward: 528.75 - Last mean reward/ep: 528.75\n",
            "Num timesteps: 21200 : Best mean reward: 528.75 - Last mean reward/ep: 528.75\n",
            "Num timesteps: 21600 : Best mean reward: 528.75 - Last mean reward/ep: 528.75\n",
            "Num timesteps: 22000 : Best mean reward: 528.75 - Last mean reward/ep: 528.75\n",
            "Num timesteps: 22400 : Best mean reward: 528.75 - Last mean reward/ep: 619.20\n",
            "Saving new best model to /content/drive/MyDrive/M/smb/best_model.zip\n",
            "Num timesteps: 22800 : Best mean reward: 619.20 - Last mean reward/ep: 619.20\n",
            "Num timesteps: 23200 : Best mean reward: 619.20 - Last mean reward/ep: 619.20\n",
            "Num timesteps: 23600 : Best mean reward: 619.20 - Last mean reward/ep: 619.20\n",
            "Num timesteps: 24000 : Best mean reward: 619.20 - Last mean reward/ep: 619.20\n",
            "Num timesteps: 24400 : Best mean reward: 619.20 - Last mean reward/ep: 619.20\n",
            "Num timesteps: 24800 : Best mean reward: 619.20 - Last mean reward/ep: 619.20\n",
            "Num timesteps: 25200 : Best mean reward: 619.20 - Last mean reward/ep: 619.20\n",
            "Num timesteps: 25600 : Best mean reward: 619.20 - Last mean reward/ep: 619.20\n",
            "Num timesteps: 26000 : Best mean reward: 619.20 - Last mean reward/ep: 619.20\n",
            "Num timesteps: 26400 : Best mean reward: 619.20 - Last mean reward/ep: 619.20\n",
            "Num timesteps: 26800 : Best mean reward: 619.20 - Last mean reward/ep: 629.00\n",
            "Saving new best model to /content/drive/MyDrive/M/smb/best_model.zip\n",
            "Num timesteps: 27200 : Best mean reward: 629.00 - Last mean reward/ep: 629.00\n",
            "Num timesteps: 27600 : Best mean reward: 629.00 - Last mean reward/ep: 717.71\n",
            "Saving new best model to /content/drive/MyDrive/M/smb/best_model.zip\n",
            "Num timesteps: 28000 : Best mean reward: 717.71 - Last mean reward/ep: 717.71\n",
            "Num timesteps: 28400 : Best mean reward: 717.71 - Last mean reward/ep: 717.71\n",
            "Num timesteps: 28800 : Best mean reward: 717.71 - Last mean reward/ep: 717.71\n",
            "Num timesteps: 29200 : Best mean reward: 717.71 - Last mean reward/ep: 700.38\n",
            "Num timesteps: 29600 : Best mean reward: 717.71 - Last mean reward/ep: 700.38\n",
            "Num timesteps: 30000 : Best mean reward: 717.71 - Last mean reward/ep: 700.38\n",
            "Num timesteps: 30400 : Best mean reward: 717.71 - Last mean reward/ep: 700.38\n",
            "Num timesteps: 30800 : Best mean reward: 717.71 - Last mean reward/ep: 700.38\n",
            "Num timesteps: 31200 : Best mean reward: 717.71 - Last mean reward/ep: 700.38\n",
            "Num timesteps: 31600 : Best mean reward: 717.71 - Last mean reward/ep: 700.38\n",
            "Num timesteps: 32000 : Best mean reward: 717.71 - Last mean reward/ep: 700.38\n",
            "Num timesteps: 32400 : Best mean reward: 717.71 - Last mean reward/ep: 700.38\n"
          ],
          "name": "stdout"
        }
      ]
    },
    {
      "cell_type": "code",
      "metadata": {
        "id": "H0UaFsOT-0Km"
      },
      "source": [
        "!rm /content/drive/MyDrive/M/smb/?.moni*"
      ],
      "execution_count": 9,
      "outputs": []
    },
    {
      "cell_type": "code",
      "metadata": {
        "id": "Oje1V5g0HOuu"
      },
      "source": [
        ""
      ],
      "execution_count": 9,
      "outputs": []
    }
  ]
}