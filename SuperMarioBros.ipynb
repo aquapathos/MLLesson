{
  "nbformat": 4,
  "nbformat_minor": 0,
  "metadata": {
    "accelerator": "GPU",
    "colab": {
      "name": "SuperMarioBros.ipynb",
      "provenance": [],
      "collapsed_sections": [],
      "authorship_tag": "ABX9TyNY/h5s3pGJaRUipC39GSI4",
      "include_colab_link": true
    },
    "kernelspec": {
      "display_name": "Python 3",
      "name": "python3"
    }
  },
  "cells": [
    {
      "cell_type": "markdown",
      "metadata": {
        "id": "view-in-github",
        "colab_type": "text"
      },
      "source": [
        "<a href=\"https://colab.research.google.com/github/aquapathos/MLLesson/blob/master/SuperMarioBros.ipynb\" target=\"_parent\"><img src=\"https://colab.research.google.com/assets/colab-badge.svg\" alt=\"Open In Colab\"/></a>"
      ]
    },
    {
      "cell_type": "markdown",
      "metadata": {
        "id": "IluvcmqUHeFb"
      },
      "source": [
        "# SuperMarioBros openAI gym 環境などのインストール\r\n",
        "\r\n",
        "- gmy-super-mario-bros\r\n",
        "- wandb\r\n",
        "- 自作ライブラリ\r\n",
        "\r\n",
        "wandb のアカウントを持っていることが前提です。"
      ]
    },
    {
      "cell_type": "code",
      "metadata": {
        "id": "X1EvzpZLG1XW"
      },
      "source": [
        "!wget https://raw.githubusercontent.com/aquapathos/MLLesson/master/mksmb_env.py -q\r\n",
        "!pip install gym-super-mario-bros > /dev/null\r\n",
        "!pip install wandb > /dev/null\r\n",
        "!pip install stable-baselines3 > /dev/null"
      ],
      "execution_count": null,
      "outputs": []
    },
    {
      "cell_type": "markdown",
      "metadata": {
        "id": "9-gi35IIHdCP"
      },
      "source": [
        "このインストール過程で、[nes-py](https://github.com/Kautenja/nes-py) というファミコンエミュレータがインストールされる模様。\r\n",
        "\r\n",
        "これは\r\n",
        "\r\n",
        "モデルを保存するために Google Drive をマウント"
      ]
    },
    {
      "cell_type": "code",
      "metadata": {
        "id": "TCyow2s0HAYq"
      },
      "source": [
        "from google.colab import drive\r\n",
        "drive.mount('/content/drive')"
      ],
      "execution_count": null,
      "outputs": []
    },
    {
      "cell_type": "markdown",
      "metadata": {
        "id": "druSn2okIMQH"
      },
      "source": [
        "# 動作確認"
      ]
    },
    {
      "cell_type": "code",
      "metadata": {
        "id": "lDC0TaruH1Ou"
      },
      "source": [
        "import gym,cv2\r\n",
        "\r\n",
        "import gym_super_mario_bros\r\n",
        "from mksmb_env import Joy,make_mario_env,recordModelCallback\r\n",
        "from gym_super_mario_bros.actions import SIMPLE_MOVEMENT,COMPLEX_MOVEMENT,RIGHT_ONLY\r\n",
        "from stable_baselines3.common.vec_env import DummyVecEnv,SubprocVecEnv,VecFrameStack\r\n",
        "\r\n",
        "env_id = 'SuperMarioBros-v0'\r\n",
        "#env = make_mario_env(env_id, n_envs=8, seed=0,vec_env_cls=SubprocVecEnv, monitor_dir= \"test\")\r\n",
        "env = make_mario_env(Joy(), n_envs=4, seed=0,vec_env_cls=DummyVecEnv, monitor_dir= \"test\")\r\n",
        "env = VecFrameStack(env, n_stack=4)\r\n",
        "\r\n",
        "from PIL import Image \r\n",
        "Image.fromarray((env.render(mode='rgb_array')))"
      ],
      "execution_count": null,
      "outputs": []
    },
    {
      "cell_type": "markdown",
      "metadata": {
        "id": "-k4BGPEpK5vn"
      },
      "source": [
        "スーパーマリオのアクションスペースは256種ものアクションがあり、[JoypadSpace() ](https://github.com/Kautenja/nes-py/blob/master/nes_py/wrappers/joypad_space.py))というラッパーを通すと7種に減ることがわかる。[JoypadSpace() ](https://github.com/Kautenja/nes-py/blob/master/nes_py/wrappers/joypad_space.py)のソースを見ると、\r\n",
        "\r\n",
        "```\r\n",
        "    # a mapping of buttons to binary values\r\n",
        "    _button_map = {\r\n",
        "        'right':  0b10000000,\r\n",
        "        'left':   0b01000000,\r\n",
        "        'down':   0b00100000,\r\n",
        "        'up':     0b00010000,\r\n",
        "        'start':  0b00001000,\r\n",
        "        'select': 0b00000100,\r\n",
        "        'B':      0b00000010,\r\n",
        "        'A':      0b00000001,\r\n",
        "        'NOOP':   0b00000000,\r\n",
        "    }\r\n",
        "```\r\n",
        "とあり、\r\n",
        "\r\n",
        "```\r\n",
        "from gym_super_mario_bros.actions import SIMPLE_MOVEMENT\r\n",
        "```\r\n",
        "\r\n",
        "は、[actions.py](https://github.com/Kautenja/gym-super-mario-bros/blob/1a3dde897700614f729fc3294c1e451528d9a112/gym_super_mario_bros/actions.py)で、\r\n",
        "\r\n",
        "```\r\n",
        "# actions for very simple movement\r\n",
        "SIMPLE_MOVEMENT = [\r\n",
        "    ['NOOP'],\r\n",
        "    ['right'],\r\n",
        "    ['right', 'A'],\r\n",
        "    ['right', 'B'],\r\n",
        "    ['right', 'A', 'B'],\r\n",
        "    ['A'],\r\n",
        "    ['left'],\r\n",
        "]\r\n",
        "```\r\n",
        "と定義されている。基本的にスーパーマリオは右スクロールのゲームなので、これでもよさげだが、左ジャンプぐらいもやはりほしい。upは NOOPと同じなので省いて、次のアクションスペースを使ってみる。"
      ]
    },
    {
      "cell_type": "code",
      "metadata": {
        "id": "k6lTkwft8UNo"
      },
      "source": [
        "MYACTIONSET = [\r\n",
        "    ['NOOP'],\r\n",
        "    ['right'],\r\n",
        "    ['right', 'A'],\r\n",
        "    ['right', 'B'],\r\n",
        "    ['right', 'A', 'B'],\r\n",
        "    ['A'],\r\n",
        "    ['left'],\r\n",
        "    ['left', 'A'],\r\n",
        "]"
      ],
      "execution_count": null,
      "outputs": []
    },
    {
      "cell_type": "markdown",
      "metadata": {
        "id": "0XBF1d299LEm"
      },
      "source": [
        "ゲーム画面のサイズは"
      ]
    },
    {
      "cell_type": "code",
      "metadata": {
        "colab": {
          "base_uri": "https://localhost:8080/"
        },
        "id": "qOlNSIXW7Qky",
        "outputId": "23f33b40-ac6e-4d20-8e85-bec174f60e14"
      },
      "source": [
        "gym_super_mario_bros.make('SuperMarioBros-v0').reset().shape"
      ],
      "execution_count": null,
      "outputs": [
        {
          "output_type": "execute_result",
          "data": {
            "text/plain": [
              "(240, 256, 3)"
            ]
          },
          "metadata": {
            "tags": []
          },
          "execution_count": 5
        }
      ]
    },
    {
      "cell_type": "markdown",
      "metadata": {
        "id": "B2A35Fcq6cVx"
      },
      "source": [
        "# PPO学習"
      ]
    },
    {
      "cell_type": "code",
      "metadata": {
        "colab": {
          "base_uri": "https://localhost:8080/"
        },
        "id": "0qkHrH0k6aNu",
        "outputId": "42779654-5360-46f2-897c-10be69f76ad4"
      },
      "source": [
        "from stable_baselines3.common.vec_env import DummyVecEnv,SubprocVecEnv,VecFrameStack,VecEnv\r\n",
        "from stable_baselines3 import PPO\r\n",
        "from stable_baselines3.common.callbacks import BaseCallback\r\n",
        "import wandb,os\r\n",
        "import numpy as np\r\n",
        "import torch,gym\r\n",
        "device = torch.device('cuda:0' if torch.cuda.is_available() else 'cpu')\r\n",
        "print(repr(device))"
      ],
      "execution_count": null,
      "outputs": [
        {
          "output_type": "stream",
          "text": [
            "device(type='cpu')\n"
          ],
          "name": "stdout"
        }
      ]
    },
    {
      "cell_type": "markdown",
      "metadata": {
        "id": "7r_-1fokttw0"
      },
      "source": [
        "Stable Baselines3 のMonitor()ラッパーで、エピソードごとの報酬がcsv 形式で保存される。また、公式ページのコールバック関数を使うと、直近100エピソードの平均報酬の最大値を、tensorboard用のログ形式で保存される。\r\n",
        "\r\n",
        "さらに、マリオ環境は、infoにコイン数、スコア、時間、座標を出力しているので、それらを WandB のログとして残すようにプログラムした。 \r\n",
        "\r\n",
        "wandb \r\n",
        "\r\n",
        "<img width=\"483\" alt=\"loggraph\" src=\"https://user-images.githubusercontent.com/5820803/104266956-fe869e80-54d3-11eb-922f-6857a629d1b9.png\">"
      ]
    },
    {
      "cell_type": "code",
      "metadata": {
        "id": "Jq3uEnnaIiAk"
      },
      "source": [
        "log_dir ='/content/drive/MyDrive/M/smb'\r\n",
        "\r\n",
        "# Inside my model training code \r\n",
        "!export WANDB_NOTEBOOK_NAME=\"Mario\".ipynb\"\r\n",
        "import wandb\r\n",
        "PROJECTNAME='Mario'\r\n",
        "wandb.init(project=PROJECTNAME)"
      ],
      "execution_count": null,
      "outputs": []
    },
    {
      "cell_type": "markdown",
      "metadata": {
        "id": "72UENaG_wOOt"
      },
      "source": [
        "# 学習プログラム"
      ]
    },
    {
      "cell_type": "code",
      "metadata": {
        "id": "n7sLq58-62b9"
      },
      "source": [
        "from stable_baselines3.common.evaluation import evaluate_policy\r\n",
        "\r\n",
        "def ev(lr):\r\n",
        "    monargs={'usewandb':True}\r\n",
        "    #env = make_mario_env(Joy(movement=MYACTIONSET), n_envs=8, seed=0,vec_env_cls=SubprocVecEnv, monitor_dir=log_dir,monitor_kwargs=monargs)\r\n",
        "    env = make_mario_env(Joy(movement=MYACTIONSET), n_envs=8, seed=0,vec_env_cls=DummyVecEnv, monitor_dir= log_dir,monitor_kwargs=monargs)\r\n",
        "    env = VecFrameStack(env, n_stack=4)\r\n",
        "\r\n",
        "    model = PPO('CnnPolicy', env, verbose=0,device=device,        \r\n",
        "        learning_rate = lr,  # default  3e-4\r\n",
        "        gamma = 0.9,\r\n",
        "        n_steps = 1024, # 2048\r\n",
        "        clip_range = 0.2, # default 0.2\r\n",
        "        ent_coef = 0.01, # default 0.01\r\n",
        "        batch_size = 128, #64\r\n",
        "        n_epochs = 4 ) # 4\r\n",
        "\r\n",
        "    # model.load('/content/drive/MyDrive/M/smb/best_model.zip')\r\n",
        "    callback = recordModelCallback(check_freq=50, log_dir=log_dir, usewandb=True)\r\n",
        "    total_timesteps = 2e7\r\n",
        "    %time model.learn(total_timesteps=total_timesteps,callback=callback)\r\n"
      ],
      "execution_count": null,
      "outputs": []
    },
    {
      "cell_type": "markdown",
      "metadata": {
        "id": "P-NFh5J-wTR3"
      },
      "source": [
        "学習の実行"
      ]
    },
    {
      "cell_type": "code",
      "metadata": {
        "id": "H0UaFsOT-0Km"
      },
      "source": [
        "#!rm /content/drive/MyDrive/M/smb/?.moni*"
      ],
      "execution_count": null,
      "outputs": []
    },
    {
      "cell_type": "code",
      "metadata": {
        "id": "RXcPecosPY6F"
      },
      "source": [
        "ev(3.e-4)"
      ],
      "execution_count": null,
      "outputs": []
    },
    {
      "cell_type": "markdown",
      "metadata": {
        "id": "jhIn1D6N4sw5"
      },
      "source": [
        "# 動画化"
      ]
    },
    {
      "cell_type": "markdown",
      "metadata": {
        "id": "j_V_Ooqw4xSs"
      },
      "source": [
        "### フレーム収集"
      ]
    },
    {
      "cell_type": "code",
      "metadata": {
        "id": "_dedRvomxVJj"
      },
      "source": [
        "env = make_mario_env(Joy(movement=MYACTIONSET), n_envs=1, seed=0,vec_env_cls=DummyVecEnv)\r\n",
        "env = VecFrameStack(env, n_stack=4)\r\n",
        "log_dir ='/content/drive/MyDrive/M/smb'\r\n",
        "model = PPO('CnnPolicy',env)\r\n",
        "model = PPO.load(log_dir+\"/best_model.zip\")"
      ],
      "execution_count": null,
      "outputs": []
    },
    {
      "cell_type": "code",
      "metadata": {
        "id": "6LeOOIGGMF55"
      },
      "source": [
        "width,height = 256,240\r\n",
        "images = []\r\n",
        "obs = env.reset()\r\n",
        "img = cv2.resize(env.render(mode='rgb_array'),(width,height))\r\n",
        "for i in range(900):\r\n",
        "    images.append(img)\r\n",
        "    action, _ = model.predict(obs)\r\n",
        "    obs, _, _ ,_ = env.step(action)\r\n",
        "    img = cv2.resize(env.render(mode='rgb_array'),(width,height))\r\n"
      ],
      "execution_count": null,
      "outputs": []
    },
    {
      "cell_type": "markdown",
      "metadata": {
        "id": "E8DSiOKd43JO"
      },
      "source": [
        "### GIF動画化"
      ]
    },
    {
      "cell_type": "code",
      "metadata": {
        "id": "P01pTVxlP8yH"
      },
      "source": [
        "import imageio\r\n",
        "imageio.mimsave('smb.gif', [np.array(img) for i, img in enumerate(images) if i%2 == 0], fps=29)"
      ],
      "execution_count": null,
      "outputs": []
    },
    {
      "cell_type": "markdown",
      "metadata": {
        "id": "yA16XEq848QS"
      },
      "source": [
        "### mp4"
      ]
    },
    {
      "cell_type": "code",
      "metadata": {
        "id": "NvixBIIJ5G-T"
      },
      "source": [
        "frame_rate = 30.0  #FPS\r\n",
        "def timelaps(images,width,height):\r\n",
        "    fourcc = cv2.VideoWriter_fourcc('m','p','4','v')\r\n",
        "    video = cv2.VideoWriter('smb.mp4', fourcc, frame_rate, (width, height))\r\n",
        "    for img in images:\r\n",
        "        video.write(img[:,:,::-1]) \r\n",
        "    video.release()\r\n",
        "timelaps(images,width=width,height=height)"
      ],
      "execution_count": null,
      "outputs": []
    },
    {
      "cell_type": "markdown",
      "metadata": {
        "id": "Sp_T_wDM5cgH"
      },
      "source": [
        "### 高得点ケースの録画"
      ]
    },
    {
      "cell_type": "code",
      "metadata": {
        "id": "yeBe4MhC5kO2"
      },
      "source": [
        "env = make_mario_env(Joy(movement=MYACTIONSET), n_envs=1, seed=0,vec_env_cls=DummyVecEnv)\r\n",
        "env = VecFrameStack(env, n_stack=4)\r\n",
        "width,height = 256,240\r\n",
        "while True:\r\n",
        "  images = []\r\n",
        "  obs = env.reset()\r\n",
        "  img = cv2.resize(env.render(mode='rgb_array'),(width,height))\r\n",
        "  images.append(img)\r\n",
        "  complete = False\r\n",
        "  while not complete:\r\n",
        "    action, _ = model.predict(obs)\r\n",
        "    obs, _, done ,info = env.step(action)\r\n",
        "    img = cv2.resize(env.render(mode='rgb_array'),(width,height))\r\n",
        "    images.append(img)\r\n",
        "    if done:\r\n",
        "      print(info[0]['x_pos'])\r\n",
        "      if info[0]['x_pos'] > 2500:\r\n",
        "          complete = True\r\n",
        "  if complete:\r\n",
        "    break"
      ],
      "execution_count": null,
      "outputs": []
    },
    {
      "cell_type": "code",
      "metadata": {
        "colab": {
          "base_uri": "https://localhost:8080/"
        },
        "id": "pNwN_JD1S0dB",
        "outputId": "32a76cb5-2a4c-44a0-e9ab-cade9bbf50a9"
      },
      "source": [
        "len(images)"
      ],
      "execution_count": null,
      "outputs": [
        {
          "output_type": "execute_result",
          "data": {
            "text/plain": [
              "1305"
            ]
          },
          "metadata": {
            "tags": []
          },
          "execution_count": 24
        }
      ]
    },
    {
      "cell_type": "code",
      "metadata": {
        "colab": {
          "base_uri": "https://localhost:8080/"
        },
        "id": "sFbdh4RXS60K",
        "outputId": "edd79f0a-9f57-4a7a-ba26-19b34b1f862a"
      },
      "source": [
        "info"
      ],
      "execution_count": null,
      "outputs": [
        {
          "output_type": "execute_result",
          "data": {
            "text/plain": [
              "[{'coins': 0,\n",
              "  'flag_get': False,\n",
              "  'life': 1,\n",
              "  'score': 400,\n",
              "  'stage': 1,\n",
              "  'status': 'small',\n",
              "  'time': 400,\n",
              "  'world': 1,\n",
              "  'x_pos': 1319,\n",
              "  'y_pos': 79}]"
            ]
          },
          "metadata": {
            "tags": []
          },
          "execution_count": 24
        }
      ]
    },
    {
      "cell_type": "code",
      "metadata": {
        "colab": {
          "base_uri": "https://localhost:8080/",
          "height": 257
        },
        "id": "pxhQQYYS6eUq",
        "outputId": "67292e6c-53b2-48c2-bf23-227eaaccaffc"
      },
      "source": [
        "from google.colab.patches import cv2_imshow\r\n",
        "cv2_imshow(env.render(mode='rgb_array')[::])"
      ],
      "execution_count": null,
      "outputs": [
        {
          "output_type": "display_data",
          "data": {
            "image/png": "[encoded data removed]",
            "text/plain": [
              "<PIL.Image.Image image mode=RGB size=256x240 at 0x7FF2B22D0DD8>"
            ]
          },
          "metadata": {
            "tags": []
          }
        }
      ]
    },
    {
      "cell_type": "code",
      "metadata": {
        "id": "pJ4R8BV36jm_"
      },
      "source": [
        ""
      ],
      "execution_count": null,
      "outputs": []
    },
    {
      "cell_type": "code",
      "metadata": {
        "id": "uFu7pFbN7i7s"
      },
      "source": [
        ""
      ],
      "execution_count": null,
      "outputs": []
    }
  ]
}