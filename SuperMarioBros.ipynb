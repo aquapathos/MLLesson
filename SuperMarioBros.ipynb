{
  "nbformat": 4,
  "nbformat_minor": 0,
  "metadata": {
    "colab": {
      "name": "SuperMarioBros.ipynb",
      "provenance": [],
      "collapsed_sections": [],
      "authorship_tag": "ABX9TyO4GGV3wjWBGgaSg+ZdN5Wc",
      "include_colab_link": true
    },
    "kernelspec": {
      "name": "python3",
      "display_name": "Python 3"
    },
    "accelerator": "GPU"
  },
  "cells": [
    {
      "cell_type": "markdown",
      "metadata": {
        "id": "view-in-github",
        "colab_type": "text"
      },
      "source": [
        "<a href=\"https://colab.research.google.com/github/aquapathos/MLLesson/blob/master/SuperMarioBros.ipynb\" target=\"_parent\"><img src=\"https://colab.research.google.com/assets/colab-badge.svg\" alt=\"Open In Colab\"/></a>"
      ]
    },
    {
      "cell_type": "markdown",
      "metadata": {
        "id": "IluvcmqUHeFb"
      },
      "source": [
        "# SuperMarioBros openAI gym 環境などのインストール\r\n",
        "\r\n",
        "- gmy-super-mario-bros\r\n",
        "- wandb\r\n",
        "- 自作ライブラリ\r\n",
        "\r\n",
        "wandb のアカウントを持っていることが前提です。"
      ]
    },
    {
      "cell_type": "code",
      "metadata": {
        "id": "X1EvzpZLG1XW"
      },
      "source": [
        "!wget https://raw.githubusercontent.com/aquapathos/MLLesson/master/mksmb_env.py -q\r\n",
        "!pip install gym-super-mario-bros > /dev/null\r\n",
        "!pip install wandb > /dev/null\r\n",
        "!pip install stable-baselines3 > /dev/null"
      ],
      "execution_count": 1,
      "outputs": []
    },
    {
      "cell_type": "markdown",
      "metadata": {
        "id": "9-gi35IIHdCP"
      },
      "source": [
        "このインストール過程で、[nes-py](https://github.com/Kautenja/nes-py) というファミコンエミュレータがインストールされる模様。\r\n",
        "\r\n",
        "モデルを保存するために Google Drive をマウント"
      ]
    },
    {
      "cell_type": "code",
      "metadata": {
        "colab": {
          "base_uri": "https://localhost:8080/"
        },
        "id": "TCyow2s0HAYq",
        "outputId": "73e3d042-4d02-4eab-94f7-8fecb797e909"
      },
      "source": [
        "from google.colab import drive\r\n",
        "drive.mount('/content/drive')"
      ],
      "execution_count": 2,
      "outputs": [
        {
          "output_type": "stream",
          "text": [
            "Mounted at /content/drive\n"
          ],
          "name": "stdout"
        }
      ]
    },
    {
      "cell_type": "markdown",
      "metadata": {
        "id": "druSn2okIMQH"
      },
      "source": [
        "# 動作確認"
      ]
    },
    {
      "cell_type": "code",
      "metadata": {
        "id": "lDC0TaruH1Ou",
        "colab": {
          "base_uri": "https://localhost:8080/",
          "height": 497
        },
        "outputId": "39724695-cd64-4cd8-f948-0bc984b2d093"
      },
      "source": [
        "import gym,cv2\r\n",
        "\r\n",
        "import gym_super_mario_bros\r\n",
        "from mksmb_env import Joy,make_mario_env,recordModelCallback\r\n",
        "from gym_super_mario_bros.actions import SIMPLE_MOVEMENT,COMPLEX_MOVEMENT,RIGHT_ONLY\r\n",
        "from stable_baselines3.common.vec_env import DummyVecEnv,SubprocVecEnv,VecFrameStack\r\n",
        "\r\n",
        "env_id = 'SuperMarioBros-v0'\r\n",
        "#env = make_mario_env(env_id, n_envs=8, seed=0,vec_env_cls=SubprocVecEnv, monitor_dir= \"test\")\r\n",
        "env = make_mario_env(Joy(), n_envs=4, seed=0,vec_env_cls=DummyVecEnv, monitor_dir= \"test\")\r\n",
        "env = VecFrameStack(env, n_stack=4)\r\n",
        "\r\n",
        "from PIL import Image \r\n",
        "Image.fromarray((env.render(mode='rgb_array')))"
      ],
      "execution_count": 4,
      "outputs": [
        {
          "output_type": "execute_result",
          "data": {
            "image/png": "[encoded data removed]",
            "text/plain": [
              "<PIL.Image.Image image mode=RGB size=512x480 at 0x7F2C90DC3C88>"
            ]
          },
          "metadata": {
            "tags": []
          },
          "execution_count": 4
        }
      ]
    },
    {
      "cell_type": "markdown",
      "metadata": {
        "id": "-k4BGPEpK5vn"
      },
      "source": [
        "スーパーマリオのアクションスペースは256種ものアクションがあり、[JoypadSpace() ](https://github.com/Kautenja/nes-py/blob/master/nes_py/wrappers/joypad_space.py))というラッパーを通すと7種に減ることがわかる。[JoypadSpace() ](https://github.com/Kautenja/nes-py/blob/master/nes_py/wrappers/joypad_space.py)のソースを見ると、\r\n",
        "\r\n",
        "```\r\n",
        "    # a mapping of buttons to binary values\r\n",
        "    _button_map = {\r\n",
        "        'right':  0b10000000,\r\n",
        "        'left':   0b01000000,\r\n",
        "        'down':   0b00100000,\r\n",
        "        'up':     0b00010000,\r\n",
        "        'start':  0b00001000,\r\n",
        "        'select': 0b00000100,\r\n",
        "        'B':      0b00000010,\r\n",
        "        'A':      0b00000001,\r\n",
        "        'NOOP':   0b00000000,\r\n",
        "    }\r\n",
        "```\r\n",
        "とあり、\r\n",
        "\r\n",
        "```\r\n",
        "from gym_super_mario_bros.actions import SIMPLE_MOVEMENT\r\n",
        "```\r\n",
        "\r\n",
        "は、[actions.py](https://github.com/Kautenja/gym-super-mario-bros/blob/1a3dde897700614f729fc3294c1e451528d9a112/gym_super_mario_bros/actions.py)で、\r\n",
        "\r\n",
        "```\r\n",
        "# actions for very simple movement\r\n",
        "SIMPLE_MOVEMENT = [\r\n",
        "    ['NOOP'],\r\n",
        "    ['right'],\r\n",
        "    ['right', 'A'],\r\n",
        "    ['right', 'B'],\r\n",
        "    ['right', 'A', 'B'],\r\n",
        "    ['A'],\r\n",
        "    ['left'],\r\n",
        "]\r\n",
        "```\r\n",
        "と定義されている。基本的にスーパーマリオは右スクロールのゲームなので、これでもよさげだが、左ジャンプぐらいもやはりほしい。upは NOOPと同じなので省いて、次のアクションスペースを使ってみる。"
      ]
    },
    {
      "cell_type": "code",
      "metadata": {
        "id": "k6lTkwft8UNo"
      },
      "source": [
        "MYACTIONSET = [\r\n",
        "    ['NOOP'],\r\n",
        "    ['right'],\r\n",
        "    ['right', 'A'],\r\n",
        "    ['right', 'B'],\r\n",
        "    ['right', 'A', 'B'],\r\n",
        "    ['A'],\r\n",
        "    ['left'],\r\n",
        "    ['left', 'A'],\r\n",
        "    ['left', 'B'],\r\n",
        "    ['left', 'A', 'B'],\r\n",
        "    ['down'],\r\n",
        "]"
      ],
      "execution_count": 5,
      "outputs": []
    },
    {
      "cell_type": "markdown",
      "metadata": {
        "id": "0XBF1d299LEm"
      },
      "source": [
        "ゲーム画面のサイズは"
      ]
    },
    {
      "cell_type": "code",
      "metadata": {
        "colab": {
          "base_uri": "https://localhost:8080/"
        },
        "id": "qOlNSIXW7Qky",
        "outputId": "b67abe54-0e7b-40f2-d151-b27562a0c7b3"
      },
      "source": [
        "gym_super_mario_bros.make('SuperMarioBros-v0').reset().shape"
      ],
      "execution_count": 6,
      "outputs": [
        {
          "output_type": "execute_result",
          "data": {
            "text/plain": [
              "(240, 256, 3)"
            ]
          },
          "metadata": {
            "tags": []
          },
          "execution_count": 6
        }
      ]
    },
    {
      "cell_type": "markdown",
      "metadata": {
        "id": "B2A35Fcq6cVx"
      },
      "source": [
        "# PPO学習"
      ]
    },
    {
      "cell_type": "code",
      "metadata": {
        "colab": {
          "base_uri": "https://localhost:8080/"
        },
        "id": "0qkHrH0k6aNu",
        "outputId": "8101db10-cd0a-4f45-fd93-e08f6a616439"
      },
      "source": [
        "from stable_baselines3.common.vec_env import DummyVecEnv,SubprocVecEnv,VecFrameStack,VecEnv\r\n",
        "from stable_baselines3 import PPO\r\n",
        "from stable_baselines3.common.callbacks import BaseCallback\r\n",
        "import wandb,os\r\n",
        "import numpy as np\r\n",
        "import torch,gym\r\n",
        "device = torch.device('cuda:0' if torch.cuda.is_available() else 'cpu')\r\n",
        "print(repr(device))"
      ],
      "execution_count": 7,
      "outputs": [
        {
          "output_type": "stream",
          "text": [
            "device(type='cpu')\n"
          ],
          "name": "stdout"
        }
      ]
    },
    {
      "cell_type": "code",
      "metadata": {
        "id": "Jq3uEnnaIiAk",
        "colab": {
          "base_uri": "https://localhost:8080/",
          "height": 650
        },
        "outputId": "f55a1462-259b-448f-b6d9-7a9103bcaef2"
      },
      "source": [
        "log_dir ='/content/drive/MyDrive/M/smb'\r\n",
        "\r\n",
        "# Inside my model training code \r\n",
        "!export WANDB_NOTEBOOK_NAME=\"Mario\".ipynb\"\r\n",
        "import wandb\r\n",
        "PROJECTNAME='Mario'\r\n",
        "wandb.init(project=PROJECTNAME)"
      ],
      "execution_count": 8,
      "outputs": [
        {
          "output_type": "stream",
          "text": [
            "/bin/bash: -c: line 0: unexpected EOF while looking for matching `\"'\n",
            "/bin/bash: -c: line 1: syntax error: unexpected end of file\n"
          ],
          "name": "stdout"
        },
        {
          "output_type": "display_data",
          "data": {
            "application/javascript": [
              "\n",
              "        window._wandbApiKey = new Promise((resolve, reject) => {\n",
              "            function loadScript(url) {\n",
              "            return new Promise(function(resolve, reject) {\n",
              "                let newScript = document.createElement(\"script\");\n",
              "                newScript.onerror = reject;\n",
              "                newScript.onload = resolve;\n",
              "                document.body.appendChild(newScript);\n",
              "                newScript.src = url;\n",
              "            });\n",
              "            }\n",
              "            loadScript(\"https://cdn.jsdelivr.net/npm/postmate/build/postmate.min.js\").then(() => {\n",
              "            const iframe = document.createElement('iframe')\n",
              "            iframe.style.cssText = \"width:0;height:0;border:none\"\n",
              "            document.body.appendChild(iframe)\n",
              "            const handshake = new Postmate({\n",
              "                container: iframe,\n",
              "                url: 'https://wandb.ai/authorize'\n",
              "            });\n",
              "            const timeout = setTimeout(() => reject(\"Couldn't auto authenticate\"), 5000)\n",
              "            handshake.then(function(child) {\n",
              "                child.on('authorize', data => {\n",
              "                    clearTimeout(timeout)\n",
              "                    resolve(data)\n",
              "                });\n",
              "            });\n",
              "            })\n",
              "        });\n",
              "    "
            ],
            "text/plain": [
              "<IPython.core.display.Javascript object>"
            ]
          },
          "metadata": {
            "tags": []
          }
        },
        {
          "output_type": "stream",
          "text": [
            "\u001b[34m\u001b[1mwandb\u001b[0m: Appending key for api.wandb.ai to your netrc file: /root/.netrc\n"
          ],
          "name": "stderr"
        },
        {
          "output_type": "display_data",
          "data": {
            "text/html": [
              "\n",
              "                Tracking run with wandb version 0.10.12<br/>\n",
              "                Syncing run <strong style=\"color:#cdcd00\">fluent-oath-22</strong> to <a href=\"https://wandb.ai\" target=\"_blank\">Weights & Biases</a> <a href=\"https://docs.wandb.com/integrations/jupyter.html\" target=\"_blank\">(Documentation)</a>.<br/>\n",
              "                Project page: <a href=\"https://wandb.ai/aquapathos/Mario\" target=\"_blank\">https://wandb.ai/aquapathos/Mario</a><br/>\n",
              "                Run page: <a href=\"https://wandb.ai/aquapathos/Mario/runs/u3j4sc55\" target=\"_blank\">https://wandb.ai/aquapathos/Mario/runs/u3j4sc55</a><br/>\n",
              "                Run data is saved locally in <code>/content/wandb/run-20210111_133130-u3j4sc55</code><br/><br/>\n",
              "            "
            ],
            "text/plain": [
              "<IPython.core.display.HTML object>"
            ]
          },
          "metadata": {
            "tags": []
          }
        },
        {
          "output_type": "execute_result",
          "data": {
            "text/plain": [
              "<wandb.sdk.wandb_run.Run at 0x7f2c3239ba20>"
            ],
            "text/html": [
              "<h1>Run(u3j4sc55)</h1><p></p><iframe src=\"https://wandb.ai/aquapathos/Mario/runs/u3j4sc55\" style=\"border:none;width:100%;height:400px\"></iframe>"
            ]
          },
          "metadata": {
            "tags": []
          },
          "execution_count": 8
        }
      ]
    },
    {
      "cell_type": "code",
      "metadata": {
        "id": "n7sLq58-62b9"
      },
      "source": [
        "from stable_baselines3.common.evaluation import evaluate_policy\r\n",
        "\r\n",
        "def ev(lr):\r\n",
        "    monargs={'usewandb':True}\r\n",
        "    #env = make_mario_env(Joy(movement=MYACTIONSET), n_envs=8, seed=0,vec_env_cls=SubprocVecEnv, monitor_dir=log_dir,monitor_kwargs=monargs)\r\n",
        "    env = make_mario_env(Joy(movement=MYACTIONSET), n_envs=8, seed=0,vec_env_cls=DummyVecEnv, monitor_dir= log_dir,monitor_kwargs=monargs)\r\n",
        "    env = VecFrameStack(env, n_stack=4)\r\n",
        "\r\n",
        "    model = PPO('CnnPolicy', env, verbose=0,device=device,        \r\n",
        "        learning_rate = lr,  # default  3e-4\r\n",
        "        n_steps = 2048, # 2048\r\n",
        "        clip_range = 0.2, # default 0.2\r\n",
        "        ent_coef = 0.01, # default 0.01\r\n",
        "        batch_size = 64, #64\r\n",
        "        n_epochs = 4 ) # 4\r\n",
        "\r\n",
        "    # model.load('/content/drive/MyDrive/M/smb/best_model.zip')\r\n",
        "    callback = recordModelCallback(check_freq=50, log_dir=log_dir, usewandb=True)\r\n",
        "    total_timesteps = 1e7\r\n",
        "    %time model.learn(total_timesteps=total_timesteps,callback=callback)\r\n"
      ],
      "execution_count": 11,
      "outputs": []
    },
    {
      "cell_type": "code",
      "metadata": {
        "id": "RXcPecosPY6F",
        "colab": {
          "base_uri": "https://localhost:8080/"
        },
        "outputId": "d9913413-8e39-4bf6-921a-a1a447562488"
      },
      "source": [
        "ev(2.e-3)"
      ],
      "execution_count": null,
      "outputs": [
        {
          "output_type": "stream",
          "text": [
            "Num timesteps: 22800 : Best mean reward: 0.00 - Last mean reward/ep: 873.00\n",
            "Saving new best model to /content/drive/MyDrive/M/smb/best_model.zip\n",
            "Num timesteps: 23200 : Best mean reward: 873.00 - Last mean reward/ep: 873.00\n",
            "Num timesteps: 23600 : Best mean reward: 873.00 - Last mean reward/ep: 873.00\n",
            "Num timesteps: 24000 : Best mean reward: 873.00 - Last mean reward/ep: 873.00\n",
            "Num timesteps: 24400 : Best mean reward: 873.00 - Last mean reward/ep: 873.00\n",
            "Num timesteps: 24800 : Best mean reward: 873.00 - Last mean reward/ep: 873.00\n",
            "Num timesteps: 25200 : Best mean reward: 873.00 - Last mean reward/ep: 873.00\n",
            "Num timesteps: 25600 : Best mean reward: 873.00 - Last mean reward/ep: 931.50\n",
            "Saving new best model to /content/drive/MyDrive/M/smb/best_model.zip\n",
            "Num timesteps: 26000 : Best mean reward: 931.50 - Last mean reward/ep: 1001.67\n",
            "Saving new best model to /content/drive/MyDrive/M/smb/best_model.zip\n",
            "Num timesteps: 26400 : Best mean reward: 1001.67 - Last mean reward/ep: 1001.67\n",
            "Num timesteps: 26800 : Best mean reward: 1001.67 - Last mean reward/ep: 1001.67\n",
            "Num timesteps: 27200 : Best mean reward: 1001.67 - Last mean reward/ep: 1001.67\n",
            "Num timesteps: 27600 : Best mean reward: 1001.67 - Last mean reward/ep: 1001.67\n",
            "Num timesteps: 28000 : Best mean reward: 1001.67 - Last mean reward/ep: 1001.67\n",
            "Num timesteps: 28400 : Best mean reward: 1001.67 - Last mean reward/ep: 1001.67\n",
            "Num timesteps: 28800 : Best mean reward: 1001.67 - Last mean reward/ep: 1001.67\n",
            "Num timesteps: 29200 : Best mean reward: 1001.67 - Last mean reward/ep: 1001.67\n",
            "Num timesteps: 29600 : Best mean reward: 1001.67 - Last mean reward/ep: 1001.67\n",
            "Num timesteps: 30000 : Best mean reward: 1001.67 - Last mean reward/ep: 1078.75\n",
            "Saving new best model to /content/drive/MyDrive/M/smb/best_model.zip\n",
            "Num timesteps: 30400 : Best mean reward: 1078.75 - Last mean reward/ep: 1078.75\n",
            "Num timesteps: 30800 : Best mean reward: 1078.75 - Last mean reward/ep: 1078.75\n",
            "Num timesteps: 31200 : Best mean reward: 1078.75 - Last mean reward/ep: 1078.75\n",
            "Num timesteps: 31600 : Best mean reward: 1078.75 - Last mean reward/ep: 1078.75\n",
            "Num timesteps: 32000 : Best mean reward: 1078.75 - Last mean reward/ep: 1078.75\n",
            "Num timesteps: 32400 : Best mean reward: 1078.75 - Last mean reward/ep: 1078.75\n",
            "Num timesteps: 32800 : Best mean reward: 1078.75 - Last mean reward/ep: 1078.75\n",
            "Num timesteps: 33200 : Best mean reward: 1078.75 - Last mean reward/ep: 988.80\n",
            "Num timesteps: 33600 : Best mean reward: 1078.75 - Last mean reward/ep: 890.00\n",
            "Num timesteps: 34000 : Best mean reward: 1078.75 - Last mean reward/ep: 890.00\n",
            "Num timesteps: 34400 : Best mean reward: 1078.75 - Last mean reward/ep: 890.00\n",
            "Num timesteps: 34800 : Best mean reward: 1078.75 - Last mean reward/ep: 890.00\n",
            "Num timesteps: 35200 : Best mean reward: 1078.75 - Last mean reward/ep: 890.00\n",
            "Num timesteps: 35600 : Best mean reward: 1078.75 - Last mean reward/ep: 890.00\n",
            "Num timesteps: 36000 : Best mean reward: 1078.75 - Last mean reward/ep: 890.00\n",
            "Num timesteps: 36400 : Best mean reward: 1078.75 - Last mean reward/ep: 890.00\n",
            "Num timesteps: 36800 : Best mean reward: 1078.75 - Last mean reward/ep: 890.00\n",
            "Num timesteps: 37200 : Best mean reward: 1078.75 - Last mean reward/ep: 890.00\n",
            "Num timesteps: 37600 : Best mean reward: 1078.75 - Last mean reward/ep: 890.00\n",
            "Num timesteps: 38000 : Best mean reward: 1078.75 - Last mean reward/ep: 890.00\n",
            "Num timesteps: 38400 : Best mean reward: 1078.75 - Last mean reward/ep: 890.00\n",
            "Num timesteps: 38800 : Best mean reward: 1078.75 - Last mean reward/ep: 890.00\n",
            "Num timesteps: 39200 : Best mean reward: 1078.75 - Last mean reward/ep: 890.00\n",
            "Num timesteps: 39600 : Best mean reward: 1078.75 - Last mean reward/ep: 890.00\n",
            "Num timesteps: 40000 : Best mean reward: 1078.75 - Last mean reward/ep: 890.00\n",
            "Num timesteps: 40400 : Best mean reward: 1078.75 - Last mean reward/ep: 890.00\n",
            "Num timesteps: 40800 : Best mean reward: 1078.75 - Last mean reward/ep: 890.00\n",
            "Num timesteps: 41200 : Best mean reward: 1078.75 - Last mean reward/ep: 890.00\n",
            "Num timesteps: 41600 : Best mean reward: 1078.75 - Last mean reward/ep: 890.00\n",
            "Num timesteps: 42000 : Best mean reward: 1078.75 - Last mean reward/ep: 890.00\n",
            "Num timesteps: 42400 : Best mean reward: 1078.75 - Last mean reward/ep: 990.00\n",
            "Num timesteps: 42800 : Best mean reward: 1078.75 - Last mean reward/ep: 990.00\n",
            "Num timesteps: 43200 : Best mean reward: 1078.75 - Last mean reward/ep: 990.00\n",
            "Num timesteps: 43600 : Best mean reward: 1078.75 - Last mean reward/ep: 990.00\n",
            "Num timesteps: 44000 : Best mean reward: 1078.75 - Last mean reward/ep: 990.00\n",
            "Num timesteps: 44400 : Best mean reward: 1078.75 - Last mean reward/ep: 990.00\n",
            "Num timesteps: 44800 : Best mean reward: 1078.75 - Last mean reward/ep: 990.00\n",
            "Num timesteps: 45200 : Best mean reward: 1078.75 - Last mean reward/ep: 990.00\n",
            "Num timesteps: 45600 : Best mean reward: 1078.75 - Last mean reward/ep: 990.00\n",
            "Num timesteps: 46000 : Best mean reward: 1078.75 - Last mean reward/ep: 981.00\n",
            "Num timesteps: 46400 : Best mean reward: 1078.75 - Last mean reward/ep: 966.50\n",
            "Num timesteps: 46800 : Best mean reward: 1078.75 - Last mean reward/ep: 966.50\n",
            "Num timesteps: 47200 : Best mean reward: 1078.75 - Last mean reward/ep: 966.50\n",
            "Num timesteps: 47600 : Best mean reward: 1078.75 - Last mean reward/ep: 966.50\n",
            "Num timesteps: 48000 : Best mean reward: 1078.75 - Last mean reward/ep: 966.50\n",
            "Num timesteps: 48400 : Best mean reward: 1078.75 - Last mean reward/ep: 938.33\n",
            "Num timesteps: 48800 : Best mean reward: 1078.75 - Last mean reward/ep: 938.33\n"
          ],
          "name": "stdout"
        }
      ]
    },
    {
      "cell_type": "code",
      "metadata": {
        "id": "H0UaFsOT-0Km"
      },
      "source": [
        "!rm /content/drive/MyDrive/M/smb/?.moni*"
      ],
      "execution_count": null,
      "outputs": []
    },
    {
      "cell_type": "code",
      "metadata": {
        "id": "Oje1V5g0HOuu"
      },
      "source": [
        "!pip install optuna\r\n",
        "import optuna"
      ],
      "execution_count": null,
      "outputs": []
    },
    {
      "cell_type": "code",
      "metadata": {
        "colab": {
          "base_uri": "https://localhost:8080/"
        },
        "id": "6LeOOIGGMF55",
        "outputId": "91657c04-a45b-4c55-863a-33a86ef0738c"
      },
      "source": [
        "def objective(trial):\r\n",
        "    # Loguniform parameter\r\n",
        "    # gamma = trial.suggest_loguniform('gamma', 0.90, 0.97)\r\n",
        "    # lr = trial.suggest_loguniform('lr', 0.001, 0.002)\r\n",
        "    # lamda = trial.suggest_loguniform('lamda', 0.9, 0.99)\r\n",
        "   lr = trial.suggest_loguniform('lr', 0.00001, 0.002) \r\n",
        "   return ev(lr)\r\n",
        "\r\n",
        "study = optuna.create_study()\r\n",
        "study.optimize(objective, n_trials=20)\r\n",
        "study.best_params  # "
      ],
      "execution_count": null,
      "outputs": [
        {
          "output_type": "stream",
          "text": [
            "\u001b[32m[I 2021-01-11 12:04:38,407]\u001b[0m A new study created in memory with name: no-name-fa28fda1-05c0-4cce-bfdf-b4805f9a85ba\u001b[0m\n"
          ],
          "name": "stderr"
        },
        {
          "output_type": "stream",
          "text": [
            "Num timesteps: 4400 : Best mean reward: 0.00 - Last mean reward/ep: 272.00\n",
            "Saving new best model to /content/drive/MyDrive/M/smb/best_model.zip\n",
            "Num timesteps: 4800 : Best mean reward: 272.00 - Last mean reward/ep: 272.00\n",
            "Num timesteps: 5200 : Best mean reward: 272.00 - Last mean reward/ep: 272.00\n",
            "Num timesteps: 5600 : Best mean reward: 272.00 - Last mean reward/ep: 272.00\n",
            "Num timesteps: 6000 : Best mean reward: 272.00 - Last mean reward/ep: 272.00\n",
            "Num timesteps: 6400 : Best mean reward: 272.00 - Last mean reward/ep: 272.00\n",
            "Num timesteps: 6800 : Best mean reward: 272.00 - Last mean reward/ep: 272.00\n",
            "Num timesteps: 7200 : Best mean reward: 272.00 - Last mean reward/ep: 272.00\n",
            "Num timesteps: 7600 : Best mean reward: 272.00 - Last mean reward/ep: 272.00\n",
            "Num timesteps: 8000 : Best mean reward: 272.00 - Last mean reward/ep: 272.00\n",
            "Num timesteps: 8400 : Best mean reward: 272.00 - Last mean reward/ep: 272.00\n",
            "Num timesteps: 8800 : Best mean reward: 272.00 - Last mean reward/ep: 272.00\n",
            "Num timesteps: 9200 : Best mean reward: 272.00 - Last mean reward/ep: 272.00\n",
            "Num timesteps: 9600 : Best mean reward: 272.00 - Last mean reward/ep: 272.00\n",
            "Num timesteps: 10000 : Best mean reward: 272.00 - Last mean reward/ep: 272.00\n",
            "Num timesteps: 10400 : Best mean reward: 272.00 - Last mean reward/ep: 272.00\n",
            "Num timesteps: 10800 : Best mean reward: 272.00 - Last mean reward/ep: 272.00\n",
            "Num timesteps: 11200 : Best mean reward: 272.00 - Last mean reward/ep: 272.00\n",
            "Num timesteps: 11600 : Best mean reward: 272.00 - Last mean reward/ep: 272.00\n",
            "Num timesteps: 12000 : Best mean reward: 272.00 - Last mean reward/ep: 272.00\n",
            "Num timesteps: 12400 : Best mean reward: 272.00 - Last mean reward/ep: 272.00\n",
            "Num timesteps: 12800 : Best mean reward: 272.00 - Last mean reward/ep: 272.00\n",
            "Num timesteps: 13200 : Best mean reward: 272.00 - Last mean reward/ep: 272.00\n",
            "Num timesteps: 13600 : Best mean reward: 272.00 - Last mean reward/ep: 272.00\n",
            "Num timesteps: 14000 : Best mean reward: 272.00 - Last mean reward/ep: 272.00\n",
            "Num timesteps: 14400 : Best mean reward: 272.00 - Last mean reward/ep: 272.00\n",
            "Num timesteps: 14800 : Best mean reward: 272.00 - Last mean reward/ep: 272.00\n",
            "Num timesteps: 15200 : Best mean reward: 272.00 - Last mean reward/ep: 272.00\n",
            "Num timesteps: 15600 : Best mean reward: 272.00 - Last mean reward/ep: 272.00\n",
            "Num timesteps: 16000 : Best mean reward: 272.00 - Last mean reward/ep: 272.00\n",
            "CPU times: user 3min 17s, sys: 8.87 s, total: 3min 26s\n",
            "Wall time: 3min 26s\n"
          ],
          "name": "stdout"
        },
        {
          "output_type": "stream",
          "text": [
            "\u001b[32m[I 2021-01-11 12:10:40,895]\u001b[0m Trial 0 finished with value: -154.0 and parameters: {'lr': 0.0016359182405151884}. Best is trial 0 with value: -154.0.\u001b[0m\n"
          ],
          "name": "stderr"
        },
        {
          "output_type": "stream",
          "text": [
            "Num timesteps: 14800 : Best mean reward: 0.00 - Last mean reward/ep: 924.00\n",
            "Saving new best model to /content/drive/MyDrive/M/smb/best_model.zip\n",
            "Num timesteps: 15200 : Best mean reward: 924.00 - Last mean reward/ep: 924.00\n",
            "Num timesteps: 15600 : Best mean reward: 924.00 - Last mean reward/ep: 924.00\n",
            "Num timesteps: 16000 : Best mean reward: 924.00 - Last mean reward/ep: 924.00\n",
            "CPU times: user 3min 14s, sys: 3.78 s, total: 3min 18s\n",
            "Wall time: 3min 19s\n"
          ],
          "name": "stdout"
        },
        {
          "output_type": "stream",
          "text": [
            "\u001b[32m[I 2021-01-11 12:14:10,056]\u001b[0m Trial 1 finished with value: 42.20000076293945 and parameters: {'lr': 1.9560628221890964e-05}. Best is trial 0 with value: -154.0.\u001b[0m\n"
          ],
          "name": "stderr"
        },
        {
          "output_type": "stream",
          "text": [
            "CPU times: user 3min 15s, sys: 2.74 s, total: 3min 18s\n",
            "Wall time: 3min 18s\n"
          ],
          "name": "stdout"
        },
        {
          "output_type": "stream",
          "text": [
            "\u001b[32m[I 2021-01-11 12:17:37,640]\u001b[0m Trial 2 finished with value: 36.099998474121094 and parameters: {'lr': 0.0008343665904722193}. Best is trial 0 with value: -154.0.\u001b[0m\n"
          ],
          "name": "stderr"
        }
      ]
    },
    {
      "cell_type": "code",
      "metadata": {
        "id": "P01pTVxlP8yH"
      },
      "source": [
        ""
      ],
      "execution_count": null,
      "outputs": []
    }
  ]
}