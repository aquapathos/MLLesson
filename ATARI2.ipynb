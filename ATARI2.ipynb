{
  "nbformat": 4,
  "nbformat_minor": 0,
  "metadata": {
    "colab": {
      "name": "ATARI.ipynb",
      "provenance": [],
      "collapsed_sections": [],
      "toc_visible": true,
      "include_colab_link": true
    },
    "kernelspec": {
      "display_name": "Python 3",
      "name": "python3"
    }
  },
  "cells": [
    {
      "cell_type": "markdown",
      "metadata": {
        "id": "view-in-github",
        "colab_type": "text"
      },
      "source": [
        "<a href=\"https://colab.research.google.com/github/aquapathos/MLLesson/blob/master/ATARI2.ipynb\" target=\"_parent\"><img src=\"https://colab.research.google.com/assets/colab-badge.svg\" alt=\"Open In Colab\"/></a>"
      ]
    },
    {
      "cell_type": "markdown",
      "metadata": {
        "id": "11aOjgyTn_Fx"
      },
      "source": [
        "# TPUの確認"
      ]
    },
    {
      "cell_type": "code",
      "metadata": {
        "id": "_IQt4W5en37F"
      },
      "source": [
        "'''import tensorflow as tf\n",
        "try:\n",
        "  tpu = tf.distribute.cluster_resolver.TPUClusterResolver()  # TPU detection\n",
        "  print('Running on TPU ', tpu.cluster_spec().as_dict()['worker'])\n",
        "except ValueError:\n",
        "  raise BaseException('ERROR: Not connected to a TPU runtime; please see the previous cell in this notebook for instructions!')\n",
        "\n",
        "tf.config.experimental_connect_to_cluster(tpu)\n",
        "tf.tpu.experimental.initialize_tpu_system(tpu)\n",
        "tpu_strategy = tf.distribute.TPUStrategy(tpu) # new command'''"
      ],
      "execution_count": null,
      "outputs": []
    },
    {
      "cell_type": "markdown",
      "metadata": {
        "id": "h3o0dxuYQXmO"
      },
      "source": [
        "### GPUの確認"
      ]
    },
    {
      "cell_type": "code",
      "metadata": {
        "id": "zf-ohIUyQh93",
        "cellView": "both",
        "colab": {
          "base_uri": "https://localhost:8080/",
          "height": 364
        },
        "outputId": "488556a1-7a01-4940-c07d-7bab778eeb28"
      },
      "source": [
        "!nvidia-smi"
      ],
      "execution_count": null,
      "outputs": [
        {
          "output_type": "stream",
          "text": [
            "Tue Oct 27 13:09:15 2020       \n",
            "+-----------------------------------------------------------------------------+\n",
            "| NVIDIA-SMI 455.23.05    Driver Version: 418.67       CUDA Version: 10.1     |\n",
            "|-------------------------------+----------------------+----------------------+\n",
            "| GPU  Name        Persistence-M| Bus-Id        Disp.A | Volatile Uncorr. ECC |\n",
            "| Fan  Temp  Perf  Pwr:Usage/Cap|         Memory-Usage | GPU-Util  Compute M. |\n",
            "|                               |                      |               MIG M. |\n",
            "|===============================+======================+======================|\n",
            "|   0  Tesla T4            Off  | 00000000:00:04.0 Off |                    0 |\n",
            "| N/A   38C    P8    11W /  70W |      0MiB / 15079MiB |      0%      Default |\n",
            "|                               |                      |                 ERR! |\n",
            "+-------------------------------+----------------------+----------------------+\n",
            "                                                                               \n",
            "+-----------------------------------------------------------------------------+\n",
            "| Processes:                                                                  |\n",
            "|  GPU   GI   CI        PID   Type   Process name                  GPU Memory |\n",
            "|        ID   ID                                                   Usage      |\n",
            "|=============================================================================|\n",
            "|  No running processes found                                                 |\n",
            "+-----------------------------------------------------------------------------+\n"
          ],
          "name": "stdout"
        }
      ]
    },
    {
      "cell_type": "markdown",
      "metadata": {
        "id": "q6LyDjpW_l1C"
      },
      "source": [
        "# 準備\n",
        "- [pfrl](https://github.com/pfnet/pfrl)　[(GitHub)](https://github.com/pfnet/pfrl)\n"
      ]
    },
    {
      "cell_type": "code",
      "metadata": {
        "id": "lBuz0JVs_kui",
        "outputId": "aa5dba55-64d9-4a8b-ef75-60325c0a71ca",
        "colab": {
          "base_uri": "https://localhost:8080/"
        }
      },
      "source": [
        "!pip install pfrl > /dev/null\r\n",
        "# Weights & Biases (optional)\r\n",
        "%pip install -q wandb  \r\n",
        "!wandb login  # "
      ],
      "execution_count": 1,
      "outputs": [
        {
          "output_type": "stream",
          "text": [
            "\u001b[K     |████████████████████████████████| 1.8MB 5.3MB/s \n",
            "\u001b[K     |████████████████████████████████| 133kB 18.1MB/s \n",
            "\u001b[K     |████████████████████████████████| 163kB 17.6MB/s \n",
            "\u001b[K     |████████████████████████████████| 102kB 7.8MB/s \n",
            "\u001b[K     |████████████████████████████████| 102kB 8.8MB/s \n",
            "\u001b[K     |████████████████████████████████| 71kB 8.0MB/s \n",
            "\u001b[?25h  Building wheel for subprocess32 (setup.py) ... \u001b[?25l\u001b[?25hdone\n",
            "  Building wheel for watchdog (setup.py) ... \u001b[?25l\u001b[?25hdone\n",
            "\u001b[34m\u001b[1mwandb\u001b[0m: You can find your API key in your browser here: https://wandb.ai/authorize\n",
            "\u001b[34m\u001b[1mwandb\u001b[0m: Paste an API key from your profile and hit enter: \n",
            "\u001b[34m\u001b[1mwandb\u001b[0m: Appending key for api.wandb.ai to your netrc file: /root/.netrc\n"
          ],
          "name": "stdout"
        }
      ]
    },
    {
      "cell_type": "code",
      "metadata": {
        "id": "K38JarLZFLLB",
        "colab": {
          "base_uri": "https://localhost:8080/"
        },
        "outputId": "703ad898-6c17-43da-fe90-203056e26cd1"
      },
      "source": [
        "from google.colab import drive\n",
        "drive.mount('/content/drive')\n"
      ],
      "execution_count": 2,
      "outputs": [
        {
          "output_type": "stream",
          "text": [
            "Mounted at /content/drive\n"
          ],
          "name": "stdout"
        }
      ]
    },
    {
      "cell_type": "markdown",
      "metadata": {
        "id": "DJc3fQQYXe3U"
      },
      "source": [
        "# 注意　\n",
        "ENV_NAMEとしては、名前に **NoFrameskip** を含むものを選ぶこと\n",
        "\n",
        "- [OpenAI Gym の Atari Environment の命名規則と罠について](https://qiita.com/keisuke-nakata/items/141fc53f419b102d942c)"
      ]
    },
    {
      "cell_type": "code",
      "metadata": {
        "id": "WEpddnRLgM4l"
      },
      "source": [
        "import numpy as np\n",
        "import cv2\n",
        "import tensorflow as tf\n",
        "from google.colab.patches import cv2_imshow"
      ],
      "execution_count": 3,
      "outputs": []
    },
    {
      "cell_type": "markdown",
      "metadata": {
        "id": "9tkpiIf4eoYZ"
      },
      "source": [
        "# Atari ゲーム読み込みの確認"
      ]
    },
    {
      "cell_type": "code",
      "metadata": {
        "id": "bvtNhCWSIUEs",
        "colab": {
          "base_uri": "https://localhost:8080/",
          "height": 244
        },
        "outputId": "efba6e92-94e7-413d-d38c-7979370aade4"
      },
      "source": [
        "from pfrl.wrappers.atari_wrappers import make_atari,wrap_deepmind,FrameStack\n",
        "ENV_NAME = 'BreakoutNoFrameskip-v0'\n",
        "env=make_atari(ENV_NAME)\n",
        "frame0 = env.reset()\n",
        "cv2_imshow(frame0[:,:,::-1])\n",
        "print(frame0.shape)"
      ],
      "execution_count": 8,
      "outputs": [
        {
          "output_type": "display_data",
          "data": {
            "image/png": "[encoded data removed]",
            "text/plain": [
              "<PIL.Image.Image image mode=RGB size=160x210 at 0x7FCDF1B616A0>"
            ]
          },
          "metadata": {
            "tags": []
          }
        },
        {
          "output_type": "stream",
          "text": [
            "(210, 160, 3)\n"
          ],
          "name": "stdout"
        }
      ]
    },
    {
      "cell_type": "markdown",
      "metadata": {
        "id": "DPJUfRAZY7XY"
      },
      "source": [
        "env=make_atari('BreakoutNoFrameskip-v0')　で (210,160,3) 形式の観測データが得られることがわかる。\n",
        "\n",
        "なお、make_atari は4フレームおきに画像を取得する。"
      ]
    },
    {
      "cell_type": "markdown",
      "metadata": {
        "id": "4y9tAr0re6Mt"
      },
      "source": [
        "# Cropping"
      ]
    },
    {
      "cell_type": "markdown",
      "metadata": {
        "id": "Ksds1M1JfBiu"
      },
      "source": [
        "多くの例では、この縦長画面を 84x84 に単純にリサイズして使っているし、標準 wrapper も pfrl の wrapper も、baseline の wrapper もクロッピングするラッパーは見当たらないので、クロッピングはあまり効果がないのかもしれないのだが、効果のあるなしを比較するために、用意してみる。"
      ]
    },
    {
      "cell_type": "code",
      "metadata": {
        "id": "lq08nodue4-F"
      },
      "source": [
        "from gym import ObservationWrapper\n",
        "from gym.spaces import Box\n",
        "\n",
        "class myCrop(ObservationWrapper):\n",
        "    def __init__(self, env, tmgn=0, bmgn=0,lmgn=0,rmgn=0,igcolor=None,bgcolor=[0,0,0]):\n",
        "        super(myCrop, self).__init__(env)\n",
        "        self.tmgn, self.bmgn = tmgn, bmgn\n",
        "        self.lmgn, self.rmgn = lmgn, rmgn\n",
        "        self.igcolor,self.bgcolor = igcolor,bgcolor\n",
        "        obs_shape = (210-tmgn-bmgn,160-lmgn-rmgn,3)\n",
        "        self.observation_space = Box(low=0, high=255, shape=(210-tmgn-bmgn,160-lmgn-rmgn,3), dtype=np.uint8)\n",
        "    def observation(self, observation):\n",
        "      if self.igcolor != None:\n",
        "        for  i in range(observation.shape[0]):\n",
        "            for j in range(observation.shape[1]):\n",
        "              for color in self.igcolor:\n",
        "                observation[i,j]=self.bgcolor if (observation[i,j]==color).all() else observation[i,j] # 残基表示を消去\n",
        "      RIGHT=observation.shape[1]-self.rmgn\n",
        "      BOTTOM=observation.shape[0]-self.bmgn\n",
        "      observation = observation[self.tmgn:BOTTOM,self.lmgn:RIGHT]\n",
        "      return observation"
      ],
      "execution_count": 5,
      "outputs": []
    },
    {
      "cell_type": "code",
      "metadata": {
        "id": "xC0JwNWng5Fx",
        "colab": {
          "base_uri": "https://localhost:8080/",
          "height": 422
        },
        "outputId": "07004a8f-515b-4d35-838e-d4e658a77421"
      },
      "source": [
        "# インベーダ専用の切り出しパラメータ\n",
        "'''\n",
        "Tmgn=20\n",
        "Bmgn=12\n",
        "Lmgn=8\n",
        "Rmgn=8\n",
        "NOCOLOR=[[162,134,56]]  # 背景と同一視するカラー\n",
        "\n",
        "# PONGの切り出しパラメータ\n",
        "Tmgn=34\n",
        "BMmgn=16\n",
        "Lmgn=0\n",
        "Rmgn=0\n",
        "NOCOLOR=None\n",
        "\n",
        "# Boxing の切り出しパラメータ\n",
        "Tmgn=32\n",
        "Bmgn=30\n",
        "Lmgn=28\n",
        "Rmgn=28\n",
        "NOCOLOR=None\n",
        "'''\n",
        "Tmgn=20\n",
        "Bmgn=12\n",
        "Lmgn=8\n",
        "Rmgn=8\n",
        "NOCOLOR=[[162,134,56]]  # 背景と同一視するカラー\n",
        "\n",
        "ENV_NAME = 'SpaceInvadersNoFrameskip-v0'\n",
        "#ENV_NAME = 'PongNoFrameskip-v0'\n",
        "env=make_atari(ENV_NAME)\n",
        "frame0=env.reset()\n",
        "env=myCrop(env, tmgn=Tmgn, bmgn=Bmgn, lmgn=Lmgn, rmgn=Rmgn, igcolor=NOCOLOR)\n",
        "frame1 = env.reset()\n",
        "cv2_imshow(frame0[:,:,::-1])\n",
        "cv2_imshow(frame1[:,:,::-1])\n",
        "print(frame0.shape,frame1.shape)"
      ],
      "execution_count": 6,
      "outputs": [
        {
          "output_type": "display_data",
          "data": {
            "image/png": "[encoded data removed]",
            "text/plain": [
              "<PIL.Image.Image image mode=RGB size=160x210 at 0x7FCE95A7B278>"
            ]
          },
          "metadata": {
            "tags": []
          }
        },
        {
          "output_type": "display_data",
          "data": {
            "image/png": "[encoded data removed]",
            "text/plain": [
              "<PIL.Image.Image image mode=RGB size=144x178 at 0x7FCDF1521FD0>"
            ]
          },
          "metadata": {
            "tags": []
          }
        },
        {
          "output_type": "stream",
          "text": [
            "(210, 160, 3) (178, 144, 3)\n"
          ],
          "name": "stdout"
        }
      ]
    },
    {
      "cell_type": "markdown",
      "metadata": {
        "id": "lycmskjJmFht"
      },
      "source": [
        "↑　自機の数の数字が消えていることに注意\r\n",
        "\r\n",
        "![Boxing](https://user-images.githubusercontent.com/5820803/102012464-f250d980-3d8d-11eb-94a9-2139b488e491.png)\r\n",
        "\r\n",
        "![RiverraidNoFrameskip-v0](https://user-images.githubusercontent.com/5820803/102012500-29bf8600-3d8e-11eb-97e7-03db02ca5cf1.png)"
      ]
    },
    {
      "cell_type": "markdown",
      "metadata": {
        "id": "UWrCzL3pNun3"
      },
      "source": [
        "# 8フレーム分をまとめたデータを作成する"
      ]
    },
    {
      "cell_type": "code",
      "metadata": {
        "id": "378p6xMpMZZS",
        "colab": {
          "base_uri": "https://localhost:8080/",
          "height": 204
        },
        "outputId": "04b970ca-cce8-4ac4-e80c-7d2a9eb0cdc1"
      },
      "source": [
        "env=make_atari(ENV_NAME)\n",
        "env=myCrop(env, tmgn=Tmgn, bmgn=Bmgn, lmgn=Lmgn, rmgn=Rmgn, igcolor=NOCOLOR)\n",
        "env = wrap_deepmind(env,frame_stack=False,fire_reset=True)\n",
        "print(env.observation_space.shape)\n",
        "env = FrameStack(env,8,\"chw\")\n",
        "print(env.observation_space.shape)\n",
        "canvas = np.ones((84,8*85))*255\n",
        "for i in range(8):\n",
        "  canvas[:,85*i:85*i+84] = np.transpose(env.reset(),(0,1,2))[i]\n",
        "cv2_imshow(cv2.resize(canvas,(16*84,2*84)))"
      ],
      "execution_count": 27,
      "outputs": [
        {
          "output_type": "stream",
          "text": [
            "(1, 84, 84)\n",
            "(8, 84, 84)\n"
          ],
          "name": "stdout"
        },
        {
          "output_type": "display_data",
          "data": {
            "image/png": "[encoded data removed]",
            "text/plain": [
              "<PIL.Image.Image image mode=L size=1344x168 at 0x7FCDF151C588>"
            ]
          },
          "metadata": {
            "tags": []
          }
        }
      ]
    },
    {
      "cell_type": "markdown",
      "metadata": {
        "id": "25Yn2QkVhVZQ"
      },
      "source": [
        "env=wrap_deepmind(env,frame_stack=False,fire_reset=True) により、、\n",
        "- グレイ変換\n",
        "- 84x84 にリサイズ\n",
        "を行い、  \n",
        "env = FrameStack(env,8,\"chw\")により、  \n",
        "- 8ステップ分（4フレームごとに取り出したフレームを8つ）をひとまとめにして、\n",
        "8チャネル×84×84というサイズのでータを観測データとして出力\n"
      ]
    },
    {
      "cell_type": "code",
      "metadata": {
        "id": "_mvC62qZNoZS"
      },
      "source": [
        "import pfrl\n",
        "import torch\n",
        "import torch.nn as nn\n",
        "import gym\n",
        "from pfrl import nn as pnn\n",
        "from pfrl.initializers import init_chainer_default"
      ],
      "execution_count": 28,
      "outputs": []
    },
    {
      "cell_type": "markdown",
      "metadata": {
        "id": "Rz0t-qxSnsZo"
      },
      "source": [
        "# ここからが本編"
      ]
    },
    {
      "cell_type": "code",
      "metadata": {
        "id": "YPV_CtjbRQpq"
      },
      "source": [
        "Tmgn=10\n",
        "Bmgn=50\n",
        "Lmgn=8\n",
        "Rmgn=8\n",
        "\n",
        "ENV_NAME = 'RiverraidNoFrameskip-v0'\n",
        "def mkenv():\n",
        "  env=make_atari(ENV_NAME,max_frames = None)\n",
        "  env=myCrop(env, tmgn=Tmgn, bmgn=Bmgn, lmgn=Lmgn, rmgn=Rmgn, igcolor=NOCOLOR)\n",
        "  env.seed(np.random.seed())\n",
        "  env = wrap_deepmind(env,episode_life=False,\n",
        "            clip_rewards=False,\n",
        "            scale = True,\n",
        "            flicker=False,\n",
        "            fire_reset=True,\n",
        "            frame_stack=False,)\n",
        "  env = FrameStack(env,8,\"chw\")\n",
        "  return env"
      ],
      "execution_count": 29,
      "outputs": []
    },
    {
      "cell_type": "code",
      "metadata": {
        "id": "q7E851VJUbnI"
      },
      "source": [
        "env = mkenv()\n",
        "n_actions = 6 # env.action_space.n は18もあるが、左右とファイアしか使えない。"
      ],
      "execution_count": 30,
      "outputs": []
    },
    {
      "cell_type": "markdown",
      "metadata": {
        "id": "hwwlVQp-kvI4"
      },
      "source": [
        "# DoubleDQN"
      ]
    },
    {
      "cell_type": "markdown",
      "metadata": {
        "id": "o2UUkO0Yta_-"
      },
      "source": [
        "## NN とオプティマイザーを２つずつ用意してみる"
      ]
    },
    {
      "cell_type": "code",
      "metadata": {
        "id": "5dnEZ8PTRTdG"
      },
      "source": [
        "func_L = nn.Sequential(\n",
        "    nn.Conv2d(8,64,8,4),\n",
        "    nn.BatchNorm2d(64),\n",
        "    nn.ReLU(),\n",
        "    nn.Conv2d(64,128,4,2),\n",
        "    nn.BatchNorm2d(128),\n",
        "    nn.ReLU(),\n",
        "    nn.Conv2d(128,64,3,1),\n",
        "    nn.BatchNorm2d(64),\n",
        "    nn.ReLU(),\n",
        "    nn.Flatten(),    \n",
        "    nn.Linear(7 * 7 * 64, 1024),\n",
        "    nn.ReLU(),\n",
        "    nn.Linear(1024, 64),\n",
        "    nn.ReLU(),\n",
        "    nn.Linear(64, n_actions),\n",
        "    pfrl.q_functions.DiscreteActionValueHead(),\n",
        ")\n",
        "\n",
        "# オプティマイザー\n",
        "optimizer_A = torch.optim.Adam(func_L.parameters(), eps=1e-2)\n",
        "\n",
        "optimizer_R = pfrl.optimizers.RMSpropEpsInsideSqrt(\n",
        "        func_L.parameters(),\n",
        "        lr=0.01,\n",
        "        alpha=0.95,\n",
        "        momentum=0.0,\n",
        "        eps=1e-2,\n",
        "        centered=True,\n",
        "    )\n"
      ],
      "execution_count": 40,
      "outputs": []
    },
    {
      "cell_type": "markdown",
      "metadata": {
        "id": "E-BhfZLEt_vJ"
      },
      "source": [
        "# Epsilong Greedy も2通り用意\n",
        "- ConstantEpsironGreedy\n",
        "- LinearDecayEpsironGreedy"
      ]
    },
    {
      "cell_type": "markdown",
      "metadata": {
        "id": "95c1DhH2wD6Z"
      },
      "source": [
        "# Tensorboard の準備"
      ]
    },
    {
      "cell_type": "code",
      "metadata": {
        "id": "BbjDgpzpEXFm",
        "colab": {
          "base_uri": "https://localhost:8080/"
        },
        "outputId": "b3fc8216-2e88-4f46-95e6-aad018c23a3e"
      },
      "source": [
        "# results フォルダのクリア\n",
        "!rm -r ./results/*"
      ],
      "execution_count": 32,
      "outputs": [
        {
          "output_type": "stream",
          "text": [
            "rm: cannot remove './results/*': No such file or directory\n"
          ],
          "name": "stdout"
        }
      ]
    },
    {
      "cell_type": "code",
      "metadata": {
        "id": "e5kCDb25wg6X",
        "colab": {
          "base_uri": "https://localhost:8080/",
          "height": 136
        },
        "outputId": "d3fd79db-2002-4464-bf68-0ffd70911431"
      },
      "source": [
        "from torch.utils.tensorboard import SummaryWriter\n",
        "import wandb\n",
        "wandb.tensorboard.patch(tensorboardX=True, pytorch=True)\n",
        "wandb.init()\n",
        "writer = SummaryWriter(log_dir=\"./results\")"
      ],
      "execution_count": 33,
      "outputs": [
        {
          "output_type": "stream",
          "text": [
            "\u001b[34m\u001b[1mwandb\u001b[0m: Currently logged in as: \u001b[33maquapathos\u001b[0m (use `wandb login --relogin` to force relogin)\n"
          ],
          "name": "stderr"
        },
        {
          "output_type": "display_data",
          "data": {
            "text/html": [
              "\n",
              "                Tracking run with wandb version 0.10.12<br/>\n",
              "                Syncing run <strong style=\"color:#cdcd00\">brisk-spaceship-1</strong> to <a href=\"https://wandb.ai\" target=\"_blank\">Weights & Biases</a> <a href=\"https://docs.wandb.com/integrations/jupyter.html\" target=\"_blank\">(Documentation)</a>.<br/>\n",
              "                Project page: <a href=\"https://wandb.ai/aquapathos/uncategorized\" target=\"_blank\">https://wandb.ai/aquapathos/uncategorized</a><br/>\n",
              "                Run page: <a href=\"https://wandb.ai/aquapathos/uncategorized/runs/252nw5ju\" target=\"_blank\">https://wandb.ai/aquapathos/uncategorized/runs/252nw5ju</a><br/>\n",
              "                Run data is saved locally in <code>/content/wandb/run-20201213_134546-252nw5ju</code><br/><br/>\n",
              "            "
            ],
            "text/plain": [
              "<IPython.core.display.HTML object>"
            ]
          },
          "metadata": {
            "tags": []
          }
        }
      ]
    },
    {
      "cell_type": "markdown",
      "metadata": {
        "id": "9abOxmiBFKVj"
      },
      "source": [
        "# ハイパーパラメータ"
      ]
    },
    {
      "cell_type": "code",
      "metadata": {
        "id": "6lnn4e_mSlBg"
      },
      "source": [
        "gamma = 0.9\n",
        "replay_buffer_size = 10 ** 3\n",
        "if tf.test.gpu_device_name() == \"\":\n",
        "  gpu = -1\n",
        "else:\n",
        "  gpu = 0\n",
        "replay_buffer_size = 10 ** 3\n",
        "# constantepsiron = 0.3 # .ConstantEpsilonGreedy用\n",
        "final_epsilon = 0.1 # LinearDecayEpsilonGreedy用\n",
        "final_exploration_frames = 5e4  # 50000 ε=0.1になるまでのステップ数\n",
        "\n",
        "#explorerC = pfrl.explorers.ConstantEpsilonGreedy(\n",
        "#    epsilon=constantepsiron, random_action_func=env.action_space.sample)\n",
        "replay_buffer = pfrl.replay_buffers.ReplayBuffer(capacity=replay_buffer_size)\n",
        "\n",
        "explorer = pfrl.explorers.LinearDecayEpsilonGreedy(\n",
        "            start_epsilon = 0.5, \n",
        "            end_epsilon = final_epsilon,\n",
        "            decay_steps = final_exploration_frames,\n",
        "            random_action_func = lambda: np.random.randint(n_actions))\n",
        "\n",
        "def phi(x):\n",
        "    return np.asarray(np.array(x), dtype=np.float32) "
      ],
      "execution_count": 41,
      "outputs": []
    },
    {
      "cell_type": "code",
      "metadata": {
        "id": "tFLHNB35PmRu",
        "colab": {
          "base_uri": "https://localhost:8080/"
        },
        "outputId": "a1394fcf-0d76-44f9-d794-fef92e95826d"
      },
      "source": [
        "import datetime\n",
        "print(datetime.datetime.now())"
      ],
      "execution_count": 42,
      "outputs": [
        {
          "output_type": "stream",
          "text": [
            "2020-12-13 13:54:35.712813\n"
          ],
          "name": "stdout"
        }
      ]
    },
    {
      "cell_type": "markdown",
      "metadata": {
        "id": "OJ2Flhwi4Js0"
      },
      "source": [
        "# 学習の実行\n",
        "1エピソード当たりの最高ステップ数を1000として、100エピソード学習させてみる\n",
        "\n",
        "まず、optimizer_Aとexplorer の組み合わせで試す"
      ]
    },
    {
      "cell_type": "code",
      "metadata": {
        "id": "Em_m91xWXLGv",
        "colab": {
          "base_uri": "https://localhost:8080/"
        },
        "outputId": "7c5b966a-61a2-4934-85ba-2fa0769b5b7b"
      },
      "source": [
        "print(datetime.datetime.now())\n",
        "\n",
        "agent = pfrl.agents.DoubleDQN(\n",
        "    func_L,\n",
        "    optimizer_A,\n",
        "    replay_buffer,\n",
        "    gamma,\n",
        "    explorer = explorer,\n",
        "    replay_start_size=500,\n",
        "    update_interval=5,\n",
        "    target_update_interval=100,\n",
        "    phi=phi,\n",
        "    gpu=gpu,\n",
        ")\n",
        "\n",
        "n_episodes = 100\n",
        "max_episode_len = 1000\n",
        "totalsteps = 0\n",
        "for i in range(1, n_episodes + 1):\n",
        "    obs = env.reset()\n",
        "    R = 0  # return (sum of rewards)\n",
        "    t = 0  # time step\n",
        "    print(i)\n",
        "    while True:\n",
        "        # Uncomment to watch the behavior in a GUI window\n",
        "        # env.render()\n",
        "        action = agent.act(obs)\n",
        "        obs, reward, done, _ = env.step(action)\n",
        "        R += reward\n",
        "        t += 1\n",
        "        totalsteps += 1\n",
        "        reset = t == max_episode_len\n",
        "        agent.observe(obs, reward, done, reset)\n",
        "        sdata = dict(agent.get_statistics())\n",
        "        if  totalsteps % 100 == 0 :\n",
        "          if not np.isnan(sdata['average_loss']) : writer.add_scalar('average_loss', sdata['average_loss'], totalsteps)\n",
        "          if not np.isnan(sdata['average_q']) : writer.add_scalar('average_q', sdata['average_loss'], totalsteps)\n",
        "          writer.add_scalar('R',R, totalsteps)\n",
        "        if done or reset:\n",
        "            break\n",
        "    if i % 10 == 0:\n",
        "        print('episode:', i, 'R:', R)\n",
        "    if i % 50 == 0:\n",
        "        print('statistics:', agentALR.get_statistics())\n",
        "print('Finished.')\n",
        "writer.close()\n",
        "agent.save('./drive/My Drive/M/modelTest')\n",
        "print(datetime.datetime.now())"
      ],
      "execution_count": null,
      "outputs": [
        {
          "output_type": "stream",
          "text": [
            "2020-12-13 13:54:47.508941\n",
            "1\n",
            "2\n"
          ],
          "name": "stdout"
        }
      ]
    },
    {
      "cell_type": "code",
      "metadata": {
        "id": "J5Zy1faowJF_",
        "colab": {
          "base_uri": "https://localhost:8080/",
          "height": 35
        },
        "outputId": "3c4ec563-a224-42d1-bd74-13e299d6918e"
      },
      "source": [
        "#agentALR.save('./drive/My Drive/M/model003')\n",
        "#print(datetime.datetime.now())"
      ],
      "execution_count": null,
      "outputs": [
        {
          "output_type": "stream",
          "text": [
            "2020-10-27 15:50:29.791868\n"
          ],
          "name": "stdout"
        }
      ]
    },
    {
      "cell_type": "code",
      "metadata": {
        "id": "k7duv3IDNZdl"
      },
      "source": [
        "# 読み出しは、\n",
        "# agent.load('/content/drive/My Drive/M/agent')"
      ],
      "execution_count": null,
      "outputs": []
    },
    {
      "cell_type": "markdown",
      "metadata": {
        "id": "qUxvMxtQ5HyV"
      },
      "source": [
        "# 評価モード\n",
        "\n"
      ]
    },
    {
      "cell_type": "code",
      "metadata": {
        "id": "EdNP9QD9Drrc",
        "colab": {
          "base_uri": "https://localhost:8080/",
          "height": 191
        },
        "outputId": "be6eb921-0ea6-475a-bd59-fe15d5dd064e"
      },
      "source": [
        "with agentALR.eval_mode():\n",
        "    for i in range(10):\n",
        "        obs = env.reset()\n",
        "        R = 0\n",
        "        t = 0\n",
        "        while True:\n",
        "            # Uncomment to watch the behavior in a GUI window\n",
        "            # env.render()\n",
        "            action = agentALR.act(obs)\n",
        "            obs, r, done, _ = env.step(action)\n",
        "            R += r\n",
        "            t += 1\n",
        "            reset = t == max_episode_len\n",
        "            agentALR.observe(obs, r, done, reset)\n",
        "            if done or reset:\n",
        "                break\n",
        "        print('evaluation episode:', i, 'R:', R)"
      ],
      "execution_count": null,
      "outputs": [
        {
          "output_type": "stream",
          "text": [
            "evaluation episode: 0 R: 22.0\n",
            "evaluation episode: 1 R: 27.0\n",
            "evaluation episode: 2 R: 26.0\n",
            "evaluation episode: 3 R: 13.0\n",
            "evaluation episode: 4 R: 25.0\n",
            "evaluation episode: 5 R: 19.0\n",
            "evaluation episode: 6 R: 27.0\n",
            "evaluation episode: 7 R: 23.0\n",
            "evaluation episode: 8 R: 10.0\n",
            "evaluation episode: 9 R: 16.0\n"
          ],
          "name": "stdout"
        }
      ]
    }
  ]
}