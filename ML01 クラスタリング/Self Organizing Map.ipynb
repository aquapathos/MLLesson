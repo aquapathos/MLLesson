{
 "cells": [
  {
   "cell_type": "markdown",
   "metadata": {},
   "source": [
    " [都道府県データランキング](http://uub.jp/pdr/)"
   ]
  },
  {
   "cell_type": "markdown",
   "metadata": {
    "collapsed": true
   },
   "source": [
    "http://nbviewer.jupyter.org/urls/bitbucket.org/Shinaji/public_ipython/raw/6cae2a01652ba73964a847291d5654d80df86d2e/Self%20Organizing%20Map.ipynb"
   ]
  },
  {
   "cell_type": "code",
   "execution_count": 268,
   "metadata": {
    "collapsed": true
   },
   "outputs": [],
   "source": [
    "import numpy as np\n",
    "from matplotlib import pyplot as plt\n",
    "import pandas as pd\n",
    "from sklearn.preprocessing import MinMaxScaler\n",
    "%matplotlib inline"
   ]
  },
  {
   "cell_type": "code",
   "execution_count": 221,
   "metadata": {},
   "outputs": [
    {
     "data": {
      "text/html": [
       "<div>\n",
       "<style>\n",
       "    .dataframe thead tr:only-child th {\n",
       "        text-align: right;\n",
       "    }\n",
       "\n",
       "    .dataframe thead th {\n",
       "        text-align: left;\n",
       "    }\n",
       "\n",
       "    .dataframe tbody tr th {\n",
       "        vertical-align: top;\n",
       "    }\n",
       "</style>\n",
       "<table border=\"1\" class=\"dataframe\">\n",
       "  <thead>\n",
       "    <tr style=\"text-align: right;\">\n",
       "      <th></th>\n",
       "      <th>都道府県</th>\n",
       "      <th>人口</th>\n",
       "      <th>面積</th>\n",
       "      <th>人口密度</th>\n",
       "      <th>外国人</th>\n",
       "      <th>国籍不詳率</th>\n",
       "      <th>公務員</th>\n",
       "      <th>産業動物</th>\n",
       "      <th>小動物診療</th>\n",
       "    </tr>\n",
       "  </thead>\n",
       "  <tbody>\n",
       "    <tr>\n",
       "      <th>0</th>\n",
       "      <td>愛知県</td>\n",
       "      <td>7507691</td>\n",
       "      <td>5173</td>\n",
       "      <td>1451</td>\n",
       "      <td>160228</td>\n",
       "      <td>0</td>\n",
       "      <td>1671</td>\n",
       "      <td>395</td>\n",
       "      <td>92</td>\n",
       "    </tr>\n",
       "    <tr>\n",
       "      <th>1</th>\n",
       "      <td>愛媛県</td>\n",
       "      <td>1374881</td>\n",
       "      <td>5676</td>\n",
       "      <td>242</td>\n",
       "      <td>7828</td>\n",
       "      <td>0</td>\n",
       "      <td>397</td>\n",
       "      <td>123</td>\n",
       "      <td>34</td>\n",
       "    </tr>\n",
       "    <tr>\n",
       "      <th>2</th>\n",
       "      <td>茨城県</td>\n",
       "      <td>2907262</td>\n",
       "      <td>6097</td>\n",
       "      <td>477</td>\n",
       "      <td>40477</td>\n",
       "      <td>0</td>\n",
       "      <td>1145</td>\n",
       "      <td>216</td>\n",
       "      <td>124</td>\n",
       "    </tr>\n",
       "    <tr>\n",
       "      <th>3</th>\n",
       "      <td>岡山県</td>\n",
       "      <td>1915401</td>\n",
       "      <td>7114</td>\n",
       "      <td>269</td>\n",
       "      <td>18476</td>\n",
       "      <td>0</td>\n",
       "      <td>596</td>\n",
       "      <td>157</td>\n",
       "      <td>82</td>\n",
       "    </tr>\n",
       "    <tr>\n",
       "      <th>4</th>\n",
       "      <td>沖縄県</td>\n",
       "      <td>1439913</td>\n",
       "      <td>2281</td>\n",
       "      <td>631</td>\n",
       "      <td>7651</td>\n",
       "      <td>0</td>\n",
       "      <td>450</td>\n",
       "      <td>177</td>\n",
       "      <td>58</td>\n",
       "    </tr>\n",
       "  </tbody>\n",
       "</table>\n",
       "</div>"
      ],
      "text/plain": [
       "  都道府県       人口    面積  人口密度     外国人  国籍不詳率   公務員  産業動物  小動物診療\n",
       "0  愛知県  7507691  5173  1451  160228      0  1671   395     92\n",
       "1  愛媛県  1374881  5676   242    7828      0   397   123     34\n",
       "2  茨城県  2907262  6097   477   40477      0  1145   216    124\n",
       "3  岡山県  1915401  7114   269   18476      0   596   157     82\n",
       "4  沖縄県  1439913  2281   631    7651      0   450   177     58"
      ]
     },
     "execution_count": 221,
     "metadata": {},
     "output_type": "execute_result"
    }
   ],
   "source": [
    "data = pd.read_csv(\"kendata.csv\", delimiter=\",\", encoding=\"utf-8\")  # header がない場合は header=None\n",
    "data.head()"
   ]
  },
  {
   "cell_type": "code",
   "execution_count": 222,
   "metadata": {},
   "outputs": [
    {
     "data": {
      "text/plain": [
       "Index(['人口', '面積', '人口密度', '外国人', '国籍不詳率', '公務員', '産業動物', '小動物診療'], dtype='object')"
      ]
     },
     "execution_count": 222,
     "metadata": {},
     "output_type": "execute_result"
    }
   ],
   "source": [
    "dataindex = data.columns[1:]\n",
    "dataindex"
   ]
  },
  {
   "cell_type": "code",
   "execution_count": 225,
   "metadata": {},
   "outputs": [
    {
     "data": {
      "text/html": [
       "<div>\n",
       "<style>\n",
       "    .dataframe thead tr:only-child th {\n",
       "        text-align: right;\n",
       "    }\n",
       "\n",
       "    .dataframe thead th {\n",
       "        text-align: left;\n",
       "    }\n",
       "\n",
       "    .dataframe tbody tr th {\n",
       "        vertical-align: top;\n",
       "    }\n",
       "</style>\n",
       "<table border=\"1\" class=\"dataframe\">\n",
       "  <thead>\n",
       "    <tr style=\"text-align: right;\">\n",
       "      <th></th>\n",
       "      <th>人口</th>\n",
       "      <th>面積</th>\n",
       "      <th>人口密度</th>\n",
       "      <th>外国人</th>\n",
       "      <th>国籍不詳率</th>\n",
       "      <th>公務員</th>\n",
       "      <th>産業動物</th>\n",
       "      <th>小動物診療</th>\n",
       "    </tr>\n",
       "  </thead>\n",
       "  <tbody>\n",
       "    <tr>\n",
       "      <th>0</th>\n",
       "      <td>7507691</td>\n",
       "      <td>5173</td>\n",
       "      <td>1451</td>\n",
       "      <td>160228</td>\n",
       "      <td>0</td>\n",
       "      <td>1671</td>\n",
       "      <td>395</td>\n",
       "      <td>92</td>\n",
       "    </tr>\n",
       "    <tr>\n",
       "      <th>1</th>\n",
       "      <td>1374881</td>\n",
       "      <td>5676</td>\n",
       "      <td>242</td>\n",
       "      <td>7828</td>\n",
       "      <td>0</td>\n",
       "      <td>397</td>\n",
       "      <td>123</td>\n",
       "      <td>34</td>\n",
       "    </tr>\n",
       "    <tr>\n",
       "      <th>2</th>\n",
       "      <td>2907262</td>\n",
       "      <td>6097</td>\n",
       "      <td>477</td>\n",
       "      <td>40477</td>\n",
       "      <td>0</td>\n",
       "      <td>1145</td>\n",
       "      <td>216</td>\n",
       "      <td>124</td>\n",
       "    </tr>\n",
       "    <tr>\n",
       "      <th>3</th>\n",
       "      <td>1915401</td>\n",
       "      <td>7114</td>\n",
       "      <td>269</td>\n",
       "      <td>18476</td>\n",
       "      <td>0</td>\n",
       "      <td>596</td>\n",
       "      <td>157</td>\n",
       "      <td>82</td>\n",
       "    </tr>\n",
       "    <tr>\n",
       "      <th>4</th>\n",
       "      <td>1439913</td>\n",
       "      <td>2281</td>\n",
       "      <td>631</td>\n",
       "      <td>7651</td>\n",
       "      <td>0</td>\n",
       "      <td>450</td>\n",
       "      <td>177</td>\n",
       "      <td>58</td>\n",
       "    </tr>\n",
       "  </tbody>\n",
       "</table>\n",
       "</div>"
      ],
      "text/plain": [
       "        人口    面積  人口密度     外国人  国籍不詳率   公務員  産業動物  小動物診療\n",
       "0  7507691  5173  1451  160228      0  1671   395     92\n",
       "1  1374881  5676   242    7828      0   397   123     34\n",
       "2  2907262  6097   477   40477      0  1145   216    124\n",
       "3  1915401  7114   269   18476      0   596   157     82\n",
       "4  1439913  2281   631    7651      0   450   177     58"
      ]
     },
     "execution_count": 225,
     "metadata": {},
     "output_type": "execute_result"
    }
   ],
   "source": [
    "X = data[dataindex]\n",
    "X.head()"
   ]
  },
  {
   "cell_type": "code",
   "execution_count": 269,
   "metadata": {},
   "outputs": [
    {
     "data": {
      "text/plain": [
       "array([[ 0.53097892,  0.0430602 ,  0.22465887,  0.49755272,  0.        ,\n",
       "         0.39047126,  0.54432348,  0.08263695],\n",
       "       [ 0.06163037,  0.04963158,  0.02826511,  0.01475019,  0.        ,\n",
       "         0.06059037,  0.12130638,  0.02878366],\n",
       "       [ 0.17890464,  0.05513169,  0.06643925,  0.11818208,  0.        ,\n",
       "         0.2542724 ,  0.2659409 ,  0.11234912],\n",
       "       [ 0.10299677,  0.06841816,  0.03265107,  0.04848301,  0.        ,\n",
       "         0.11211807,  0.17418351,  0.0733519 ],\n",
       "       [ 0.06660731,  0.00527801,  0.09145549,  0.01418945,  0.        ,\n",
       "         0.07431383,  0.20528771,  0.05106778]])"
      ]
     },
     "execution_count": 269,
     "metadata": {},
     "output_type": "execute_result"
    }
   ],
   "source": [
    "# 正規化\n",
    "sc = MinMaxScaler()\n",
    "data_std = sc.fit_transform(X)\n",
    "data_std[0:5]"
   ]
  },
  {
   "cell_type": "code",
   "execution_count": 270,
   "metadata": {
    "collapsed": true
   },
   "outputs": [],
   "source": [
    "# 自己組織化マップ SOM を生成する　　　　M :２次元配置されたニューロンの重み配列    x : 入力データ,  alpha：学習係数\n",
    "def organize_som(M, x, alpha=0.3):\n",
    "    mini, minj = get_winner(M,x)\n",
    "    for i in range(-2,3): #  勝者の近傍5x5 の範囲を与えられたデータ（このプログラムでは色）に近づける\n",
    "        for j in range(-2,3):\n",
    "            try:\n",
    "                M[mini+i,minj+j] += alpha * (x - M[mini+i,minj+j])/(abs(i)+abs(j)+1)\n",
    "            except:\n",
    "                pass\n",
    "    return M\n",
    "\n",
    "def get_winner(M,x):\n",
    "    col =  M.shape[1]\n",
    "    # row =  M.shape[0]\n",
    "    min_i = np.argmin(((M-x)**2).sum(axis=2)) \n",
    "    mini = min_i // col # argmin は1次元化した番号が返ってくるので　2次元化\n",
    "    minj = min_i % col\n",
    "    return mini, minj"
   ]
  },
  {
   "cell_type": "code",
   "execution_count": null,
   "metadata": {
    "collapsed": true,
    "scrolled": false
   },
   "outputs": [],
   "source": []
  },
  {
   "cell_type": "code",
   "execution_count": 271,
   "metadata": {
    "collapsed": true
   },
   "outputs": [],
   "source": [
    "from sklearn.cluster import KMeans\n",
    "def d(M,n,itr):\n",
    "    print(M.shape)\n",
    "    row = M.shape[0]\n",
    "    col = M.shape[1]\n",
    "    ch = M.shape[2]\n",
    "    data = M.reshape(col*row,ch)\n",
    "    km = KMeans(n_clusters=n,init='random',n_init=1,max_iter=itr,random_state=1)\n",
    "    labelimage = (km.fit(data).labels_).reshape(row,col)\n",
    "    centers = km.cluster_centers_\n",
    "    return labelimage, centers \n",
    "\n",
    "from matplotlib.colors import LinearSegmentedColormap\n",
    "def generate_cmap(centers):\n",
    "    lebels = len(centers)\n",
    "    print(lebels,centers)\n",
    "    values = range(lebels)\n",
    "    color_list = centers\n",
    "    return LinearSegmentedColormap.from_list('custom_cmap', color_list)"
   ]
  },
  {
   "cell_type": "code",
   "execution_count": 272,
   "metadata": {
    "collapsed": true
   },
   "outputs": [],
   "source": [
    "def plotBoundary(labels, mesh=True, boundary=True, n_neighbors=1, cmap='tab20'):\n",
    "\n",
    "    YY,XX = np.mgrid[row-1:-1:-1, 0:col] # make a grid    \n",
    "    Z = labels  #  matplotlib  の  plot   は　X 、Yの並びなので numpy 配列を転地しないといけない   \n",
    "\n",
    "    if mesh:\n",
    "        #        plt.pcolormesh(XX, YY, Z, cmap='tab20',zorder=-10) # paint in 2 colors, if Z > 0 or not\n",
    "        plt.pcolormesh(XX, YY, Z, cmap=cmap,zorder=-10) # paint in 2 colors, if Z > 0 or not\n",
    "        plt.colorbar()\n",
    "\n",
    "    if boundary:\n",
    "        plt.contour(XX, YY, Z, \n",
    "                    colors='k', linestyles='-', levels=[1])"
   ]
  },
  {
   "cell_type": "code",
   "execution_count": 302,
   "metadata": {},
   "outputs": [
    {
     "name": "stdout",
     "output_type": "stream",
     "text": [
      "(20, 20, 8)\n",
      "5 [[ 0.0962508   0.04632467  0.06067862]\n",
      " [ 0.2046731   0.3672577   0.09736828]\n",
      " [ 0.12095633  0.08725564  0.0396388 ]\n",
      " [ 0.49021244  0.15921695  0.38311678]\n",
      " [ 0.03527043  0.04210621  0.0286224 ]]\n"
     ]
    },
    {
     "data": {
      "image/png": "[encoded data removed]",
      "text/plain": [
       "<matplotlib.figure.Figure at 0x118989588>"
      ]
     },
     "metadata": {},
     "output_type": "display_data"
    }
   ],
   "source": [
    "np.random.shuffle(data_std)\n",
    "\n",
    "row = 20\n",
    "col = 20\n",
    "learntime = 1024\n",
    "alpha = 0.3\n",
    "\n",
    "W = np.random.random([row,col,8])\n",
    "\n",
    "for time in range(learntime):\n",
    "    for data  in data_std:\n",
    "            organize_som(W, data)\n",
    "\n",
    "labelimage, centers = d(W,5,1)\n",
    "custom_cmap = generate_cmap(centers[:,:3])\n",
    "plotBoundary(labelimage, mesh=True, boundary=False, n_neighbors=2)"
   ]
  },
  {
   "cell_type": "code",
   "execution_count": 304,
   "metadata": {},
   "outputs": [
    {
     "name": "stdout",
     "output_type": "stream",
     "text": [
      "(20, 20, 8)\n",
      "5 [[ 0.13680074  0.08620843  0.05383788]\n",
      " [ 0.46128052  0.62662442  0.38167059]\n",
      " [ 0.39181525  0.05527803  0.19329477]\n",
      " [ 0.69062685  0.02076873  0.69131454]\n",
      " [ 0.05509621  0.05623323  0.03111446]]\n"
     ]
    },
    {
     "data": {
      "image/png": "[encoded data removed]",
      "text/plain": [
       "<matplotlib.figure.Figure at 0x11876fef0>"
      ]
     },
     "metadata": {},
     "output_type": "display_data"
    }
   ],
   "source": [
    "labelimage, centers = d(W,5,200)\n",
    "custom_cmap = generate_cmap(centers[:,:3])\n",
    "plotBoundary(labelimage, mesh=True, boundary=False, n_neighbors=2)"
   ]
  },
  {
   "cell_type": "code",
   "execution_count": 286,
   "metadata": {},
   "outputs": [
    {
     "name": "stdout",
     "output_type": "stream",
     "text": [
      "(10, 10, 8)\n",
      "5 [[ 0.19692875  0.2115571   0.07248224]\n",
      " [ 0.04633129  0.04576723  0.03017888]\n",
      " [ 0.45318119  0.08577836  0.35445311]\n",
      " [ 0.06986587  0.06712708  0.02978977]\n",
      " [ 0.13110518  0.07875092  0.05952443]]\n"
     ]
    },
    {
     "data": {
      "image/png": "[encoded data removed]",
      "text/plain": [
       "<matplotlib.figure.Figure at 0x117c62470>"
      ]
     },
     "metadata": {},
     "output_type": "display_data"
    }
   ],
   "source": [
    "labelimage, centers = d(W,5,3)\n",
    "custom_cmap = generate_cmap(centers[:,:3])\n",
    "plotBoundary(labelimage, mesh=True, boundary=False, n_neighbors=2)"
   ]
  },
  {
   "cell_type": "code",
   "execution_count": 287,
   "metadata": {},
   "outputs": [
    {
     "name": "stdout",
     "output_type": "stream",
     "text": [
      "(10, 10, 8)\n",
      "5 [[ 0.23036894  0.23955919  0.09491673]\n",
      " [ 0.05017634  0.04968524  0.03032443]\n",
      " [ 0.48259309  0.08739885  0.38142281]\n",
      " [ 0.07984881  0.08360884  0.02712449]\n",
      " [ 0.16759226  0.06746987  0.09006284]]\n"
     ]
    },
    {
     "data": {
      "image/png": "[encoded data removed]",
      "text/plain": [
       "<matplotlib.figure.Figure at 0x1187ea7f0>"
      ]
     },
     "metadata": {},
     "output_type": "display_data"
    }
   ],
   "source": [
    "labelimage, centers = d(W,5,4)\n",
    "custom_cmap = generate_cmap(centers[:,:3])\n",
    "plotBoundary(labelimage, mesh=True, boundary=False, n_neighbors=2)"
   ]
  },
  {
   "cell_type": "code",
   "execution_count": 288,
   "metadata": {},
   "outputs": [
    {
     "name": "stdout",
     "output_type": "stream",
     "text": [
      "(10, 10, 8)\n",
      "5 [[ 0.26704985  0.24275444  0.12547767]\n",
      " [ 0.05516188  0.04916947  0.03348502]\n",
      " [ 0.49282114  0.08512498  0.38985366]\n",
      " [ 0.09038463  0.09753149  0.02627582]\n",
      " [ 0.19568522  0.06771117  0.11455667]]\n"
     ]
    },
    {
     "data": {
      "image/png": "[encoded data removed]",
      "text/plain": [
       "<matplotlib.figure.Figure at 0x118930828>"
      ]
     },
     "metadata": {},
     "output_type": "display_data"
    }
   ],
   "source": [
    "labelimage, centers = d(W,5,5)\n",
    "custom_cmap = generate_cmap(centers[:,:3])\n",
    "plotBoundary(labelimage, mesh=True, boundary=False, n_neighbors=2)"
   ]
  },
  {
   "cell_type": "code",
   "execution_count": 294,
   "metadata": {},
   "outputs": [
    {
     "name": "stdout",
     "output_type": "stream",
     "text": [
      "(10, 10, 8)\n",
      "5 [[ 0.26366103  0.27472408  0.10618751]\n",
      " [ 0.06123808  0.05180786  0.0355146 ]\n",
      " [ 0.52591918  0.09130194  0.42712333]\n",
      " [ 0.10861047  0.09972215  0.03564988]\n",
      " [ 0.27949576  0.06370097  0.19183755]]\n"
     ]
    },
    {
     "data": {
      "image/png": "[encoded data removed]",
      "text/plain": [
       "<matplotlib.figure.Figure at 0x118dbedd8>"
      ]
     },
     "metadata": {},
     "output_type": "display_data"
    }
   ],
   "source": [
    "labelimage, centers = d(W,5,1000)\n",
    "custom_cmap = generate_cmap(centers[:,:3])\n",
    "plotBoundary(labelimage, mesh=True, boundary=False, n_neighbors=2)"
   ]
  },
  {
   "cell_type": "code",
   "execution_count": 301,
   "metadata": {},
   "outputs": [
    {
     "name": "stdout",
     "output_type": "stream",
     "text": [
      "(10, 10, 8)\n",
      "5 [[ 0.26366103  0.27472408  0.10618751]\n",
      " [ 0.06123808  0.05180786  0.0355146 ]\n",
      " [ 0.52591918  0.09130194  0.42712333]\n",
      " [ 0.10861047  0.09972215  0.03564988]\n",
      " [ 0.27949576  0.06370097  0.19183755]]\n"
     ]
    },
    {
     "data": {
      "image/png": "[encoded data removed]",
      "text/plain": [
       "<matplotlib.figure.Figure at 0x111bd56a0>"
      ]
     },
     "metadata": {},
     "output_type": "display_data"
    }
   ],
   "source": [
    "labelimage, centers = d(W,5,100)\n",
    "custom_cmap = generate_cmap(centers[:,:3])\n",
    "plotBoundary(labelimage, mesh=True, boundary=False, n_neighbors=2)"
   ]
  },
  {
   "cell_type": "code",
   "execution_count": null,
   "metadata": {
    "collapsed": true
   },
   "outputs": [],
   "source": []
  }
 ],
 "metadata": {
  "kernelspec": {
   "display_name": "Python 3",
   "language": "python",
   "name": "python3"
  },
  "language_info": {
   "codemirror_mode": {
    "name": "ipython",
    "version": 3
   },
   "file_extension": ".py",
   "mimetype": "text/x-python",
   "name": "python",
   "nbconvert_exporter": "python",
   "pygments_lexer": "ipython3",
   "version": "3.6.2"
  }
 },
 "nbformat": 4,
 "nbformat_minor": 1
}
