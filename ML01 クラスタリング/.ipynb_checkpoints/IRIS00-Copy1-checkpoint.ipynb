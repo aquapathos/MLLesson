{
 "cells": [
  {
   "cell_type": "markdown",
   "metadata": {},
   "source": [
    "# IRIS データセット\n"
   ]
  {
   "cell_type": "code",
   "execution_count": 11,
   "metadata": {},
   "outputs": [],
   "source": [
    "\"\"\"必要なライブラリ\"\"\";\n",
    "import matplotlib.pyplot as plt\n",
    "from mpl_toolkits.mplot3d import Axes3D\n",
    "from sklearn.decomposition import PCA"
   ]
  },
  {
   "cell_type": "markdown",
   "metadata": {},
   "source": [
    "Anaconda に標準で入っている機械学習ライブラリ scikit-learn (sklern) にはいくつかのサンプルデータを読み込むメソッドがあります。\n",
    "\n",
    "今回はそのうちのひとつ、IRIS＝　アヤメの花のデータを使ってみます。\n",
    "\n",
    "-[scikit-learn に付属しているデータセット](https://goo.gl/Ebqu34)\n"
   ]
  },
  {
   "cell_type": "code",
   "execution_count": null,
   "metadata": {
    "collapsed": true
   },
   "outputs": [],
   "source": [
    "# IRISデータの読み込み\n",
    "from sklearn.datasets import load_iris\n",
    "iris = datasets.load_iris()"
   ]
  },
  {
   "cell_type": "markdown",
   "metadata": {},
   "source": [
    "iris という変数に代入されるのは 一種のpython のdict（辞書）型のデータです。"
   ]
  },
  {
   "cell_type": "code",
   "execution_count": 24,
   "metadata": {},
   "outputs": [
    {
     "data": {
      "text/plain": [
       "dict_keys(['data', 'target', 'target_names', 'DESCR', 'feature_names'])"
      ]
     },
     "execution_count": 24,
     "metadata": {},
     "output_type": "execute_result"
    }
   ],
   "source": [
    "iris.keys()"
   ]
  },
  {
   "cell_type": "markdown",
   "metadata": {},
   "source": [
    "- data  生データ\n",
    "- target 分類番号（iris の場合、0〜3 で表現)\n",
    "- target_names  分類名称\n",
    "- DESCR データのメタ情報\n",
    "- feature_names 特徴の名称\n",
    "\n",
    "例えば、生データそのものの３番（０から始まるので４つ目）を参照したければ、 **iris['data'][3]** または、**iris.data[3]**で参照できます。\n",
    "生データと分類番号の 先頭５つを表示してみましょう。"
   ]
  },
  {
   "cell_type": "code",
   "execution_count": 59,
   "metadata": {},
   "outputs": [
    {
     "data": {
      "text/plain": [
       "(array([[ 5.1,  3.5,  1.4,  0.2],\n",
       "        [ 4.9,  3. ,  1.4,  0.2],\n",
       "        [ 4.7,  3.2,  1.3,  0.2],\n",
       "        [ 4.6,  3.1,  1.5,  0.2],\n",
       "        [ 5. ,  3.6,  1.4,  0.2]]), array([0, 0, 0, 0, 0]))"
      ]
     },
     "execution_count": 59,
     "metadata": {},
     "output_type": "execute_result"
    }
   ],
   "source": [
    "iris['data'][:5], iris.target[:5]"
   ]
  },
  {
   "cell_type": "markdown",
   "metadata": {},
   "source": [
    "このままプログラムで使ってもいいですが、こういう表形式のデータを扱うには、pandas が便利です。"
   ]
  },
  {
   "cell_type": "code",
   "execution_count": 30,
   "metadata": {
    "scrolled": true
   },
   "outputs": [
    {
     "data": {
      "text/html": [
       "<div>\n",
       "<style>\n",
       "    .dataframe thead tr:only-child th {\n",
       "        text-align: right;\n",
       "    }\n",
       "\n",
       "    .dataframe thead th {\n",
       "        text-align: left;\n",
       "    }\n",
       "\n",
       "    .dataframe tbody tr th {\n",
       "        vertical-align: top;\n",
       "    }\n",
       "</style>\n",
       "<table border=\"1\" class=\"dataframe\">\n",
       "  <thead>\n",
       "    <tr style=\"text-align: right;\">\n",
       "      <th></th>\n",
       "      <th>sepal length (cm)</th>\n",
       "      <th>sepal width (cm)</th>\n",
       "      <th>petal length (cm)</th>\n",
       "      <th>petal width (cm)</th>\n",
       "    </tr>\n",
       "  </thead>\n",
       "  <tbody>\n",
       "    <tr>\n",
       "      <th>0</th>\n",
       "      <td>5.1</td>\n",
       "      <td>3.5</td>\n",
       "      <td>1.4</td>\n",
       "      <td>0.2</td>\n",
       "    </tr>\n",
       "    <tr>\n",
       "      <th>1</th>\n",
       "      <td>4.9</td>\n",
       "      <td>3.0</td>\n",
       "      <td>1.4</td>\n",
       "      <td>0.2</td>\n",
       "    </tr>\n",
       "    <tr>\n",
       "      <th>2</th>\n",
       "      <td>4.7</td>\n",
       "      <td>3.2</td>\n",
       "      <td>1.3</td>\n",
       "      <td>0.2</td>\n",
       "    </tr>\n",
       "    <tr>\n",
       "      <th>3</th>\n",
       "      <td>4.6</td>\n",
       "      <td>3.1</td>\n",
       "      <td>1.5</td>\n",
       "      <td>0.2</td>\n",
       "    </tr>\n",
       "    <tr>\n",
       "      <th>4</th>\n",
       "      <td>5.0</td>\n",
       "      <td>3.6</td>\n",
       "      <td>1.4</td>\n",
       "      <td>0.2</td>\n",
       "    </tr>\n",
       "  </tbody>\n",
       "</table>\n",
       "</div>"
      ],
      "text/plain": [
       "   sepal length (cm)  sepal width (cm)  petal length (cm)  petal width (cm)\n",
       "0                5.1               3.5                1.4               0.2\n",
       "1                4.9               3.0                1.4               0.2\n",
       "2                4.7               3.2                1.3               0.2\n",
       "3                4.6               3.1                1.5               0.2\n",
       "4                5.0               3.6                1.4               0.2"
      ]
     },
     "execution_count": 30,
     "metadata": {},
     "output_type": "execute_result"
    }
   ],
   "source": [
    "import pandas as pd\n",
    "df = pd.DataFrame(iris.data, columns=iris.feature_names)\n",
    "df.head() # head(n) で先頭から n 個を取り出せる"
   ]
  },
  {
   "cell_type": "markdown",
   "metadata": {},
   "source": [
    "項目見出しを日本語に変えましょう。"
   ]
  },
  {
   "cell_type": "code",
   "execution_count": 51,
   "metadata": {},
   "outputs": [
    {
     "data": {
      "text/html": [
       "<div>\n",
       "<style>\n",
       "    .dataframe thead tr:only-child th {\n",
       "        text-align: right;\n",
       "    }\n",
       "\n",
       "    .dataframe thead th {\n",
       "        text-align: left;\n",
       "    }\n",
       "\n",
       "    .dataframe tbody tr th {\n",
       "        vertical-align: top;\n",
       "    }\n",
       "</style>\n",
       "<table border=\"1\" class=\"dataframe\">\n",
       "  <thead>\n",
       "    <tr style=\"text-align: right;\">\n",
       "      <th></th>\n",
       "      <th>がく片の長さ</th>\n",
       "      <th>がく片の幅</th>\n",
       "      <th>花片の長さ</th>\n",
       "      <th>花片の幅</th>\n",
       "    </tr>\n",
       "  </thead>\n",
       "  <tbody>\n",
       "    <tr>\n",
       "      <th>0</th>\n",
       "      <td>5.1</td>\n",
       "      <td>3.5</td>\n",
       "      <td>1.4</td>\n",
       "      <td>0.2</td>\n",
       "    </tr>\n",
       "    <tr>\n",
       "      <th>1</th>\n",
       "      <td>4.9</td>\n",
       "      <td>3.0</td>\n",
       "      <td>1.4</td>\n",
       "      <td>0.2</td>\n",
       "    </tr>\n",
       "    <tr>\n",
       "      <th>2</th>\n",
       "      <td>4.7</td>\n",
       "      <td>3.2</td>\n",
       "      <td>1.3</td>\n",
       "      <td>0.2</td>\n",
       "    </tr>\n",
       "    <tr>\n",
       "      <th>3</th>\n",
       "      <td>4.6</td>\n",
       "      <td>3.1</td>\n",
       "      <td>1.5</td>\n",
       "      <td>0.2</td>\n",
       "    </tr>\n",
       "    <tr>\n",
       "      <th>4</th>\n",
       "      <td>5.0</td>\n",
       "      <td>3.6</td>\n",
       "      <td>1.4</td>\n",
       "      <td>0.2</td>\n",
       "    </tr>\n",
       "  </tbody>\n",
       "</table>\n",
       "</div>"
      ],
      "text/plain": [
       "   がく片の長さ  がく片の幅  花片の長さ  花片の幅\n",
       "0     5.1    3.5    1.4   0.2\n",
       "1     4.9    3.0    1.4   0.2\n",
       "2     4.7    3.2    1.3   0.2\n",
       "3     4.6    3.1    1.5   0.2\n",
       "4     5.0    3.6    1.4   0.2"
      ]
     },
     "execution_count": 51,
     "metadata": {},
     "output_type": "execute_result"
    }
   ],
   "source": [
    "df.columns = ['がく片の長さ','がく片の幅','花片の長さ','花片の幅']\n",
    "df.head()"
   ]
  },
  {
   "cell_type": "markdown",
   "metadata": {},
   "source": [
    "特定の列だけを取り出す"
   ]
  },
  {
   "cell_type": "code",
   "execution_count": 53,
   "metadata": {},
   "outputs": [
    {
     "data": {
      "text/html": [
       "<div>\n",
       "<style>\n",
       "    .dataframe thead tr:only-child th {\n",
       "        text-align: right;\n",
       "    }\n",
       "\n",
       "    .dataframe thead th {\n",
       "        text-align: left;\n",
       "    }\n",
       "\n",
       "    .dataframe tbody tr th {\n",
       "        vertical-align: top;\n",
       "    }\n",
       "</style>\n",
       "<table border=\"1\" class=\"dataframe\">\n",
       "  <thead>\n",
       "    <tr style=\"text-align: right;\">\n",
       "      <th></th>\n",
       "      <th>がく片の長さ</th>\n",
       "      <th>花片の長さ</th>\n",
       "    </tr>\n",
       "  </thead>\n",
       "  <tbody>\n",
       "    <tr>\n",
       "      <th>0</th>\n",
       "      <td>5.1</td>\n",
       "      <td>1.4</td>\n",
       "    </tr>\n",
       "    <tr>\n",
       "      <th>1</th>\n",
       "      <td>4.9</td>\n",
       "      <td>1.4</td>\n",
       "    </tr>\n",
       "    <tr>\n",
       "      <th>2</th>\n",
       "      <td>4.7</td>\n",
       "      <td>1.3</td>\n",
       "    </tr>\n",
       "    <tr>\n",
       "      <th>3</th>\n",
       "      <td>4.6</td>\n",
       "      <td>1.5</td>\n",
       "    </tr>\n",
       "    <tr>\n",
       "      <th>4</th>\n",
       "      <td>5.0</td>\n",
       "      <td>1.4</td>\n",
       "    </tr>\n",
       "  </tbody>\n",
       "</table>\n",
       "</div>"
      ],
      "text/plain": [
       "   がく片の長さ  花片の長さ\n",
       "0     5.1    1.4\n",
       "1     4.9    1.4\n",
       "2     4.7    1.3\n",
       "3     4.6    1.5\n",
       "4     5.0    1.4"
      ]
     },
     "execution_count": 53,
     "metadata": {},
     "output_type": "execute_result"
    }
   ],
   "source": [
    "X = df[['がく片の長さ','花片の長さ']]\n",
    "X.head()"
   ]
  },
  {
   "cell_type": "markdown",
   "metadata": {},
   "source": [
    "項目名は長くて面倒という場合は、行や列の番号で抽出する部分を指定することもできます。"
   ]
  },
  {
   "cell_type": "code",
   "execution_count": 56,
   "metadata": {},
   "outputs": [
    {
     "data": {
      "text/html": [
       "<div>\n",
       "<style>\n",
       "    .dataframe thead tr:only-child th {\n",
       "        text-align: right;\n",
       "    }\n",
       "\n",
       "    .dataframe thead th {\n",
       "        text-align: left;\n",
       "    }\n",
       "\n",
       "    .dataframe tbody tr th {\n",
       "        vertical-align: top;\n",
       "    }\n",
       "</style>\n",
       "<table border=\"1\" class=\"dataframe\">\n",
       "  <thead>\n",
       "    <tr style=\"text-align: right;\">\n",
       "      <th></th>\n",
       "      <th>がく片の幅</th>\n",
       "      <th>花片の幅</th>\n",
       "    </tr>\n",
       "  </thead>\n",
       "  <tbody>\n",
       "    <tr>\n",
       "      <th>2</th>\n",
       "      <td>3.2</td>\n",
       "      <td>0.2</td>\n",
       "    </tr>\n",
       "    <tr>\n",
       "      <th>3</th>\n",
       "      <td>3.1</td>\n",
       "      <td>0.2</td>\n",
       "    </tr>\n",
       "    <tr>\n",
       "      <th>4</th>\n",
       "      <td>3.6</td>\n",
       "      <td>0.2</td>\n",
       "    </tr>\n",
       "  </tbody>\n",
       "</table>\n",
       "</div>"
      ],
      "text/plain": [
       "   がく片の幅  花片の幅\n",
       "2    3.2   0.2\n",
       "3    3.1   0.2\n",
       "4    3.6   0.2"
      ]
     },
     "execution_count": 56,
     "metadata": {},
     "output_type": "execute_result"
    }
   ],
   "source": [
    "X = df.iloc[2:5,[1,3]]\n",
    "X"
   ]
  },
  {
   "cell_type": "code",
   "execution_count": null,
   "metadata": {
    "collapsed": true
   },
   "outputs": [],
   "source": [
    "pandas では、index は保存されます。番号を振り直すこともできますが、ここでは述べません。\n",
    "がく片の長さと幅の関係をグラフ化してみようと思います。まずは必要なデータを取り出した変数を作りましょう。"
   ]
  },
  {
   "cell_type": "code",
   "execution_count": 67,
   "metadata": {
    "collapsed": true
   },
   "outputs": [],
   "source": [
    "X = df.iloc[:, :2]  \n",
    "y = iris.target"
   ]
  },
  {
   "cell_type": "markdown",
   "metadata": {},
   "source": [
    "大抵の場合、pandas のデータフレームの列は numpy の１次元データの様に扱えます。"
   ]
  },
  {
   "cell_type": "code",
   "execution_count": 247,
   "metadata": {},
   "outputs": [
    {
     "data": {
      "text/plain": [
       "((3.7999999999999998, 8.4000000000000004), (1.5, 4.9000000000000004))"
      ]
     },
     "execution_count": 247,
     "metadata": {},
     "output_type": "execute_result"
    }
   ],
   "source": [
    "x1_min, x1_max  = X['がく片の長さ'].min()-0.5,  X['がく片の長さ'].max()+0.5\n",
    "x2_min, x2_max = X['がく片の幅'].min()-0.5,  X['がく片の幅'].max()+0.5\n",
    "(x1_min, x1_max), (x2_min, x2_max )"
   ]
  },
  {
   "cell_type": "markdown",
   "metadata": {},
   "source": [
    "0.5 はグラフ化するときのマージン分です。\n",
    "# 課題\n",
    "花片の長さをx3,、幅をx4 として同様に min, max を定義しなさい"
   ]
  },
  {
   "cell_type": "code",
   "execution_count": null,
   "metadata": {
    "collapsed": true
   },
   "outputs": [],
   "source": []
  },
  {
   "cell_type": "code",
   "execution_count": 258,
   "metadata": {},
   "outputs": [
    {
     "data": {
      "image/png": "iVBORw0KGgoAAAANSUhEUgAAAmcAAAJXCAYAAADWyPO8AAAABHNCSVQICAgIfAhkiAAAAAlwSFlz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\nRK5CYII=\n",
      "text/plain": [
       "<matplotlib.figure.Figure at 0x114611908>"
      ]
     },
     "metadata": {},
     "output_type": "display_data"
    }
   ],
   "source": [
    "# 新規のウィンドウを描画\n",
    "fig = plt.figure(figsize=(10, 10)) \n",
    "plt.clf()\n",
    "plt.rcParams['font.family'] = 'Meiryo'  # メイリオフォントを指定　やらないと□になる\n",
    "plt.rcParams[\"figure.figsize\"] = [8, 20]\n",
    "plt.rcParams['font.size'] = 14 #フォントサイズを設定 default : 12\n",
    "plt.rcParams['xtick.labelsize'] = 15 # 横軸のフォントサイズ\n",
    "plt.rcParams['ytick.labelsize'] = 15\n",
    "\n",
    "# サブプロットを追加\n",
    "ax1 = fig.add_subplot(2,2,1)\n",
    "ax1.scatter(X['がく片の長さ'], X['がく片の幅'], c=y, cmap=plt.cm.Set1, edgecolor='k')\n",
    "\n",
    "plt.xlabel('がく片の長さ')\n",
    "plt.ylabel('がく辺の幅')\n",
    "plt.title('がく片の長さと幅の関係')\n",
    "plt.xlim(x1_min, x1_max)  # ｘ軸の最小と最大の指定\n",
    "plt.ylim(x2_min, x2_max)  # y軸の最小と最大の指定\n",
    "plt.xticks(()) # メモリはつけない、という意味\n",
    "plt.yticks(())\n",
    "\n",
    "ax2 =  fig.add_subplot(2,2,2)\n",
    "plt.title('花片の長さと幅の関係')\n",
    "# \n",
    "ax3 =  fig.add_subplot(2,2,3)\n",
    "plt.title('がく片の長さと花片の長さの関係')\n",
    "# \n",
    "ax4 =  fig.add_subplot(2,2,4)\n",
    "plt.title('がく片の幅と花片の幅の関係')\n",
    "\n",
    "plt.show()"
   ]
  },
  {
   "cell_type": "code",
   "execution_count": 244,
   "metadata": {},
   "outputs": [
    {
     "data": {
      "image/png": "iVBORw0KGgoAAAANSUhEUgAAAiQAAALKCAYAAAACvUqCAAAABHNCSVQICAgIfAhkiAAAAAlwSFlz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\nAABJRU5ErkJggg==\n",
      "text/plain": [
       "<matplotlib.figure.Figure at 0x11214dcc0>"
      ]
     },
     "metadata": {},
     "output_type": "display_data"
    },
    {
     "data": {
      "image/png": "iVBORw0KGgoAAAANSUhEUgAABJUAAAK2CAYAAAD33K18AAAABHNCSVQICAgIfAhkiAAAAAlwSFlz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\nAAAAQLf/A4l6bdgd4iyuAAAAAElFTkSuQmCC\n",
      "text/plain": [
       "<matplotlib.figure.Figure at 0x11214d2e8>"
      ]
     },
     "metadata": {},
     "output_type": "display_data"
    }
   ],
   "source": [
    "## \n",
    "\n",
    "\n",
    "plt.clf()  # プロットデータのクリア\n",
    "\n",
    "# 新規のウィンドウを描画\n",
    "fig = plt.figure()\n",
    "\n",
    "# サブプロットを追加\n",
    "ax1 = fig.add_subplot(2,2,1)\n",
    "ax2 = fig.add_subplot(2,2,2)\n",
    "plt.subplot(121)\n",
    "fig = plt.figure(1, figsize=(8, 6))\n",
    "ax = Axes3D(fig, elev=-150, azim=110)\n",
    "X_reduced = PCA(n_components=3).fit_transform(iris.data)\n",
    "ax.scatter(X_reduced[:, 0], X_reduced[:, 1], X_reduced[:, 2], c=y,\n",
    "           cmap=plt.cm.Set1, edgecolor='k', s=40)\n",
    "ax.set_title(\"First three PCA directions\")\n",
    "ax.set_xlabel(\"1st eigenvector\")\n",
    "ax.w_xaxis.set_ticklabels([])\n",
    "ax.set_ylabel(\"2nd eigenvector\")\n",
    "ax.w_yaxis.set_ticklabels([])\n",
    "ax.set_zlabel(\"3rd eigenvector\")\n",
    "ax.w_zaxis.set_ticklabels([])\n",
    "\n",
    "# Plot the training points\n",
    "# plt.subplot(221)\n",
    "\n",
    "plt.subplot(122)\n",
    "plt.scatter(X['がく片の長さ'], X['がく片の幅'], c=y, cmap=plt.cm.Set1, edgecolor='k')\n",
    "\n",
    "plt.rcParams['font.family'] = 'Meiryo'  # メイリオフォントを指定　やらないと□になる\n",
    "plt.rcParams[\"figure.figsize\"] = [20, 12]\n",
    "plt.rcParams['font.size'] = 20 #フォントサイズを設定 default : 12\n",
    "plt.rcParams['xtick.labelsize'] = 15 # 横軸のフォントサイズ\n",
    "plt.rcParams['ytick.labelsize'] = 15\n",
    "plt.xlabel('がく片の長さ')\n",
    "plt.ylabel('がく辺の幅')\n",
    "plt.title('がく片の長さと幅の関係')\n",
    "\n",
    "plt.xlim(x_min, x_max)  # ｘ軸の最小と最大の指定\n",
    "plt.ylim(y_min, y_max)  # y軸の最小と最大の指定\n",
    "plt.xticks(()) # メモリはつけない、という意味\n",
    "plt.yticks(())\n",
    "\n",
    "plt.show()"
   ]
  },
  {
   "cell_type": "code",
   "execution_count": 245,
   "metadata": {},
   "outputs": [
    {
     "name": "stdout",
     "output_type": "stream",
     "text": [
      "必要なライブラリ\n"
     ]
    }
   ],
   "source": [
    "print(__doc__)"
   ]
  },
  {
   "cell_type": "code",
   "execution_count": 3,
   "metadata": {},
   "outputs": [
    {
     "data": {
      "text/plain": [
       "'Automatically created module for IPython interactive environment'"
      ]
     },
     "execution_count": 3,
     "metadata": {},
     "output_type": "execute_result"
    }
   ],
   "source": [
    "__doc__"
   ]
  },
  {
   "cell_type": "markdown",
   "metadata": {},
   "source": [
    "- [Matplotlib.pyplotのplotの全引数を解説](http://own-search-and-study.xyz/2016/08/08/matplotlib-pyplot%E3%81%AEplot%E3%81%AE%E5%85%A8%E5%BC%95%E6%95%B0%E3%82%92%E4%BD%BF%E3%81%84%E3%81%93%E3%81%AA%E3%81%99/[()\n",
    "\n",
    "- [The Iris Dataset](http://scikit-learn.org/stable/auto_examples/datasets/plot_iris_dataset.html)"
   ]
  },
  {
   "cell_type": "code",
   "execution_count": null,
   "metadata": {
    "scrolled": false
   },
   "outputs": [],
   "source": [
    "\n",
    "\n"
   ]
  },
  {
   "cell_type": "code",
   "execution_count": null,
   "metadata": {
    "collapsed": true
   },
   "outputs": [],
   "source": []
  }
 ],
 "metadata": {
  "kernelspec": {
   "display_name": "Python 3",
   "language": "python",
   "name": "python3"
  },
  "language_info": {
   "codemirror_mode": {
    "name": "ipython",
    "version": 3
   },
   "file_extension": ".py",
   "mimetype": "text/x-python",
   "name": "python",
   "nbconvert_exporter": "python",
   "pygments_lexer": "ipython3",
   "version": "3.6.2"
  }
 },
 "nbformat": 4,
 "nbformat_minor": 2
}
