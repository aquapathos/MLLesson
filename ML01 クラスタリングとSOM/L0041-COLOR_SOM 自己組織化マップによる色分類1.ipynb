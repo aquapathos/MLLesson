{
 "cells": [
  {
   "cell_type": "markdown",
   "metadata": {},
   "source": [
    "# 自己組織化マップ（SOM)＆クラスタリング\n",
    "\n",
    "自己組織化マップのわかり易い例として、入力をRGB３原色の組とし、色データを２次元空間にマッピングするという例がある。\n",
    "\n",
    "個々のカラーデータは３つの成分を持つので３次元空間に分布するデータなわけだが、それを２次元に配置するということは１次元分次元を圧縮することになる。\n",
    "\n",
    "たとえば、[勝手に整理整頓 ─ 自動分類アルゴリズム](http://gaya.jp/spiking_neuron/som.htm) がすごくわかりやすい。\n",
    "\n",
    "この例を取り上げているサイトはたくさんあって、たいていはひたすらランダムに３原色を発生させてマップを更新するというプログラムになっている。\n",
    "\n",
    "次元圧縮という意味では、最終的にあらゆる色をマッピングしないといけないのだから、それでいいわけなのだけど、通常自己組織化マップをつくる時はランダムにあらゆるデータを生成するのではなく、実際に観測された多次元データを２次元にマッピングしてああだこうだと解析するのに使うわけで、無限に（実際にはデジタルの色は有限だが）色を発生させて組織化するというのはなんか違う、という気がする。\n",
    "\n",
    "そこで、このプログラムではランダムに色を発生させるのではなく、実際の画像に使われている色をランダムにピックアップして使うという風にしてみた。\n"
   ]
  },
  {
   "cell_type": "code",
   "execution_count": null,
   "metadata": {},
   "outputs": [],
   "source": [
    "import numpy as np\n",
    "import matplotlib.pyplot as plt\n",
    "import matplotlib.animation as animation\n",
    "% matplotlib notebook\n",
    "# matplotlib inline\n",
    "import urllib.request\n",
    "import io\n",
    "import PIL.Image\n",
    "import cv2\n",
    "\n",
    "# ネット上の画像を取ってくるメソッド\n",
    "def url2img(url):\n",
    "    print(url)\n",
    "    f = io.BytesIO(urllib.request.urlopen(url).read())\n",
    "    img = PIL.Image.open(f)\n",
    "    imgArray = np.asarray(img)\n",
    "    return imgArray\n",
    "\n",
    "# 画像から　色を　num 個ピックアップするメソッド\n",
    "def pickcolor(imgArray, num):\n",
    "    w = imgArray.shape[1]\n",
    "    h = imgArray.shape[0]\n",
    "    ret = []\n",
    "    for i in range(num):\n",
    "        rw = int(w*np.random.rand())\n",
    "        rh = int(h*np.random.rand())\n",
    "        ret.append(imgArray[rh,rw]/255)\n",
    "    return ret"
   ]
  },
  {
   "cell_type": "code",
   "execution_count": null,
   "metadata": {},
   "outputs": [],
   "source": [
    "import scipy.stats as st\n",
    "# ガウス分布\n",
    "def gkern(kernlen=21, nsig=3):\n",
    "    interval = (2*nsig+1.)/(kernlen)\n",
    "    x = np.linspace(-nsig-interval/2., nsig+interval/2., kernlen+1)\n",
    "    kern1d = np.diff(st.norm.cdf(x))\n",
    "    kernel_raw = np.sqrt(np.outer(kern1d, kern1d))\n",
    "    kernel = kernel_raw/kernel_raw.sum()\n",
    "    return kernel\n",
    "\n",
    "# 自己組織化マップ SOM を生成する　　　　M :２次元配置されたニューロンの重み配列    x : 入力データ,  alpha：学習係数\n",
    "def organize_som(M, x, alpha=0.3, ksize=3):\n",
    "    gk = gkern(2*ksize+1,ksize)/np.max(gkern(2*ksize+1,ksize))\n",
    "    mini, minj = get_winner(M,x)\n",
    "    MM = np.zeros((M.shape[0]+2*ksize, M.shape[1]+2*ksize,3),np.float64)\n",
    "    MM[ksize:-ksize,ksize:-ksize]=M\n",
    "    for i in range(-ksize,ksize+1): #  勝者の近傍7x7 の範囲を与えられたデータ（このプログラムでは色）に近づける\n",
    "        for j in range(-ksize,ksize+1):\n",
    "            try:\n",
    "                MM[ksize+mini+i,ksize+minj+j] += alpha * (x - MM[ksize+mini+i,ksize+minj+j])*gk[ksize+i,ksize+j]\n",
    "            except:\n",
    "                pass\n",
    "    return MM[ksize:-ksize,ksize:-ksize]\n",
    "\n",
    "def show_som(M):\n",
    "    im = plt.imshow(M,interpolation='nearest',origin='lower')\n",
    "    return im\n",
    "\n",
    "# Map M において、ベクトルｘともっとも近い重みベクトルを持つノードの座標を得る\n",
    "def get_winner(M,x):\n",
    "    col =  M.shape[1]\n",
    "    # row =  M.shape[0]\n",
    "    min_i = np.argmin(((M-x)**2).sum(axis=2)) \n",
    "    mini = min_i // col # argmin は1次元化した番号が返ってくるので　2次元化\n",
    "    minj = min_i % col\n",
    "    return mini, minj\n",
    "\n",
    "# 配列３次元M（ただし最後の次元は３要素でありカラーデータとみなせるもの）を matplot 画像データとして返す\n",
    "def show_som(M):\n",
    "    im = plt.imshow(M,interpolation='none',origin='lower')\n",
    "    return im"
   ]
  },
  {
   "cell_type": "markdown",
   "metadata": {},
   "source": [
    "ウェブ上の画像をカラーデータの採取用に読み込む"
   ]
  },
  {
   "cell_type": "code",
   "execution_count": null,
   "metadata": {},
   "outputs": [],
   "source": [
    "imgArray = url2img(\"http://photoshopvip.net/wp-content/uploads/2016/12/intro-to-natural-palette-1.jpg\")\n",
    "PIL.Image.fromarray(imgArray).resize((300,200))"
   ]
  },
  {
   "cell_type": "code",
   "execution_count": null,
   "metadata": {
    "scrolled": false
   },
   "outputs": [],
   "source": [
    "# メインプログラム\n",
    "row = 20  # 高さ\n",
    "col = 30 # 幅\n",
    "learntime = 256 # 繰り返し学習回数\n",
    "batchsize = 128 # １回の繰り返しで採取するデータの数\n",
    "alpha = 0.3 # 学習係数\n",
    "\n",
    "W = np.random.random([row,col,3]) # Map 用の配列\n",
    "\n",
    "fig = plt.figure()\n",
    "plt.axis('off')\n",
    "ims = []\n",
    "\n",
    "for time in range(learntime):\n",
    "    pcolors = pickcolor(imgArray,batchsize)  # ランダムにbatchsize色ピックアップ\n",
    "    for color in pcolors:\n",
    "        W=organize_som(W, color,alpha=alpha,ksize=3) # 競合学習の実行\n",
    "            #W=organize_som(W, color) # 競合学習の実行\n",
    "    ims.append([show_som(W)])  \n",
    "            \n",
    "ani = animation.ArtistAnimation(fig, ims , repeat=False)\n",
    "plt.show()"
   ]
  },
  {
   "cell_type": "markdown",
   "metadata": {},
   "source": [
    "このマップは20ｘ30個のRGBのデータ集合だと考えられる。この600個のデータをK-Means法でクラスタリングしてみよう。\n",
    "\n",
    "いま、Wは20ｘ30の行列表現されているが、これを　600個のデータ列に変換しないといけない。"
   ]
  },
  {
   "cell_type": "code",
   "execution_count": null,
   "metadata": {},
   "outputs": [],
   "source": [
    "from sklearn.cluster import KMeans\n",
    "\n",
    "def kmeans(M,k,itr):   # 配列Mの要素を対象として k-Means 法でクラスタリングを実行する　　k クラスタ数、 itr 繰り返し処理回数\n",
    "    row = M.shape[0]\n",
    "    col = M.shape[1]\n",
    "    ch = M.shape[2]\n",
    "    data = M.reshape(col*row,ch)\n",
    "    km = KMeans(n_clusters=k,init='random',n_init=1,max_iter=itr,random_state=1)\n",
    "    labelimage = (km.fit(data).labels_).reshape(row,col)\n",
    "    centers = km.cluster_centers_\n",
    "    return labelimage, centers \n",
    "\n",
    "from matplotlib.colors import LinearSegmentedColormap\n",
    "# カスタムカラーマップの生成\n",
    "def generate_cmap(centers):\n",
    "    lebels = len(centers)\n",
    "    values = range(lebels)\n",
    "    color_list = centers # ３次元データの重心の値そのものをカラーデータとみなす\n",
    "    return LinearSegmentedColormap.from_list('custom_cmap', color_list)"
   ]
  },
  {
   "cell_type": "code",
   "execution_count": null,
   "metadata": {},
   "outputs": [],
   "source": [
    "# 境界の描画\n",
    "def plotBoundary(labels, somcenters, cmap='tab20', colorbar=True):\n",
    "    row = labels.shape[0]\n",
    "    col = labels.shape[1]\n",
    "    \n",
    "    YY,XX = np.mgrid[0:row, 0:col] # make a grid    \n",
    "    \n",
    "    plt.pcolormesh(XX, YY, labels, cmap=cmap,zorder=-10) \n",
    "    \n",
    "    if colorbar:\n",
    "        plt.colorbar()\n",
    "        \n",
    "    for index, p in enumerate(somcenters):\n",
    "        plt.text(p[1],p[0],str(index),ha='center', va='center',\n",
    "           bbox=dict(facecolor='white', alpha=0.3, lw=0))"
   ]
  },
  {
   "cell_type": "code",
   "execution_count": null,
   "metadata": {
    "scrolled": false
   },
   "outputs": [],
   "source": [
    "# 代表色8\n",
    "labelimage, centers = kmeans(W,8,100)\n",
    "somcenters = [get_winner(W,c)  for c in centers]\n",
    "print(somcenters)\n",
    "custom_cmap = generate_cmap(centers)\n",
    "plotBoundary(labelimage, somcenters, cmap=custom_cmap, colorbar=False)"
   ]
  },
  {
   "cell_type": "code",
   "execution_count": null,
   "metadata": {
    "scrolled": false
   },
   "outputs": [],
   "source": [
    "# 代表色16色\n",
    "labelimage, centers =  kmeans(W,16,100)\n",
    "somcenters = [get_winner(W,c)  for c in centers]\n",
    "print(somcenters)\n",
    "custom_cmap = generate_cmap(centers)\n",
    "plotBoundary(labelimage, somcenters, cmap=custom_cmap, colorbar=False)"
   ]
  },
  {
   "cell_type": "markdown",
   "metadata": {},
   "source": [
    "# 固定１５色\n",
    "\n",
    "PyMVPAというライブラリの公式ページにある　　SOM のサンプル[Self-organizing Maps](http://www.pymvpa.org/examples/som.html)と同じことを試してみる。\n",
    "\n",
    "このサンプルもやはり色データをSOMにマッピングする例であるが、色が固定されている。たまたまだが、マップのサイズは２０ｘ３０で、ここで最初に試した設定と同じ。"
   ]
  },
  {
   "cell_type": "code",
   "execution_count": null,
   "metadata": {},
   "outputs": [],
   "source": [
    "dcolors = np.array(\n",
    "         [[0., 0., 0.],\n",
    "          [0., 0., 1.],\n",
    "          [0., 0., 0.5],\n",
    "          [0.125, 0.529, 1.0],\n",
    "          [0.33, 0.4, 0.67],\n",
    "          [0.6, 0.5, 1.0],\n",
    "          [0., 1., 0.],\n",
    "          [1., 0., 0.],\n",
    "          [0., 1., 1.],\n",
    "          [1., 0., 1.],\n",
    "          [1., 1., 0.],\n",
    "          [1., 1., 1.],\n",
    "          [.33, .33, .33],\n",
    "          [.5, .5, .5],\n",
    "          [.66, .66, .66]])\n",
    "\n",
    "dcolors = dcolors*0.9+0.05\n",
    "\n",
    "dcolor_names = \\\n",
    "        ['black', 'blue', 'darkblue', 'skyblue',\n",
    "         'greyblue', 'lilac', 'green', 'red',\n",
    "         'cyan', 'violet', 'yellow', 'white',\n",
    "         'darkgrey', 'mediumgrey', 'lightgrey']"
   ]
  },
  {
   "cell_type": "markdown",
   "metadata": {},
   "source": [
    "サンプリングされるデータが固定の場合、最もそのデータに似ているノードがさらにそのデータに似るように重みを変化させているのであるから、繰り返しているうちに第２候補と立場が逆転するということはまず起こり得ない。たまたま似たデータに引きづられて変化した結果としてそういうことが起こり得ないとは言えないが、空間がスパース（空き空き）であると、まずそういうことは起こらない。\n",
    "\n",
    "そこで、与えられた固定データを中心に乱数で少しゆらぎを与えることにする。"
   ]
  },
  {
   "cell_type": "code",
   "execution_count": null,
   "metadata": {
    "scrolled": false
   },
   "outputs": [],
   "source": [
    "# メインプログラム\n",
    "row = 20  # 高さ\n",
    "col = 30 # 幅\n",
    "learntime = 500 # 繰り返し学習回数\n",
    "alpha = 0.3 # 学習係数\n",
    "\n",
    "W = np.random.random([row,col,3]) # Map 用の配列\n",
    "\n",
    "fig = plt.figure()\n",
    "plt.axis('off')\n",
    "ims = []\n",
    "\n",
    "def vcolor(color,sigma):\n",
    "    vc = [ np.clip(c+np.random.normal(0,sigma),0,1)  for  c in color]\n",
    "    return vc\n",
    "\n",
    "for time in range(learntime):\n",
    "    for color in dcolors:\n",
    "            W=organize_som(W, vcolor(color,0.25),alpha=alpha,ksize=4) # 競合学習の実行\n",
    "    ims.append([show_som(W)])  \n",
    "            \n",
    "ani = animation.ArtistAnimation(fig, ims , interval=100, repeat=False)\n",
    "# ani.save(\"som3.mp4\", writer=\"ffmpeg\")  # ffmpeg がインストールされていないと動かない\n",
    "plt.show()"
   ]
  },
  {
   "cell_type": "code",
   "execution_count": null,
   "metadata": {},
   "outputs": [],
   "source": [
    "# ラベル貼り付け\n",
    "labelimage,centers = kmeans(W,15,100)\n",
    "somcenters = [get_winner(W,c)  for c in centers]\n",
    "custom_cmap = generate_cmap(centers)\n",
    "plt.yticks( [0, 4,9,14, 19] )\n",
    "plotBoundary(labelimage, somcenters, cmap=custom_cmap, colorbar=False)\n",
    "\n",
    "colorlocations = [get_winner(W,c)  for c in dcolors]\n",
    "print(somcenters)\n",
    "print(colorlocations)\n",
    "for index, p in enumerate(colorlocations):\n",
    "    plt.text(p[1],p[0],dcolor_names[index],ha='center', va='center',\n",
    "        bbox=dict(facecolor='white', alpha=0.3, lw=0))"
   ]
  },
  {
   "cell_type": "markdown",
   "metadata": {},
   "source": [
    "参考\n",
    "\n",
    "- [SOM（自己組織化写像）のプログラム (python)](http://swdrsker.hatenablog.com/entry/2016/12/08/171356) を小サイズ化したプログラム\n",
    "- [ffmpeg DOWNLOAD](http://www.ffmpegmac.net/)"
   ]
  },
  {
   "cell_type": "code",
   "execution_count": null,
   "metadata": {},
   "outputs": [],
   "source": []
  }
 ],
 "metadata": {
  "kernelspec": {
   "display_name": "Python 3",
   "language": "python",
   "name": "python3"
  },
  "language_info": {
   "codemirror_mode": {
    "name": "ipython",
    "version": 3
   },
   "file_extension": ".py",
   "mimetype": "text/x-python",
   "name": "python",
   "nbconvert_exporter": "python",
   "pygments_lexer": "ipython3",
   "version": "3.6.6"
  }
 },
 "nbformat": 4,
 "nbformat_minor": 2
}
