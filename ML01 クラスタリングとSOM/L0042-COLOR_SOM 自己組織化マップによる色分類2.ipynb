{
 "cells": [
  {
   "cell_type": "markdown",
   "metadata": {},
   "source": [
    "## 自己組織化マップ（SOM)＆クラスタリング 2\n",
    "\n",
    "絵画に使われている色を、先に作った自己組織化マップのプログラムで解析している。\n"
   ]
  },
  {
   "cell_type": "code",
   "execution_count": null,
   "metadata": {},
   "outputs": [],
   "source": [
    "import numpy as np\n",
    "import matplotlib.pyplot as plt\n",
    "import matplotlib.animation as animation\n",
    "% matplotlib notebook\n",
    "import urllib.request\n",
    "import io\n",
    "import PIL.Image\n",
    "import cv2\n",
    "\n",
    "# ネット上の画像を取ってくるメソッド\n",
    "def url2img(url):\n",
    "    print(url)\n",
    "    f = io.BytesIO(urllib.request.urlopen(url).read())\n",
    "    img = PIL.Image.open(f)\n",
    "    imgArray = np.asarray(img)\n",
    "    return imgArray\n",
    "\n",
    "# 画像から　色を　num 個ピックアップするメソッド\n",
    "def pickcolor(imgArray, num):\n",
    "    w = imgArray.shape[1]\n",
    "    h = imgArray.shape[0]\n",
    "    ret = []\n",
    "    for i in range(num):\n",
    "        rw = int(w*np.random.rand())\n",
    "        rh = int(h*np.random.rand())\n",
    "        ret.append(imgArray[rh,rw]/255)\n",
    "    return ret"
   ]
  },
  {
   "cell_type": "code",
   "execution_count": null,
   "metadata": {},
   "outputs": [],
   "source": [
    "import scipy.stats as st\n",
    "# ガウス分布\n",
    "def gkern(kernlen=21, nsig=3):\n",
    "    interval = (2*nsig+1.)/(kernlen)\n",
    "    x = np.linspace(-nsig-interval/2., nsig+interval/2., kernlen+1)\n",
    "    kern1d = np.diff(st.norm.cdf(x))\n",
    "    kernel_raw = np.sqrt(np.outer(kern1d, kern1d))\n",
    "    kernel = kernel_raw/kernel_raw.sum()\n",
    "    return kernel\n",
    "\n",
    "# 自己組織化マップ SOM を生成する　　　　M :２次元配置されたニューロンの重み配列    x : 入力データ,  alpha：学習係数\n",
    "def organize_som(M, x, alpha=0.3, ksize=3):\n",
    "    gk = gkern(2*ksize+1,ksize)/np.max(gkern(2*ksize+1,ksize))\n",
    "    mini, minj = get_winner(M,x)\n",
    "    MM = np.zeros((M.shape[0]+2*ksize, M.shape[1]+2*ksize,3),np.float64)\n",
    "    MM[ksize:-ksize,ksize:-ksize]=M\n",
    "    for i in range(-ksize,ksize+1): #  勝者の近傍7x7 の範囲を与えられたデータ（このプログラムでは色）に近づける\n",
    "        for j in range(-ksize,ksize+1):\n",
    "            try:\n",
    "                MM[ksize+mini+i,ksize+minj+j] += alpha * (x - MM[ksize+mini+i,ksize+minj+j])*gk[ksize+i,ksize+j]\n",
    "            except:\n",
    "                pass\n",
    "    return MM[ksize:-ksize,ksize:-ksize]\n",
    "\n",
    "def show_som(M):\n",
    "    im = plt.imshow(M,interpolation='nearest',origin='lower')\n",
    "    return im\n",
    "\n",
    "# Map M において、ベクトルｘともっとも近い重みベクトルを持つノードの座標を得る\n",
    "def get_winner(M,x):\n",
    "    col =  M.shape[1]\n",
    "    # row =  M.shape[0]\n",
    "    min_i = np.argmin(((M-x)**2).sum(axis=2)) \n",
    "    mini = min_i // col # argmin は1次元化した番号が返ってくるので　2次元化\n",
    "    minj = min_i % col\n",
    "    return mini, minj\n",
    "\n",
    "# 配列３次元M（ただし最後の次元は３要素でありカラーデータとみなせるもの）を matplot 画像データとして返す\n",
    "def show_som(M):\n",
    "    im = plt.imshow(M,interpolation='none',origin='lower')\n",
    "    return im"
   ]
  },
  {
   "cell_type": "code",
   "execution_count": null,
   "metadata": {},
   "outputs": [],
   "source": [
    "from sklearn.cluster import KMeans\n",
    "\n",
    "def kmeans(M,k,itr):   # 配列Mの要素を対象として k-Means 法でクラスタリングを実行する　　k クラスタ数、 itr 繰り返し処理回数\n",
    "    row = M.shape[0]\n",
    "    col = M.shape[1]\n",
    "    ch = M.shape[2]\n",
    "    data = M.reshape(col*row,ch)\n",
    "    km = KMeans(n_clusters=k,init='random',n_init=1,max_iter=itr,random_state=1)\n",
    "    labelimage = (km.fit(data).labels_).reshape(row,col)\n",
    "    centers = km.cluster_centers_\n",
    "    return labelimage, centers \n",
    "\n",
    "from matplotlib.colors import LinearSegmentedColormap\n",
    "# カスタムカラーマップの生成\n",
    "def generate_cmap(centers):\n",
    "    lebels = len(centers)\n",
    "    values = range(lebels)\n",
    "    color_list = centers # ３次元データの重心の値そのものをカラーデータとみなす\n",
    "    return LinearSegmentedColormap.from_list('custom_cmap', color_list)\n",
    "\n",
    "# 境界の描画\n",
    "def plotBoundary(labels, somcenters, cmap='tab20', colorbar=True):\n",
    "    row = labels.shape[0]\n",
    "    col = labels.shape[1]\n",
    "    \n",
    "    YY,XX = np.mgrid[0:row, 0:col] # make a grid    \n",
    "    \n",
    "    plt.pcolormesh(XX, YY, labels, cmap=cmap,zorder=-10) \n",
    "    \n",
    "    if colorbar:\n",
    "        plt.colorbar()\n",
    "        \n",
    "    for index, p in enumerate(somcenters):\n",
    "        plt.text(p[1],p[0],str(index),ha='center', va='center',\n",
    "           bbox=dict(facecolor='white', alpha=0.3, lw=0))"
   ]
  },
  {
   "cell_type": "markdown",
   "metadata": {},
   "source": [
    "ウェブ上の画像をカラーデータの採取用に読み込む"
   ]
  },
  {
   "cell_type": "code",
   "execution_count": null,
   "metadata": {},
   "outputs": [],
   "source": [
    "# 真珠の耳飾の少女（A Girl with Pearl Earring）1665年　フェルメール\n",
    "imgArray = url2img(\"http://bokyo-qualia.com/wp-content/uploads/2017/03/7-A-Girl-with-Pearl-Earring-e1490951233682.jpg\")\n",
    "img = PIL.Image.fromarray(imgArray)\n",
    "img.resize(np.array(img.size)//2)"
   ]
  },
  {
   "cell_type": "code",
   "execution_count": null,
   "metadata": {
    "scrolled": false
   },
   "outputs": [],
   "source": [
    "# メインプログラム\n",
    "row = 20  # 高さ\n",
    "col = 30 # 幅\n",
    "learntime = 256 # 繰り返し学習回数\n",
    "batchsize = 128 # １回の繰り返しで採取するデータの数\n",
    "alpha = 0.3 # 学習係数\n",
    "\n",
    "W = np.random.random([row,col,3]) # Map 用の配列\n",
    "\n",
    "fig = plt.figure()\n",
    "plt.axis('off')\n",
    "ims = []\n",
    "\n",
    "for time in range(learntime):\n",
    "    pcolors = pickcolor(imgArray,batchsize)  # ランダムにbatchsize色ピックアップ\n",
    "    for color in pcolors:\n",
    "        W=organize_som(W, color,alpha=alpha,ksize=3) # 競合学習の実行\n",
    "    ims.append([show_som(W)])  \n",
    "            \n",
    "ani = animation.ArtistAnimation(fig, ims , repeat=False)\n",
    "plt.show()"
   ]
  },
  {
   "cell_type": "code",
   "execution_count": null,
   "metadata": {
    "scrolled": false
   },
   "outputs": [],
   "source": [
    "# 代表色12\n",
    "labelimage, centers = kmeans(W,12,100)\n",
    "somcenters = [get_winner(W,c)  for c in centers]\n",
    "print(somcenters)\n",
    "custom_cmap = generate_cmap(centers)\n",
    "plotBoundary(labelimage, somcenters, cmap=custom_cmap)"
   ]
  },
  {
   "cell_type": "code",
   "execution_count": null,
   "metadata": {
    "scrolled": false
   },
   "outputs": [],
   "source": [
    "# 叫び（The Scream）1893年　エドヴァルド・ムンク\n",
    "imgArray = url2img(\"http://bokyo-qualia.com/wp-content/uploads/2017/03/5-The-Scream-e1490952692280.jpg\")\n",
    "img = PIL.Image.fromarray(imgArray)\n",
    "img.resize(np.array(img.size)//2)"
   ]
  },
  {
   "cell_type": "code",
   "execution_count": null,
   "metadata": {},
   "outputs": [],
   "source": [
    "W = np.random.random([row,col,3]) # Map 用の配列\n",
    "\n",
    "fig = plt.figure()\n",
    "plt.axis('off')\n",
    "ims = []\n",
    "\n",
    "for time in range(learntime):\n",
    "    pcolors = pickcolor(imgArray,batchsize)  # ランダムにbatchsize色ピックアップ\n",
    "    for color in pcolors:\n",
    "        W=organize_som(W, color,alpha=alpha,ksize=3) # 競合学習の実行\n",
    "    ims.append([show_som(W)])  \n",
    "            \n",
    "ani = animation.ArtistAnimation(fig, ims , repeat=False)\n",
    "plt.show()"
   ]
  },
  {
   "cell_type": "code",
   "execution_count": null,
   "metadata": {},
   "outputs": [],
   "source": [
    "# 代表色12\n",
    "labelimage, centers = kmeans(W,12,100)\n",
    "somcenters = [get_winner(W,c)  for c in centers]\n",
    "print(somcenters)\n",
    "custom_cmap = generate_cmap(centers)\n",
    "plotBoundary(labelimage, somcenters,cmap=custom_cmap)"
   ]
  },
  {
   "cell_type": "code",
   "execution_count": null,
   "metadata": {},
   "outputs": [],
   "source": [
    "# 星月夜（The starry night）1889年　ヴィンセント・ヴァン・ゴッホ\n",
    "imgArray = url2img(\"http://bokyo-qualia.com/wp-content/uploads/2017/03/3-Starry-Night-e1490953303227.jpg\")\n",
    "img = PIL.Image.fromarray(imgArray)\n",
    "img.resize(np.array(img.size)//2)"
   ]
  },
  {
   "cell_type": "code",
   "execution_count": null,
   "metadata": {},
   "outputs": [],
   "source": [
    "W = np.random.random([row,col,3]) # Map 用の配列\n",
    "\n",
    "fig = plt.figure()\n",
    "plt.axis('off')\n",
    "ims = []\n",
    "\n",
    "for time in range(learntime):\n",
    "    pcolors = pickcolor(imgArray,batchsize)  # ランダムにbatchsize色ピックアップ\n",
    "    for color in pcolors:\n",
    "        W=organize_som(W, color,alpha=alpha,ksize=3) # 競合学習の実行\n",
    "    ims.append([show_som(W)])  \n",
    "            \n",
    "ani = animation.ArtistAnimation(fig, ims , repeat=False)\n",
    "plt.show()"
   ]
  },
  {
   "cell_type": "code",
   "execution_count": null,
   "metadata": {},
   "outputs": [],
   "source": [
    "# 代表色12\n",
    "labelimage, centers = kmeans(W,12,100)\n",
    "somcenters = [get_winner(W,c)  for c in centers]\n",
    "print(somcenters)\n",
    "custom_cmap = generate_cmap(centers)\n",
    "plotBoundary(labelimage, somcenters,cmap=custom_cmap)"
   ]
  },
  {
   "cell_type": "code",
   "execution_count": null,
   "metadata": {},
   "outputs": [],
   "source": [
    "# モナ・リザ（Mona Lisa）1503～1519年頃　レオナルド・ダ・ヴィンチ\n",
    "imgArray = url2img(\"http://bokyo-qualia.com/wp-content/uploads/2017/03/mona_lisa-1.jpg\")\n",
    "img = PIL.Image.fromarray(imgArray)\n",
    "img.resize(np.array(img.size)//2)"
   ]
  },
  {
   "cell_type": "code",
   "execution_count": null,
   "metadata": {},
   "outputs": [],
   "source": [
    "W = np.random.random([row,col,3]) # Map 用の配列\n",
    "\n",
    "fig = plt.figure()\n",
    "plt.axis('off')\n",
    "ims = []\n",
    "\n",
    "for time in range(learntime):\n",
    "    pcolors = pickcolor(imgArray,batchsize)  # ランダムにbatchsize色ピックアップ\n",
    "    for color in pcolors:\n",
    "        W=organize_som(W, color,alpha=alpha,ksize=3) # 競合学習の実行\n",
    "    ims.append([show_som(W)])  \n",
    "            \n",
    "ani = animation.ArtistAnimation(fig, ims , repeat=False)\n",
    "plt.show()"
   ]
  },
  {
   "cell_type": "code",
   "execution_count": null,
   "metadata": {},
   "outputs": [],
   "source": [
    "# 代表色12\n",
    "labelimage, centers = kmeans(W,12,100)\n",
    "somcenters = [get_winner(W,c)  for c in centers]\n",
    "print(somcenters)\n",
    "custom_cmap = generate_cmap(centers)\n",
    "plotBoundary(labelimage, somcenters, cmap=custom_cmap)"
   ]
  },
  {
   "cell_type": "code",
   "execution_count": null,
   "metadata": {},
   "outputs": [],
   "source": [
    "# 睡蓮（Water Lilies）1916年　クロード・モネ\n",
    "imgArray = url2img(\"http://bokyo-qualia.com/wp-content/uploads/2017/03/8-Water-Lilies-e1490950846969.jpg\")\n",
    "img = PIL.Image.fromarray(imgArray)\n",
    "img.resize(np.array(img.size)//2)"
   ]
  },
  {
   "cell_type": "code",
   "execution_count": null,
   "metadata": {},
   "outputs": [],
   "source": [
    "W = np.random.random([row,col,3]) # Map 用の配列\n",
    "\n",
    "fig = plt.figure()\n",
    "plt.axis('off')\n",
    "ims = []\n",
    "\n",
    "for time in range(learntime):\n",
    "    pcolors = pickcolor(imgArray,batchsize)  # ランダムにbatchsize色ピックアップ\n",
    "    for color in pcolors:\n",
    "        W=organize_som(W, color,alpha=alpha,ksize=3) # 競合学習の実行\n",
    "    ims.append([show_som(W)])  \n",
    "            \n",
    "ani = animation.ArtistAnimation(fig, ims , repeat=False)\n",
    "plt.show()"
   ]
  },
  {
   "cell_type": "code",
   "execution_count": null,
   "metadata": {},
   "outputs": [],
   "source": [
    "# 代表色12\n",
    "labelimage, centers = kmeans(W,12,100)\n",
    "somcenters = [get_winner(W,c)  for c in centers]\n",
    "print(somcenters)\n",
    "custom_cmap = generate_cmap(centers)\n",
    "plotBoundary(labelimage, somcenters, cmap=custom_cmap)"
   ]
  },
  {
   "cell_type": "code",
   "execution_count": null,
   "metadata": {},
   "outputs": [],
   "source": [
    "# 代表色24\n",
    "labelimage, centers = kmeans(W,24,100)\n",
    "somcenters = [get_winner(W,c)  for c in centers]\n",
    "print(somcenters)\n",
    "custom_cmap = generate_cmap(centers)\n",
    "plotBoundary(labelimage, somcenters, cmap=custom_cmap)"
   ]
  },
  {
   "cell_type": "code",
   "execution_count": null,
   "metadata": {},
   "outputs": [],
   "source": [
    "# ヴィーナスの誕生（Birth of Venus）1486年　ボッティチェルリ\n",
    "imgArray = url2img(\"http://bokyo-qualia.com/wp-content/uploads/2017/03/10-Birth-of-Venus-e1490950331409.jpg\")\n",
    "img = PIL.Image.fromarray(imgArray)\n",
    "img.resize(np.array(img.size)//2)"
   ]
  },
  {
   "cell_type": "code",
   "execution_count": null,
   "metadata": {},
   "outputs": [],
   "source": [
    "W = np.random.random([row,col,3]) # Map 用の配列\n",
    "\n",
    "fig = plt.figure()\n",
    "plt.axis('off')\n",
    "ims = []\n",
    "\n",
    "for time in range(learntime):\n",
    "    pcolors = pickcolor(imgArray,batchsize)  # ランダムにbatchsize色ピックアップ\n",
    "    for color in pcolors:\n",
    "        W=organize_som(W, color,alpha=alpha,ksize=3) # 競合学習の実行\n",
    "    ims.append([show_som(W)])  \n",
    "            \n",
    "ani = animation.ArtistAnimation(fig, ims , repeat=False)\n",
    "plt.show()"
   ]
  },
  {
   "cell_type": "code",
   "execution_count": null,
   "metadata": {},
   "outputs": [],
   "source": [
    "# 代表色12\n",
    "labelimage, centers = kmeans(W,12,100)\n",
    "somcenters = [get_winner(W,c)  for c in centers]\n",
    "print(somcenters)\n",
    "custom_cmap = generate_cmap(centers)\n",
    "plotBoundary(labelimage, somcenters, cmap=custom_cmap)"
   ]
  },
  {
   "cell_type": "code",
   "execution_count": null,
   "metadata": {},
   "outputs": [],
   "source": [
    "# 代表色24\n",
    "labelimage, centers = kmeans(W,24,100)\n",
    "somcenters = [get_winner(W,c)  for c in centers]\n",
    "print(somcenters)\n",
    "custom_cmap = generate_cmap(centers)\n",
    "plotBoundary(labelimage, somcenters, cmap=custom_cmap)"
   ]
  },
  {
   "cell_type": "code",
   "execution_count": null,
   "metadata": {},
   "outputs": [],
   "source": [
    "# アルフォンス・ミュシャ\n",
    "imgArray = url2img(\"https://i.pinimg.com/originals/83/e6/d1/83e6d1bedb21cab67279baa632cbe799.jpg\")\n",
    "img = PIL.Image.fromarray(imgArray)\n",
    "img.resize(np.array(img.size)//2)"
   ]
  },
  {
   "cell_type": "code",
   "execution_count": null,
   "metadata": {},
   "outputs": [],
   "source": [
    "W = np.random.random([row,col,3]) # Map 用の配列\n",
    "\n",
    "fig = plt.figure()\n",
    "plt.axis('off')\n",
    "ims = []\n",
    "\n",
    "for time in range(learntime):\n",
    "    pcolors = pickcolor(imgArray,batchsize)  # ランダムにbatchsize色ピックアップ\n",
    "    for color in pcolors:\n",
    "        W=organize_som(W, color,alpha=alpha,ksize=3) # 競合学習の実行\n",
    "    ims.append([show_som(W)])  \n",
    "            \n",
    "ani = animation.ArtistAnimation(fig, ims , repeat=False)\n",
    "plt.show()"
   ]
  },
  {
   "cell_type": "code",
   "execution_count": null,
   "metadata": {},
   "outputs": [],
   "source": [
    "# 代表色１２\n",
    "labelimage, centers = kmeans(W,12,100)\n",
    "somcenters = [get_winner(W,c)  for c in centers]\n",
    "print(somcenters)\n",
    "custom_cmap = generate_cmap(centers)\n",
    "plotBoundary(labelimage, somcenters, cmap=custom_cmap)"
   ]
  },
  {
   "cell_type": "code",
   "execution_count": null,
   "metadata": {},
   "outputs": [],
   "source": [
    "# 代表色24\n",
    "labelimage, centers = kmeans(W,24,100)\n",
    "somcenters = [get_winner(W,c)  for c in centers]\n",
    "print(somcenters)\n",
    "custom_cmap = generate_cmap(centers)\n",
    "plotBoundary(labelimage, somcenters, cmap=custom_cmap)"
   ]
  },
  {
   "cell_type": "code",
   "execution_count": null,
   "metadata": {},
   "outputs": [],
   "source": [
    "# Mikako Watanabe\n",
    "imgArray = url2img(\"http://pds.exblog.jp/pds/1/201402/06/28/d0240728_18362623.jpg\")\n",
    "img = PIL.Image.fromarray(imgArray)\n",
    "img.resize(np.array(img.size)//2)"
   ]
  },
  {
   "cell_type": "code",
   "execution_count": null,
   "metadata": {
    "scrolled": false
   },
   "outputs": [],
   "source": [
    "# メインプログラム\n",
    "row = 20  # 高さ\n",
    "col = 30 # 幅\n",
    "learntime = 512 # 繰り返し学習回数\n",
    "batchsize = 256 # １回の繰り返しで採取するデータの数\n",
    "alpha = 0.1 # 学習係数\n",
    "\n",
    "W = np.random.random([row,col,3]) # Map 用の配列\n",
    "\n",
    "fig = plt.figure()\n",
    "plt.axis('off')\n",
    "ims = []\n",
    "\n",
    "for time in range(learntime):\n",
    "    pcolors = pickcolor(imgArray,batchsize)  # ランダムにbatchsize色ピックアップ\n",
    "    for color in pcolors:\n",
    "        W=organize_som(W, color,alpha=alpha,ksize=3) # 競合学習の実行\n",
    "    ims.append([show_som(W)])  \n",
    "            \n",
    "ani = animation.ArtistAnimation(fig, ims , repeat=False)\n",
    "plt.show()"
   ]
  },
  {
   "cell_type": "code",
   "execution_count": null,
   "metadata": {},
   "outputs": [],
   "source": [
    "# 代表色12\n",
    "labelimage, centers = kmeans(W,12,100)\n",
    "somcenters = [get_winner(W,c)  for c in centers]\n",
    "print(somcenters)\n",
    "custom_cmap = generate_cmap(centers)\n",
    "plotBoundary(labelimage, somcenters, cmap=custom_cmap)"
   ]
  },
  {
   "cell_type": "code",
   "execution_count": null,
   "metadata": {},
   "outputs": [],
   "source": [
    "# 代表色24\n",
    "labelimage, centers = kmeans(W,24,100)\n",
    "somcenters = [get_winner(W,c)  for c in centers]\n",
    "print(somcenters)\n",
    "custom_cmap = generate_cmap(centers)\n",
    "plotBoundary(labelimage, somcenters, cmap=custom_cmap)"
   ]
  },
  {
   "cell_type": "code",
   "execution_count": null,
   "metadata": {},
   "outputs": [],
   "source": [
    "# 代表色36\n",
    "labelimage, centers = kmeans(W,36,100)\n",
    "somcenters = [get_winner(W,c)  for c in centers]\n",
    "print(somcenters)\n",
    "custom_cmap = generate_cmap(centers)\n",
    "plotBoundary(labelimage, somcenters, cmap=custom_cmap)"
   ]
  },
  {
   "cell_type": "code",
   "execution_count": null,
   "metadata": {},
   "outputs": [],
   "source": [
    "# 代表色72\n",
    "labelimage, centers = kmeans(W,72,100)\n",
    "somcenters = [get_winner(W,c)  for c in centers]\n",
    "print(somcenters)\n",
    "custom_cmap = generate_cmap(centers)\n",
    "plotBoundary(labelimage, somcenters, cmap=custom_cmap)"
   ]
  },
  {
   "cell_type": "code",
   "execution_count": null,
   "metadata": {},
   "outputs": [],
   "source": [
    "ani.save(\"mi.mp4\")"
   ]
  },
  {
   "cell_type": "code",
   "execution_count": null,
   "metadata": {},
   "outputs": [],
   "source": []
  }
 ],
 "metadata": {
  "kernelspec": {
   "display_name": "Python 3",
   "language": "python",
   "name": "python3"
  },
  "language_info": {
   "codemirror_mode": {
    "name": "ipython",
    "version": 3
   },
   "file_extension": ".py",
   "mimetype": "text/x-python",
   "name": "python",
   "nbconvert_exporter": "python",
   "pygments_lexer": "ipython3",
   "version": "3.6.6"
  }
 },
 "nbformat": 4,
 "nbformat_minor": 2
}
