{
  "nbformat": 4,
  "nbformat_minor": 0,
  "metadata": {
    "kernelspec": {
      "display_name": "Python 3",
      "language": "python",
      "name": "python3"
    },
    "language_info": {
      "codemirror_mode": {
        "name": "ipython",
        "version": 3
      },
      "file_extension": ".py",
      "mimetype": "text/x-python",
      "name": "python",
      "nbconvert_exporter": "python",
      "pygments_lexer": "ipython3",
      "version": "3.7.3"
    },
    "colab": {
      "name": "L0042-COLOR_SOM_2_自己組織化マップによる色分類2.ipynb",
      "provenance": [],
      "include_colab_link": true
    }
  },
  "cells": [
    {
      "cell_type": "markdown",
      "metadata": {
        "id": "view-in-github",
        "colab_type": "text"
      },
      "source": [
        "<a href=\"https://colab.research.google.com/github/aquapathos/MLLesson/blob/master/ML01%20%E3%82%AF%E3%83%A9%E3%82%B9%E3%82%BF%E3%83%AA%E3%83%B3%E3%82%B0%E3%81%A8SOM/L0042_COLOR_SOM_2_%E8%87%AA%E5%B7%B1%E7%B5%84%E7%B9%94%E5%8C%96%E3%83%9E%E3%83%83%E3%83%95%E3%82%9A%E3%81%AB%E3%82%88%E3%82%8B%E8%89%B2%E5%88%86%E9%A1%9E2.ipynb\" target=\"_parent\"><img src=\"https://colab.research.google.com/assets/colab-badge.svg\" alt=\"Open In Colab\"/></a>"
      ]
    },
    {
      "cell_type": "markdown",
      "metadata": {
        "id": "EA2RAEvB6Rku"
      },
      "source": [
        "## 自己組織化マップ（SOM)＆クラスタリング 2\n",
        "\n",
        "絵画に使われている色を、先に作った自己組織化マップのプログラムで解析している。\n"
      ]
    },
    {
      "cell_type": "code",
      "metadata": {
        "id": "5sGPR4T-6Rkw"
      },
      "source": [
        "import numpy as np\n",
        "import matplotlib.pyplot as plt\n",
        "import matplotlib.animation as animation\n",
        "import urllib.request\n",
        "import io\n",
        "import PIL.Image\n",
        "import cv2\n",
        "from IPython.display import HTML,display\n",
        "\n",
        "# ネット上の画像を取ってくるメソッド\n",
        "def url2img(url):\n",
        "    print(url)\n",
        "    headers = {\n",
        "        \"User-Agent\": \"Mozilla/5.0 (X11; Ubuntu; Linux x86_64; rv:47.0) Gecko/20100101 Firefox/47.0\",\n",
        "        }\n",
        "    f = io.BytesIO(urllib.request.urlopen(urllib.request.Request(url=url, headers=headers)).read())\n",
        "    img = PIL.Image.open(f)\n",
        "    imgArray = np.asarray(img)\n",
        "    return imgArray\n",
        "\n",
        "# 画像から　色を　num 個ピックアップするメソッド\n",
        "def pickcolor(imgArray, num):\n",
        "    w = imgArray.shape[1]\n",
        "    h = imgArray.shape[0]\n",
        "    ret = []\n",
        "    for i in range(num):\n",
        "        rw = int(w*np.random.rand())\n",
        "        rh = int(h*np.random.rand())\n",
        "        ret.append(imgArray[rh,rw]/255)\n",
        "    return ret"
      ],
      "execution_count": 1,
      "outputs": []
    },
    {
      "cell_type": "code",
      "metadata": {
        "id": "RNLVeFS66Rky"
      },
      "source": [
        "import scipy.stats as st\n",
        "# ガウス分布\n",
        "def gkern(kernlen=21, nsig=3):\n",
        "    # kernlen カーネルの縦横のサイズ　nsig : 標準偏差\n",
        "    interval = (2*nsig+1.)/(kernlen)\n",
        "    x = np.linspace(-nsig-interval/2., nsig+interval/2., kernlen+1)\n",
        "    kern1d = np.diff(st.norm.cdf(x)) # 正規分布の差分\n",
        "    kernel_raw = np.sqrt(np.outer(kern1d, kern1d)) # 外積の平方根\n",
        "    kernel = kernel_raw/kernel_raw.sum()\n",
        "    return kernel\n",
        "\n",
        "# 自己組織化マップ SOM を生成する　　　　\n",
        "# M :２次元配置されたニューロンの重み配列    \n",
        "# x : 入力データ,  alpha：学習係数  kzize：ぼかし具合\n",
        "def organize_som(M, x, alpha=0.3, ksize=3):\n",
        "    gk = gkern(2*ksize+1,ksize)/np.max(gkern(2*ksize+1,ksize)) # ガウス分布\n",
        "    mini, minj = get_winner(M,x)\n",
        "    MM = np.zeros((M.shape[0]+2*ksize, M.shape[1]+2*ksize,3),np.float64)\n",
        "    MM[ksize:-ksize,ksize:-ksize]=M\n",
        "    for i in range(-ksize,ksize+1): #  勝者の近傍7x7 の範囲を与えられたデータ（このプログラムでは色）に近づける\n",
        "        for j in range(-ksize,ksize+1):\n",
        "            try: #　勝者の近傍への影響はガウス分布に従い、遠ざかるほど小さくしていく\n",
        "                MM[ksize+mini+i,ksize+minj+j] += alpha * (x - MM[ksize+mini+i,ksize+minj+j])*gk[ksize+i,ksize+j]\n",
        "            except:\n",
        "                pass\n",
        "    return MM[ksize:-ksize,ksize:-ksize]\n",
        "\n",
        "# マップの表示\n",
        "def show_som(M):\n",
        "    im = plt.imshow(M,interpolation='nearest',origin='lower')\n",
        "    return im\n",
        "\n",
        "# Map M において、ベクトルｘともっとも近い重みベクトルを持つノードの座標を得る\n",
        "def get_winner(M,x):\n",
        "    col =  M.shape[1]\n",
        "    # row =  M.shape[0]\n",
        "    min_i = np.argmin(((M-x)**2).sum(axis=2)) \n",
        "    mini = min_i // col # argmin は1次元化した番号が返ってくるので　2次元化\n",
        "    minj = min_i % col\n",
        "    return mini, minj\n",
        "\n",
        "# 配列３次元M（ただし最後の次元は３要素でありカラーデータとみなせるもの）を matplot 画像データとして返す\n",
        "def show_som(M):\n",
        "    im = plt.imshow(M,interpolation='none',origin='lower')\n",
        "    return im\n",
        "\n",
        "# K-means 法によりマップの要素であるノードをクラスタリングする\n",
        "from sklearn.cluster import KMeans\n",
        "\n",
        "def kmeans(M,k,itr):   # 配列Mの要素を対象として k-Means 法でクラスタリングを実行する　　k クラスタ数、 itr 繰り返し処理回数\n",
        "    (row,col,ch) = M.shape\n",
        "    data = M.reshape(col*row,ch)\n",
        "    km = KMeans(n_clusters=k,init='random',n_init=1,max_iter=itr,random_state=1)\n",
        "    labelimage = (km.fit(data).labels_).reshape(row,col)\n",
        "    centers = km.cluster_centers_\n",
        "    return labelimage, centers \n",
        "\n",
        "from matplotlib.colors import LinearSegmentedColormap\n",
        "# カスタムカラーマップの生成\n",
        "def generate_cmap(centers):\n",
        "    lebels = len(centers)\n",
        "    values = range(lebels)\n",
        "    color_list = centers # ３次元データの重心の値そのものをカラーデータとみなす\n",
        "    return LinearSegmentedColormap.from_list('custom_cmap', color_list)\n",
        "\n",
        "# 境界の描画\n",
        "def plotBoundary(labels, somcenters, cmap='tab20', colorbar=True):\n",
        "    row,col = labels.shape\n",
        "    \n",
        "    YY,XX = np.mgrid[0:row, 0:col] # make a grid    \n",
        "    \n",
        "    plt.pcolormesh(XX, YY, labels, cmap=cmap,zorder=-10) \n",
        "    \n",
        "    if colorbar:\n",
        "        plt.colorbar()\n",
        "        \n",
        "    for index, p in enumerate(somcenters):\n",
        "        plt.text(p[1],p[0],str(index),ha='center', va='center',\n",
        "           bbox=dict(facecolor='white', alpha=0.3, lw=0))\n",
        "        \n",
        "# COLOR_SOM メインプログラム\n",
        "def color_som(url,ax=None):\n",
        "    # ネット上から画像データを取得し大きさを規格化\n",
        "    imgArray = url2img(url) # 画像データの取得\n",
        "    h,w = imgArray.shape[:2]\n",
        "    imgArray0 = cv2.resize(imgArray,(200,200*h//w)) # サイズを規格化\n",
        "    display(PIL.Image.fromarray(imgArray0)) # 確認のための表示\n",
        "\n",
        "    # MAPサイズ\n",
        "    row = 20  # 高さ\n",
        "    col = 30 # 幅\n",
        "    W = np.random.random([row,col,3]) # Map 用の配列\n",
        "\n",
        "    # SOMのパラメータ\n",
        "    learntime = 50 # 繰り返し学習回数\n",
        "    batchsize = 128 # １回の繰り返しで採取するデータの数\n",
        "    alpha = 0.3 # 学習係数\n",
        "\n",
        "    # 競合学習のループ\n",
        "    fig = plt.figure()\n",
        "    plt.axis('off')\n",
        "    ims = [] # \n",
        "    for time in range(learntime):\n",
        "        pcolors = pickcolor(imgArray,batchsize)  # ランダムにbatchsize色ピックアップ\n",
        "        for color in pcolors:\n",
        "            W=organize_som(W, color,alpha=alpha,ksize=3) # 競合学習の実行\n",
        "        ims.append([show_som(W)])  # アンメーション用にマップを画像として蓄積\n",
        "\n",
        "    ani = animation.ArtistAnimation(fig, ims , repeat=False) \n",
        "    display(HTML(ani.to_jshtml())) \n",
        "    return W\n",
        "\n",
        "# 代表色を k 色選んでMAPのノード（重み）をクラスタリング\n",
        "def som_clustering(W,k=12):\n",
        "    labelimage, centers = kmeans(W,k,100)\n",
        "    somcenters = [get_winner(W,c)  for c in centers]\n",
        "    # print(\"代表色\",somcenters)\n",
        "    custom_cmap = generate_cmap(centers)\n",
        "    plotBoundary(labelimage, somcenters, cmap=custom_cmap)\n",
        "\n",
        "# デモ用関数\n",
        "def ColorSOMDemo(url,k1=6,k2=12):\n",
        "    W = color_som(url)\n",
        "    plt.figure(figsize = (12,3), facecolor=\"lightgray\")\n",
        "    plt.subplot(1,2,1)\n",
        "    plt.axis('off')\n",
        "    som_clustering(W,k=6)\n",
        "    plt.subplot(1,2,2)\n",
        "    som_clustering(W,k=12)\n",
        "    plt.axis('off')\n",
        "    return W"
      ],
      "execution_count": 2,
      "outputs": []
    },
    {
      "cell_type": "markdown",
      "metadata": {
        "id": "HwSooCEq6Rk2"
      },
      "source": [
        "ウェブ上の画像をカラーデータの採取用に読み込む"
      ]
    },
    {
      "cell_type": "code",
      "metadata": {
        "id": "gUKdFTjJyXfI"
      },
      "source": [
        "# 真珠の耳飾の少女（A Girl with Pearl Earring）1665年　フェルメール\n",
        "url = \"http://bokyo-qualia.com/wp-content/uploads/2017/03/7-A-Girl-with-Pearl-Earring-e1490951233682.jpg\"\n",
        "ColorSOMDemo(url);"
      ],
      "execution_count": null,
      "outputs": []
    },
    {
      "cell_type": "code",
      "metadata": {
        "id": "w8sncJvVurbh"
      },
      "source": [
        "# 真珠の耳飾の少女（A Girl with Pearl Earring）1665年　フェルメール\n",
        "url = \"http://bokyo-qualia.com/wp-content/uploads/2017/03/7-A-Girl-with-Pearl-Earring-e1490951233682.jpg\"\n",
        "ColorSOMDemo(url);"
      ],
      "execution_count": null,
      "outputs": []
    },
    {
      "cell_type": "code",
      "metadata": {
        "id": "X2-ZHZYPvS0o"
      },
      "source": [
        "# 叫び（The Scream）1893年　エドヴァルド・ムンク\n",
        "url=\"http://bokyo-qualia.com/wp-content/uploads/2017/03/5-The-Scream-e1490952692280.jpg\"\n",
        "ColorSOMDemo(url);"
      ],
      "execution_count": null,
      "outputs": []
    },
    {
      "cell_type": "code",
      "metadata": {
        "id": "fHPtNNxY6RlD"
      },
      "source": [
        "# 星月夜（The starry night）1889年　ヴィンセント・ヴァン・ゴッホ\n",
        "url=\"http://bokyo-qualia.com/wp-content/uploads/2017/03/3-Starry-Night-e1490953303227.jpg\"\n",
        "ColorSOMDemo(url);"
      ],
      "execution_count": null,
      "outputs": []
    },
    {
      "cell_type": "code",
      "metadata": {
        "id": "12L6kR8l6RlJ"
      },
      "source": [
        "# モナ・リザ（Mona Lisa）1503～1519年頃　レオナルド・ダ・ヴィンチ\n",
        "url=\"http://bokyo-qualia.com/wp-content/uploads/2017/03/mona_lisa-1.jpg\"\n",
        "ColorSOMDemo(url);"
      ],
      "execution_count": null,
      "outputs": []
    },
    {
      "cell_type": "code",
      "metadata": {
        "id": "IczqmyPc6RlP"
      },
      "source": [
        "# 睡蓮（Water Lilies）1916年　クロード・モネ\n",
        "url=\"http://bokyo-qualia.com/wp-content/uploads/2017/03/8-Water-Lilies-e1490950846969.jpg\"\n",
        "ColorSOMDemo(url);"
      ],
      "execution_count": null,
      "outputs": []
    },
    {
      "cell_type": "code",
      "metadata": {
        "id": "PV84Ygc06RlW"
      },
      "source": [
        "# ヴィーナスの誕生（Birth of Venus）1486年　ボッティチェルリ\n",
        "url=\"http://bokyo-qualia.com/wp-content/uploads/2017/03/10-Birth-of-Venus-e1490950331409.jpg\"\n",
        "ColorSOMDemo(url);"
      ],
      "execution_count": null,
      "outputs": []
    },
    {
      "cell_type": "code",
      "metadata": {
        "id": "Kvip4tBO6Rlh"
      },
      "source": [
        "# アルフォンス・ミュシャ\n",
        "url=\"https://i.pinimg.com/originals/83/e6/d1/83e6d1bedb21cab67279baa632cbe799.jpg\"\n",
        "ColorSOMDemo(url);"
      ],
      "execution_count": null,
      "outputs": []
    },
    {
      "cell_type": "code",
      "metadata": {
        "id": "YlyZUYuPyhCq"
      },
      "source": [
        "# Mikako Watanabe\n",
        "url=\"http://pds.exblog.jp/pds/1/201402/06/28/d0240728_18362623.jpg\"\n",
        "W=ColorSOMDemo(url);"
      ],
      "execution_count": null,
      "outputs": []
    },
    {
      "cell_type": "code",
      "metadata": {
        "id": "HDtRxz4L6Rl1",
        "colab": {
          "base_uri": "https://localhost:8080/",
          "height": 221
        },
        "outputId": "f21d9f53-af1f-464f-a8b0-778193e198d3"
      },
      "source": [
        "# 24色と36色を追加実験\n",
        "plt.figure(figsize = (12,3), facecolor=\"lightgray\")\n",
        "plt.subplot(1,2,1)\n",
        "plt.axis('off')\n",
        "som_clustering(W,k=24)\n",
        "plt.subplot(1,2,2)\n",
        "som_clustering(W,k=36)\n",
        "plt.axis('off')"
      ],
      "execution_count": 12,
      "outputs": [
        {
          "output_type": "execute_result",
          "data": {
            "text/plain": [
              "(0.0, 29.0, 0.0, 19.0)"
            ]
          },
          "metadata": {},
          "execution_count": 12
        },
        {
          "output_type": "display_data",
          "data": {
            "text/plain": [
              "<Figure size 864x216 with 4 Axes>"
            ],
            "image/png": "[encoded data removed]"
          },
          "metadata": {}
        }
      ]
    },
    {
      "cell_type": "code",
      "metadata": {
        "id": "kv4jIv_o6Rl2",
        "colab": {
          "base_uri": "https://localhost:8080/",
          "height": 270
        },
        "outputId": "9b2219b5-56f9-4143-c2b7-d08b273c48ca"
      },
      "source": [
        "# 72色を追加実験\n",
        "som_clustering(W,k=72)"
      ],
      "execution_count": 13,
      "outputs": [
        {
          "output_type": "display_data",
          "data": {
            "text/plain": [
              "<Figure size 432x288 with 2 Axes>"
            ],
            "image/png": "[encoded data removed]"
          },
          "metadata": {
            "needs_background": "light"
          }
        }
      ]
    },
    {
      "cell_type": "code",
      "metadata": {
        "id": "wrFash4oyqHs"
      },
      "source": [
        ""
      ],
      "execution_count": 13,
      "outputs": []
    }
  ]
}