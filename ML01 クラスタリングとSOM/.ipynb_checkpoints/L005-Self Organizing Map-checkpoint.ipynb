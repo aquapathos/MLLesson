{
 "cells": [
  {
   "cell_type": "markdown",
   "metadata": {},
   "source": [
    "# 自己組織化マップ（SOM)＆クラスタリング"
   ]
  },
  {
   "cell_type": "code",
   "execution_count": null,
   "metadata": {},
   "outputs": [],
   "source": [
    "import numpy as np\n",
    "import pandas as pd\n",
    "import matplotlib.pyplot as plt\n",
    "% matplotlib inline\n",
    "# import PIL.Image\n",
    "# import cv2"
   ]
  },
  {
   "cell_type": "markdown",
   "metadata": {},
   "source": [
    "# 都道府県の自己組織化マップ\n",
    "\n",
    "[都道府県データランキング](http://uub.jp/pdr/)\n",
    "\n",
    "上のデータランキングのデータを適当に組合せて、kendata.csv というデータを作成した。 生データは一番下にしてある。\n",
    "\n",
    "# １．データの読み込み"
   ]
  },
  {
   "cell_type": "code",
   "execution_count": null,
   "metadata": {},
   "outputs": [],
   "source": [
    "data = pd.read_csv(\"kendata.csv\", delimiter=\",\", encoding=\"utf-8\")  # header がない場合は header=None\n",
    "#data = pd.read_csv(\"jinko.csv\", delimiter=\",\", encoding=\"utf-8\")  # header がない場合は header=None\n",
    "data.head() # 上から５データ分表示"
   ]
  },
  {
   "cell_type": "markdown",
   "metadata": {},
   "source": [
    "データに特に深い意味はない。都道府県別の人口、面積、外国人の人数などの基礎データと、公務員より右は獣医師の人数である。\n",
    "都道府県名を除く解析に使う部分の見出しを dataindex として抜き出しておく。"
   ]
  },
  {
   "cell_type": "code",
   "execution_count": null,
   "metadata": {},
   "outputs": [],
   "source": [
    "dataindex = data.columns[1:] # カラムインデックス\n",
    "pref = data['都道府県'] # 都道府県名のリスト\n",
    "X = data[dataindex] # SOMで対象とする学習用データ\n",
    "X.head()"
   ]
  },
  {
   "cell_type": "markdown",
   "metadata": {},
   "source": [
    "# ２．標準化\n",
    "データ X は項目ごとにデータの粒度が違うので標準化、もしくは正規化して使う。\n",
    "\n",
    "## 標準化"
   ]
  },
  {
   "cell_type": "code",
   "execution_count": null,
   "metadata": {},
   "outputs": [],
   "source": [
    "from sklearn.preprocessing import StandardScaler\n",
    "sc = StandardScaler()\n",
    "stdX = sc.fit_transform(X) \n",
    "#  stdX には X が標準化されたデータが格納される。この操作で pandas dataframe から 普通の numpy 配列に変わる。\n",
    "\n",
    "stdX[0:5] # 上から５つ表示"
   ]
  },
  {
   "cell_type": "markdown",
   "metadata": {},
   "source": [
    "# ３．SOM のメソッドを定義"
   ]
  },
  {
   "cell_type": "code",
   "execution_count": null,
   "metadata": {},
   "outputs": [],
   "source": [
    "import scipy.stats as st\n",
    "# ガウス分布\n",
    "def gkern(kernlen=21, nsig=3):\n",
    "    interval = (2*nsig+1.)/(kernlen)\n",
    "    x = np.linspace(-nsig-interval/2., nsig+interval/2., kernlen+1)\n",
    "    kern1d = np.diff(st.norm.cdf(x))\n",
    "    kernel_raw = np.sqrt(np.outer(kern1d, kern1d))\n",
    "    kernel = kernel_raw/kernel_raw.sum()\n",
    "    return kernel\n",
    "\n",
    "# 自己組織化マップ SOM を生成する　　　　M :２次元配置されたニューロンの重み配列    x : 入力データ,  alpha：学習係数\n",
    "def organize_som(M, x, alpha=0.3, ksize=3):\n",
    "    gk = gkern(2*ksize+1,ksize)/np.max(gkern(2*ksize+1,ksize))\n",
    "    mini, minj = get_winner(M,x)\n",
    "    dim = x.shape[0]\n",
    "    MM = np.zeros((M.shape[0]+2*ksize, M.shape[1]+2*ksize,dim),np.float64)\n",
    "    MM[ksize:-ksize,ksize:-ksize]=M\n",
    "    for i in range(-ksize,ksize+1): #  勝者の近傍7x7 の範囲を与えられたデータ（このプログラムでは色）に近づける\n",
    "        for j in range(-ksize,ksize+1):\n",
    "            try:\n",
    "                MM[ksize+mini+i,ksize+minj+j] += alpha * (x - MM[ksize+mini+i,ksize+minj+j])*gk[ksize+i,ksize+j]\n",
    "            except:\n",
    "                pass\n",
    "    return MM[ksize:-ksize,ksize:-ksize]\n",
    "\n",
    "# 境界の描画\n",
    "def plotBoundary(labels, somcenters,cmap='Pastel1'):\n",
    "    row = labels.shape[0]\n",
    "    col = labels.shape[1]\n",
    "    \n",
    "    YY,XX = np.mgrid[0:row, 0:col] # make a grid    \n",
    "    \n",
    "    plt.pcolormesh(XX, YY, labels, cmap=cmap,zorder=-10) \n",
    "            \n",
    "    for index, p in enumerate(somcenters):\n",
    "        plt.text(p[1],p[0],str(index),ha='center', va='center',\n",
    "           bbox=dict(facecolor='white', alpha=0.3, lw=0))\n",
    "\n",
    "# Map M において、ベクトルｘともっとも近い重みベクトルを持つノードの座標を得る\n",
    "def get_winner(M,x):\n",
    "    col =  M.shape[1]\n",
    "    # row =  M.shape[0]\n",
    "    min_i = np.argmin(((M-x)**2).sum(axis=2)) \n",
    "    mini = min_i // col # argmin は1次元化した番号が返ってくるので　2次元化\n",
    "    minj = min_i % col\n",
    "    return mini, minj\n"
   ]
  },
  {
   "cell_type": "markdown",
   "metadata": {},
   "source": [
    "# ４．メインプログラムの実行"
   ]
  },
  {
   "cell_type": "code",
   "execution_count": null,
   "metadata": {
    "scrolled": false
   },
   "outputs": [],
   "source": [
    "# メインプログラム\n",
    "row = 20  # 高さ\n",
    "col = 30 # 幅\n",
    "learntime = 256# 繰り返し学習回数\n",
    "alpha = 0.3 # 学習係数\n",
    "\n",
    "W = np.random.random([row,col,len(dataindex)]) # Map 用の配列\n",
    "\n",
    "for time in range(learntime):\n",
    "    for color in stdX:\n",
    "        W=organize_som(W, color,alpha=alpha,ksize=5) # 競合学習の実行\n"
   ]
  },
  {
   "cell_type": "markdown",
   "metadata": {},
   "source": [
    "このマップは20ｘ30個のRGBのデータ集合だと考えられる。\n",
    "\n",
    "上のブロックの実行で，SOMは配列Wとして生成されているが，個々のニューロンは８次元ベクトルなのでそのままでは表示できない．\n",
    "\n",
    "この600個のデータをK-Means法でクラスタリングし，クラスタにカラーを割り当てて表示することにしよう．\n",
    "\n",
    "\n",
    "# ５．クラスタリング\n",
    "## ５．１　クラスタリングのプログラム\n"
   ]
  },
  {
   "cell_type": "code",
   "execution_count": null,
   "metadata": {},
   "outputs": [],
   "source": [
    "from sklearn.cluster import KMeans\n",
    "\n",
    "def kmeans(M,k,itr):   # 配列Mの要素を対象として k-Means 法でクラスタリングを実行する　　k クラスタ数、 itr 繰り返し処理回数\n",
    "    row = M.shape[0]\n",
    "    col = M.shape[1]\n",
    "    ch = M.shape[2]\n",
    "    data = M.reshape(col*row,ch)\n",
    "    km = KMeans(n_clusters=k,init='random',n_init=1,max_iter=itr,random_state=1)\n",
    "    labelimage = (km.fit(data).labels_).reshape(row,col)\n",
    "    centers = km.cluster_centers_\n",
    "    return labelimage, centers \n",
    "\n",
    "# 都道府県名の描画\n",
    "def writePref(W, pref, data, dataindex):\n",
    "     for index, pname in enumerate(pref):\n",
    "        d1 =  np.array(data[index])\n",
    "        (y,x)= get_winner(W,d1)\n",
    "        plt.text(x,y,pref.loc[index],ha='center', va='center',\n",
    "           bbox=dict(facecolor='white', alpha=0.2, lw=0))   "
   ]
  },
  {
   "cell_type": "markdown",
   "metadata": {},
   "source": [
    "# 5.2　クラスタリング実験\n",
    "##  （１）データをk-means法で３分割"
   ]
  },
  {
   "cell_type": "code",
   "execution_count": null,
   "metadata": {},
   "outputs": [],
   "source": [
    "# 3-means\n",
    "labelimage, centers = kmeans(W,3,100)\n",
    "somcenters = [get_winner(W,c) for c in centers]\n",
    "plt.rcParams['font.family'] = 'HGMaruGothicMPRO'\n",
    "#plt.rcParams['font.family'] = \"Meiryo\"\n",
    "fig = plt.figure(figsize=(10,6))\n",
    "plotBoundary(labelimage, somcenters)\n",
    "writePref(W,pref,stdX,dataindex)"
   ]
  },
  {
   "cell_type": "markdown",
   "metadata": {},
   "source": [
    "# （２）データをk-means法で5分割\n"
   ]
  },
  {
   "cell_type": "code",
   "execution_count": null,
   "metadata": {},
   "outputs": [],
   "source": [
    "# 5-means\n",
    "labelimage, centers = kmeans(W,5,100)\n",
    "somcenters = [get_winner(W,c) for c in centers]\n",
    "fig = plt.figure(figsize=(10,6))\n",
    "plotBoundary(labelimage, somcenters)\n",
    "writePref(W,pref,stdX,dataindex)"
   ]
  },
  {
   "cell_type": "markdown",
   "metadata": {},
   "source": [
    "# （２）データをk-means法で8分割"
   ]
  },
  {
   "cell_type": "code",
   "execution_count": null,
   "metadata": {},
   "outputs": [],
   "source": [
    "# 8-means\n",
    "labelimage, centers = kmeans(W,8,100)\n",
    "somcenters = [get_winner(W,c) for c in centers]\n",
    "fig = plt.figure(figsize=(10,6))\n",
    "plotBoundary(labelimage, somcenters)\n",
    "writePref(W,pref,stdX,dataindex)"
   ]
  },
  {
   "cell_type": "code",
   "execution_count": null,
   "metadata": {},
   "outputs": [],
   "source": [
    "with open(\"kendata.csv\", encoding=\"utf-8\") as f:\n",
    "    print(f.read())"
   ]
  }
 ],
 "metadata": {
  "kernelspec": {
   "display_name": "Python 3",
   "language": "python",
   "name": "python3"
  },
  "language_info": {
   "codemirror_mode": {
    "name": "ipython",
    "version": 3
   },
   "file_extension": ".py",
   "mimetype": "text/x-python",
   "name": "python",
   "nbconvert_exporter": "python",
   "pygments_lexer": "ipython3",
   "version": "3.6.6"
  }
 },
 "nbformat": 4,
 "nbformat_minor": 2
}
