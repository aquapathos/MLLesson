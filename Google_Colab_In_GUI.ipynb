{
  "nbformat": 4,
  "nbformat_minor": 0,
  "metadata": {
    "colab": {
      "name": " Google Colab In GUI.ipynb",
      "provenance": [],
      "collapsed_sections": [],
      "machine_shape": "hm",
      "include_colab_link": true
    },
    "kernelspec": {
      "name": "python3",
      "display_name": "Python 3"
    },
    "language_info": {
      "name": "python"
    },
    "gpuClass": "standard",
    "accelerator": "GPU"
  },
  "cells": [
    {
      "cell_type": "markdown",
      "metadata": {
        "id": "view-in-github",
        "colab_type": "text"
      },
      "source": [
        "<a href=\"https://colab.research.google.com/github/aquapathos/MLLesson/blob/master/Google_Colab_In_GUI.ipynb\" target=\"_parent\"><img src=\"https://colab.research.google.com/assets/colab-badge.svg\" alt=\"Open In Colab\"/></a>"
      ]
    },
    {
      "cell_type": "markdown",
      "source": [
        "# sudo 用のユーザの作成\n",
        "sudo用のユーザ名とパスワードを決めてください\n",
        "\n"
      ],
      "metadata": {
        "id": "X1bFRcw51_C1"
      }
    },
    {
      "cell_type": "code",
      "metadata": {
        "id": "3net2zi6yqsD",
        "colab": {
          "base_uri": "https://localhost:8080/"
        },
        "outputId": "07fe2eb3-f511-4707-fabb-da9b29e71843",
        "cellView": "form"
      },
      "source": [
        "#@title **STEP 1 Linux ユーザの設定**\n",
        " \n",
        "import os\n",
        "print(\"ユーザ作成\")\n",
        "\n",
        "username = \"user\" #@param {type:\"string\"}\n",
        "password = \"passwd\" #@param {type:\"string\"}\n",
        "  \n",
        "# Creation of user\n",
        "os.system(f\"useradd -m {username}\")\n",
        " \n",
        "# Add user to sudo group\n",
        "os.system(f\"adduser {username} sudo\")\n",
        "    \n",
        "# Set password of user to 'root'\n",
        "os.system(f\"echo '{username}:{password}' | sudo chpasswd\")\n",
        " \n",
        "# Change default shell from sh to bash\n",
        "os.system(\"sed -i 's/\\/bin\\/sh/\\/bin\\/bash/g' /etc/passwd\")\n",
        " \n",
        "print(\"作成完了\")"
      ],
      "execution_count": null,
      "outputs": [
        {
          "output_type": "stream",
          "name": "stdout",
          "text": [
            "ユーザ作成\n",
            "作成完了\n"
          ]
        }
      ]
    },
    {
      "cell_type": "code",
      "source": [
        "#@title **STEP2 インストール項目の選択**\n",
        "リモートデスクトップ = True #@param {type:\"boolean\"}\n",
        "デスクトップ環境 = True #@param {type:\"boolean\"}\n",
        "Chromeブラウザ = True #@param {type:\"boolean\"}\n",
        "VSCode = True #@param {type:\"boolean\"}\n",
        "UnityHub = True #@param {type:\"boolean\"}\n",
        "#@markdown  インストールしたい項目にチェックを入れてください\n"
      ],
      "metadata": {
        "id": "ekeo41Bo5-EH"
      },
      "execution_count": null,
      "outputs": []
    },
    {
      "cell_type": "code",
      "metadata": {
        "id": "QFiDSIaEo3AO",
        "colab": {
          "base_uri": "https://localhost:8080/"
        },
        "outputId": "00915008-9cfa-4683-9ccb-e895f4ca89e0",
        "cellView": "form"
      },
      "source": [
        "#@title **STEP3 デスクトップ環境のインストール**\n",
        " \n",
        "import os\n",
        "import subprocess\n",
        " \n",
        "#@markdown まず、 http://remotedesktop.google.com/headless に行き、Debian Linux用のコードをコピーし、CRP欄にペーストしてください。\n",
        " \n",
        "CRP = \"DISPLAY= /opt/google/chrome-remote-desktop/start-host --code=\\\"4/0AdQt8qj5OwctCZ1JJ91Ww3KNv_5dZZ7JBRvYzN8a0oOkb4P5uyHsA6tA-wAPUfSdXGFodQ\\\" --redirect-url=\\\"https://remotedesktop.google.com/_/oauthredirect\\\" --name=$(hostname)\" #@param {type:\"string\"}\n",
        "\n",
        "#@markdown 次に、整数６つ以上のPinコードを決めてください。\n",
        "#@markdown このコードはリモートデスクトップのアクセスに使います。\n",
        "Pin =  88883333#@param {type: \"integer\"}\n",
        " \n",
        "class CRD:\n",
        "    def __init__(self):\n",
        "        os.system(\"apt update\")\n",
        "        if リモートデスクトップ:\n",
        "          self.installCRD()\n",
        "        if デスクトップ環境:\n",
        "          self.installDesktopEnvironment()\n",
        "        if Chromeブラウザ:\n",
        "          self.installGoogleChorme()\n",
        "        if VSCode:\n",
        "          self.installVSCode()\n",
        "        if UnityHub:\n",
        "          self.downloadUnityHub()\n",
        "        self.finish()\n",
        " \n",
        "    @staticmethod\n",
        "    def installCRD():\n",
        "        print(\"Chrome Remote Desktopのインストール\")\n",
        "        subprocess.run(['wget', 'https://dl.google.com/linux/direct/chrome-remote-desktop_current_amd64.deb'], stdout=subprocess.PIPE)\n",
        "        subprocess.run(['dpkg', '--install', 'chrome-remote-desktop_current_amd64.deb'], stdout=subprocess.PIPE)\n",
        "        subprocess.run(['apt', 'install', '--assume-yes', '--fix-broken'], stdout=subprocess.PIPE)\n",
        " \n",
        "    @staticmethod\n",
        "    def installDesktopEnvironment():\n",
        "        print(\"デスクトップ環境のインストール\")\n",
        "        os.system(\"export DEBIAN_FRONTEND=noninteractive\")\n",
        "        os.system(\"apt install --assume-yes xfce4 desktop-base xfce4-terminal\")\n",
        "        os.system(\"bash -c 'echo \\\"exec /etc/X11/Xsession /usr/bin/xfce4-session\\\" > /etc/chrome-remote-desktop-session'\")\n",
        "        os.system(\"apt remove --assume-yes gnome-terminal\")\n",
        "        os.system(\"apt install --assume-yes xscreensaver\")\n",
        "        os.system(\"systemctl disable lightdm.service\")\n",
        " \n",
        "    @staticmethod\n",
        "    def installGoogleChorme():\n",
        "        print(\"Google Chromeのインストール\")\n",
        "        subprocess.run([\"wget\", \"https://dl.google.com/linux/direct/google-chrome-stable_current_amd64.deb\"], stdout=subprocess.PIPE)\n",
        "        subprocess.run([\"dpkg\", \"--install\", \"google-chrome-stable_current_amd64.deb\"], stdout=subprocess.PIPE)\n",
        "        subprocess.run(['apt', 'install', '--assume-yes', '--fix-broken'], stdout=subprocess.PIPE)\n",
        "\n",
        "    @staticmethod\n",
        "    def downloadUnityHub():\n",
        "        print(\"UnityHubのダウンロード\")\n",
        "        subprocess.run([\"wget\", \"https://public-cdn.cloud.unity3d.com/hub/prod/UnityHub.AppImage\"])\n",
        "        subprocess.run([\"chmod\",\"+x\",\"UnityHub.AppImage\"])\n",
        "        subprocess.run([\"mv\",\"UnityHub.AppImage\",f\"/home/{username}\"])\n",
        "        print(\"Unity Hub をインストールする場合は、./UnityHub.AppImage を実行してください\")\n",
        "\n",
        "    @staticmethod\n",
        "    def installVSCode():\n",
        "        print(\"Visual Studio Codeのインストール\")\n",
        "        subprocess.run([\"curl\",\"-L\",\"https://go.microsoft.com/fwlink/?LinkID=760868\",\"-o\",\"vscode.deb>\"])\n",
        "        subprocess.run([\"apt\",\"install\", \"-y\", \"./vscode.deb\"])\n",
        "        print(\"Installing IPA Font\")\n",
        "        subprocess.run([\"apt\",\"install\",\"-y\",\"fonts-ipafont\"])\n",
        "        print(\"Installing PySimpleGUI\")\n",
        "        subprocess.run([\"pip\",\"install\",\"-q\",\"pysimplegui\"])\n",
        "\n",
        "    @staticmethod\n",
        "    def finish():\n",
        "        print(\"もうすぐ終わります\")\n",
        "        os.system(f\"adduser {username} chrome-remote-desktop\")\n",
        "        command = f\"{CRP} --pin={Pin}\"\n",
        "        os.system(f\"su - {username} -c '{command}'\")\n",
        "        os.system(\"service chrome-remote-desktop start\")\n",
        "        print(\"インストール完了\")\n",
        "\n",
        "try:\n",
        "    if username:\n",
        "        if CRP == \"\":\n",
        "            print(\"Please enter authcode from the given link\")\n",
        "        elif len(str(Pin)) < 6:\n",
        "            print(\"Enter a pin more or equal to 6 digits\")\n",
        "        else:\n",
        "            CRD()\n",
        "except NameError as e:\n",
        "    print(\"username variable not found\")\n",
        "    print(\"Create a User First\")"
      ],
      "execution_count": null,
      "outputs": [
        {
          "output_type": "stream",
          "name": "stdout",
          "text": [
            "Chrome Remote Desktopのインストール\n",
            "デスクトップ環境のインストール\n",
            "Google Chromeのインストール\n",
            "Visual Studio Codeのインストール\n",
            "Installing IPA Font\n",
            "Installing PySimpleGUI\n",
            "UnityHubのダウンロード\n",
            "user\n",
            "Unity Hub をインストールする場合は、./UnityHub.AppImage を実行してください\n",
            "もうすぐ終わります\n",
            "インストール完了\n"
          ]
        }
      ]
    },
    {
      "cell_type": "markdown",
      "source": [
        "[http://remotedesktop.google.com/access](http://remotedesktop.google.com/access)にアクセス\n",
        "![access.png](data:image/png;base64,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)"
      ],
      "metadata": {
        "id": "rbrtuz6u4quw"
      }
    },
    {
      "cell_type": "code",
      "source": [
        ""
      ],
      "metadata": {
        "id": "RnE8ZdbT2boI"
      },
      "execution_count": null,
      "outputs": []
    }
  ]
}