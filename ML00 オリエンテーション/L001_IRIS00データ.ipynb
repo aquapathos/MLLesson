{
 "cells": [
  {
   "cell_type": "markdown",
   "metadata": {},
   "source": [
    "# L001   IRIS データ\n"
   ]
  },
  {
   "cell_type": "code",
   "execution_count": null,
   "metadata": {},
   "outputs": [],
   "source": [
    "\"\"\"必要なライブラリ\"\"\";\n",
    "import matplotlib.pyplot as plt\n",
    "# from mpl_toolkits.mplot3d import Axes3D\n",
    "from sklearn.decomposition import PCA"
   ]
  },
  {
   "cell_type": "markdown",
   "metadata": {},
   "source": [
    "Anaconda に標準で入っている機械学習ライブラリ scikit-learn (sklern) にはいくつかのサンプルデータを読み込むメソッドがあります。\n",
    "\n",
    "今回はそのうちのひとつ、IRIS＝　アヤメの花のデータを使ってみます。\n",
    "\n",
    "-[scikit-learn に付属しているデータセット](https://goo.gl/Ebqu34)\n"
   ]
  },
  {
   "cell_type": "code",
   "execution_count": null,
   "metadata": {},
   "outputs": [],
   "source": [
    "# IRISデータの読み込み\n",
    "from sklearn.datasets import load_iris\n",
    "iris = load_iris()"
   ]
  },
  {
   "cell_type": "markdown",
   "metadata": {},
   "source": [
    "iris という変数に代入されるのは 一種のpython のdict（辞書）型のデータです。"
   ]
  },
  {
   "cell_type": "code",
   "execution_count": null,
   "metadata": {},
   "outputs": [],
   "source": [
    "print(iris.keys())"
   ]
  },
  {
   "cell_type": "code",
   "execution_count": null,
   "metadata": {},
   "outputs": [],
   "source": [
    "dir(iris)"
   ]
  },
  {
   "cell_type": "markdown",
   "metadata": {},
   "source": [
    "- data  生データ\n",
    "- target 分類番号（iris の場合、0〜3 で表現)\n",
    "- target_names  分類名称\n",
    "- DESCR データのメタ情報\n",
    "- feature_names 特徴の名称\n",
    "\n",
    "例えば、生データそのものの３番（０から始まるので４つ目）を参照したければ、 **iris['data'][3]** または、**iris.data[3]**で参照できます。\n",
    "生データと分類番号の 先頭５つを表示してみましょう。"
   ]
  },
  {
   "cell_type": "code",
   "execution_count": null,
   "metadata": {},
   "outputs": [],
   "source": [
    "iris['data'][:5], iris.target[:5]"
   ]
  },
  {
   "cell_type": "markdown",
   "metadata": {},
   "source": [
    "このままプログラムで使ってもいいですが、こういう表形式のデータを扱うには、pandas が便利です。"
   ]
  },
  {
   "cell_type": "code",
   "execution_count": null,
   "metadata": {
    "scrolled": true
   },
   "outputs": [],
   "source": [
    "import pandas as pd\n",
    "df = pd.DataFrame(iris.data, columns=iris.feature_names)\n",
    "df.head() # head(n) で先頭から n 個を取り出せる"
   ]
  },
  {
   "cell_type": "markdown",
   "metadata": {},
   "source": [
    "項目見出しを日本語に変えましょう。"
   ]
  },
  {
   "cell_type": "code",
   "execution_count": null,
   "metadata": {},
   "outputs": [],
   "source": [
    "df.columns = ['がく片の長さ','がく片の幅','花片の長さ','花片の幅']\n",
    "df.head()"
   ]
  },
  {
   "cell_type": "markdown",
   "metadata": {},
   "source": [
    "特定の列だけを取り出す"
   ]
  },
  {
   "cell_type": "code",
   "execution_count": null,
   "metadata": {},
   "outputs": [],
   "source": [
    "X = df[['がく片の長さ','花片の長さ']]\n",
    "X.head()"
   ]
  },
  {
   "cell_type": "markdown",
   "metadata": {},
   "source": [
    "項目名は長くて面倒という場合は、行や列の番号で抽出する部分を指定することもできます。"
   ]
  },
  {
   "cell_type": "code",
   "execution_count": null,
   "metadata": {},
   "outputs": [],
   "source": [
    "X = df.iloc[2:5,[1,3]]\n",
    "X"
   ]
  },
  {
   "cell_type": "markdown",
   "metadata": {},
   "source": [
    "pandas では、index は保存されます。番号を振り直すこともできますが、ここでは述べません。\n",
    "がく片の長さと幅の関係をグラフ化してみようと思います。まずは必要なデータを取り出した変数を作りましょう。\n",
    "\n",
    "# 課題\n",
    "花弁の長さと幅を抜き出したデータを変数 K に代入し、Kの上から５つ分を head() で表示しみなさい。"
   ]
  },
  {
   "cell_type": "code",
   "execution_count": null,
   "metadata": {},
   "outputs": [],
   "source": []
  },
  {
   "cell_type": "code",
   "execution_count": null,
   "metadata": {},
   "outputs": [],
   "source": [
    "X = df.iloc[:, :2]  \n",
    "y = iris.target"
   ]
  },
  {
   "cell_type": "markdown",
   "metadata": {},
   "source": [
    "大抵の場合、pandas のデータフレームの列は numpy の１次元データの様に扱えます。"
   ]
  },
  {
   "cell_type": "code",
   "execution_count": null,
   "metadata": {},
   "outputs": [],
   "source": [
    "x1_min, x1_max  = X['がく片の長さ'].min()-0.5,  X['がく片の長さ'].max()+0.5\n",
    "x2_min, x2_max = X['がく片の幅'].min()-0.5,  X['がく片の幅'].max()+0.5\n",
    "(x1_min, x1_max), (x2_min, x2_max )"
   ]
  },
  {
   "cell_type": "markdown",
   "metadata": {},
   "source": [
    "0.5 はグラフ化するときのマージン分です。\n",
    "# 課題\n",
    "花片の長さをx3,、幅をx4 として同様に min, max を定義しなさい"
   ]
  },
  {
   "cell_type": "code",
   "execution_count": null,
   "metadata": {},
   "outputs": [],
   "source": []
  },
  {
   "cell_type": "markdown",
   "metadata": {},
   "source": [
    "# 課題３\n",
    "次のプログラムは各項目の関係をグラフ化して表示するプログラムである。\n",
    "４項目あるので横軸に何をとるか、縦軸に何をとるかで４×３＝１２通りのグラフが描ける。\n",
    "「がく片の長さと幅の関係」を参考にして、花片の長さと幅、がく片の長さと花片の長さ、がく片の幅と花片の幅の関係をグラフ化しなさい。"
   ]
  },
  {
   "cell_type": "code",
   "execution_count": null,
   "metadata": {},
   "outputs": [],
   "source": [
    "# 新規のウィンドウを描画\n",
    "fig = plt.figure(figsize=(12, 12) )\n",
    "plt.clf()\n",
    "plt.rcParams['font.family'] = 'HGMaruGothicMPRO'  # 日本語フォントを指定　\n",
    "# 上記フォントはOffice付属。ない場合は、https://goo.gl/bSttfR を参照して、IPAexGothic 等を指定\n",
    "# 　IPAフォント　http://ipafont.ipa.go.jp/old/ipafont/download.html\n",
    "plt.rcParams[\"figure.figsize\"] = [8, 6]\n",
    "plt.rcParams['font.size'] = 14 #フォントサイズを設定 default : 12\n",
    "plt.rcParams['xtick.labelsize'] = 15 # 横軸のフォントサイズ\n",
    "plt.rcParams['ytick.labelsize'] = 15\n",
    "\n",
    "# サブプロットを追加\n",
    "ax1 = fig.add_subplot(2,2,1)\n",
    "ax1.scatter(X['がく片の長さ'], X['がく片の幅'], c=y, cmap=plt.cm.Set1, edgecolor='k')\n",
    "\n",
    "plt.xlabel('がく片の長さ')\n",
    "plt.ylabel('がく辺の幅')\n",
    "plt.title('がく片の長さと幅の関係')\n",
    "plt.xlim(x1_min, x1_max)  # ｘ軸の最小と最大の指定\n",
    "plt.ylim(x2_min, x2_max)  # y軸の最小と最大の指定\n",
    "plt.xticks(()) # メモリはつけない、という意味\n",
    "plt.yticks(())\n",
    "\n",
    "ax2 =  fig.add_subplot(2,2,2)\n",
    "plt.title('花片の長さと幅の関係')\n",
    "# \n",
    "ax3 =  fig.add_subplot(2,2,3)\n",
    "plt.title('がく片の長さと花片の長さの関係')\n",
    "# \n",
    "ax4 =  fig.add_subplot(2,2,4)\n",
    "plt.title('がく片の幅と花片の幅の関係')\n",
    "\n",
    "plt.show()"
   ]
  },
  {
   "cell_type": "code",
   "execution_count": null,
   "metadata": {},
   "outputs": [],
   "source": []
  },
  {
   "cell_type": "markdown",
   "metadata": {},
   "source": [
    "- [iris データ](https://en.wikipedia.org/wiki/Iris_flower_data_set)\n",
    "\n",
    "- [Matplotlib.pyplotのplotの全引数を解説](http://own-search-and-study.xyz/2016/08/08/matplotlib-pyplot%E3%81%AEplot%E3%81%AE%E5%85%A8%E5%BC%95%E6%95%B0%E3%82%92%E4%BD%BF%E3%81%84%E3%81%93%E3%81%AA%E3%81%99/[()\n",
    "\n",
    "- [The Iris Dataset](http://scikit-learn.org/stable/auto_examples/datasets/plot_iris_dataset.html)\n"
   ]
  },
  {
   "cell_type": "markdown",
   "metadata": {},
   "source": [
    "http://qiita.com/danpansa/items/29cea2b14c0e4db237f8\n",
    "\n",
    "http://blog.kaggle.com/2015/04/22/scikit-learn-video-3-machine-learning-first-steps-with-the-iris-dataset/  \n",
    "\n",
    "![](http://5047-presscdn.pagely.netdna-cdn.com/wp-content/uploads/2015/04/iris_petal_sepal.png)"
   ]
  },
  {
   "cell_type": "code",
   "execution_count": null,
   "metadata": {},
   "outputs": [],
   "source": []
  },
  {
   "cell_type": "code",
   "execution_count": null,
   "metadata": {},
   "outputs": [],
   "source": []
  }
 ],
 "metadata": {
  "kernelspec": {
   "display_name": "Python 3",
   "language": "python",
   "name": "python3"
  },
  "language_info": {
   "codemirror_mode": {
    "name": "ipython",
    "version": 3
   },
   "file_extension": ".py",
   "mimetype": "text/x-python",
   "name": "python",
   "nbconvert_exporter": "python",
   "pygments_lexer": "ipython3",
   "version": "3.6.6"
  }
 },
 "nbformat": 4,
 "nbformat_minor": 2
}
