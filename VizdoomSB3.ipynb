{
  "nbformat": 4,
  "nbformat_minor": 0,
  "metadata": {
    "colab": {
      "name": "VizdoomSB3.ipynb",
      "provenance": [],
      "collapsed_sections": [],
      "authorship_tag": "ABX9TyMxFmgjb4RfcPpuoBfbFAcL",
      "include_colab_link": true
    },
    "kernelspec": {
      "name": "python3",
      "display_name": "Python 3"
    }
  },
  "cells": [
    {
      "cell_type": "markdown",
      "metadata": {
        "id": "view-in-github",
        "colab_type": "text"
      },
      "source": [
        "<a href=\"https://colab.research.google.com/github/aquapathos/MLLesson/blob/master/VizdoomSB3.ipynb\" target=\"_parent\"><img src=\"https://colab.research.google.com/assets/colab-badge.svg\" alt=\"Open In Colab\"/></a>"
      ]
    },
    {
      "cell_type": "code",
      "metadata": {
        "id": "UCKV7HMqcMgc",
        "colab": {
          "base_uri": "https://localhost:8080/"
        },
        "outputId": "b65f1f1c-4746-41f8-ca12-b95d3f1b3c70"
      },
      "source": [
        "!apt-get install libgtk2.0-dev libsdl2-dev -qq -y >/dev/null || exit 2\r\n",
        "!git clone https://github.com/shakenes/vizdoomgym.git\r\n",
        "%cd /content/vizdoomgym\r\n",
        "!pip install -e . >/dev/null || exit 2\r\n",
        "# 5以上かかります"
      ],
      "execution_count": 1,
      "outputs": [
        {
          "output_type": "stream",
          "text": [
            "fatal: destination path 'vizdoomgym' already exists and is not an empty directory.\n",
            "/content/vizdoomgym\n"
          ],
          "name": "stdout"
        }
      ]
    },
    {
      "cell_type": "code",
      "metadata": {
        "id": "4V_jPRFxM11y"
      },
      "source": [
        "!pip install wandb > /dev/null\r\n",
        "!pip install stable_baselines3 >/dev/null || exit 2"
      ],
      "execution_count": 2,
      "outputs": []
    },
    {
      "cell_type": "markdown",
      "metadata": {
        "id": "hvzCsMzTXE4e"
      },
      "source": [
        "## 註　専用ライブラリが必要です\r\n",
        "実行前に*mydoomenvs.py* をアップロードし、ランタイムをリセットして実行してください。（下につけておきますので、mydoomenv.pyという名で保存してください）\r\n",
        "\r\n",
        "アップロードしてあるのにライブラリがないと言われる場合があります。Colabはファイルの読み込み時にタイムラグがあるためだと思われますので、再度ランタイムのリセットを試してください。\r\n",
        "\r\n",
        "専用ライブラリには、２つのシナリオ、 'myVizdoomBasic-v0'\r\n",
        "と 'myVizdoomCorridor-v0'だけ入れてあります。\r\n",
        "\r\n",
        "ほかのシナリオが試したければ、Vizdoomの Github から取ってきて追加してください。少し修正が必要ですが、見ればわかるでしょう。\r\n"
      ]
    },
    {
      "cell_type": "code",
      "metadata": {
        "id": "W40ra-Tgb87Q"
      },
      "source": [
        "import gym\r\n",
        "import vizdoomgym\r\n",
        "import wandb\r\n",
        "import mydoomenvs\r\n",
        "from mydoomenvs import make_doom_env\r\n",
        "import cv2\r\n",
        "from google.colab.patches import cv2_imshow\r\n",
        "import numpy as np\r\n",
        "from PIL import Image"
      ],
      "execution_count": 5,
      "outputs": []
    },
    {
      "cell_type": "code",
      "metadata": {
        "id": "Igh3l5aScJ23"
      },
      "source": [
        "env = gym.make('myVizdoomBasic-v0', depth=True, labels=True, position=True, health=True)\r\n",
        "width = 320\r\n",
        "hight = 240\r\n",
        "observation = np.zeros((hight,width*3,3),dtype=np.uint8)\r\n",
        "state = env.reset()\r\n",
        "env.render()\r\n",
        "action = env.action_space.sample()\r\n",
        "state, reward, done, info = env.step(action)\r\n",
        "img = cv2.cvtColor(state[0],cv2.COLOR_RGB2BGR)\r\n",
        "depth = cv2.cvtColor(state[1],cv2.COLOR_GRAY2BGR)\r\n",
        "label = cv2.cvtColor(state[2],cv2.COLOR_GRAY2BGR)\r\n",
        "observation[:,:width,:]=img\r\n",
        "observation[:,width:width*2,:]=depth\r\n",
        "observation[:,width*2:width*3,:]=label\r\n",
        "Image.fromarray(observation)\r\n",
        "env.close()"
      ],
      "execution_count": 6,
      "outputs": []
    },
    {
      "cell_type": "markdown",
      "metadata": {
        "id": "fm_mHXJ9ikoQ"
      },
      "source": [
        "# オプションなし"
      ]
    },
    {
      "cell_type": "code",
      "metadata": {
        "colab": {
          "base_uri": "https://localhost:8080/"
        },
        "id": "9ckzhqQuiIlS",
        "outputId": "b7b6a372-cb77-482d-9d08-8676d7f476b7"
      },
      "source": [
        "env = gym.make('myVizdoomBasic-v0')\r\n",
        "env.reset().shape"
      ],
      "execution_count": 7,
      "outputs": [
        {
          "output_type": "execute_result",
          "data": {
            "text/plain": [
              "(240, 320, 3)"
            ]
          },
          "metadata": {
            "tags": []
          },
          "execution_count": 7
        }
      ]
    },
    {
      "cell_type": "markdown",
      "metadata": {
        "id": "9Cqn1XYmi2w5"
      },
      "source": [
        "オプションなしで環境を作った場合は、通常通り画像のみが返ってくる"
      ]
    },
    {
      "cell_type": "code",
      "metadata": {
        "colab": {
          "base_uri": "https://localhost:8080/"
        },
        "id": "udqP4XJSkh_s",
        "outputId": "d7305564-bab3-4c98-b929-823308328a88"
      },
      "source": [
        "env.action_space,env.get_keys_to_action()"
      ],
      "execution_count": 8,
      "outputs": [
        {
          "output_type": "execute_result",
          "data": {
            "text/plain": [
              "(Discrete(3),\n",
              " {(): 2, (97,): 0, (100,): 1, (101,): 6, (113,): 5, (115,): 4, (119,): 3})"
            ]
          },
          "metadata": {
            "tags": []
          },
          "execution_count": 8
        }
      ]
    },
    {
      "cell_type": "markdown",
      "metadata": {
        "id": "Xokz_J9jmM1u"
      },
      "source": [
        "アクションが３つしかない。左右とファイア。\r\n",
        "\r\n",
        "なお、環境によってアクション数は異なります。\r\n",
        "\r\n",
        "\r\n",
        "```\r\n",
        "        keys = {\r\n",
        "            (): 2,\r\n",
        "            (ord(\"a\"),): 0,\r\n",
        "            (ord(\"d\"),): 1,\r\n",
        "            (ord(\"w\"),): 3,\r\n",
        "            (ord(\"s\"),): 4,\r\n",
        "            (ord(\"q\"),): 5,\r\n",
        "            (ord(\"e\"),): 6,\r\n",
        "        }\r\n",
        "```\r\n",
        "97はA, 100はD　通常、Aは左、Dは右に使われるキーなので、\r\n",
        "0が左、１が右、とすれば、２がFIREか\r\n"
      ]
    },
    {
      "cell_type": "code",
      "metadata": {
        "colab": {
          "base_uri": "https://localhost:8080/",
          "height": 634
        },
        "id": "dTe5NFwf_lLw",
        "outputId": "70fdb494-38ba-4f1d-e936-57a0ff298459"
      },
      "source": [
        "env.reset()\r\n",
        "rw = []\r\n",
        "for i in range(10):\r\n",
        "  img,r,d,i = env.step(2)\r\n",
        "  rw.append(r)\r\n",
        "  cv2_imshow(cv2.resize(img[:,:,::-1],(80,60)))\r\n",
        "print(rw,info)"
      ],
      "execution_count": 10,
      "outputs": [
        {
          "output_type": "display_data",
          "data": {
            "image/png": "[encoded data removed]",
            "text/plain": [
              "<PIL.Image.Image image mode=RGB size=80x60 at 0x7F6B0529EFD0>"
            ]
          },
          "metadata": {
            "tags": []
          }
        },
        {
          "output_type": "display_data",
          "data": {
            "image/png": "[encoded data removed]",
            "text/plain": [
              "<PIL.Image.Image image mode=RGB size=80x60 at 0x7F6B0529EF98>"
            ]
          },
          "metadata": {
            "tags": []
          }
        },
        {
          "output_type": "display_data",
          "data": {
            "image/png": "[encoded data removed]",
            "text/plain": [
              "<PIL.Image.Image image mode=RGB size=80x60 at 0x7F6B0529EF60>"
            ]
          },
          "metadata": {
            "tags": []
          }
        },
        {
          "output_type": "display_data",
          "data": {
            "image/png": "[encoded data removed]",
            "text/plain": [
              "<PIL.Image.Image image mode=RGB size=80x60 at 0x7F6B0529EE48>"
            ]
          },
          "metadata": {
            "tags": []
          }
        },
        {
          "output_type": "display_data",
          "data": {
            "image/png": "[encoded data removed]",
            "text/plain": [
              "<PIL.Image.Image image mode=RGB size=80x60 at 0x7F6B0529E240>"
            ]
          },
          "metadata": {
            "tags": []
          }
        },
        {
          "output_type": "display_data",
          "data": {
            "image/png": "[encoded data removed]",
            "text/plain": [
              "<PIL.Image.Image image mode=RGB size=80x60 at 0x7F6B0529EF98>"
            ]
          },
          "metadata": {
            "tags": []
          }
        },
        {
          "output_type": "display_data",
          "data": {
            "image/png": "[encoded data removed]",
            "text/plain": [
              "<PIL.Image.Image image mode=RGB size=80x60 at 0x7F6B0529EF60>"
            ]
          },
          "metadata": {
            "tags": []
          }
        },
        {
          "output_type": "display_data",
          "data": {
            "image/png": "[encoded data removed]",
            "text/plain": [
              "<PIL.Image.Image image mode=RGB size=80x60 at 0x7F6B0529EE48>"
            ]
          },
          "metadata": {
            "tags": []
          }
        },
        {
          "output_type": "display_data",
          "data": {
            "image/png": "[encoded data removed]",
            "text/plain": [
              "<PIL.Image.Image image mode=RGB size=80x60 at 0x7F6B0529E240>"
            ]
          },
          "metadata": {
            "tags": []
          }
        },
        {
          "output_type": "display_data",
          "data": {
            "image/png": "[encoded data removed]",
            "text/plain": [
              "<PIL.Image.Image image mode=RGB size=80x60 at 0x7F6B0529EF98>"
            ]
          },
          "metadata": {
            "tags": []
          }
        },
        {
          "output_type": "stream",
          "text": [
            "[-1.0, -1.0, -1.0, -1.0, -6.0, -1.0, -1.0, -1.0, -1.0, -1.0] {'dummy': 0.0}\n"
          ],
          "name": "stdout"
        }
      ]
    },
    {
      "cell_type": "markdown",
      "metadata": {
        "id": "XESjtiJrPPeH"
      },
      "source": [
        "*トリガーを引いても、実際に弾が出るタイミングはずれる。*"
      ]
    },
    {
      "cell_type": "code",
      "metadata": {
        "id": "AZiaA5I5U3mm"
      },
      "source": [
        "env.game.get_state().screen_buffer.shape"
      ],
      "execution_count": null,
      "outputs": []
    },
    {
      "cell_type": "markdown",
      "metadata": {
        "id": "2gRx0FF9mL1s"
      },
      "source": [
        "# [シナリオ](https://github.com/shakenes/vizdoomgym/tree/master/vizdoomgym/envs/scenarios)\r\n",
        "\r\n",
        "## Basic 'myVizdoomBasic-v0'\r\n",
        "\r\n",
        "REWARDS:\r\n",
        "\r\n",
        "+101 モンスターを倒す  \r\n",
        " -5 タイムアウト・モンスターを倒したがエピソードが終了してしまった  \r\n",
        "時間経過 -1,\r\n",
        "\r\n",
        "ボタン：　0 左　1 右  2 Fire\r\n",
        "\r\n",
        "timeout = 300\r\n",
        "\r\n",
        "## DEADLY CORRIDOR  'myVizdoomCorridor-v0'\r\n",
        "\r\n",
        "REWARDS:\r\n",
        "\r\n",
        "通路の奥にある緑のベストに近づけば＋、遠ざかれば－の報酬。\r\n",
        "\r\n",
        "ボタン：７つ\r\n",
        "左を向く、右を向く、前進、後退、左移動、右移動、攻撃\r\n",
        "\r\n",
        "death penalty = 100\r\n",
        "\r\n",
        "doom_skill = 5　（全部で6匹モンスターがいるが、5匹殺さないとベストにたどり着いても死ぬ\r\n",
        "\r\n",
        "timeout = 2100\r\n",
        "\r\n",
        "\r\n",
        "\r\n"
      ]
    },
    {
      "cell_type": "markdown",
      "metadata": {
        "id": "_3R0te8jjKrt"
      },
      "source": [
        "# PPOによる強化学習の例"
      ]
    },
    {
      "cell_type": "code",
      "metadata": {
        "id": "kmPw2ZXFY5__"
      },
      "source": [
        "from stable_baselines3.common.vec_env import DummyVecEnv,SubprocVecEnv,VecFrameStack,VecEnv\r\n",
        "from stable_baselines3 import PPO\r\n",
        "from stable_baselines3.common.callbacks import BaseCallback\r\n",
        "import wandb,os\r\n",
        "import numpy as np\r\n",
        "import torch,gym\r\n",
        "device = torch.device('cuda:0' if torch.cuda.is_available() else 'cpu')\r\n",
        "print(repr(device))"
      ],
      "execution_count": null,
      "outputs": []
    },
    {
      "cell_type": "code",
      "metadata": {
        "id": "lCyNKXHxfoPL"
      },
      "source": [
        "# from stable_baselines3.common.env_util import make_atari_env,make_vec_env , make_vec_env #, AtariWrapper\r\n",
        "from stable_baselines3.common.vec_env import DummyVecEnv,SubprocVecEnv,VecFrameStack,VecEnv\r\n",
        "from mydoomenvs import make_doom_env\r\n",
        "\r\n",
        "env = make_doom_env( 'myVizdoomCorridor-v0', n_envs=4, seed=0,vec_env_cls=DummyVecEnv, monitor_dir= \"test\")\r\n",
        "env = VecFrameStack(env, n_stack=4)\r\n",
        "\r\n",
        "def render(env):\r\n",
        "  img = env.unwrapped.game.get_state().screen_buffer\r\n",
        "  return np.transpose(img, [1, 2, 0])\r\n",
        "\r\n",
        "from PIL import Image \r\n",
        "Image.fromarray(render(env.envs[0]))\r\n"
      ],
      "execution_count": null,
      "outputs": []
    },
    {
      "cell_type": "markdown",
      "metadata": {
        "id": "zfdGOpIgXPgW"
      },
      "source": [
        "vizdoomenv は通常の環境のように env.render(mode='rgb_array')では画像が返されないので注意"
      ]
    },
    {
      "cell_type": "code",
      "metadata": {
        "id": "6HqXvd2MZbbZ"
      },
      "source": [
        "log_dir ='/content/drive/MyDrive/M/vizdoom'\r\n",
        "\r\n",
        "# Inside my model training code \r\n",
        "!export WANDB_NOTEBOOK_NAME=\"VIZDOOM.ipynb\"\r\n",
        "import wandb\r\n",
        "PROJECTNAME='VizDoom'\r\n",
        "wandb.init(project=PROJECTNAME)"
      ],
      "execution_count": null,
      "outputs": []
    },
    {
      "cell_type": "code",
      "metadata": {
        "id": "LGXB-IRikcB2"
      },
      "source": [
        "from stable_baselines3.common.evaluation import evaluate_policy\r\n",
        "from mydoomenvs import recordModelCallback\r\n",
        "log_dir = \"test\"\r\n",
        "\r\n",
        "def ev(lr):\r\n",
        "    monargs={'usewandb':True}\r\n",
        "    env = make_doom_env('myVizdoomCorridor-v0', n_envs=8, seed=0,vec_env_cls=DummyVecEnv, monitor_dir=log_dir)\r\n",
        "    env = VecFrameStack(env, n_stack=8)   \r\n",
        "\r\n",
        "    model = PPO('CnnPolicy', env, verbose=0,device=device,        \r\n",
        "        learning_rate = lr,  # default  3e-4\r\n",
        "        gamma = 0.99,\r\n",
        "        n_steps = 2048, # 2048\r\n",
        "        clip_range = 0.2, # default 0.2\r\n",
        "        ent_coef = 0.01, # default 0.01\r\n",
        "        batch_size = 128, # 64\r\n",
        "        n_epochs = 8 ) # 4\r\n",
        "\r\n",
        "    # model.load('/content/drive/MyDrive/M/smb/best_model.zip')\r\n",
        "    callback = recordModelCallback(check_freq=50, log_dir=log_dir, usewandb=True)\r\n",
        "    total_timesteps = 1e7\r\n",
        "    %time model.learn(total_timesteps=total_timesteps,callback=callback)"
      ],
      "execution_count": null,
      "outputs": []
    },
    {
      "cell_type": "markdown",
      "metadata": {
        "id": "XaASB6e9ZBdA"
      },
      "source": [
        "学習実行"
      ]
    },
    {
      "cell_type": "code",
      "metadata": {
        "id": "Kmhb-W1_Q4jN"
      },
      "source": [
        "ev(2.5e-4)"
      ],
      "execution_count": null,
      "outputs": []
    },
    {
      "cell_type": "markdown",
      "metadata": {
        "id": "wtvxLlfgdBvx"
      },
      "source": [
        "<img width=\"441\" alt=\"v\" src=\"https://user-images.githubusercontent.com/5820803/104343711-9ff70a00-553f-11eb-98fe-9cc077ffb97f.png\">\r\n"
      ]
    },
    {
      "cell_type": "markdown",
      "metadata": {
        "id": "6LowRhjIZGIh"
      },
      "source": [
        "# 動画化"
      ]
    },
    {
      "cell_type": "code",
      "metadata": {
        "id": "GO-llTvfcJXG"
      },
      "source": [
        "\r\n",
        "env = make_doom_env('myVizdoomCorridor-v0', n_envs=1, seed=0,vec_env_cls=DummyVecEnv)\r\n",
        "env = VecFrameStack(env, n_stack=8) \r\n",
        "model = PPO('CnnPolicy',env)\r\n",
        "model = PPO.load('best.zip')\r\n",
        "\r\n",
        "def render(env):\r\n",
        "  img = env.unwrapped.game.get_state().screen_buffer\r\n",
        "  return np.transpose(img, [1, 2, 0])\r\n",
        "\r\n",
        "width,height = 320,240\r\n",
        "while True:\r\n",
        "  images = []\r\n",
        "  obs = env.reset()\r\n",
        "  img = render(env.envs[0])\r\n",
        "  if isinstance(img,np.ndarray):\r\n",
        "      images.append(img)\r\n",
        "  complete = False\r\n",
        "  wr = 0\r\n",
        "  while not complete:\r\n",
        "    action, _ = model.predict(obs)\r\n",
        "    obs, r, done ,info = env.step(action)\r\n",
        "    wr += r[0]\r\n",
        "    img = render(env.envs[0])\r\n",
        "    if isinstance(img,np.ndarray):\r\n",
        "        images.append(img)\r\n",
        "    if done[0]:\r\n",
        "      if wr > 300:\r\n",
        "          print(len(images),wr)\r\n",
        "          complete = True\r\n",
        "      break\r\n",
        "  if complete:\r\n",
        "      break"
      ],
      "execution_count": null,
      "outputs": []
    },
    {
      "cell_type": "markdown",
      "metadata": {
        "id": "nVEVBEeThlRd"
      },
      "source": [
        "# mp4動画化"
      ]
    },
    {
      "cell_type": "code",
      "metadata": {
        "id": "9gAMHbwjhkN7"
      },
      "source": [
        "frame_rate = 30.0  #FPS\r\n",
        "def timelaps(images,width,height):\r\n",
        "    fourcc = cv2.VideoWriter_fourcc('m','p','4','v')\r\n",
        "    video = cv2.VideoWriter('demo2.mp4', fourcc, frame_rate, (width, height))\r\n",
        "    for img in images:\r\n",
        "        video.write(img) \r\n",
        "    video.release()\r\n",
        "timelaps(images,width=width,height=height)"
      ],
      "execution_count": null,
      "outputs": []
    },
    {
      "cell_type": "markdown",
      "metadata": {
        "id": "-wsIddHKfU0N"
      },
      "source": [
        "**mydoomenvs.py**\r\n",
        "\r\n",
        "```\r\n",
        "\r\n",
        "from stable_baselines3.common.env_util import make_atari_env,make_vec_env , make_vec_env #, AtariWrapper\r\n",
        "from stable_baselines3.common.atari_wrappers import MaxAndSkipEnv #NoopResetEnv,EpisodicLifeEnv,\r\n",
        "from stable_baselines3.common.atari_wrappers import FireResetEnv,ClipRewardEnv # WarpFrame,\r\n",
        "from stable_baselines3.common.type_aliases import GymObs, GymStepReturn\r\n",
        "from stable_baselines3.common.monitor import Monitor\r\n",
        "from stable_baselines3.common.callbacks import BaseCallback\r\n",
        "from stable_baselines3.common.vec_env import DummyVecEnv,SubprocVecEnv,VecFrameStack,VecEnv\r\n",
        "from typing import List,Optional,Tuple,Union,Any, Callable, Dict,Type, Union\r\n",
        "#import gym_super_mario_bros\r\n",
        "from gym import spaces\r\n",
        "#from nes_py.wrappers import JoypadSpace\r\n",
        "import numpy as np,gym\r\n",
        "import os, cv2\r\n",
        "import wandb\r\n",
        "#from gym_super_mario_bros.actions import SIMPLE_MOVEMENT,COMPLEX_MOVEMENT,RIGHT_ONLY\r\n",
        "\r\n",
        "class WarpFrame(gym.ObservationWrapper):\r\n",
        "    def __init__(self, env: gym.Env, width: int = 84, height: int = 84):\r\n",
        "        gym.ObservationWrapper.__init__(self, env)\r\n",
        "        self.width = width\r\n",
        "        self.height = height\r\n",
        "        self.observation_space = spaces.Box(\r\n",
        "            low=0, high=255, shape=(self.height, self.width, 1), dtype=env.observation_space.dtype\r\n",
        "        )\r\n",
        "    def observation(self, frame: np.ndarray) -> np.ndarray:\r\n",
        "        frame = cv2.cvtColor(frame, cv2.COLOR_RGB2GRAY)\r\n",
        "        frame = cv2.resize(frame, (self.width, self.height), interpolation=cv2.INTER_AREA)\r\n",
        "        return frame[:, :, None] \r\n",
        "  \r\n",
        "class SMBWrapper(gym.Wrapper):\r\n",
        "    def __init__(\r\n",
        "        self,\r\n",
        "        env: gym.Env,\r\n",
        "        #noop_max: int = 30,\r\n",
        "        frame_skip: int = 4,\r\n",
        "        screen_sizeH: int = 90,\r\n",
        "        screen_sizeW: int = 120, \r\n",
        "        clip_reward: bool = False,\r\n",
        "    ):\r\n",
        "        #env = NoopResetEnv(env, noop_max=noop_max)\r\n",
        "        env = MaxAndSkipEnv(env, skip=frame_skip)\r\n",
        "        env = WarpFrame(env, width=screen_sizeW, height=screen_sizeH)\r\n",
        "        if clip_reward:\r\n",
        "            env = ClipRewardEnv(env)\r\n",
        "\r\n",
        "        super().__init__(env)\r\n",
        "\r\n",
        "def make_doom_env(\r\n",
        "    env_id: Union[str, Type[gym.Env]],\r\n",
        "    n_envs: int = 1,\r\n",
        "    seed: Optional[int] = None,\r\n",
        "    start_index: int = 0,\r\n",
        "    monitor_dir: Optional[str] = None,\r\n",
        "    wrapper_kwargs: Optional[Dict[str, Any]] = None,\r\n",
        "    env_kwargs: Optional[Dict[str, Any]] = None,\r\n",
        "    vec_env_cls: Optional[Union[DummyVecEnv, SubprocVecEnv]] = None,\r\n",
        "    vec_env_kwargs: Optional[Dict[str, Any]] = None,\r\n",
        ") -> VecEnv:\r\n",
        "\r\n",
        "    if wrapper_kwargs is None:\r\n",
        "        wrapper_kwargs = {}\r\n",
        "\r\n",
        "    def doom_wrapper(env: gym.Env) -> gym.Env:\r\n",
        "        env = SMBWrapper(env, **wrapper_kwargs)\r\n",
        "        return env\r\n",
        "\r\n",
        "    return SMBmake_vec_env(\r\n",
        "        env_id,\r\n",
        "        n_envs=n_envs,\r\n",
        "        seed=seed,\r\n",
        "        start_index=start_index,\r\n",
        "        monitor_dir=monitor_dir,\r\n",
        "        wrapper_class=doom_wrapper,\r\n",
        "        env_kwargs=env_kwargs,\r\n",
        "        vec_env_cls=vec_env_cls,\r\n",
        "        vec_env_kwargs=vec_env_kwargs,\r\n",
        "    )\r\n",
        "\r\n",
        "def SMBmake_vec_env(\r\n",
        "    env_id: Union[str, Type[gym.Env]],\r\n",
        "    n_envs: int = 1,\r\n",
        "    seed: Optional[int] = None,\r\n",
        "    start_index: int = 0,\r\n",
        "    monitor_dir: Optional[str] = None,\r\n",
        "    wrapper_class: Optional[Callable[[gym.Env], gym.Env]] = None,\r\n",
        "    env_kwargs: Optional[Dict[str, Any]] = None,\r\n",
        "    vec_env_cls: Optional[Type[Union[DummyVecEnv, SubprocVecEnv]]] = None,\r\n",
        "    vec_env_kwargs: Optional[Dict[str, Any]] = None,\r\n",
        ") -> VecEnv:\r\n",
        "\r\n",
        "    env_kwargs = {} if env_kwargs is None else env_kwargs\r\n",
        "    vec_env_kwargs = {} if vec_env_kwargs is None else vec_env_kwargs\r\n",
        "\r\n",
        "    def make_env(rank):\r\n",
        "        def _init():\r\n",
        "            if isinstance(env_id, str):\r\n",
        "                env = gym.make(env_id, **env_kwargs)\r\n",
        "            else:\r\n",
        "                env = env_id(**env_kwargs)\r\n",
        "            if seed is not None:\r\n",
        "                env.seed(seed + rank)\r\n",
        "                env.action_space.seed(seed + rank)\r\n",
        "            monitor_path = os.path.join(monitor_dir, str(rank)) if monitor_dir is not None else None\r\n",
        "            if monitor_path is not None:\r\n",
        "                os.makedirs(monitor_dir, exist_ok=True)\r\n",
        "            env = Monitor(env, filename=monitor_path)\r\n",
        "            if wrapper_class is not None:\r\n",
        "                env = wrapper_class(env)\r\n",
        "            return env\r\n",
        "\r\n",
        "        return _init\r\n",
        "\r\n",
        "    # No custom VecEnv is passed\r\n",
        "    if vec_env_cls is None:\r\n",
        "        # Default: use a DummyVecEnv\r\n",
        "        vec_env_cls = DummyVecEnv\r\n",
        "\r\n",
        "    return vec_env_cls([make_env(i + start_index) for i in range(n_envs)], **vec_env_kwargs)\r\n",
        "\r\n",
        "## 最適モデルの保存用のコールバック関数\r\n",
        "# make_atari_env() は内部でベクトル化前の環境をMonit()でラップして csv 形式のログを記録しているので、そこから直近の報酬データを取り出し、\r\n",
        "# 平均報酬最大尾も# 最適モデルの保存用のコールバック関数\r\n",
        "\r\n",
        "from stable_baselines3.common.callbacks import BaseCallback\r\n",
        "from stable_baselines3.common.results_plotter import load_results, ts2xy\r\n",
        "\r\n",
        "class recordModelCallback(BaseCallback):\r\n",
        "    def __init__(self, check_freq: int, log_dir: str, verbose=1, usewandb=False):\r\n",
        "        super().__init__(verbose)\r\n",
        "        self.check_freq = check_freq\r\n",
        "        self.log_dir = log_dir\r\n",
        "        self.save_path = os.path.join(log_dir, 'best_model')\r\n",
        "        self.best_mean_reward = -np.inf # 直近2*check_freqの平均スコアのベスト\r\n",
        "        self.usewandb=usewandb\r\n",
        "\r\n",
        "    def _init_callback(self) -> None:\r\n",
        "        if self.save_path is not None:\r\n",
        "            os.makedirs(self.log_dir, exist_ok=True)\r\n",
        "\r\n",
        "    def _on_step(self) -> bool:\r\n",
        "        if self.n_calls % self.check_freq == 0:\r\n",
        "          # スコアの検索\r\n",
        "          x, y = ts2xy(load_results(self.log_dir), 'timesteps')\r\n",
        "          self.logger.record('timesteps', self.num_timesteps)\r\n",
        "          self.logger.record('mean_reward', self.best_mean_reward)\r\n",
        "          if self.usewandb:\r\n",
        "            wandb.log({'mean_reward':self.best_mean_reward})\r\n",
        "            wandb.log({'timesteps':self.num_timesteps})\r\n",
        "          if len(x) > 0:\r\n",
        "              # 直近100lifeのスコアの平均\r\n",
        "              mean_reward = np.mean(y[-2*self.check_freq:])\r\n",
        "              if self.verbose > 0:\r\n",
        "                print(f\"Num timesteps: {self.num_timesteps} : \",end='')\r\n",
        "                print(f\"Best mean reward: {self.best_mean_reward:.2f} - Last mean reward/ep: {mean_reward:.2f}\")\r\n",
        "\r\n",
        "              # 直近の平均報酬が上昇した場合はモデルを保存\r\n",
        "              if mean_reward > self.best_mean_reward:\r\n",
        "                  self.best_mean_reward = mean_reward\r\n",
        "                  if self.verbose > 0:\r\n",
        "                    print(f\"Saving new best model to {self.save_path}.zip\")\r\n",
        "                  self.model.save(self.save_path)\r\n",
        "        return True\r\n",
        "\r\n",
        "#################################################\r\n",
        "from vizdoomgym.envs.vizdoomenv import VizdoomEnv \r\n",
        "from gym.envs.registration import register\r\n",
        "\r\n",
        "register(\r\n",
        "    id='myVizdoomBasic-v0',\r\n",
        "    entry_point='mydoomenvs:myVizdoomBasic'\r\n",
        ")\r\n",
        "\r\n",
        "register(\r\n",
        "    id='myVizdoomCorridor-v0',\r\n",
        "    entry_point='mydoomenvs:myVizdoomCorridor'\r\n",
        ")\r\n",
        "\r\n",
        "class myVizdoomEnv(VizdoomEnv):\r\n",
        "    def step(self, action):\r\n",
        "        # convert action to vizdoom action space (one hot)\r\n",
        "        act = np.zeros(self.action_space.n)\r\n",
        "        act[action] = 1\r\n",
        "        act = np.uint8(act)\r\n",
        "        act = act.tolist()\r\n",
        "\r\n",
        "        reward = self.game.make_action(act)\r\n",
        "        self.state = self.game.get_state()\r\n",
        "        done = self.game.is_episode_finished()\r\n",
        "        info = {\"dummy\": 0.0}\r\n",
        "\r\n",
        "        return self.__collect_observations(), reward, done, info\r\n",
        "\r\n",
        "    def __collect_observations(self):\r\n",
        "        observation = []\r\n",
        "        if self.state is not None:\r\n",
        "            observation.append(np.transpose(self.state.screen_buffer, (1, 2, 0)))\r\n",
        "            if self.depth:\r\n",
        "                observation.append(self.state.depth_buffer)\r\n",
        "            if self.labels:\r\n",
        "                observation.append(self.state.labels_buffer)\r\n",
        "            if self.position:\r\n",
        "                observation.append(\r\n",
        "                    np.array([self.state.game_variables[i] for i in range(4)])\r\n",
        "                )\r\n",
        "                if self.health:\r\n",
        "                    observation.append(self.state.game_variables[4])\r\n",
        "            elif self.health:\r\n",
        "                observation.append(self.state.game_variables[0])\r\n",
        "        else:\r\n",
        "            if type(self.observation_space) == spaces.box.Box:\r\n",
        "                space = self.observation_space\r\n",
        "                observation.append(np.zeros(space.shape, dtype=space.dtype))\r\n",
        "                # there is no state in the terminal step, so a \"zero observation is returned instead\"\r\n",
        "            else:\r\n",
        "                for space in self.observation_space:\r\n",
        "                    observation.append(np.zeros(space.shape, dtype=space.dtype))   \r\n",
        "\r\n",
        "        # if there is only one observation, return obs as array to sustain compatibility\r\n",
        "        if len(observation) == 1:\r\n",
        "            observation = observation[0]\r\n",
        "        return observation\r\n",
        "    def get_action_meanings(self):\r\n",
        "        return([\"FIRE\",\"LEFT\",\"RIGHT\"])\r\n",
        "\r\n",
        "class myVizdoomBasic(myVizdoomEnv):\r\n",
        "    def __init__(self, **kwargs):\r\n",
        "        super().__init__(0, **kwargs)\r\n",
        "\r\n",
        "class myVizdoomCorridor(myVizdoomEnv):\r\n",
        "    def __init__(self, **kwargs):\r\n",
        "        super().__init__(1, **kwargs)\r\n",
        "```"
      ]
    },
    {
      "cell_type": "code",
      "metadata": {
        "id": "GfZ40AJ5aThx"
      },
      "source": [
        ""
      ],
      "execution_count": null,
      "outputs": []
    }
  ]
}