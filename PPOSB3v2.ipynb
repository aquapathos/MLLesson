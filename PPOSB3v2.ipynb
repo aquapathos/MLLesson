{
  "nbformat": 4,
  "nbformat_minor": 0,
  "metadata": {
    "colab": {
      "name": "PPOSB3v2.ipynb",
      "provenance": [],
      "collapsed_sections": [],
      "authorship_tag": "ABX9TyMfwnm+EW06m4hiNvuXjYIn",
      "include_colab_link": true
    },
    "kernelspec": {
      "name": "python3",
      "display_name": "Python 3"
    },
    "accelerator": "GPU",
    "widgets": {
      "application/vnd.jupyter.widget-state+json": {
        "32ea062429e34ebb9c4692a321cc0515": {
          "model_module": "@jupyter-widgets/controls",
          "model_name": "VBoxModel",
          "state": {
            "_view_name": "VBoxView",
            "_dom_classes": [],
            "_model_name": "VBoxModel",
            "_view_module": "@jupyter-widgets/controls",
            "_model_module_version": "1.5.0",
            "_view_count": null,
            "_view_module_version": "1.5.0",
            "box_style": "",
            "layout": "IPY_MODEL_54257604812d4ed8aa0fbca857a6bf9f",
            "_model_module": "@jupyter-widgets/controls",
            "children": [
              "IPY_MODEL_b1cfc3ace1ae4f1abff147e222d430af",
              "IPY_MODEL_7756ebe5d4be493d859b406905029cec"
            ]
          }
        },
        "54257604812d4ed8aa0fbca857a6bf9f": {
          "model_module": "@jupyter-widgets/base",
          "model_name": "LayoutModel",
          "state": {
            "_view_name": "LayoutView",
            "grid_template_rows": null,
            "right": null,
            "justify_content": null,
            "_view_module": "@jupyter-widgets/base",
            "overflow": null,
            "_model_module_version": "1.2.0",
            "_view_count": null,
            "flex_flow": null,
            "width": null,
            "min_width": null,
            "border": null,
            "align_items": null,
            "bottom": null,
            "_model_module": "@jupyter-widgets/base",
            "top": null,
            "grid_column": null,
            "overflow_y": null,
            "overflow_x": null,
            "grid_auto_flow": null,
            "grid_area": null,
            "grid_template_columns": null,
            "flex": null,
            "_model_name": "LayoutModel",
            "justify_items": null,
            "grid_row": null,
            "max_height": null,
            "align_content": null,
            "visibility": null,
            "align_self": null,
            "height": null,
            "min_height": null,
            "padding": null,
            "grid_auto_rows": null,
            "grid_gap": null,
            "max_width": null,
            "order": null,
            "_view_module_version": "1.2.0",
            "grid_template_areas": null,
            "object_position": null,
            "object_fit": null,
            "grid_auto_columns": null,
            "margin": null,
            "display": null,
            "left": null
          }
        },
        "b1cfc3ace1ae4f1abff147e222d430af": {
          "model_module": "@jupyter-widgets/controls",
          "model_name": "LabelModel",
          "state": {
            "_view_name": "LabelView",
            "style": "IPY_MODEL_99f6ab869f8e40dfa77bf8d2a98252c4",
            "_dom_classes": [],
            "description": "",
            "_model_name": "LabelModel",
            "placeholder": "​",
            "_view_module": "@jupyter-widgets/controls",
            "_model_module_version": "1.5.0",
            "value": " 0.01MB of 0.01MB uploaded (0.00MB deduped)\r",
            "_view_count": null,
            "_view_module_version": "1.5.0",
            "description_tooltip": null,
            "_model_module": "@jupyter-widgets/controls",
            "layout": "IPY_MODEL_601fb0ab36c84e4598d6aee49cc10d74"
          }
        },
        "7756ebe5d4be493d859b406905029cec": {
          "model_module": "@jupyter-widgets/controls",
          "model_name": "FloatProgressModel",
          "state": {
            "_view_name": "ProgressView",
            "style": "IPY_MODEL_7f7c51d0418b4afeba784d76128433e6",
            "_dom_classes": [],
            "description": "",
            "_model_name": "FloatProgressModel",
            "bar_style": "",
            "max": 1,
            "_view_module": "@jupyter-widgets/controls",
            "_model_module_version": "1.5.0",
            "value": 1,
            "_view_count": null,
            "_view_module_version": "1.5.0",
            "orientation": "horizontal",
            "min": 0,
            "description_tooltip": null,
            "_model_module": "@jupyter-widgets/controls",
            "layout": "IPY_MODEL_05369b0cdcb84967b00641d4f1e89e5a"
          }
        },
        "99f6ab869f8e40dfa77bf8d2a98252c4": {
          "model_module": "@jupyter-widgets/controls",
          "model_name": "DescriptionStyleModel",
          "state": {
            "_view_name": "StyleView",
            "_model_name": "DescriptionStyleModel",
            "description_width": "",
            "_view_module": "@jupyter-widgets/base",
            "_model_module_version": "1.5.0",
            "_view_count": null,
            "_view_module_version": "1.2.0",
            "_model_module": "@jupyter-widgets/controls"
          }
        },
        "601fb0ab36c84e4598d6aee49cc10d74": {
          "model_module": "@jupyter-widgets/base",
          "model_name": "LayoutModel",
          "state": {
            "_view_name": "LayoutView",
            "grid_template_rows": null,
            "right": null,
            "justify_content": null,
            "_view_module": "@jupyter-widgets/base",
            "overflow": null,
            "_model_module_version": "1.2.0",
            "_view_count": null,
            "flex_flow": null,
            "width": null,
            "min_width": null,
            "border": null,
            "align_items": null,
            "bottom": null,
            "_model_module": "@jupyter-widgets/base",
            "top": null,
            "grid_column": null,
            "overflow_y": null,
            "overflow_x": null,
            "grid_auto_flow": null,
            "grid_area": null,
            "grid_template_columns": null,
            "flex": null,
            "_model_name": "LayoutModel",
            "justify_items": null,
            "grid_row": null,
            "max_height": null,
            "align_content": null,
            "visibility": null,
            "align_self": null,
            "height": null,
            "min_height": null,
            "padding": null,
            "grid_auto_rows": null,
            "grid_gap": null,
            "max_width": null,
            "order": null,
            "_view_module_version": "1.2.0",
            "grid_template_areas": null,
            "object_position": null,
            "object_fit": null,
            "grid_auto_columns": null,
            "margin": null,
            "display": null,
            "left": null
          }
        },
        "7f7c51d0418b4afeba784d76128433e6": {
          "model_module": "@jupyter-widgets/controls",
          "model_name": "ProgressStyleModel",
          "state": {
            "_view_name": "StyleView",
            "_model_name": "ProgressStyleModel",
            "description_width": "",
            "_view_module": "@jupyter-widgets/base",
            "_model_module_version": "1.5.0",
            "_view_count": null,
            "_view_module_version": "1.2.0",
            "bar_color": null,
            "_model_module": "@jupyter-widgets/controls"
          }
        },
        "05369b0cdcb84967b00641d4f1e89e5a": {
          "model_module": "@jupyter-widgets/base",
          "model_name": "LayoutModel",
          "state": {
            "_view_name": "LayoutView",
            "grid_template_rows": null,
            "right": null,
            "justify_content": null,
            "_view_module": "@jupyter-widgets/base",
            "overflow": null,
            "_model_module_version": "1.2.0",
            "_view_count": null,
            "flex_flow": null,
            "width": null,
            "min_width": null,
            "border": null,
            "align_items": null,
            "bottom": null,
            "_model_module": "@jupyter-widgets/base",
            "top": null,
            "grid_column": null,
            "overflow_y": null,
            "overflow_x": null,
            "grid_auto_flow": null,
            "grid_area": null,
            "grid_template_columns": null,
            "flex": null,
            "_model_name": "LayoutModel",
            "justify_items": null,
            "grid_row": null,
            "max_height": null,
            "align_content": null,
            "visibility": null,
            "align_self": null,
            "height": null,
            "min_height": null,
            "padding": null,
            "grid_auto_rows": null,
            "grid_gap": null,
            "max_width": null,
            "order": null,
            "_view_module_version": "1.2.0",
            "grid_template_areas": null,
            "object_position": null,
            "object_fit": null,
            "grid_auto_columns": null,
            "margin": null,
            "display": null,
            "left": null
          }
        }
      }
    }
  },
  "cells": [
    {
      "cell_type": "markdown",
      "metadata": {
        "id": "view-in-github",
        "colab_type": "text"
      },
      "source": [
        "<a href=\"https://colab.research.google.com/github/aquapathos/MLLesson/blob/master/PPOSB3v2.ipynb\" target=\"_parent\"><img src=\"https://colab.research.google.com/assets/colab-badge.svg\" alt=\"Open In Colab\"/></a>"
      ]
    },
    {
      "cell_type": "markdown",
      "metadata": {
        "id": "xJnQIrYELgZx"
      },
      "source": [
        "# Stable baselines3 のインストール\r\n",
        "Monitor() を改変したいので、ソースからインストール。"
      ]
    },
    {
      "cell_type": "code",
      "metadata": {
        "id": "o3LI1R8J8knS",
        "colab": {
          "base_uri": "https://localhost:8080/"
        },
        "outputId": "c7efd8fd-e951-4579-9f3d-0daac68979ed"
      },
      "source": [
        "%%bash\r\n",
        "git clone https://github.com/DLR-RM/stable-baselines3.git > /dev/null\r\n",
        "cd stable-baselines3 \r\n",
        "pip -q install -e . "
      ],
      "execution_count": 17,
      "outputs": [
        {
          "output_type": "stream",
          "text": [
            "fatal: destination path 'stable-baselines3' already exists and is not an empty directory.\n"
          ],
          "name": "stderr"
        }
      ]
    },
    {
      "cell_type": "markdown",
      "metadata": {
        "id": "ZxVTxrX4K3RW"
      },
      "source": [
        "stable-baselines3/stable_baselines3/common/monitor.py に次の2行を追加して保存（Cntrl+S)、ランタイムを再起動\r\n",
        "\r\n",
        "<img width=\"469\" alt=\"Monitor\" src=\"https://user-images.githubusercontent.com/5820803/104114390-462bef80-5347-11eb-95b3-d378677d5c38.png\">"
      ]
    },
    {
      "cell_type": "code",
      "metadata": {
        "id": "33kDiG7APzaf"
      },
      "source": [
        "# !pip install stable-baselines3[extra] > /dev/null   <- これでインストールできるが、monitor_kwargs が使えないため\r\n",
        "!pip install wandb > /dev/null"
      ],
      "execution_count": 18,
      "outputs": []
    },
    {
      "cell_type": "markdown",
      "metadata": {
        "id": "Aedfhs03gVtF"
      },
      "source": [
        "# Google Drive をマウント　モデル保存用"
      ]
    },
    {
      "cell_type": "code",
      "metadata": {
        "colab": {
          "base_uri": "https://localhost:8080/"
        },
        "id": "7fEc8ZufRP-U",
        "outputId": "02a9578b-cf54-432d-b5f7-aa481356703d"
      },
      "source": [
        "from google.colab import drive\n",
        "drive.mount('/content/drive')"
      ],
      "execution_count": 19,
      "outputs": [
        {
          "output_type": "stream",
          "text": [
            "Drive already mounted at /content/drive; to attempt to forcibly remount, call drive.mount(\"/content/drive\", force_remount=True).\n"
          ],
          "name": "stdout"
        }
      ]
    },
    {
      "cell_type": "markdown",
      "metadata": {
        "id": "esFJBYS7g3w0"
      },
      "source": [
        "# ライブラリ準備"
      ]
    },
    {
      "cell_type": "code",
      "metadata": {
        "id": "LVJ0qCc0Pxcb",
        "colab": {
          "base_uri": "https://localhost:8080/"
        },
        "outputId": "b82bb610-4310-4759-ad29-865a6d205d18"
      },
      "source": [
        "from stable_baselines3.common.env_util import make_atari_env\r\n",
        "from stable_baselines3.common.vec_env import DummyVecEnv,SubprocVecEnv,VecFrameStack\r\n",
        "from stable_baselines3 import PPO\r\n",
        "import wandb,os\r\n",
        "import numpy as np\r\n",
        "from stable_baselines3.common.callbacks import BaseCallback\r\n",
        "from stable_baselines3.common.results_plotter import load_results, ts2xy\r\n",
        "from stable_baselines3.common.monitor import Monitor\r\n",
        "import cv2\r\n",
        "from google.colab.patches import cv2_imshow\r\n",
        "from PIL import Image \r\n",
        "import torch\r\n",
        "device = torch.device('cuda:0' if torch.cuda.is_available() else 'cpu')\r\n",
        "print(repr(device))\r\n",
        "\r\n",
        "# Load the TensorBoard notebook extension テンソルボードも使えるが、WandBを使うことにするので、封印\r\n",
        "#%load_ext tensorboard\r\n",
        "#%tensorboard --logdir ./logsP --host 0.0.0.0\r\n",
        "log_dir = \"/content/drive/MyDrive/M/logsP2/\"\r\n",
        "#!rm -fr /content/drive/MyDrive/M/logsP2/*"
      ],
      "execution_count": 26,
      "outputs": [
        {
          "output_type": "stream",
          "text": [
            "device(type='cpu')\n"
          ],
          "name": "stdout"
        }
      ]
    },
    {
      "cell_type": "markdown",
      "metadata": {
        "id": "eRjY3KcDhbX_"
      },
      "source": [
        "# 基本\r\n",
        "\r\n",
        "- [env_utils](https://github.com/DLR-RM/stable-baselines3/blob/master/stable_baselines3/common/env_util.py) \r\n",
        "- [atari_wrappers.py](https://github.com/DLR-RM/stable-baselines3/blob/master/stable_baselines3/common/atari_wrappers.py)"
      ]
    },
    {
      "cell_type": "code",
      "metadata": {
        "colab": {
          "base_uri": "https://localhost:8080/",
          "height": 437
        },
        "id": "V_fMtWyWhfgh",
        "outputId": "9b97cc10-556a-4582-b978-c893639aa190"
      },
      "source": [
        "# インベーダ monitor_kwargs={'allow_early_resets':True}\r\n",
        "env_id = 'SpaceInvadersNoFrameskip-v4'\r\n",
        "env = make_atari_env(env_id, n_envs=4, seed=0,vec_env_cls=DummyVecEnv, wrapper_kwargs = {}, monitor_dir= log_dir,monitor_kwargs={'allow_early_resets':True})\r\n",
        "#env = make_atari_env(env_id, n_envs=1, seed=0,vec_env_cls=SubprocVecEnv, wrapper_kwargs = {}, monitor_dir= log_dir)\r\n",
        "Image.fromarray((env.render(mode='rgb_array')))"
      ],
      "execution_count": 31,
      "outputs": [
        {
          "output_type": "execute_result",
          "data": {
            "image/png": "[encoded data removed]",
            "text/plain": [
              "<PIL.Image.Image image mode=RGB size=320x420 at 0x7F83FF4A1208>"
            ]
          },
          "metadata": {
            "tags": []
          },
          "execution_count": 31
        }
      ]
    },
    {
      "cell_type": "markdown",
      "metadata": {
        "id": "08GYKhtxyUj3"
      },
      "source": [
        "# インベーダゲームのAction Spaceについて\r\n",
        "\r\n",
        " 'SpaceInvadersNoFrameskip-v4'のアクションスペースは、なぜか、Discrete(6)である。  \r\n",
        " Atariゲーム一般のアクション番号の意味は、[openai gym のソース](https://github.com/openai/gym/blob/master/gym/envs/atari/atari_env.py)を見ると、\r\n",
        "\r\n",
        "\r\n",
        " ACTION_MEANING = { 0: \"NOOP\", 1: \"FIRE\", 2: \"UP\", 3: \"RIGHT\", 4: \"LEFT\", 5: \"DOWN\", 6: \"UPRIGHT\", 7: \"UPLEFT\", 8: \"DOWNRIGHT\", 9: \"DOWNLEFT\", 10: \"UPFIRE\", 11: \"RIGHTFIRE\", 12: \"LEFTFIRE\", 13: \"DOWNFIRE\", 14: \"UPRIGHTFIRE\", 15: \"UPLEFTFIRE\", 16: \"DOWNRIGHTFIRE\", 17: \"DOWNLEFTFIRE\", }\r\n",
        "\r\n",
        " と定義されていて、５までだと、UP,DOWNが含まれることになる。\r\n",
        "\r\n",
        "env.unwrapped.get_action_meanings() で割り当てを調べてみると、"
      ]
    },
    {
      "cell_type": "code",
      "metadata": {
        "colab": {
          "base_uri": "https://localhost:8080/"
        },
        "id": "QKJRKcoHj4yt",
        "outputId": "5bbb3980-9c67-4be4-8fe8-d7dd1c4fa47e"
      },
      "source": [
        "import gym\r\n",
        "print(env.action_space)\r\n",
        "gym.make(env_id).unwrapped.get_action_meanings() "
      ],
      "execution_count": 32,
      "outputs": [
        {
          "output_type": "stream",
          "text": [
            "Discrete(6)\n"
          ],
          "name": "stdout"
        },
        {
          "output_type": "execute_result",
          "data": {
            "text/plain": [
              "['NOOP', 'FIRE', 'RIGHT', 'LEFT', 'RIGHTFIRE', 'LEFTFIRE']"
            ]
          },
          "metadata": {
            "tags": []
          },
          "execution_count": 32
        }
      ]
    },
    {
      "cell_type": "markdown",
      "metadata": {
        "id": "K1brdpuXpKuf"
      },
      "source": [
        "となっており、デフォルトの意味割り当てと違っているのがわかる。４，５は移動しながらのFIREが割り当てられているわけだが、簡単のためとネットのサイズを小さくするために、０～３を使うのが一般的。"
      ]
    },
    {
      "cell_type": "code",
      "metadata": {
        "colab": {
          "base_uri": "https://localhost:8080/",
          "height": 522
        },
        "id": "VJMV-OJUFSMo",
        "outputId": "943305ad-68a2-4b5d-9f61-b9ebd885fb5c"
      },
      "source": [
        "model = PPO('CnnPolicy', env, verbose=0)\r\n",
        "\r\n",
        "rs = 1\r\n",
        "obs = model.env.reset()\r\n",
        "for i in range(100):\r\n",
        "  action, _ = model.predict(obs)\r\n",
        "  obs, r, d ,i = model.env.step(action)\r\n",
        "  if sum(r) != 0:\r\n",
        "    rs += r\r\n",
        "    print(r,d,i)\r\n",
        "cv2_imshow(env.render(mode='rgb_array')[:,:,::-1]),\"総報酬=\",rs"
      ],
      "execution_count": 33,
      "outputs": [
        {
          "output_type": "stream",
          "text": [
            "[0. 1. 0. 0.] [False False False False] [{'ale.lives': 3}, {'ale.lives': 3}, {'ale.lives': 3}, {'ale.lives': 3}]\n",
            "[1. 0. 0. 0.] [False False False False] [{'ale.lives': 3}, {'ale.lives': 3}, {'ale.lives': 3}, {'ale.lives': 3}]\n",
            "[0. 0. 0. 1.] [False False False False] [{'ale.lives': 3}, {'ale.lives': 3}, {'ale.lives': 3}, {'ale.lives': 3}]\n",
            "[0. 0. 1. 0.] [False False False False] [{'ale.lives': 3}, {'ale.lives': 3}, {'ale.lives': 3}, {'ale.lives': 3}]\n"
          ],
          "name": "stdout"
        },
        {
          "output_type": "display_data",
          "data": {
            "image/png": "[encoded data removed]",
            "text/plain": [
              "<PIL.Image.Image image mode=RGB size=320x420 at 0x7F83FF4AF550>"
            ]
          },
          "metadata": {
            "tags": []
          }
        },
        {
          "output_type": "execute_result",
          "data": {
            "text/plain": [
              "(None, '総報酬=', array([2., 2., 2., 2.], dtype=float32))"
            ]
          },
          "metadata": {
            "tags": []
          },
          "execution_count": 33
        }
      ]
    },
    {
      "cell_type": "markdown",
      "metadata": {
        "id": "_v5U12uedGgj"
      },
      "source": [
        " make_atari_env() で作成した環境はデフォルトで **env = ClipRewardEnv(env)** でラップされているため、報酬はスコアではなくヒットした回数になっている。ただし、Monitor で記録されるのは、生のスコア。 "
      ]
    },
    {
      "cell_type": "code",
      "metadata": {
        "colab": {
          "base_uri": "https://localhost:8080/",
          "height": 1000,
          "referenced_widgets": [
            "32ea062429e34ebb9c4692a321cc0515",
            "54257604812d4ed8aa0fbca857a6bf9f",
            "b1cfc3ace1ae4f1abff147e222d430af",
            "7756ebe5d4be493d859b406905029cec",
            "99f6ab869f8e40dfa77bf8d2a98252c4",
            "601fb0ab36c84e4598d6aee49cc10d74",
            "7f7c51d0418b4afeba784d76128433e6",
            "05369b0cdcb84967b00641d4f1e89e5a"
          ]
        },
        "id": "3YWi3bp9gQOm",
        "outputId": "b20a0648-7b01-4423-9469-e97103b816f3"
      },
      "source": [
        "# Inside my model training code \r\n",
        "!export WANDB_NOTEBOOK_NAME=\"SB3.ipynb\"\r\n",
        "import wandb\r\n",
        "PROJECTNAME='SB3Inv'\r\n",
        "wandb.init(project=PROJECTNAME)"
      ],
      "execution_count": 35,
      "outputs": [
        {
          "output_type": "display_data",
          "data": {
            "text/html": [
              "Finishing last run (ID:3agbaem0) before initializing another..."
            ],
            "text/plain": [
              "<IPython.core.display.HTML object>"
            ]
          },
          "metadata": {
            "tags": []
          }
        },
        {
          "output_type": "display_data",
          "data": {
            "text/html": [
              "<br/>Waiting for W&B process to finish, PID 6231<br/>Program ended successfully."
            ],
            "text/plain": [
              "<IPython.core.display.HTML object>"
            ]
          },
          "metadata": {
            "tags": []
          }
        },
        {
          "output_type": "display_data",
          "data": {
            "application/vnd.jupyter.widget-view+json": {
              "model_id": "32ea062429e34ebb9c4692a321cc0515",
              "version_minor": 0,
              "version_major": 2
            },
            "text/plain": [
              "VBox(children=(Label(value=' 0.00MB of 0.00MB uploaded (0.00MB deduped)\\r'), FloatProgress(value=1.0, max=1.0)…"
            ]
          },
          "metadata": {
            "tags": []
          }
        },
        {
          "output_type": "display_data",
          "data": {
            "text/html": [
              "Find user logs for this run at: <code>/content/wandb/run-20210110_051154-3agbaem0/logs/debug.log</code>"
            ],
            "text/plain": [
              "<IPython.core.display.HTML object>"
            ]
          },
          "metadata": {
            "tags": []
          }
        },
        {
          "output_type": "display_data",
          "data": {
            "text/html": [
              "Find internal logs for this run at: <code>/content/wandb/run-20210110_051154-3agbaem0/logs/debug-internal.log</code>"
            ],
            "text/plain": [
              "<IPython.core.display.HTML object>"
            ]
          },
          "metadata": {
            "tags": []
          }
        },
        {
          "output_type": "display_data",
          "data": {
            "text/html": [
              "<h3>Run summary:</h3><br/><style>\n",
              "    table.wandb td:nth-child(1) { padding: 0 10px; text-align: right }\n",
              "    </style><table class=\"wandb\">\n",
              "<tr><td>ep_rew</td><td>60.0</td></tr><tr><td>ep_len</td><td>1139</td></tr><tr><td>_step</td><td>15</td></tr><tr><td>_runtime</td><td>357</td></tr><tr><td>_timestamp</td><td>1610255871</td></tr></table>"
            ],
            "text/plain": [
              "<IPython.core.display.HTML object>"
            ]
          },
          "metadata": {
            "tags": []
          }
        },
        {
          "output_type": "display_data",
          "data": {
            "text/html": [
              "<h3>Run history:</h3><br/><style>\n",
              "    table.wandb td:nth-child(1) { padding: 0 10px; text-align: right }\n",
              "    </style><table class=\"wandb\">\n",
              "<tr><td>ep_rew</td><td>▂▇▇█▂▄▇▂▄▅▂▄▄▁▄▂</td></tr><tr><td>ep_len</td><td>▁▄▅█▄▃▆▃▆▃▁▅▃▂▅▁</td></tr><tr><td>_step</td><td>▁▁▂▂▃▃▄▄▅▅▆▆▇▇██</td></tr><tr><td>_runtime</td><td>▁▂▂▃▃▃▄▅▅▆▆▆▇▇██</td></tr><tr><td>_timestamp</td><td>▁▂▂▃▃▃▄▅▅▆▆▆▇▇██</td></tr></table><br/>"
            ],
            "text/plain": [
              "<IPython.core.display.HTML object>"
            ]
          },
          "metadata": {
            "tags": []
          }
        },
        {
          "output_type": "display_data",
          "data": {
            "text/html": [
              "Synced 5 W&B file(s), 0 media file(s), 0 artifact file(s) and 0 other file(s)"
            ],
            "text/plain": [
              "<IPython.core.display.HTML object>"
            ]
          },
          "metadata": {
            "tags": []
          }
        },
        {
          "output_type": "display_data",
          "data": {
            "text/html": [
              "\n",
              "                    <br/>Synced <strong style=\"color:#cdcd00\">volcanic-eon-40</strong>: <a href=\"https://wandb.ai/aquapathos/SB3Inv/runs/3agbaem0\" target=\"_blank\">https://wandb.ai/aquapathos/SB3Inv/runs/3agbaem0</a><br/>\n",
              "                "
            ],
            "text/plain": [
              "<IPython.core.display.HTML object>"
            ]
          },
          "metadata": {
            "tags": []
          }
        },
        {
          "output_type": "display_data",
          "data": {
            "text/html": [
              "...Successfully finished last run (ID:3agbaem0). Initializing new run:<br/><br/>"
            ],
            "text/plain": [
              "<IPython.core.display.HTML object>"
            ]
          },
          "metadata": {
            "tags": []
          }
        },
        {
          "output_type": "display_data",
          "data": {
            "text/html": [
              "\n",
              "                Tracking run with wandb version 0.10.12<br/>\n",
              "                Syncing run <strong style=\"color:#cdcd00\">quiet-flower-41</strong> to <a href=\"https://wandb.ai\" target=\"_blank\">Weights & Biases</a> <a href=\"https://docs.wandb.com/integrations/jupyter.html\" target=\"_blank\">(Documentation)</a>.<br/>\n",
              "                Project page: <a href=\"https://wandb.ai/aquapathos/SB3Inv\" target=\"_blank\">https://wandb.ai/aquapathos/SB3Inv</a><br/>\n",
              "                Run page: <a href=\"https://wandb.ai/aquapathos/SB3Inv/runs/ox2j5uni\" target=\"_blank\">https://wandb.ai/aquapathos/SB3Inv/runs/ox2j5uni</a><br/>\n",
              "                Run data is saved locally in <code>/content/wandb/run-20210110_052015-ox2j5uni</code><br/><br/>\n",
              "            "
            ],
            "text/plain": [
              "<IPython.core.display.HTML object>"
            ]
          },
          "metadata": {
            "tags": []
          }
        },
        {
          "output_type": "execute_result",
          "data": {
            "text/plain": [
              "<wandb.sdk.wandb_run.Run at 0x7f83ff4a1860>"
            ],
            "text/html": [
              "<h1>Run(ox2j5uni)</h1><p></p><iframe src=\"https://wandb.ai/aquapathos/SB3Inv/runs/ox2j5uni\" style=\"border:none;width:100%;height:400px\"></iframe>"
            ]
          },
          "metadata": {
            "tags": []
          },
          "execution_count": 35
        }
      ]
    },
    {
      "cell_type": "code",
      "metadata": {
        "id": "3MaZfqZmRvtk",
        "colab": {
          "base_uri": "https://localhost:8080/"
        },
        "outputId": "b880f09e-fee6-418e-f38f-6d11319fcc46"
      },
      "source": [
        "env_id = 'SpaceInvadersNoFrameskip-v4'\r\n",
        "wrapper_kwargs = {'frame_skip':2,'terminal_on_life_loss':True,'clip_reward':True} \r\n",
        "#env = make_atari_env(env_id, n_envs=8, seed=0,vec_env_cls=SubprocVecEnv, monitor_dir= log_dir,wrapper_kwargs = wrapper_kwargs)\r\n",
        "env = make_atari_env(env_id, n_envs=8, seed=0,vec_env_cls=DummyVecEnv, wrapper_kwargs=wrapper_kwargs, monitor_dir= log_dir)\r\n",
        "env = VecFrameStack(env, n_stack=6)\r\n",
        "\r\n",
        "# 最適パラメータ https://github.com/DLR-RM/rl-baselines3-zoo/blob/master/hyperparams/ppo.yml\r\n",
        "model = PPO('CnnPolicy', env, verbose=1,device=device,        \r\n",
        "    learning_rate = 2.5e-4,  # default  3e-4\r\n",
        "    n_steps = 128, # 2048\r\n",
        "    clip_range = 0.1, # default 0.2\r\n",
        "    ent_coef = 0.01, # default 0.0\r\n",
        "    batch_size = 256, #64\r\n",
        "    n_epochs = 4 )\r\n",
        "\r\n",
        "total_timesteps = 1e4\r\n",
        "%time model.learn(total_timesteps=total_timesteps)\r\n",
        "# 追加学習\r\n",
        "#%time model.learn(total_timesteps=total_timesteps, reset_num_timesteps=False)"
      ],
      "execution_count": 37,
      "outputs": [
        {
          "output_type": "stream",
          "text": [
            "Using cpu device\n",
            "Wrapping the env in a VecTransposeImage.\n",
            "CPU times: user 1min 29s, sys: 1.16 s, total: 1min 31s\n",
            "Wall time: 1min 31s\n"
          ],
          "name": "stdout"
        },
        {
          "output_type": "execute_result",
          "data": {
            "text/plain": [
              "<stable_baselines3.ppo.ppo.PPO at 0x7f8400480470>"
            ]
          },
          "metadata": {
            "tags": []
          },
          "execution_count": 37
        }
      ]
    },
    {
      "cell_type": "markdown",
      "metadata": {
        "id": "0C_q0w6EcFFS"
      },
      "source": [
        "# 結果を動画化"
      ]
    },
    {
      "cell_type": "code",
      "metadata": {
        "id": "TJdBBgw4gh5N",
        "colab": {
          "base_uri": "https://localhost:8080/"
        },
        "outputId": "2fe6972a-e46b-4f53-e0ac-c2ecf7d7b859"
      },
      "source": [
        "import imageio\r\n",
        "import numpy as np\r\n",
        "\r\n",
        "model.load(\"/content/drive/MyDrive/M/logsP/SpaceInvadersBest_model\")\r\n",
        "#env8 = make_atari_env('SpaceInvadersNoFrameskip-v4', n_envs=8, seed=0,vec_env_cls=SubprocVecEnv, monitor_dir= log_dir)\r\n",
        "env = make_atari_env('SpaceInvadersNoFrameskip-v4', n_envs=8, seed=0,vec_env_cls=DummyVecEnv, monitor_dir= log_dir)\r\n",
        "env = VecFrameStack(env, n_stack=4)\r\n",
        "model.set_env(env8)\r\n",
        "\r\n",
        "images = []\r\n",
        "obs = model.env.reset()\r\n",
        "img = model.env.envs[0].render(mode='rgb_array')\r\n",
        "for i in range(1800):\r\n",
        "    images.append(img)\r\n",
        "    action, _ = model.predict(obs)\r\n",
        "    obs, _, _ ,_ = model.env.step(action)\r\n",
        "    img = model.env.envs[0].render(mode='rgb_array')\r\n",
        "\r\n",
        "#imageio.mimsave('/SpaceInvadersBes.gif', [np.array(img) for i, img in enumerate(images) if i%2 == 0], fps=29)"
      ],
      "execution_count": null,
      "outputs": [
        {
          "output_type": "stream",
          "text": [
            "Wrapping the env in a VecTransposeImage.\n"
          ],
          "name": "stdout"
        }
      ]
    },
    {
      "cell_type": "code",
      "metadata": {
        "id": "GE4ZKFFluJyH"
      },
      "source": [
        "frame_rate = 30.0  #FPS\r\n",
        "def timelaps(images,width,height):\r\n",
        "    fourcc = cv2.VideoWriter_fourcc('m','p','4','v')\r\n",
        "    video = cv2.VideoWriter('inveders.mp4', fourcc, frame_rate, (width, height))\r\n",
        "    for img in images:\r\n",
        "        video.write(img[:,:,::-1]) \r\n",
        "    video.release()\r\n",
        "    print(\"動画変換完了\")"
      ],
      "execution_count": null,
      "outputs": []
    },
    {
      "cell_type": "code",
      "metadata": {
        "colab": {
          "base_uri": "https://localhost:8080/"
        },
        "id": "paTMEaDyv7AK",
        "outputId": "6f64733e-1754-46b0-bdd7-3331bc8aeeae"
      },
      "source": [
        "timelaps(images,160,210)"
      ],
      "execution_count": null,
      "outputs": [
        {
          "output_type": "stream",
          "text": [
            "動画変換中...\n",
            "動画変換完了\n"
          ],
          "name": "stdout"
        }
      ]
    },
    {
      "cell_type": "code",
      "metadata": {
        "colab": {
          "base_uri": "https://localhost:8080/",
          "height": 244
        },
        "id": "xcZ4w8QLygdL",
        "outputId": "195e2f89-39dd-44f0-ddda-7fcdb4b3b150"
      },
      "source": [
        "cv2_imshow(images[0][:,:,::-1]),len(images)"
      ],
      "execution_count": null,
      "outputs": [
        {
          "output_type": "display_data",
          "data": {
            "image/png": "[encoded data removed]",
            "text/plain": [
              "<PIL.Image.Image image mode=RGB size=160x210 at 0x7FB00AA4A588>"
            ]
          },
          "metadata": {
            "tags": []
          }
        },
        {
          "output_type": "execute_result",
          "data": {
            "text/plain": [
              "(None, 600)"
            ]
          },
          "metadata": {
            "tags": []
          },
          "execution_count": 58
        }
      ]
    },
    {
      "cell_type": "code",
      "metadata": {
        "colab": {
          "base_uri": "https://localhost:8080/"
        },
        "id": "o88u2Gee1l0E",
        "outputId": "3088d2b2-b6c5-4007-b6d7-0183e08ce2e8"
      },
      "source": [
        "import imageio\r\n",
        "import numpy as np\r\n",
        "\r\n",
        "model.load(\"/content/drive/MyDrive/M/logsP/SpaceInvadersBest_model\")\r\n",
        "#env8 = make_atari_env('SpaceInvadersNoFrameskip-v4', n_envs=8, seed=0,vec_env_cls=SubprocVecEnv, monitor_dir= log_dir)\r\n",
        "env8 = make_atari_env('SpaceInvadersNoFrameskip-v4', n_envs=8, seed=0,vec_env_cls=DummyVecEnv, monitor_dir= log_dir)\r\n",
        "env8 = VecFrameStack(env8, n_stack=4)\r\n",
        "model.set_env(env8)\r\n",
        "\r\n",
        "images = []\r\n",
        "obs = model.env.reset()\r\n",
        "img = model.env.render(mode='rgb_array')[:420,:320]\r\n",
        "for i in range(1800):\r\n",
        "    images.append(img)\r\n",
        "    action, _ = model.predict(obs)\r\n",
        "    obs, _, _ ,_ = model.env.step(action)\r\n",
        "    img = model.env.render(mode='rgb_array')[:420,:320]\r\n",
        "\r\n",
        "#imageio.mimsave('/SpaceInvadersBes.gif', [np.array(img) for i, img in enumerate(images) if i%2 == 0], fps=29)"
      ],
      "execution_count": null,
      "outputs": [
        {
          "output_type": "stream",
          "text": [
            "Wrapping the env in a VecTransposeImage.\n"
          ],
          "name": "stdout"
        }
      ]
    },
    {
      "cell_type": "code",
      "metadata": {
        "colab": {
          "base_uri": "https://localhost:8080/"
        },
        "id": "rjvP1kFn4yFg",
        "outputId": "96574094-48fb-47e8-c363-b9d95f08f383"
      },
      "source": [
        "timelaps(images,320,420)"
      ],
      "execution_count": null,
      "outputs": [
        {
          "output_type": "stream",
          "text": [
            "動画変換中...\n",
            "動画変換完了\n"
          ],
          "name": "stdout"
        }
      ]
    },
    {
      "cell_type": "code",
      "metadata": {
        "id": "sjeyWguZ5U-P"
      },
      "source": [
        ""
      ],
      "execution_count": null,
      "outputs": []
    }
  ]
}