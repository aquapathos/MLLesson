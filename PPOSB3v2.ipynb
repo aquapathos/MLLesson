{
  "nbformat": 4,
  "nbformat_minor": 0,
  "metadata": {
    "colab": {
      "name": "PPOSB3v2.ipynb",
      "provenance": [],
      "collapsed_sections": [],
      "authorship_tag": "ABX9TyMQXBovviJ3bYPMgxXv0+XJ",
      "include_colab_link": true
    },
    "kernelspec": {
      "name": "python3",
      "display_name": "Python 3"
    },
    "accelerator": "GPU"
  },
  "cells": [
    {
      "cell_type": "markdown",
      "metadata": {
        "id": "view-in-github",
        "colab_type": "text"
      },
      "source": [
        "<a href=\"https://colab.research.google.com/github/aquapathos/MLLesson/blob/master/PPOSB3v2.ipynb\" target=\"_parent\"><img src=\"https://colab.research.google.com/assets/colab-badge.svg\" alt=\"Open In Colab\"/></a>"
      ]
    },
    {
      "cell_type": "markdown",
      "metadata": {
        "id": "xJnQIrYELgZx"
      },
      "source": [
        "# Stable baselines3 のインストール\r\n",
        "Monitor() を改変したいので、ソースからインストール。"
      ]
    },
    {
      "cell_type": "code",
      "metadata": {
        "id": "o3LI1R8J8knS",
        "colab": {
          "base_uri": "https://localhost:8080/"
        },
        "outputId": "a5b7df9c-e6ac-4ad5-d42c-4c6c0893f32d"
      },
      "source": [
        "%%bash\r\n",
        "git clone https://github.com/DLR-RM/stable-baselines3.git > /dev/null\r\n",
        "cd stable-baselines3 \r\n",
        "pip -q install -e . "
      ],
      "execution_count": 1,
      "outputs": [
        {
          "output_type": "stream",
          "text": [
            "fatal: destination path 'stable-baselines3' already exists and is not an empty directory.\n"
          ],
          "name": "stderr"
        }
      ]
    },
    {
      "cell_type": "markdown",
      "metadata": {
        "id": "ZxVTxrX4K3RW"
      },
      "source": [
        "stable-baselines3/stable_baselines3/common/monitor.py に次の2行を追加して保存（Cntrl+S)、ランタイムを再起動\r\n",
        "\r\n",
        "<img width=\"473\" alt=\"Monitor\" src=\"https://user-images.githubusercontent.com/5820803/104115466-079c3200-5353-11eb-97b9-a9386345008c.png\">\r\n",
        "\r\n"
      ]
    },
    {
      "cell_type": "code",
      "metadata": {
        "id": "33kDiG7APzaf"
      },
      "source": [
        "# !pip install stable-baselines3[extra] > /dev/null   <- これでインストールできるが、monitor_kwargs が使えないため\r\n",
        "!pip install wandb > /dev/null"
      ],
      "execution_count": 2,
      "outputs": []
    },
    {
      "cell_type": "markdown",
      "metadata": {
        "id": "Aedfhs03gVtF"
      },
      "source": [
        "# Google Drive をマウント　モデル保存用"
      ]
    },
    {
      "cell_type": "code",
      "metadata": {
        "colab": {
          "base_uri": "https://localhost:8080/"
        },
        "id": "7fEc8ZufRP-U",
        "outputId": "af9b6d40-9736-4488-86e0-23f0537c2e6b"
      },
      "source": [
        "from google.colab import drive\n",
        "drive.mount('/content/drive')"
      ],
      "execution_count": 3,
      "outputs": [
        {
          "output_type": "stream",
          "text": [
            "Drive already mounted at /content/drive; to attempt to forcibly remount, call drive.mount(\"/content/drive\", force_remount=True).\n"
          ],
          "name": "stdout"
        }
      ]
    },
    {
      "cell_type": "markdown",
      "metadata": {
        "id": "esFJBYS7g3w0"
      },
      "source": [
        "# ライブラリ準備"
      ]
    },
    {
      "cell_type": "code",
      "metadata": {
        "id": "LVJ0qCc0Pxcb",
        "colab": {
          "base_uri": "https://localhost:8080/"
        },
        "outputId": "1d95f9dc-9370-437c-b66b-4618af14fa95"
      },
      "source": [
        "from stable_baselines3.common.env_util import make_atari_env\r\n",
        "from stable_baselines3.common.vec_env import DummyVecEnv,SubprocVecEnv,VecFrameStack\r\n",
        "from stable_baselines3 import PPO\r\n",
        "import wandb,os\r\n",
        "import numpy as np\r\n",
        "from stable_baselines3.common.callbacks import BaseCallback\r\n",
        "from stable_baselines3.common.results_plotter import load_results, ts2xy\r\n",
        "from stable_baselines3.common.monitor import Monitor\r\n",
        "import cv2\r\n",
        "from google.colab.patches import cv2_imshow\r\n",
        "from PIL import Image \r\n",
        "import torch\r\n",
        "device = torch.device('cuda:0' if torch.cuda.is_available() else 'cpu')\r\n",
        "print(repr(device))\r\n",
        "\r\n",
        "# Load the TensorBoard notebook extension テンソルボードも使えるが、WandBを使うことにするので、封印\r\n",
        "#%load_ext tensorboard\r\n",
        "#%tensorboard --logdir ./logsP --host 0.0.0.0\r\n",
        "log_dir = \"/content/drive/MyDrive/M/logsP2/\"\r\n",
        "#!rm -fr /content/drive/MyDrive/M/logsP2/*"
      ],
      "execution_count": 1,
      "outputs": [
        {
          "output_type": "stream",
          "text": [
            "device(type='cpu')\n"
          ],
          "name": "stdout"
        }
      ]
    },
    {
      "cell_type": "markdown",
      "metadata": {
        "id": "eRjY3KcDhbX_"
      },
      "source": [
        "# 基本\r\n",
        "\r\n",
        "- [env_utils](https://github.com/DLR-RM/stable-baselines3/blob/master/stable_baselines3/common/env_util.py) \r\n",
        "- [atari_wrappers.py](https://github.com/DLR-RM/stable-baselines3/blob/master/stable_baselines3/common/atari_wrappers.py)"
      ]
    },
    {
      "cell_type": "code",
      "metadata": {
        "colab": {
          "base_uri": "https://localhost:8080/",
          "height": 437
        },
        "id": "V_fMtWyWhfgh",
        "outputId": "3ea6f067-363a-4e30-fe52-30576060cfbc"
      },
      "source": [
        "# インベーダ monitor_kwargs={'allow_early_resets':True}\r\n",
        "env_id = 'SpaceInvadersNoFrameskip-v4'\r\n",
        "env = make_atari_env(env_id, n_envs=4, seed=0,vec_env_cls=DummyVecEnv, wrapper_kwargs = {}, monitor_dir= log_dir,monitor_kwargs={'allow_early_resets':True})\r\n",
        "#env = make_atari_env(env_id, n_envs=1, seed=0,vec_env_cls=SubprocVecEnv, wrapper_kwargs = {}, monitor_dir= log_dir)\r\n",
        "Image.fromarray((env.render(mode='rgb_array')))"
      ],
      "execution_count": 2,
      "outputs": [
        {
          "output_type": "execute_result",
          "data": {
            "image/png": "[encoded data removed]",
            "text/plain": [
              "<PIL.Image.Image image mode=RGB size=320x420 at 0x7F2F5FC55940>"
            ]
          },
          "metadata": {
            "tags": []
          },
          "execution_count": 2
        }
      ]
    },
    {
      "cell_type": "markdown",
      "metadata": {
        "id": "08GYKhtxyUj3"
      },
      "source": [
        "# インベーダゲームのAction Spaceについて\r\n",
        "\r\n",
        " 'SpaceInvadersNoFrameskip-v4'のアクションスペースは、なぜか、Discrete(6)である。  \r\n",
        " Atariゲーム一般のアクション番号の意味は、[openai gym のソース](https://github.com/openai/gym/blob/master/gym/envs/atari/atari_env.py)を見ると、\r\n",
        "\r\n",
        "\r\n",
        " ACTION_MEANING = { 0: \"NOOP\", 1: \"FIRE\", 2: \"UP\", 3: \"RIGHT\", 4: \"LEFT\", 5: \"DOWN\", 6: \"UPRIGHT\", 7: \"UPLEFT\", 8: \"DOWNRIGHT\", 9: \"DOWNLEFT\", 10: \"UPFIRE\", 11: \"RIGHTFIRE\", 12: \"LEFTFIRE\", 13: \"DOWNFIRE\", 14: \"UPRIGHTFIRE\", 15: \"UPLEFTFIRE\", 16: \"DOWNRIGHTFIRE\", 17: \"DOWNLEFTFIRE\", }\r\n",
        "\r\n",
        " と定義されていて、５までだと、UP,DOWNが含まれることになる。\r\n",
        "\r\n",
        "env.unwrapped.get_action_meanings() で割り当てを調べてみると、"
      ]
    },
    {
      "cell_type": "code",
      "metadata": {
        "colab": {
          "base_uri": "https://localhost:8080/"
        },
        "id": "QKJRKcoHj4yt",
        "outputId": "c3e4615e-f942-4851-c4a6-2d6b7778f35c"
      },
      "source": [
        "import gym\r\n",
        "print(env.action_space)\r\n",
        "gym.make(env_id).unwrapped.get_action_meanings() "
      ],
      "execution_count": 3,
      "outputs": [
        {
          "output_type": "stream",
          "text": [
            "Discrete(6)\n"
          ],
          "name": "stdout"
        },
        {
          "output_type": "execute_result",
          "data": {
            "text/plain": [
              "['NOOP', 'FIRE', 'RIGHT', 'LEFT', 'RIGHTFIRE', 'LEFTFIRE']"
            ]
          },
          "metadata": {
            "tags": []
          },
          "execution_count": 3
        }
      ]
    },
    {
      "cell_type": "markdown",
      "metadata": {
        "id": "K1brdpuXpKuf"
      },
      "source": [
        "となっており、デフォルトの意味割り当てと違っているのがわかる。４，５は移動しながらのFIREが割り当てられているわけだが、簡単のためとネットのサイズを小さくするために、０～３を使うのが一般的。"
      ]
    },
    {
      "cell_type": "code",
      "metadata": {
        "colab": {
          "base_uri": "https://localhost:8080/",
          "height": 573
        },
        "id": "VJMV-OJUFSMo",
        "outputId": "9caa59d7-0285-42e6-cb48-415af469af68"
      },
      "source": [
        "model = PPO('CnnPolicy', env, verbose=0)\r\n",
        "\r\n",
        "rs = 1\r\n",
        "obs = model.env.reset()\r\n",
        "for i in range(100):\r\n",
        "  action, _ = model.predict(obs)\r\n",
        "  obs, r, d ,i = model.env.step(action)\r\n",
        "  if sum(r) != 0:\r\n",
        "    rs += r\r\n",
        "    print(r,d,i)\r\n",
        "cv2_imshow(env.render(mode='rgb_array')[:,:,::-1]),\"総報酬=\",rs"
      ],
      "execution_count": 4,
      "outputs": [
        {
          "output_type": "stream",
          "text": [
            "[0. 1. 0. 0.] [False False False False] [{'ale.lives': 3}, {'ale.lives': 3}, {'ale.lives': 3}, {'ale.lives': 3}]\n",
            "[0. 0. 1. 0.] [False False False False] [{'ale.lives': 3}, {'ale.lives': 3}, {'ale.lives': 3}, {'ale.lives': 3}]\n",
            "[0. 0. 1. 0.] [False False False False] [{'ale.lives': 3}, {'ale.lives': 3}, {'ale.lives': 3}, {'ale.lives': 3}]\n",
            "[0. 1. 0. 0.] [False False False False] [{'ale.lives': 3}, {'ale.lives': 3}, {'ale.lives': 3}, {'ale.lives': 3}]\n",
            "[0. 0. 0. 1.] [False False False False] [{'ale.lives': 3}, {'ale.lives': 3}, {'ale.lives': 3}, {'ale.lives': 3}]\n",
            "[0. 1. 0. 0.] [False False False False] [{'ale.lives': 3}, {'ale.lives': 3}, {'ale.lives': 3}, {'ale.lives': 3}]\n",
            "[0. 0. 1. 0.] [False False False False] [{'ale.lives': 3}, {'ale.lives': 3}, {'ale.lives': 3}, {'ale.lives': 3}]\n"
          ],
          "name": "stdout"
        },
        {
          "output_type": "display_data",
          "data": {
            "image/png": "[encoded data removed]",
            "text/plain": [
              "<PIL.Image.Image image mode=RGB size=320x420 at 0x7F2F5F628198>"
            ]
          },
          "metadata": {
            "tags": []
          }
        },
        {
          "output_type": "execute_result",
          "data": {
            "text/plain": [
              "(None, '総報酬=', array([1., 4., 4., 2.], dtype=float32))"
            ]
          },
          "metadata": {
            "tags": []
          },
          "execution_count": 4
        }
      ]
    },
    {
      "cell_type": "markdown",
      "metadata": {
        "id": "_v5U12uedGgj"
      },
      "source": [
        " make_atari_env() で作成した環境はデフォルトで **env = ClipRewardEnv(env)** でラップされているため、報酬はスコアではなくヒットした回数になっている。ただし、Monitor で記録されるのは、生のスコア。 "
      ]
    },
    {
      "cell_type": "code",
      "metadata": {
        "colab": {
          "base_uri": "https://localhost:8080/",
          "height": 599
        },
        "id": "3YWi3bp9gQOm",
        "outputId": "e79dc717-1a9c-405b-caa1-bb74afe2155a"
      },
      "source": [
        "# Inside my model training code \r\n",
        "!export WANDB_NOTEBOOK_NAME=\"SB3.ipynb\"\r\n",
        "import wandb\r\n",
        "PROJECTNAME='SB3Inv'\r\n",
        "wandb.init(project=PROJECTNAME)"
      ],
      "execution_count": 5,
      "outputs": [
        {
          "output_type": "stream",
          "text": [
            "\u001b[34m\u001b[1mwandb\u001b[0m: Currently logged in as: \u001b[33maquapathos\u001b[0m (use `wandb login --relogin` to force relogin)\n"
          ],
          "name": "stderr"
        },
        {
          "output_type": "display_data",
          "data": {
            "text/html": [
              "\n",
              "                Tracking run with wandb version 0.10.12<br/>\n",
              "                Syncing run <strong style=\"color:#cdcd00\">serene-monkey-44</strong> to <a href=\"https://wandb.ai\" target=\"_blank\">Weights & Biases</a> <a href=\"https://docs.wandb.com/integrations/jupyter.html\" target=\"_blank\">(Documentation)</a>.<br/>\n",
              "                Project page: <a href=\"https://wandb.ai/aquapathos/SB3Inv\" target=\"_blank\">https://wandb.ai/aquapathos/SB3Inv</a><br/>\n",
              "                Run page: <a href=\"https://wandb.ai/aquapathos/SB3Inv/runs/3myrlwh8\" target=\"_blank\">https://wandb.ai/aquapathos/SB3Inv/runs/3myrlwh8</a><br/>\n",
              "                Run data is saved locally in <code>/content/wandb/run-20210110_055039-3myrlwh8</code><br/><br/>\n",
              "            "
            ],
            "text/plain": [
              "<IPython.core.display.HTML object>"
            ]
          },
          "metadata": {
            "tags": []
          }
        },
        {
          "output_type": "execute_result",
          "data": {
            "text/plain": [
              "<wandb.sdk.wandb_run.Run at 0x7f2f5be11128>"
            ],
            "text/html": [
              "<h1>Run(3myrlwh8)</h1><p></p><iframe src=\"https://wandb.ai/aquapathos/SB3Inv/runs/3myrlwh8\" style=\"border:none;width:100%;height:400px\"></iframe>"
            ]
          },
          "metadata": {
            "tags": []
          },
          "execution_count": 5
        }
      ]
    },
    {
      "cell_type": "code",
      "metadata": {
        "id": "3MaZfqZmRvtk"
      },
      "source": [
        "env_id = 'SpaceInvadersNoFrameskip-v4'\r\n",
        "wrapper_kwargs = {'frame_skip':2,'terminal_on_life_loss':True,'clip_reward':True} \r\n",
        "#env = make_atari_env(env_id, n_envs=8, seed=0,vec_env_cls=SubprocVecEnv, monitor_dir= log_dir,wrapper_kwargs = wrapper_kwargs)\r\n",
        "env = make_atari_env(env_id, n_envs=8, seed=0,vec_env_cls=DummyVecEnv, wrapper_kwargs=wrapper_kwargs, monitor_dir= log_dir)\r\n",
        "env = VecFrameStack(env, n_stack=6)\r\n",
        "\r\n",
        "# 最適パラメータ https://github.com/DLR-RM/rl-baselines3-zoo/blob/master/hyperparams/ppo.yml\r\n",
        "model = PPO('CnnPolicy', env, verbose=0,device=device,        \r\n",
        "    learning_rate = 2.5e-4,  # default  3e-4\r\n",
        "    n_steps = 128, # 2048\r\n",
        "    clip_range = 0.1, # default 0.2\r\n",
        "    ent_coef = 0.01, # default 0.0\r\n",
        "    batch_size = 256, #64\r\n",
        "    n_epochs = 4 )\r\n",
        "\r\n",
        "total_timesteps = 1e7\r\n",
        "%time model.learn(total_timesteps=total_timesteps)\r\n",
        "# 追加学習\r\n",
        "#%time model.learn(total_timesteps=total_timesteps, reset_num_timesteps=False)"
      ],
      "execution_count": null,
      "outputs": []
    },
    {
      "cell_type": "markdown",
      "metadata": {
        "id": "0C_q0w6EcFFS"
      },
      "source": [
        "# 結果を動画化"
      ]
    },
    {
      "cell_type": "code",
      "metadata": {
        "id": "TJdBBgw4gh5N",
        "colab": {
          "base_uri": "https://localhost:8080/"
        },
        "outputId": "2fe6972a-e46b-4f53-e0ac-c2ecf7d7b859"
      },
      "source": [
        "import imageio\r\n",
        "import numpy as np\r\n",
        "\r\n",
        "model.load(\"/content/drive/MyDrive/M/logsP/SpaceInvadersBest_model\")\r\n",
        "#env8 = make_atari_env('SpaceInvadersNoFrameskip-v4', n_envs=8, seed=0,vec_env_cls=SubprocVecEnv, monitor_dir= log_dir)\r\n",
        "env = make_atari_env('SpaceInvadersNoFrameskip-v4', n_envs=8, seed=0,vec_env_cls=DummyVecEnv, monitor_dir= log_dir)\r\n",
        "env = VecFrameStack(env, n_stack=4)\r\n",
        "model.set_env(env8)\r\n",
        "\r\n",
        "images = []\r\n",
        "obs = model.env.reset()\r\n",
        "img = model.env.envs[0].render(mode='rgb_array')\r\n",
        "for i in range(1800):\r\n",
        "    images.append(img)\r\n",
        "    action, _ = model.predict(obs)\r\n",
        "    obs, _, _ ,_ = model.env.step(action)\r\n",
        "    img = model.env.envs[0].render(mode='rgb_array')\r\n",
        "\r\n",
        "#imageio.mimsave('/SpaceInvadersBes.gif', [np.array(img) for i, img in enumerate(images) if i%2 == 0], fps=29)"
      ],
      "execution_count": null,
      "outputs": [
        {
          "output_type": "stream",
          "text": [
            "Wrapping the env in a VecTransposeImage.\n"
          ],
          "name": "stdout"
        }
      ]
    },
    {
      "cell_type": "code",
      "metadata": {
        "id": "GE4ZKFFluJyH"
      },
      "source": [
        "frame_rate = 30.0  #FPS\r\n",
        "def timelaps(images,width,height):\r\n",
        "    fourcc = cv2.VideoWriter_fourcc('m','p','4','v')\r\n",
        "    video = cv2.VideoWriter('inveders.mp4', fourcc, frame_rate, (width, height))\r\n",
        "    for img in images:\r\n",
        "        video.write(img[:,:,::-1]) \r\n",
        "    video.release()\r\n",
        "    print(\"動画変換完了\")"
      ],
      "execution_count": null,
      "outputs": []
    },
    {
      "cell_type": "code",
      "metadata": {
        "colab": {
          "base_uri": "https://localhost:8080/"
        },
        "id": "paTMEaDyv7AK",
        "outputId": "6f64733e-1754-46b0-bdd7-3331bc8aeeae"
      },
      "source": [
        "timelaps(images,160,210)"
      ],
      "execution_count": null,
      "outputs": [
        {
          "output_type": "stream",
          "text": [
            "動画変換中...\n",
            "動画変換完了\n"
          ],
          "name": "stdout"
        }
      ]
    },
    {
      "cell_type": "code",
      "metadata": {
        "colab": {
          "base_uri": "https://localhost:8080/",
          "height": 244
        },
        "id": "xcZ4w8QLygdL",
        "outputId": "195e2f89-39dd-44f0-ddda-7fcdb4b3b150"
      },
      "source": [
        "cv2_imshow(images[0][:,:,::-1]),len(images)"
      ],
      "execution_count": null,
      "outputs": [
        {
          "output_type": "display_data",
          "data": {
            "image/png": "[encoded data removed]",
            "text/plain": [
              "<PIL.Image.Image image mode=RGB size=160x210 at 0x7FB00AA4A588>"
            ]
          },
          "metadata": {
            "tags": []
          }
        },
        {
          "output_type": "execute_result",
          "data": {
            "text/plain": [
              "(None, 600)"
            ]
          },
          "metadata": {
            "tags": []
          },
          "execution_count": 58
        }
      ]
    },
    {
      "cell_type": "code",
      "metadata": {
        "colab": {
          "base_uri": "https://localhost:8080/"
        },
        "id": "o88u2Gee1l0E",
        "outputId": "3088d2b2-b6c5-4007-b6d7-0183e08ce2e8"
      },
      "source": [
        "import imageio\r\n",
        "import numpy as np\r\n",
        "\r\n",
        "model.load(\"/content/drive/MyDrive/M/logsP/SpaceInvadersBest_model\")\r\n",
        "#env8 = make_atari_env('SpaceInvadersNoFrameskip-v4', n_envs=8, seed=0,vec_env_cls=SubprocVecEnv, monitor_dir= log_dir)\r\n",
        "env8 = make_atari_env('SpaceInvadersNoFrameskip-v4', n_envs=8, seed=0,vec_env_cls=DummyVecEnv, monitor_dir= log_dir)\r\n",
        "env8 = VecFrameStack(env8, n_stack=4)\r\n",
        "model.set_env(env8)\r\n",
        "\r\n",
        "images = []\r\n",
        "obs = model.env.reset()\r\n",
        "img = model.env.render(mode='rgb_array')[:420,:320]\r\n",
        "for i in range(1800):\r\n",
        "    images.append(img)\r\n",
        "    action, _ = model.predict(obs)\r\n",
        "    obs, _, _ ,_ = model.env.step(action)\r\n",
        "    img = model.env.render(mode='rgb_array')[:420,:320]\r\n",
        "\r\n",
        "#imageio.mimsave('/SpaceInvadersBes.gif', [np.array(img) for i, img in enumerate(images) if i%2 == 0], fps=29)"
      ],
      "execution_count": null,
      "outputs": [
        {
          "output_type": "stream",
          "text": [
            "Wrapping the env in a VecTransposeImage.\n"
          ],
          "name": "stdout"
        }
      ]
    },
    {
      "cell_type": "code",
      "metadata": {
        "colab": {
          "base_uri": "https://localhost:8080/"
        },
        "id": "rjvP1kFn4yFg",
        "outputId": "96574094-48fb-47e8-c363-b9d95f08f383"
      },
      "source": [
        "timelaps(images,320,420)"
      ],
      "execution_count": null,
      "outputs": [
        {
          "output_type": "stream",
          "text": [
            "動画変換中...\n",
            "動画変換完了\n"
          ],
          "name": "stdout"
        }
      ]
    },
    {
      "cell_type": "code",
      "metadata": {
        "id": "sjeyWguZ5U-P"
      },
      "source": [
        ""
      ],
      "execution_count": null,
      "outputs": []
    }
  ]
}