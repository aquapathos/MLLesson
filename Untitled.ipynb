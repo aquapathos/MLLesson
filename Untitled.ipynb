{
 "cells": [
  {
   "cell_type": "code",
   "execution_count": null,
   "metadata": {
    "collapsed": true
   },
   "outputs": [],
   "source": [
    "import pandas"
   ]
  },
  {
   "cell_type": "code",
   "execution_count": 2,
   "metadata": {},
   "outputs": [],
   "source": [
    "import matplotlib.font_manager\n",
    "font_paths = matplotlib.font_manager.findSystemFonts()\n",
    "font_objects = matplotlib.font_manager.createFontList(font_paths)\n",
    "fontname = [f.name for f in font_objects]"
   ]
  },
  {
   "cell_type": "code",
   "execution_count": 3,
   "metadata": {},
   "outputs": [
    {
     "name": "stdout",
     "output_type": "stream",
     "text": [
      "明朝系フォント ['IPAMincho', 'Toppan Bunkyu Midashi Mincho', 'IPAMonaMincho', 'IPAPMincho', 'MS Mincho', 'MS PMincho', 'IPAMonaPMincho', 'Toppan Bunkyu Mincho']\n",
      "ゴシック系フォント ['IPAMonaGothic', 'MS Gothic', 'YuGothic', 'Franklin Gothic Book', 'Franklin Gothic Book', 'Franklin Gothic Medium', 'Apple LiGothic', 'YuGothic', 'IPAPGothic', 'Toppan Bunkyu Midashi Gothic', 'MS PGothic', 'IPAMonaUIGothic', 'IPAGothic', 'IPAMonaPGothic', 'Franklin Gothic Medium', 'AppleGothic']\n"
     ]
    }
   ],
   "source": [
    "font_paths = matplotlib.font_manager.findSystemFonts()\n",
    "font_objects = matplotlib.font_manager.createFontList(font_paths)\n",
    "font_name = [f.name for f in font_objects]\n",
    " \n",
    "mincho = [name for name in font_name if 'mincho' in name.lower()]\n",
    "gothic = [name for name in font_name if 'gothic' in name.lower()]\n",
    "print(\"明朝系フォント\",mincho)\n",
    "print(\"ゴシック系フォント\",gothic)\n"
   ]
  },
  {
   "cell_type": "code",
   "execution_count": null,
   "metadata": {},
   "outputs": [],
   "source": []
  }
 ],
 "metadata": {
  "kernelspec": {
   "display_name": "Python 3",
   "language": "python",
   "name": "python3"
  },
  "language_info": {
   "codemirror_mode": {
    "name": "ipython",
    "version": 3
   },
   "file_extension": ".py",
   "mimetype": "text/x-python",
   "name": "python",
   "nbconvert_exporter": "python",
   "pygments_lexer": "ipython3",
   "version": "3.6.6"
  }
 },
 "nbformat": 4,
 "nbformat_minor": 2
}
