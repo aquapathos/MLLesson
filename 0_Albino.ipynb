{
  "nbformat": 4,
  "nbformat_minor": 0,
  "metadata": {
    "colab": {
      "name": "0.Albino.ipynb",
      "version": "0.3.2",
      "provenance": [],
      "include_colab_link": true
    },
    "kernelspec": {
      "display_name": "Python 3",
      "language": "python",
      "name": "python3"
    }
  },
  "cells": [
    {
      "cell_type": "markdown",
      "metadata": {
        "id": "view-in-github",
        "colab_type": "text"
      },
      "source": [
        "<a href=\"https://colab.research.google.com/github/aquapathos/MLLesson/blob/master/0_Albino.ipynb\" target=\"_parent\"><img src=\"https://colab.research.google.com/assets/colab-badge.svg\" alt=\"Open In Colab\"/></a>"
      ]
    },
    {
      "metadata": {
        "id": "l6jHPGFQj8MU",
        "colab_type": "text"
      },
      "cell_type": "markdown",
      "source": [
        "### 準備\n",
        "\n",
        "このプログラムではグラフ表示のために **graphviz** というツールを使っていますので、実行に先立って graphviz を使えるようにするための作業が必要です。その内容は、「[Windows10 で Graphviz を使うための設定](http://localhost:8889/notebooks/DecisionTree/Windows10でGraphviz%20を使うための設定.ipynb)」に書いてありますので、先にそちらを済ませて下さい。(リンクで飛べない場合はHomeからたどってください)\n",
        "\n",
        "もし上のリンクでエラーがでるのなら、左上の「Jupyter」の文字をクリックして前に戻り、「DecisionTree」の中の「Windows10 で Graphviz を使うための設定」を開いてください。"
      ]
    },
    {
      "metadata": {
        "id": "nnSUoSbej8Mj",
        "colab_type": "code",
        "colab": {}
      },
      "cell_type": "code",
      "source": [
        "# !pip install graphviz  \n",
        "# !pip install pydotplus "
      ],
      "execution_count": 0,
      "outputs": []
    },
    {
      "metadata": {
        "id": "ERaOtMrvj8Nm",
        "colab_type": "code",
        "colab": {}
      },
      "cell_type": "code",
      "source": [
        "# モジュールのインポート\n",
        "import pandas as pd\n",
        "import numpy as np\n",
        "from sklearn import tree\n",
        "from graphviz import Digraph\n",
        "import pydotplus\n",
        "from graphviz import Source\n",
        "FONTPATH = \"C:\\\\Windows\\\\Fonts\\\\meiryo.ttc\"  # for Windows\n",
        "# FONTPATH = '/Library/Fonts/SFNSText.ttf'  # for Macintosh"
      ],
      "execution_count": 0,
      "outputs": []
    },
    {
      "metadata": {
        "id": "PPBQzKnmj8P9",
        "colab_type": "code",
        "colab": {}
      },
      "cell_type": "code",
      "source": [
        "rawdata=np.array([\n",
        "    # ５つの成分の意味\n",
        "    # 第0成分: 動物種　　０:ウサギ、1:ゾウ\n",
        "    # 第1成分: 体の色　0:白、1:茶、2:灰色\n",
        "    # 第2成分: 目の色　　０:赤、1:黒　　\n",
        "    # 第3成分: アルビノ判定　　負：アルビノではない　　　正：アルビノ\n",
        "    [0,1,1,\"負\"],\n",
        "    [0,0,0,\"正\"],\n",
        "    [0,2,0,\"負\"],\n",
        "    [0,0,0,\"正\"],\n",
        "    [0,0,1,\"負\"],\n",
        "    [1,0,0,\"正\"],\n",
        "    [1,2,0,\"負\"],\n",
        "    [1,2,1,\"負\"],\n",
        "    ])\n",
        "\n",
        "items1=['動物種','体の色','目の色']\n",
        "items2=['アルビノ判定','判定結果']\n",
        "dummy=np.array([None]*8)\n",
        "ｄｆ = pd.DataFrame(np.c_[rawdata,dummy],columns=np.r_[items1,items2])\n",
        "ｄｆ"
      ],
      "execution_count": 0,
      "outputs": []
    },
    {
      "metadata": {
        "id": "58fZUK5ij8Rd",
        "colab_type": "code",
        "colab": {}
      },
      "cell_type": "code",
      "source": [
        ""
      ],
      "execution_count": 0,
      "outputs": []
    },
    {
      "metadata": {
        "id": "TnjxZ65Nj8Rs",
        "colab_type": "text"
      },
      "cell_type": "markdown",
      "source": [
        "# 決定木の生成プログラム"
      ]
    },
    {
      "metadata": {
        "id": "1clMDblbj8Rw",
        "colab_type": "text"
      },
      "cell_type": "markdown",
      "source": [
        "# 決定木の準備"
      ]
    },
    {
      "metadata": {
        "id": "HXSi4qgjj8R1",
        "colab_type": "code",
        "colab": {}
      },
      "cell_type": "code",
      "source": [
        "classifier = tree.DecisionTreeClassifier(criterion='entropy')"
      ],
      "execution_count": 0,
      "outputs": []
    },
    {
      "metadata": {
        "id": "A_ajaHGVj8SQ",
        "colab_type": "text"
      },
      "cell_type": "markdown",
      "source": [
        "# 訓練データをもとに決定木を構成する\n"
      ]
    },
    {
      "metadata": {
        "id": "_UYvuO0Uj8SU",
        "colab_type": "code",
        "colab": {}
      },
      "cell_type": "code",
      "source": [
        "classifier.fit(df[items1],df['アルビノ判定']);"
      ],
      "execution_count": 0,
      "outputs": []
    },
    {
      "metadata": {
        "id": "MUz84URsj8Sh",
        "colab_type": "text"
      },
      "cell_type": "markdown",
      "source": [
        "# 完成した決定木をpng画像として出力"
      ]
    },
    {
      "metadata": {
        "id": "T7KFdIj9j8Sk",
        "colab_type": "code",
        "colab": {}
      },
      "cell_type": "code",
      "source": [
        "# Graphviz 用の dot データを作成する\n",
        "dot_data = tree.export_graphviz(classifier, \n",
        "            out_file=None, # 出力ファイル名 None なら出力しない\n",
        "            filled=True, # ノードを色づけする\n",
        "            rounded=True, # ノードの角を丸く\n",
        "            feature_names=items1) \n",
        "\n",
        "# 画面表示用データの作成\n",
        "src = Source(dot_data)\n",
        "\n",
        "# 画像の保存\n",
        "## Mac なら２行でOK\n",
        "# src.format=\"png\"                \n",
        "# src.render('facedetectTree')\n",
        "\n",
        "## Windows の場合\n",
        "import pydotplus as pdp\n",
        "graph = pdp.graph_from_dot_data(dot_data)\n",
        "for node in graph.get_nodes():\n",
        "    node.set_fontname(\"Meiryo\")\n",
        "graph.write_png(\"アルビノ判定.png\")\n",
        "src\n",
        "\n",
        "#  または\n",
        "# import IPython\n",
        "# IPython.display.Image(graph.create_png())\n"
      ],
      "execution_count": 0,
      "outputs": []
    },
    {
      "metadata": {
        "id": "iwJM5pt4j8S4",
        "colab_type": "code",
        "colab": {}
      },
      "cell_type": "code",
      "source": [
        ""
      ],
      "execution_count": 0,
      "outputs": []
    }
  ]
}