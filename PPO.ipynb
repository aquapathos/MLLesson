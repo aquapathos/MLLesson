{
  "nbformat": 4,
  "nbformat_minor": 0,
  "metadata": {
    "colab": {
      "name": "PPO.ipynb",
      "provenance": [],
      "collapsed_sections": [],
      "include_colab_link": true
    },
    "kernelspec": {
      "display_name": "Python 3",
      "language": "python",
      "name": "python3"
    },
    "language_info": {
      "codemirror_mode": {
        "name": "ipython",
        "version": 3
      },
      "file_extension": ".py",
      "mimetype": "text/x-python",
      "name": "python",
      "nbconvert_exporter": "python",
      "pygments_lexer": "ipython3",
      "version": "3.6.9"
    },
    "accelerator": "GPU",
    "widgets": {
      "application/vnd.jupyter.widget-state+json": {
        "a9a73619f2144e8f9ef80d826997969d": {
          "model_module": "@jupyter-widgets/controls",
          "model_name": "VBoxModel",
          "state": {
            "_view_name": "VBoxView",
            "_dom_classes": [],
            "_model_name": "VBoxModel",
            "_view_module": "@jupyter-widgets/controls",
            "_model_module_version": "1.5.0",
            "_view_count": null,
            "_view_module_version": "1.5.0",
            "box_style": "",
            "layout": "IPY_MODEL_de44bb7c449d4e3eac396e0eac3fab1b",
            "_model_module": "@jupyter-widgets/controls",
            "children": [
              "IPY_MODEL_bac53e5f38494602886ce90b71703e15",
              "IPY_MODEL_7e3cdb922bd348248698c475599b28ab"
            ]
          }
        },
        "de44bb7c449d4e3eac396e0eac3fab1b": {
          "model_module": "@jupyter-widgets/base",
          "model_name": "LayoutModel",
          "state": {
            "_view_name": "LayoutView",
            "grid_template_rows": null,
            "right": null,
            "justify_content": null,
            "_view_module": "@jupyter-widgets/base",
            "overflow": null,
            "_model_module_version": "1.2.0",
            "_view_count": null,
            "flex_flow": null,
            "width": null,
            "min_width": null,
            "border": null,
            "align_items": null,
            "bottom": null,
            "_model_module": "@jupyter-widgets/base",
            "top": null,
            "grid_column": null,
            "overflow_y": null,
            "overflow_x": null,
            "grid_auto_flow": null,
            "grid_area": null,
            "grid_template_columns": null,
            "flex": null,
            "_model_name": "LayoutModel",
            "justify_items": null,
            "grid_row": null,
            "max_height": null,
            "align_content": null,
            "visibility": null,
            "align_self": null,
            "height": null,
            "min_height": null,
            "padding": null,
            "grid_auto_rows": null,
            "grid_gap": null,
            "max_width": null,
            "order": null,
            "_view_module_version": "1.2.0",
            "grid_template_areas": null,
            "object_position": null,
            "object_fit": null,
            "grid_auto_columns": null,
            "margin": null,
            "display": null,
            "left": null
          }
        },
        "bac53e5f38494602886ce90b71703e15": {
          "model_module": "@jupyter-widgets/controls",
          "model_name": "LabelModel",
          "state": {
            "_view_name": "LabelView",
            "style": "IPY_MODEL_eaf0ca94d4e3454e93d8f346576fd0de",
            "_dom_classes": [],
            "description": "",
            "_model_name": "LabelModel",
            "placeholder": "​",
            "_view_module": "@jupyter-widgets/controls",
            "_model_module_version": "1.5.0",
            "value": " 0.01MB of 0.01MB uploaded (0.00MB deduped)\r",
            "_view_count": null,
            "_view_module_version": "1.5.0",
            "description_tooltip": null,
            "_model_module": "@jupyter-widgets/controls",
            "layout": "IPY_MODEL_349a4d1b06fa4fbfa76f26cdf04d3380"
          }
        },
        "7e3cdb922bd348248698c475599b28ab": {
          "model_module": "@jupyter-widgets/controls",
          "model_name": "FloatProgressModel",
          "state": {
            "_view_name": "ProgressView",
            "style": "IPY_MODEL_b77deb2fd935495b9a29a1563c71bae2",
            "_dom_classes": [],
            "description": "",
            "_model_name": "FloatProgressModel",
            "bar_style": "",
            "max": 1,
            "_view_module": "@jupyter-widgets/controls",
            "_model_module_version": "1.5.0",
            "value": 1,
            "_view_count": null,
            "_view_module_version": "1.5.0",
            "orientation": "horizontal",
            "min": 0,
            "description_tooltip": null,
            "_model_module": "@jupyter-widgets/controls",
            "layout": "IPY_MODEL_6d2f72c8a01b40d5b088764ce37badbe"
          }
        },
        "eaf0ca94d4e3454e93d8f346576fd0de": {
          "model_module": "@jupyter-widgets/controls",
          "model_name": "DescriptionStyleModel",
          "state": {
            "_view_name": "StyleView",
            "_model_name": "DescriptionStyleModel",
            "description_width": "",
            "_view_module": "@jupyter-widgets/base",
            "_model_module_version": "1.5.0",
            "_view_count": null,
            "_view_module_version": "1.2.0",
            "_model_module": "@jupyter-widgets/controls"
          }
        },
        "349a4d1b06fa4fbfa76f26cdf04d3380": {
          "model_module": "@jupyter-widgets/base",
          "model_name": "LayoutModel",
          "state": {
            "_view_name": "LayoutView",
            "grid_template_rows": null,
            "right": null,
            "justify_content": null,
            "_view_module": "@jupyter-widgets/base",
            "overflow": null,
            "_model_module_version": "1.2.0",
            "_view_count": null,
            "flex_flow": null,
            "width": null,
            "min_width": null,
            "border": null,
            "align_items": null,
            "bottom": null,
            "_model_module": "@jupyter-widgets/base",
            "top": null,
            "grid_column": null,
            "overflow_y": null,
            "overflow_x": null,
            "grid_auto_flow": null,
            "grid_area": null,
            "grid_template_columns": null,
            "flex": null,
            "_model_name": "LayoutModel",
            "justify_items": null,
            "grid_row": null,
            "max_height": null,
            "align_content": null,
            "visibility": null,
            "align_self": null,
            "height": null,
            "min_height": null,
            "padding": null,
            "grid_auto_rows": null,
            "grid_gap": null,
            "max_width": null,
            "order": null,
            "_view_module_version": "1.2.0",
            "grid_template_areas": null,
            "object_position": null,
            "object_fit": null,
            "grid_auto_columns": null,
            "margin": null,
            "display": null,
            "left": null
          }
        },
        "b77deb2fd935495b9a29a1563c71bae2": {
          "model_module": "@jupyter-widgets/controls",
          "model_name": "ProgressStyleModel",
          "state": {
            "_view_name": "StyleView",
            "_model_name": "ProgressStyleModel",
            "description_width": "",
            "_view_module": "@jupyter-widgets/base",
            "_model_module_version": "1.5.0",
            "_view_count": null,
            "_view_module_version": "1.2.0",
            "bar_color": null,
            "_model_module": "@jupyter-widgets/controls"
          }
        },
        "6d2f72c8a01b40d5b088764ce37badbe": {
          "model_module": "@jupyter-widgets/base",
          "model_name": "LayoutModel",
          "state": {
            "_view_name": "LayoutView",
            "grid_template_rows": null,
            "right": null,
            "justify_content": null,
            "_view_module": "@jupyter-widgets/base",
            "overflow": null,
            "_model_module_version": "1.2.0",
            "_view_count": null,
            "flex_flow": null,
            "width": null,
            "min_width": null,
            "border": null,
            "align_items": null,
            "bottom": null,
            "_model_module": "@jupyter-widgets/base",
            "top": null,
            "grid_column": null,
            "overflow_y": null,
            "overflow_x": null,
            "grid_auto_flow": null,
            "grid_area": null,
            "grid_template_columns": null,
            "flex": null,
            "_model_name": "LayoutModel",
            "justify_items": null,
            "grid_row": null,
            "max_height": null,
            "align_content": null,
            "visibility": null,
            "align_self": null,
            "height": null,
            "min_height": null,
            "padding": null,
            "grid_auto_rows": null,
            "grid_gap": null,
            "max_width": null,
            "order": null,
            "_view_module_version": "1.2.0",
            "grid_template_areas": null,
            "object_position": null,
            "object_fit": null,
            "grid_auto_columns": null,
            "margin": null,
            "display": null,
            "left": null
          }
        }
      }
    }
  },
  "cells": [
    {
      "cell_type": "markdown",
      "metadata": {
        "id": "view-in-github",
        "colab_type": "text"
      },
      "source": [
        "<a href=\"https://colab.research.google.com/github/aquapathos/MLLesson/blob/master/PPO.ipynb\" target=\"_parent\"><img src=\"https://colab.research.google.com/assets/colab-badge.svg\" alt=\"Open In Colab\"/></a>"
      ]
    },
    {
      "cell_type": "markdown",
      "metadata": {
        "id": "8CS72K-uiAQn"
      },
      "source": [
        "# AtariスペースインベーダのPPO による強化学習の実装\n",
        "\n",
        "参考\n",
        "\n",
        "- https://github.com/vpj/rl_samples\n",
        "http://blog.varunajayasiri.com/ml/ppo_pytorch.html\n",
        "\n",
        "ほぼそのままです。違いはクラウドログサービスを WandB に変更してあることと、そのままだと過学習のせいか得点が伸びずに戦略が固まってしまうようなので、εグリーディを pytorch だよりとは別に設定できるようにした点ぐらいです。\n",
        "\n",
        "#### 他に参考にしたサイト\n",
        "\n",
        "- [PythonでPPOを実装してみた](https://qiita.com/oki_uta_aiota/items/a15ba5de6ed3c1268ed3#%E5%85%A8%E4%BD%93%E3%81%AE%E3%82%B3%E3%83%BC%E3%83%89)"
      ]
    },
    {
      "cell_type": "code",
      "metadata": {
        "colab": {
          "base_uri": "https://localhost:8080/"
        },
        "id": "4S2e1GxIKGiA",
        "outputId": "d3c8e21f-32f2-4672-b001-b256bb906902"
      },
      "source": [
        "import random\n",
        "import time\n",
        "random.seed(time.time())\n",
        "\n",
        "import torch\n",
        "device = torch.device('cuda:0' if torch.cuda.is_available() else 'cpu')\n",
        "print(repr(device))"
      ],
      "execution_count": null,
      "outputs": [
        {
          "output_type": "stream",
          "text": [
            "device(type='cuda', index=0)\n"
          ],
          "name": "stdout"
        }
      ]
    },
    {
      "cell_type": "code",
      "metadata": {
        "colab": {
          "base_uri": "https://localhost:8080/"
        },
        "id": "Y7B5y3RLEPsY",
        "outputId": "00e101d5-b127-4522-82b5-a6a1895b5e0b"
      },
      "source": [
        "from google.colab import drive\n",
        "drive.mount('/content/drive')"
      ],
      "execution_count": null,
      "outputs": [
        {
          "output_type": "stream",
          "text": [
            "Mounted at /content/drive\n"
          ],
          "name": "stdout"
        }
      ]
    },
    {
      "cell_type": "markdown",
      "metadata": {
        "id": "M_ndL3LBK3Vg"
      },
      "source": [
        "# 外部ライブラリの追加"
      ]
    },
    {
      "cell_type": "code",
      "metadata": {
        "id": "l7cJQgKWihEN"
      },
      "source": [
        "!pip install pfrl > /dev/null\n",
        "!pip install wandb > /dev/null\n",
        "!pip install fastprogress > /dev/null\n",
        "#!pip install gym[atari] > /dev/null"
      ],
      "execution_count": null,
      "outputs": []
    },
    {
      "cell_type": "code",
      "metadata": {
        "id": "avyWPx9-iAQ-"
      },
      "source": [
        "import multiprocessing\n",
        "import multiprocessing.connection\n",
        "from typing import Dict, List\n",
        "from fastprogress.fastprogress import master_bar, progress_bar\n",
        "\n",
        "import gym\n",
        "from gym import ObservationWrapper\n",
        "from gym.spaces import Box\n",
        "\n",
        "import cv2\n",
        "import numpy as np\n",
        "import torch\n",
        "\n",
        "from torch import nn\n",
        "from torch import optim\n",
        "from torch.distributions import Categorical\n",
        "from torch.nn import functional as F\n",
        "\n",
        "from pfrl.wrappers.atari_wrappers import FrameStack,NoopResetEnv,MaxAndSkipEnv\n",
        "from PIL import Image\n",
        "from IPython.display import display\n",
        "import matplotlib.pyplot as plt\n",
        "\n",
        "import shutil"
      ],
      "execution_count": null,
      "outputs": []
    },
    {
      "cell_type": "markdown",
      "metadata": {
        "id": "pvyoQhmZLybp"
      },
      "source": [
        "# ラッパー定義"
      ]
    },
    {
      "cell_type": "code",
      "metadata": {
        "id": "yq2fQjdZiARA"
      },
      "source": [
        "class myCrop(ObservationWrapper):\n",
        "    def __init__(self, env, tmgn=0, bmgn=0,lmgn=0,rmgn=0,igcolors=[],bgcolor=[0,0,0]):\n",
        "        super(myCrop, self).__init__(env)\n",
        "        self.tmgn, self.bmgn = tmgn, bmgn\n",
        "        self.lmgn, self.rmgn = lmgn, rmgn\n",
        "        self.igcolors, self.bgcolors = igcolors, bgcolor\n",
        "        self.observation_space = Box(low=0, high=255, shape=(84,84), dtype=np.uint8)\n",
        "    def observation(self, obs):\n",
        "        img_mask = np.zeros(obs.shape[:2],np.uint8)\n",
        "        for color in self.igcolors:\n",
        "            bgrLower = np.array(color)    \n",
        "            bgrUpper = np.array(color)\n",
        "            tmask = cv2.inRange(obs, bgrLower, bgrUpper) \n",
        "            img_mask = cv2.bitwise_or(img_mask,tmask)\n",
        "        obs = cv2.bitwise_and(obs,obs,mask=255-img_mask) # 元画像とマスクを合成\n",
        "        RIGHT=obs.shape[1]-self.rmgn\n",
        "        BOTTOM=obs.shape[0]-self.bmgn\n",
        "        obs = obs[self.tmgn:BOTTOM,self.lmgn:RIGHT]\n",
        "        obs = cv2.cvtColor(obs, cv2.COLOR_RGB2GRAY)\n",
        "        observation = cv2.resize(obs, (84, 84), interpolation=cv2.INTER_AREA)\n",
        "        return observation\n",
        "\n",
        "class myFrameStack(FrameStack):\n",
        "    def __init__(self, env, k=8, mode=0,demo=False):\n",
        "        super(myFrameStack, self).__init__(env, k=k, channel_order=\"chw\")\n",
        "        self.lives = 0\n",
        "        self.lsumrewards = 0\n",
        "        self.localsteps = 0\n",
        "        self.demo = demo\n",
        "        self.mode = mode\n",
        "    def reset(self):\n",
        "        ob = self.env.reset()\n",
        "        return self._reset(ob)\n",
        "    def _reset(self,ob):\n",
        "        for _ in range(self.k):\n",
        "          self.frames.append(ob)\n",
        "        self.lives = self.env.unwrapped.ale.lives()\n",
        "        self.lsumrewards = 0\n",
        "        self.localsteps = 0\n",
        "        return  np.array([list(self.frames)])\n",
        "    def step(self, action):\n",
        "        self.localsteps += 1  \n",
        "        ob, reward, done1, info = self.env.step(action)\n",
        "        self.lsumrewards += reward\n",
        "        self.frames.append(ob)\n",
        "        returnobs = np.array([list(self.frames)])\n",
        "        episode_info = None\n",
        "        if self.demo:\n",
        "            return returnobs,rewad,done1,info\n",
        "        # 残機数確認\n",
        "        else: # if train mode\n",
        "            lives = self.env.unwrapped.ale.lives()\n",
        "            if done1 or lives < self.lives: # １機死んだら終了とする\n",
        "                done = True\n",
        "                episode_info = {\"reward\": self.lsumrewards, \"length\": self.localsteps}\n",
        "                if done1 or self.mode == 0: \n",
        "                  self.reset() \n",
        "                else: # mode 1 ライフが減っただけの場合はシーンは継続\n",
        "                  self._reset(ob)\n",
        "            else:\n",
        "                done = False\n",
        "            return returnobs, reward, done, episode_info\n",
        "\n",
        "def mkenv(envname,k=8,skip=2,tmgn=0,bmgn=0,lmgn=0,rmgn=0,igcolors=[],noop_max=30, mode = 0, demo=False):\n",
        "  env=gym.make(envname)\n",
        "  if noop_max > 0:\n",
        "      env = NoopResetEnv(env, noop_max=noop_max)\n",
        "  if skip > 1:\n",
        "      env = MaxAndSkipEnv(env, skip=skip)\n",
        "  env=myCrop(env, tmgn=tmgn, bmgn=bmgn, lmgn=lmgn, rmgn=rmgn, igcolors=igcolors)\n",
        "  env=myFrameStack(env,k=k,mode=mode,demo=demo)\n",
        "  return env"
      ],
      "execution_count": null,
      "outputs": []
    },
    {
      "cell_type": "markdown",
      "metadata": {
        "id": "uWIH0JlWiARD"
      },
      "source": [
        "# Game Environment の定義"
      ]
    },
    {
      "cell_type": "code",
      "metadata": {
        "id": "8bc2-DseiARG"
      },
      "source": [
        "import random\n",
        "from datetime import datetime\n",
        "random.seed(datetime.now())\n",
        "DEFAULTSEED = random.randint(1, 10000)\n",
        "def Game(seed=DEFAULTSEED,k=8,skip=2,noop_max=30, mode = 0):\n",
        "    ENV_NAME = 'SpaceInvadersNoFrameskip-v4'\n",
        "    Tmgn=20\n",
        "    Bmgn=12\n",
        "    Lmgn=8\n",
        "    Rmgn=8\n",
        "    #NOCOLOR=[[162,134,56]]  # 背景と同一視するカラー\n",
        "    NOCOLOR=[]\n",
        "\n",
        "    env = mkenv(ENV_NAME,k,skip,Tmgn,Bmgn,Lmgn,Rmgn,NOCOLOR,noop_max=noop_max, mode = mode)\n",
        "    env.seed(seed)\n",
        "    return env"
      ],
      "execution_count": null,
      "outputs": []
    },
    {
      "cell_type": "markdown",
      "metadata": {
        "id": "zhWKKV7miARI"
      },
      "source": [
        "### 補足\n",
        "**k** : 過去何フレーム分の画面をデータとするか  \n",
        "**skip** : 何フレームおきにサンプリングするか  \n",
        "**Tmgn,Bmgn,Lmgn,Rmgn** カットする余白量  \n",
        "**NOCOLOR** 黒に置き換える色をRGB指定。複数指定可能  \n",
        "上の設定はインベーダ決め打ち\n",
        "\n",
        "## 動作確認"
      ]
    },
    {
      "cell_type": "code",
      "metadata": {
        "id": "ZisujiNyiARJ",
        "colab": {
          "base_uri": "https://localhost:8080/",
          "height": 730
        },
        "outputId": "35eb3294-edd5-495f-ad7e-993c429bf4a4"
      },
      "source": [
        "import random\n",
        "from datetime import datetime\n",
        "DEFAULTSEED = random.seed(datetime.now())\n",
        "\n",
        "# 原画像が表示できるかテスト\n",
        "game = Game(DEFAULTSEED,7)\n",
        "orgimg = game.render(mode='rgb_array')\n",
        "display(Image.fromarray(orgimg))\n",
        "display(orgimg.shape)\n",
        "\n",
        "# リセット画像の確認\n",
        "plt.figure(figsize=(8,4),dpi=150)\n",
        "imgs = game.reset()\n",
        "imgs = imgs[0]\n",
        "for i,img in enumerate(imgs):\n",
        "    plt.subplot(2,8,i+1)\n",
        "    plt.imshow(img)\n",
        "# ステップ画像の確認\n",
        "for _ in range(60):\n",
        "  imgs,r,d,i= game.step(game.action_space.sample()) \n",
        "imgs = imgs[0]\n",
        "for i,img in enumerate(imgs):\n",
        "    plt.subplot(2,8,i+9)\n",
        "    plt.imshow(img)\n",
        "    \n",
        "# Check types\n",
        "display(imgs.shape,imgs[0,0,0],imgs[0,40,40],type(imgs[0,0,0]))"
      ],
      "execution_count": null,
      "outputs": [
        {
          "output_type": "display_data",
          "data": {
            "image/png": "[encoded data removed]",
            "text/plain": [
              "<PIL.Image.Image image mode=RGB size=160x210 at 0x7F32726DEC88>"
            ]
          },
          "metadata": {
            "tags": []
          }
        },
        {
          "output_type": "display_data",
          "data": {
            "text/plain": [
              "(210, 160, 3)"
            ]
          },
          "metadata": {
            "tags": []
          }
        },
        {
          "output_type": "display_data",
          "data": {
            "text/plain": [
              "(7, 84, 84)"
            ]
          },
          "metadata": {
            "tags": []
          }
        },
        {
          "output_type": "display_data",
          "data": {
            "text/plain": [
              "0"
            ]
          },
          "metadata": {
            "tags": []
          }
        },
        {
          "output_type": "display_data",
          "data": {
            "text/plain": [
              "120"
            ]
          },
          "metadata": {
            "tags": []
          }
        },
        {
          "output_type": "display_data",
          "data": {
            "text/plain": [
              "numpy.uint8"
            ]
          },
          "metadata": {
            "tags": []
          }
        },
        {
          "output_type": "display_data",
          "data": {
            "image/png": "[encoded data removed]",
            "text/plain": [
              "<Figure size 1200x600 with 14 Axes>"
            ]
          },
          "metadata": {
            "tags": [],
            "needs_background": "light"
          }
        }
      ]
    },
    {
      "cell_type": "markdown",
      "metadata": {
        "id": "iLOJWZ3ZM9hb"
      },
      "source": [
        "# PPO用ニューラルネットのモデル定義"
      ]
    },
    {
      "cell_type": "code",
      "metadata": {
        "id": "S-EyRai1iARP"
      },
      "source": [
        "class Model(nn.Module):\n",
        "\n",
        "    def __init__(self,nframes=8):\n",
        "        super().__init__()\n",
        "\n",
        "        # 4x84x84 → 32x20x20 \n",
        "        self.conv1 = nn.Conv2d(in_channels=nframes, out_channels=64, kernel_size=8, stride=4)\n",
        "        # 32x20x20 →64x9x9\n",
        "        self.conv2 = nn.Conv2d(in_channels=64, out_channels=64, kernel_size=4, stride=2)\n",
        "        # 64x9x9 → 64x7x7 \n",
        "        self.conv3 = nn.Conv2d(in_channels=64, out_channels=64, kernel_size=3, stride=1)\n",
        "        # 64x7x7 → FL \n",
        "        FL = 64\n",
        "        self.lin = nn.Linear(in_features=7 * 7 * 64, out_features=FL)\n",
        "        # FL → 4 actions 0-1 （行動決定）\n",
        "        self.pi_logits = nn.Linear(in_features=FL, out_features=4)\n",
        "        # 行動価値\n",
        "        self.value = nn.Linear(in_features=FL, out_features=1)\n",
        "\n",
        "    def forward(self, obs: torch.Tensor):\n",
        "        h = F.relu(self.conv1(obs))\n",
        "        h = F.relu(self.conv2(h))\n",
        "        h = F.relu(self.conv3(h))\n",
        "        h = h.reshape((-1, 7 * 7 * 64))\n",
        "\n",
        "        h = F.relu(self.lin(h))\n",
        "\n",
        "        pi = Categorical(logits=self.pi_logits(h))\n",
        "        value = self.value(h).reshape(-1)\n",
        "\n",
        "        return pi, value"
      ],
      "execution_count": null,
      "outputs": []
    },
    {
      "cell_type": "markdown",
      "metadata": {
        "id": "d9F7bqjidwCf"
      },
      "source": [
        "# 動作確認"
      ]
    },
    {
      "cell_type": "code",
      "metadata": {
        "colab": {
          "base_uri": "https://localhost:8080/",
          "height": 475
        },
        "id": "tGVSB2NriARV",
        "scrolled": true,
        "outputId": "389ff40a-ba44-4055-88d9-3b83963eea92"
      },
      "source": [
        "model = Model(16)\n",
        "model.to(device)\n",
        "game = Game(0,16)\n",
        "obs = game.reset()\n",
        "a=0\n",
        "for i in range(200):\n",
        "  obs,r,_,_ = game.step(a)\n",
        "  pi,v = model.forward(torch.tensor(obs,dtype=torch.float32,device=device)/255)\n",
        "for i in range(10):\n",
        "  obs,r,_,_ = game.step(a)\n",
        "  pi,v = model.forward(torch.tensor(obs,dtype=torch.float32,device=device)/255)\n",
        "  a0 = pi.sample() # 方策関数によりアクションを決定\n",
        "  a = a0[0] # アクション番号の数値化\n",
        "  print(a)\n",
        "\n",
        "display(obs.shape) # 画面データのシェイプを表示\n",
        "display(a0)\n",
        "display(a) # 選ばれたアクション番号を表示\n",
        "print(\"初期は確率がほぼ等確率になっていることを確認\")\n",
        "for i in range(4):\n",
        "    print(i,pow(np.e,(pi.log_prob(torch.tensor(i,device=device))))) # \n",
        "display(v.detach()) # 状態価値を表示\n",
        "display(model) # モデルを表示"
      ],
      "execution_count": null,
      "outputs": [
        {
          "output_type": "stream",
          "text": [
            "tensor(2, device='cuda:0')\n",
            "tensor(2, device='cuda:0')\n",
            "tensor(2, device='cuda:0')\n",
            "tensor(3, device='cuda:0')\n",
            "tensor(1, device='cuda:0')\n",
            "tensor(0, device='cuda:0')\n",
            "tensor(0, device='cuda:0')\n",
            "tensor(3, device='cuda:0')\n",
            "tensor(1, device='cuda:0')\n",
            "tensor(1, device='cuda:0')\n"
          ],
          "name": "stdout"
        },
        {
          "output_type": "display_data",
          "data": {
            "text/plain": [
              "(1, 16, 84, 84)"
            ]
          },
          "metadata": {
            "tags": []
          }
        },
        {
          "output_type": "display_data",
          "data": {
            "text/plain": [
              "tensor([1], device='cuda:0')"
            ]
          },
          "metadata": {
            "tags": []
          }
        },
        {
          "output_type": "display_data",
          "data": {
            "text/plain": [
              "tensor(1, device='cuda:0')"
            ]
          },
          "metadata": {
            "tags": []
          }
        },
        {
          "output_type": "stream",
          "text": [
            "初期は確率が等確率になっていることを確認\n",
            "0 tensor([0.2304], device='cuda:0', grad_fn=<PowBackward1>)\n",
            "1 tensor([0.2461], device='cuda:0', grad_fn=<PowBackward1>)\n",
            "2 tensor([0.2605], device='cuda:0', grad_fn=<PowBackward1>)\n",
            "3 tensor([0.2629], device='cuda:0', grad_fn=<PowBackward1>)\n"
          ],
          "name": "stdout"
        },
        {
          "output_type": "display_data",
          "data": {
            "text/plain": [
              "tensor([-0.0542], device='cuda:0')"
            ]
          },
          "metadata": {
            "tags": []
          }
        },
        {
          "output_type": "display_data",
          "data": {
            "text/plain": [
              "Model(\n",
              "  (conv1): Conv2d(16, 64, kernel_size=(8, 8), stride=(4, 4))\n",
              "  (conv2): Conv2d(64, 64, kernel_size=(4, 4), stride=(2, 2))\n",
              "  (conv3): Conv2d(64, 64, kernel_size=(3, 3), stride=(1, 1))\n",
              "  (lin): Linear(in_features=3136, out_features=64, bias=True)\n",
              "  (pi_logits): Linear(in_features=64, out_features=4, bias=True)\n",
              "  (value): Linear(in_features=64, out_features=1, bias=True)\n",
              ")"
            ]
          },
          "metadata": {
            "tags": []
          }
        }
      ]
    },
    {
      "cell_type": "markdown",
      "metadata": {
        "id": "mYvKriYliARb"
      },
      "source": [
        "# Multiprocessing Playloop\n",
        "# 学習のメインプログラム\n",
        "### 並列ゲームプレイヤのクラス定義"
      ]
    },
    {
      "cell_type": "code",
      "metadata": {
        "id": "ghC4pGrBiARh"
      },
      "source": [
        "def playloop(agent: multiprocessing.connection.Connection,seed:int,k=8,skip=2,noop_max=30, mode = 0):\n",
        "\n",
        "    # create game\n",
        "    game = Game(seed=seed, k=k,skip=skip,noop_max=noop_max, mode = mode)\n",
        "    # AI player \n",
        "    while True:\n",
        "        cmd, action = agent.recv()\n",
        "        if cmd == \"step\":\n",
        "            agent.send(game.step(action))\n",
        "        elif cmd == \"reset\":\n",
        "            agent.send(game.reset())\n",
        "        elif cmd == \"close\":\n",
        "            agent.close()\n",
        "            break\n",
        "        else:\n",
        "            raise NotImplementedError\n",
        "\n",
        "class CoPlayer:\n",
        "    def __init__(self, seed, k=8,skip=2,noop_max=30,mode = 0):\n",
        "        self.child, parent = multiprocessing.Pipe()\n",
        "        self.process = multiprocessing.Process(target=playloop, args=(parent, seed, k,skip,noop_max,mode))\n",
        "        self.process.start()"
      ],
      "execution_count": null,
      "outputs": []
    },
    {
      "cell_type": "markdown",
      "metadata": {
        "id": "uQr3RqvxEoHA"
      },
      "source": [
        "### パイプ動作確認"
      ]
    },
    {
      "cell_type": "code",
      "metadata": {
        "colab": {
          "base_uri": "https://localhost:8080/"
        },
        "id": "hv7YYQpo6HGy",
        "outputId": "26384fe7-0a5d-4e6f-b7d5-c434a315f819"
      },
      "source": [
        "cop2 = CoPlayer(0,8)\n",
        "cop2.child.send((\"reset\",None))\n",
        "a = cop2.child.recv()\n",
        "cop2.child.send((\"step\",1))\n",
        "a2,b,c,d = cop2.child.recv()\n",
        "cop2.child.send((\"close\",None))\n",
        "a.shape,a2.shape,b,c,d"
      ],
      "execution_count": null,
      "outputs": [
        {
          "output_type": "execute_result",
          "data": {
            "text/plain": [
              "((1, 8, 84, 84), (1, 8, 84, 84), 0.0, False, None)"
            ]
          },
          "metadata": {
            "tags": []
          },
          "execution_count": 14
        }
      ]
    },
    {
      "cell_type": "markdown",
      "metadata": {
        "id": "YLo5NlOfLFDJ"
      },
      "source": [
        "### ログフォルダの設定"
      ]
    },
    {
      "cell_type": "code",
      "metadata": {
        "id": "WuSlfu2Xn7b9"
      },
      "source": [
        "import os\n",
        "SAVEFOLDER = '/content/drive/MyDrive/M/ppo'\n",
        "os.makedirs(SAVEFOLDER,exist_ok=True)\n",
        "modelPath = SAVEFOLDER+\"/model\"  # モデルの重みファイル名  (拡張子　.pt　が自動的に補われる）"
      ],
      "execution_count": null,
      "outputs": []
    },
    {
      "cell_type": "markdown",
      "metadata": {
        "id": "-PrMOErZeo8U"
      },
      "source": [
        "#### ハイパーパラメータの（一部）\r\n",
        "ハイパーパラメータのうち、ネットワークに関するものは上に、一部は Main のパラメータに、一部は関数定義に埋め込み"
      ]
    },
    {
      "cell_type": "code",
      "metadata": {
        "id": "e4FcgTbTkBBd"
      },
      "source": [
        "NCYCLES = 2000 # 学習サイクル数　（データ収集→学習　が1サイクル）\n",
        "\n",
        "END_GREEDY_Progress = 0.0 # 0.8  付加的な擾乱期間　開始から全体の 0.8\n",
        "GreedyEPS_START = 0.0 # 0.3 擾乱期間開始時の付加的擾乱\n",
        "GreedyEPS_END = 0.0 # 0.1 擾乱期間終了後の付加的擾乱\n",
        "\n",
        "END_LOSTLIFE_Penalty_Progress = 1.0 # 1.0  初期の仮ペナルティ適用期間　開始から終了までの期間に対する割合\n",
        "\n",
        "# Hyper Parameters\n",
        "GAMMA = 0.93 # 0.99\n",
        "LAMDA = 0.90 # 0.906\n",
        "EPOCHS =  4 # サンプル１セットを何度学習プロセスに通すか\n",
        "NPLAYERS = 8 # 並列実行する数game\n",
        "NBATCHES = 256 # １度に処理するデータ数\n",
        "NDIVIDE = 4 # バッチの分割数\n",
        "SEEDZero = random.randint(1,10000)\n",
        "LearningRate = 0.0015\n",
        "NFRAMES = 6\n",
        "W_VFLOSS = 0.5 # loss におけるvfloss の重み\n",
        "W_BONUS = 0.088 # loss における entropy bonus の重み　0.01\n",
        "CLIPRANGE = 0.2 # ## Run it"
      ],
      "execution_count": null,
      "outputs": []
    },
    {
      "cell_type": "code",
      "metadata": {
        "id": "5vrWOt3NiARi"
      },
      "source": [
        "class Main:\n",
        "    # mode 0 ：ライフが失われたらリセット、 mode 1：ライフが残っている場合は、画面を継続\n",
        "    def __init__(self,seed=SEEDZero,k=NFRAMES,skip=2,deadloss=38,noop_max=16,resume=False,ncycles=NCYCLES,mode = 0, lr=LearningRate,gamma=GAMMA,lamda=LAMDA,eb = W_BONUS):\n",
        "\n",
        "        self.lr = lr\n",
        "        self.gamma = gamma\n",
        "        self.lamda = lamda\n",
        "        self.eb = eb\n",
        "        self.k = k\n",
        "        self.ncycles = ncycles\n",
        "\n",
        "        self.lifes = 0 # 失った機体数 lost lifes\n",
        "        self.cycles = 0 # バッチ回数\n",
        "        self.deadloss = deadloss\n",
        "        self.mode = mode\n",
        "\n",
        "        self.progress = 0\n",
        "        \n",
        "        # 1サイクルに必要なサンプル数\n",
        "        self.batch_size = NPLAYERS * NBATCHES\n",
        "        # ミニバッチのサイズ\n",
        "        self.mini_batch_size = self.batch_size // NDIVIDE\n",
        "\n",
        "        # 初期化  \n",
        "        # CoPlayerの生成\n",
        "        self.coplayers = [CoPlayer(seed + i,k,skip,noop_max,mode) for i in range(NPLAYERS)]\n",
        "\n",
        "        # 観測情報の初期化　この部分を float や tensor にすると k が４に制限されてしまうので int で\n",
        "        self.obs = np.zeros((NPLAYERS, k, 84, 84), dtype=np.uint8)\n",
        "        for player in self.coplayers:\n",
        "            player.child.send((\"reset\", None))\n",
        "        for i, player in enumerate(self.coplayers):\n",
        "            self.obs[i] = player.child.recv()\n",
        "\n",
        "        # model for sampling\n",
        "        self.model = model = Model(k).to(device)\n",
        "        if resume: # 学習済み重みがある場合\n",
        "          shutil.copy( modelPath+'.pt', modelPath+'.bak.pt')\n",
        "          if torch.cuda.is_available():\n",
        "            self.model.load_state_dict(torch.load(modelPath+'.pt'))\n",
        "          else: #  gpu ありを前提としているが、cpu で続きを計算したい場合\n",
        "            self.model.load_state_dict(torch.load(modelPath+'.pt', map_location=torch.device('cpu')))\n",
        "\n",
        "        # optimizer\n",
        "        # lr = LearningRate\n",
        "        optimizers = {}\n",
        "        # optimizers['SGD'] = optim.SGD(model.parameters(), lr)\n",
        "        # optimizers['Adagrad'] = optim.Adagrad(model.parameters(), lr)\n",
        "        # optimizers['RMSprop'] = optim.RMSprop(model.parameters(), lr)\n",
        "        # optimizers['Adadelta'] = optim.Adadelta(model.parameters(), lr)\n",
        "        # optimizers['Adam'] = optim.Adam(model.parameters(), lr)\n",
        "        optimizers['AdamW'] = optim.AdamW(model.parameters(), lr)\n",
        "        self.optimizer = optimizers['AdamW']\n",
        "\n",
        "    @staticmethod\n",
        "    def _toTT(obs: np.ndarray) -> torch.Tensor:\n",
        "        return torch.tensor(obs, dtype=torch.float32, device=device) / 255.0\n",
        "\n",
        "    @staticmethod\n",
        "    def _normalize(adv: torch.Tensor):\n",
        "        return (adv - adv.mean()) / (adv.std() + 1e-8)\n",
        "\n",
        "    def sample(self) -> (Dict[str, torch.Tensor], List):\n",
        "        # 学習データの記憶域確保\n",
        "        rewards = np.zeros((NPLAYERS, NBATCHES), dtype=np.float32)\n",
        "        actions = np.zeros((NPLAYERS, NBATCHES), dtype=np.int32)\n",
        "        done = np.zeros((NPLAYERS, NBATCHES), dtype=np.bool)\n",
        "        obs = np.zeros((NPLAYERS, NBATCHES, self.k, 84, 84), dtype=np.float32)\n",
        "        log_pis = np.zeros((NPLAYERS, NBATCHES), dtype=np.float32)\n",
        "        values = np.zeros((NPLAYERS, NBATCHES), dtype=np.float32)\n",
        "        \n",
        "        # 画像データの初期化\n",
        "        for t in progress_bar(range(NBATCHES), parent=self.mpbar):\n",
        "            with torch.no_grad(): # 傾きを固定して実行\n",
        "                obs[:, t] = self.obs\n",
        "                pi, v = self.model(self._toTT(self.obs))\n",
        "                values[:, t] = v.cpu().numpy()\n",
        "                a0 = pi.sample()\n",
        "                \n",
        "                # epsiron greedy action selection\n",
        "                if self.progress >= END_GREEDY_Progress:\n",
        "                    g_eps = GreedyEPS_END\n",
        "                else:\n",
        "                    g_eps = GreedyEPS_START + self.progress * (END_GREEDY_Progress- GreedyEPS_START)/END_GREEDY_Progress\n",
        "                for i in range(NPLAYERS):\n",
        "                    if torch.rand(1) <= g_eps: \n",
        "                        a0[i] = torch.randint(0,4,(1,))\n",
        "                a =a0.cpu().numpy()\n",
        "                actions[:, t] = a\n",
        "                log_pis[:, t] = pi.log_prob(a0).cpu().numpy()\n",
        "                \n",
        "            for w, player in enumerate(self.coplayers):\n",
        "                player.child.send((\"step\", actions[w, t]))\n",
        " \n",
        "            for w, player in enumerate(self.coplayers):\n",
        "                self.obs[w], rewards[w, t], done[w, t], info  =  player.child.recv()\n",
        "\n",
        "                if info : # info \n",
        "                    if self.progress >= END_LOSTLIFE_Penalty_Progress:\n",
        "                       dlrate = 0\n",
        "                    else:\n",
        "                       dlrate = 1 - self.progress/END_LOSTLIFE_Penalty_Progress \n",
        "                    rewards[w, t] -=  dlrate * self.deadloss\n",
        "                    self.lifes += 1\n",
        "                    wandb.log({'reward':info['reward'],'lengt':info['length']})\n",
        "                    wandb.log({'lifes':self.lifes,'cycles':self.cycles})\n",
        "             \n",
        "        # calculate advantages\n",
        "        advantages = self._calc_advantages(done, rewards, values)\n",
        "        samples = {\n",
        "            'obs': obs,\n",
        "            'actions': actions,\n",
        "            'values': values,\n",
        "            'log_pis': log_pis,\n",
        "            'advantages': advantages\n",
        "        }\n",
        "\n",
        "        samples_flat = {}\n",
        "        for k, v in samples.items():\n",
        "            v = v.reshape(v.shape[0] * v.shape[1], *v.shape[2:])\n",
        "            if k == 'obs':\n",
        "                samples_flat[k] = self._toTT(v)\n",
        "            else:\n",
        "                samples_flat[k] = torch.tensor(v, device=device)\n",
        "        return samples_flat, rewards[rewards>0].mean()\n",
        "\n",
        "    def _calc_advantages(self, done: np.ndarray, rewards: np.ndarray, values: torch.Tensor) -> np.ndarray:\n",
        "        advantages = np.zeros((NPLAYERS, NBATCHES), dtype=np.float32)\n",
        "        last_advantage = 0\n",
        "        _, last_value = self.model(self._toTT(self.obs))\n",
        "        last_value = last_value.cpu().data.numpy()\n",
        "\n",
        "        for t in reversed(range(NBATCHES)):\n",
        "            mask = 1 - done[:, t]\n",
        "            last_value = last_value * mask\n",
        "            last_advantage = last_advantage * mask\n",
        "            #delta = rewards[:, t] + GAMMA * last_value - values[:, t]\n",
        "            #last_advantage = delta + GAMMA * LAMDA * last_advantage\n",
        "            delta = rewards[:, t] + self.gamma * last_value - values[:, t]\n",
        "            last_advantage = delta + self.gamma * self.lamda * last_advantage\n",
        "            advantages[:, t] = last_advantage\n",
        "            last_value = values[:, t]\n",
        "\n",
        "        return advantages\n",
        "    \n",
        "    # 1サイクルの学習\n",
        "    def train(self, samples: Dict[str, torch.Tensor], learning_rate: float, clip_range: float):\n",
        "\n",
        "        for _ in range(EPOCHS):\n",
        "            # 並べ替え用の数列\n",
        "            indexes = torch.randperm(self.batch_size)\n",
        "\n",
        "            # ミニバッチ単位で処理\n",
        "            for start in range(0, self.batch_size, self.mini_batch_size):\n",
        "                # get mini batch\n",
        "                end = start + self.mini_batch_size\n",
        "                mini_batch_indexes = indexes[start: end]\n",
        "                mini_batch = {}\n",
        "                for k, v in samples.items():\n",
        "                    mini_batch[k] = v[mini_batch_indexes]\n",
        "\n",
        "                # train\n",
        "                loss = self._calc_loss(clip_range=clip_range,\n",
        "                                       samples=mini_batch)\n",
        "\n",
        "                # compute gradients\n",
        "                for pg in self.optimizer.param_groups:\n",
        "                    pg['lr'] = learning_rate\n",
        "                self.optimizer.zero_grad()\n",
        "                loss.backward()\n",
        "                torch.nn.utils.clip_grad_norm_(self.model.parameters(), max_norm=0.5)\n",
        "                self.optimizer.step()\n",
        "\n",
        "    def _calc_loss(self, samples: Dict[str, torch.Tensor], clip_range: float) -> torch.Tensor:\n",
        "        sampled_return = samples['values'] + samples['advantages']\n",
        "        sampled_normalized_advantage = self._normalize(samples['advantages'])\n",
        "        pi, value = self.model(samples['obs'])\n",
        "\n",
        "        # #### Policy\n",
        "        log_pi = pi.log_prob(samples['actions'])\n",
        "\n",
        "        ratio = torch.exp(log_pi - samples['log_pis'])\n",
        "\n",
        "        clipped_ratio = ratio.clamp(min=1.0 - clip_range,\n",
        "                                    max=1.0 + clip_range)\n",
        "        policy_reward = torch.min(ratio * sampled_normalized_advantage,\n",
        "                                  clipped_ratio * sampled_normalized_advantage)\n",
        "        policy_reward = policy_reward.mean()\n",
        "\n",
        "        # #### Entropy Bonus\n",
        "        entropy_bonus = pi.entropy()\n",
        "        entropy_bonus = entropy_bonus.mean()\n",
        "\n",
        "        # #### Value\n",
        "        clipped_value = samples['values'] + (value - samples['values']).clamp(min=-clip_range,\n",
        "                                                                              max=clip_range)\n",
        "        vf_loss = torch.max((value - sampled_return) ** 2, (clipped_value - sampled_return) ** 2)\n",
        "        vf_loss = 0.5 * vf_loss.mean()\n",
        "        loss = -(policy_reward - W_VFLOSS* vf_loss + self.eb * entropy_bonus)\n",
        "\n",
        "        # for monitoring\n",
        "        approx_kl_divergence = .5 * ((samples['log_pis'] - log_pi) ** 2).mean()\n",
        "        clip_fraction = (abs((ratio - 1.0)) > clip_range).to(torch.float).mean()\n",
        "        \n",
        "        wandb.log({'policy_reward': policy_reward,\n",
        "                     'vf_loss': vf_loss,\n",
        "                     'entropy_bonus': entropy_bonus,\n",
        "                     'kl_div': approx_kl_divergence,\n",
        "                     'clip_fraction': clip_fraction})        \n",
        "        return loss\n",
        "\n",
        "    def run_training_loop(self):\n",
        "\n",
        "        ### Run training loop\n",
        "        self.mpbar = master_bar(range(self.ncycles))\n",
        "        for cycle in self.mpbar:\n",
        "            self.cycles = cycle \n",
        "            self.progress = progress = cycle / self.ncycles\n",
        "\n",
        "            # decreasing `learning_rate` and `clip_range` \n",
        "            #learning_rate = LearningRate * (1 - progress)\n",
        "            learning_rate = self.lr * (1 - progress)\n",
        "            clip_range = CLIPRANGE * (1 - progress)\n",
        "            samples,mrewards = self.sample()\n",
        "            # train the model\n",
        "            self.train(samples, learning_rate, clip_range)\n",
        "\n",
        "            # write summary info to the writer, and log to the screen\n",
        "            if (cycle + 1) % 10 == 0:\n",
        "                #torch.save(self.model.state_dict(),modelPath+'.pt' )SAVEFOLDER+\"/model\"\n",
        "                torch.save(self.model.state_dict(),SAVEFOLDER+\"/model\"+'.pt' )\n",
        "            if (cycle + 1) % 250 == 0:\n",
        "                torch.save(self.model.state_dict(),SAVEFOLDER+\"/model\"+'{}'.format(cycle+1)+'.pt')\n",
        "        torch.save(self.model.state_dict(),modelPath+'.pt')\n",
        "        return mrewards\n",
        "\n",
        "    def destroy(self):\n",
        "\n",
        "        for player in self.coplayers:\n",
        "            player.child.send((\"close\", None))"
      ],
      "execution_count": null,
      "outputs": []
    },
    {
      "cell_type": "markdown",
      "metadata": {
        "id": "ywW3eB4vLOa0"
      },
      "source": [
        "## W and B\n"
      ]
    },
    {
      "cell_type": "code",
      "metadata": {
        "colab": {
          "base_uri": "https://localhost:8080/",
          "height": 1000,
          "referenced_widgets": [
            "a9a73619f2144e8f9ef80d826997969d",
            "de44bb7c449d4e3eac396e0eac3fab1b",
            "bac53e5f38494602886ce90b71703e15",
            "7e3cdb922bd348248698c475599b28ab",
            "eaf0ca94d4e3454e93d8f346576fd0de",
            "349a4d1b06fa4fbfa76f26cdf04d3380",
            "b77deb2fd935495b9a29a1563c71bae2",
            "6d2f72c8a01b40d5b088764ce37badbe"
          ]
        },
        "id": "JmoHAp4qiAQ3",
        "scrolled": true,
        "outputId": "a987b535-2169-4678-91ad-b5899f6ad7d9"
      },
      "source": [
        "# Inside my model training code \n",
        "!export WANDB_NOTEBOOK_NAME=\"PPO.ipynb\"\n",
        "import wandb\n",
        "PROJECTNAME='PPO'\n",
        "wandb.init(project=PROJECTNAME)"
      ],
      "execution_count": null,
      "outputs": [
        {
          "output_type": "display_data",
          "data": {
            "text/html": [
              "Finishing last run (ID:2020d57a) before initializing another..."
            ],
            "text/plain": [
              "<IPython.core.display.HTML object>"
            ]
          },
          "metadata": {
            "tags": []
          }
        },
        {
          "output_type": "display_data",
          "data": {
            "text/html": [
              "<br/>Waiting for W&B process to finish, PID 488<br/>Program ended successfully."
            ],
            "text/plain": [
              "<IPython.core.display.HTML object>"
            ]
          },
          "metadata": {
            "tags": []
          }
        },
        {
          "output_type": "display_data",
          "data": {
            "application/vnd.jupyter.widget-view+json": {
              "model_id": "a9a73619f2144e8f9ef80d826997969d",
              "version_minor": 0,
              "version_major": 2
            },
            "text/plain": [
              "VBox(children=(Label(value=' 0.00MB of 0.00MB uploaded (0.00MB deduped)\\r'), FloatProgress(value=1.0, max=1.0)…"
            ]
          },
          "metadata": {
            "tags": []
          }
        },
        {
          "output_type": "display_data",
          "data": {
            "text/html": [
              "Find user logs for this run at: <code>/content/wandb/run-20201229_171701-2020d57a/logs/debug.log</code>"
            ],
            "text/plain": [
              "<IPython.core.display.HTML object>"
            ]
          },
          "metadata": {
            "tags": []
          }
        },
        {
          "output_type": "display_data",
          "data": {
            "text/html": [
              "Find internal logs for this run at: <code>/content/wandb/run-20201229_171701-2020d57a/logs/debug-internal.log</code>"
            ],
            "text/plain": [
              "<IPython.core.display.HTML object>"
            ]
          },
          "metadata": {
            "tags": []
          }
        },
        {
          "output_type": "display_data",
          "data": {
            "text/html": [
              "<h3>Run summary:</h3><br/><style>\n",
              "    table.wandb td:nth-child(1) { padding: 0 10px; text-align: right }\n",
              "    </style><table class=\"wandb\">\n",
              "<tr><td>policy_reward</td><td>0.00041</td></tr><tr><td>vf_loss</td><td>2.4991</td></tr><tr><td>entropy_bonus</td><td>1.3791</td></tr><tr><td>kl_div</td><td>2e-05</td></tr><tr><td>clip_fraction</td><td>0.13672</td></tr><tr><td>_step</td><td>1047</td></tr><tr><td>_runtime</td><td>380</td></tr><tr><td>_timestamp</td><td>1609262601</td></tr><tr><td>reward</td><td>120.0</td></tr><tr><td>lengt</td><td>939</td></tr><tr><td>lifes</td><td>112</td></tr><tr><td>cycles</td><td>19</td></tr></table>"
            ],
            "text/plain": [
              "<IPython.core.display.HTML object>"
            ]
          },
          "metadata": {
            "tags": []
          }
        },
        {
          "output_type": "display_data",
          "data": {
            "text/html": [
              "<h3>Run history:</h3><br/><style>\n",
              "    table.wandb td:nth-child(1) { padding: 0 10px; text-align: right }\n",
              "    </style><table class=\"wandb\">\n",
              "<tr><td>policy_reward</td><td>▅▄█▅▆▂▅▇▅▆▅▅▄▅▅▄▄▅▅▅█▄▅▅▅▄▁▅▆█▆▄▅▅▅▅▆▅▅▅</td></tr><tr><td>vf_loss</td><td>▁▂▂▂█▂▂▂▂▂▂▁▂▁▁▁▂▁▁▁▁▁▁▁▁▁▄▁▁█▁▁▁▁▂▁▁▁▁▁</td></tr><tr><td>entropy_bonus</td><td>████▆▄▄▄▄▄▁▁▄▆▅▅▅▆▆▆▅▄▇▇▆▇▆▇▇▇▆▇▇▇▇▇▇▇▇█</td></tr><tr><td>kl_div</td><td>▁▂▃▂▂█▅▄▂▂▂▂▂▂▁▁▁▁▁▁█▂▂▁▂▂▃▁▂▂▂▁▁▁▁▁▁▁▁▁</td></tr><tr><td>clip_fraction</td><td>▁▁▂▁▂█▆▅▁▁▃▃▃▅▂▂▃▂▂▁▆▁▁▁▂▁▃▁▁▃▃▁▁▂▂▂▂▅▂▅</td></tr><tr><td>_step</td><td>▁▁▁▁▂▂▂▂▂▃▃▃▃▃▃▄▄▄▄▄▅▅▅▅▅▅▆▆▆▆▆▆▇▇▇▇▇███</td></tr><tr><td>_runtime</td><td>▁▁▁▂▂▂▂▂▂▃▃▃▃▃▄▄▄▄▄▅▅▅▅▅▅▆▆▆▆▆▇▇▇▇▇▇▇███</td></tr><tr><td>_timestamp</td><td>▁▁▁▂▂▂▂▂▂▃▃▃▃▃▄▄▄▄▄▅▅▅▅▅▅▆▆▆▆▆▇▇▇▇▇▇▇███</td></tr><tr><td>reward</td><td>▂▂▃▁▂▂▂▄▂▁▃▂▁▃▃█▃▁▂▁▂▂▁▁▂▁▂▃▂▁▃▁▁▂▆▁▁▂▁▄</td></tr><tr><td>lengt</td><td>▃▃▆▃▃▃▅▅▂▂▃▅▃▃▃█▃▃▂▁▂▃▁▁▂▃▂▃▃▁▂▁▂▃▆▂▂▃▃█</td></tr><tr><td>lifes</td><td>▁▁▂▂▂▃▃▃▄▄▄▅▅▅▆▆▆▇▁▁▂▂▂▃▃▃▄▄▄▅▅▅▆▆▆▇▇▇██</td></tr><tr><td>cycles</td><td>▁▁▂▂▃▃▄▄▄▅▅▆▆▆▇▇██▁▁▁▂▂▂▃▃▃▄▄▅▅▅▅▆▆▆▇▇██</td></tr></table><br/>"
            ],
            "text/plain": [
              "<IPython.core.display.HTML object>"
            ]
          },
          "metadata": {
            "tags": []
          }
        },
        {
          "output_type": "display_data",
          "data": {
            "text/html": [
              "Synced 4 W&B file(s), 0 media file(s), 0 artifact file(s) and 0 other file(s)"
            ],
            "text/plain": [
              "<IPython.core.display.HTML object>"
            ]
          },
          "metadata": {
            "tags": []
          }
        },
        {
          "output_type": "display_data",
          "data": {
            "text/html": [
              "\n",
              "                    <br/>Synced <strong style=\"color:#cdcd00\">radiant-vortex-51</strong>: <a href=\"https://wandb.ai/aquapathos/PPO/runs/2020d57a\" target=\"_blank\">https://wandb.ai/aquapathos/PPO/runs/2020d57a</a><br/>\n",
              "                "
            ],
            "text/plain": [
              "<IPython.core.display.HTML object>"
            ]
          },
          "metadata": {
            "tags": []
          }
        },
        {
          "output_type": "display_data",
          "data": {
            "text/html": [
              "...Successfully finished last run (ID:2020d57a). Initializing new run:<br/><br/>"
            ],
            "text/plain": [
              "<IPython.core.display.HTML object>"
            ]
          },
          "metadata": {
            "tags": []
          }
        },
        {
          "output_type": "display_data",
          "data": {
            "text/html": [
              "\n",
              "                Tracking run with wandb version 0.10.12<br/>\n",
              "                Syncing run <strong style=\"color:#cdcd00\">vague-pine-52</strong> to <a href=\"https://wandb.ai\" target=\"_blank\">Weights & Biases</a> <a href=\"https://docs.wandb.com/integrations/jupyter.html\" target=\"_blank\">(Documentation)</a>.<br/>\n",
              "                Project page: <a href=\"https://wandb.ai/aquapathos/PPO\" target=\"_blank\">https://wandb.ai/aquapathos/PPO</a><br/>\n",
              "                Run page: <a href=\"https://wandb.ai/aquapathos/PPO/runs/11pmv40s\" target=\"_blank\">https://wandb.ai/aquapathos/PPO/runs/11pmv40s</a><br/>\n",
              "                Run data is saved locally in <code>/content/wandb/run-20201229_172355-11pmv40s</code><br/><br/>\n",
              "            "
            ],
            "text/plain": [
              "<IPython.core.display.HTML object>"
            ]
          },
          "metadata": {
            "tags": []
          }
        },
        {
          "output_type": "execute_result",
          "data": {
            "text/plain": [
              "<wandb.sdk.wandb_run.Run at 0x7f3271ffde80>"
            ],
            "text/html": [
              "<h1>Run(11pmv40s)</h1><p></p><iframe src=\"https://wandb.ai/aquapathos/PPO/runs/11pmv40s\" style=\"border:none;width:100%;height:400px\"></iframe>"
            ]
          },
          "metadata": {
            "tags": []
          },
          "execution_count": 26
        }
      ]
    },
    {
      "cell_type": "code",
      "metadata": {
        "colab": {
          "base_uri": "https://localhost:8080/",
          "height": 17
        },
        "id": "xN_-yArl4PRu",
        "outputId": "61eafd3d-9376-4047-96be-c0762b01ba0d"
      },
      "source": [
        "# 学習１ターン目  mode 0, dedloss ありで\n",
        "# 初期のペナルティを deadloss とし、徐々に下げて終了時は０とする。　続きの場合は resume = True\n",
        "m = Main(SEEDZero,k=NFRAMES,skip=2,deadloss=50,noop_max=16,resume=False,ncycles=NCYCLES,mode=0)\n",
        "m.run_training_loop()\n",
        "m.destroy()"
      ],
      "execution_count": null,
      "outputs": [
        {
          "output_type": "display_data",
          "data": {
            "text/html": [
              ""
            ],
            "text/plain": [
              "<IPython.core.display.HTML object>"
            ]
          },
          "metadata": {
            "tags": []
          }
        }
      ]
    },
    {
      "cell_type": "code",
      "metadata": {
        "colab": {
          "base_uri": "https://localhost:8080/",
          "height": 17
        },
        "id": "L0jrraj4giX4",
        "outputId": "e75b8cb3-5138-4bf7-e01c-42c52881343e"
      },
      "source": [
        "# 学習２ターン目　mode 1, dedloss なしで\r\n",
        "m = Main(SEEDZero,k=NFRAMES,skip=2,deadloss=0,noop_max=16,resume=True,ncycles=NCYCLES,mode=1)\r\n",
        "m.run_training_loop()\r\n",
        "m.destroy()"
      ],
      "execution_count": null,
      "outputs": [
        {
          "output_type": "display_data",
          "data": {
            "text/html": [
              ""
            ],
            "text/plain": [
              "<IPython.core.display.HTML object>"
            ]
          },
          "metadata": {
            "tags": []
          }
        }
      ]
    },
    {
      "cell_type": "code",
      "metadata": {
        "colab": {
          "base_uri": "https://localhost:8080/",
          "height": 74
        },
        "id": "-aoJrrKsppIq",
        "outputId": "74b28bff-dbb0-41d1-8bf1-10b8372b0199"
      },
      "source": [
        "# 学習１ターン目  mode 0, dedloss ありで\r\n",
        "# 初期のペナルティを deadloss とし、徐々に下げて終了時は０とする。　続きの場合は resume = True\r\n",
        "m = Main(SEEDZero,k=NFRAMES,skip=2,deadloss=0,noop_max=16,resume=True,ncycles=NCYCLES,mode=0)\r\n",
        "m.run_training_loop()\r\n",
        "m.destroy()"
      ],
      "execution_count": null,
      "outputs": [
        {
          "output_type": "display_data",
          "data": {
            "text/html": [
              "\n",
              "    <div>\n",
              "        <style>\n",
              "            /* Turns off some styling */\n",
              "            progress {\n",
              "                /* gets rid of default border in Firefox and Opera. */\n",
              "                border: none;\n",
              "                /* Needs to be in here for Safari polyfill so background images work as expected. */\n",
              "                background-size: auto;\n",
              "            }\n",
              "            .progress-bar-interrupted, .progress-bar-interrupted::-webkit-progress-bar {\n",
              "                background: #F44336;\n",
              "            }\n",
              "        </style>\n",
              "      <progress value='1231' class='' max='2000' style='width:300px; height:20px; vertical-align: middle;'></progress>\n",
              "      61.55% [1231/2000 1:01:15<38:16]\n",
              "    </div>\n",
              "    \n",
              "\n",
              "\n",
              "    <div>\n",
              "        <style>\n",
              "            /* Turns off some styling */\n",
              "            progress {\n",
              "                /* gets rid of default border in Firefox and Opera. */\n",
              "                border: none;\n",
              "                /* Needs to be in here for Safari polyfill so background images work as expected. */\n",
              "                background-size: auto;\n",
              "            }\n",
              "            .progress-bar-interrupted, .progress-bar-interrupted::-webkit-progress-bar {\n",
              "                background: #F44336;\n",
              "            }\n",
              "        </style>\n",
              "      <progress value='60' class='' max='256' style='width:300px; height:20px; vertical-align: middle;'></progress>\n",
              "      23.44% [60/256 00:00<00:01]\n",
              "    </div>\n",
              "    "
            ],
            "text/plain": [
              "<IPython.core.display.HTML object>"
            ]
          },
          "metadata": {
            "tags": []
          }
        },
        {
          "output_type": "stream",
          "text": [
            "Buffered data was truncated after reaching the output size limit."
          ],
          "name": "stdout"
        }
      ]
    },
    {
      "cell_type": "markdown",
      "metadata": {
        "id": "zHqW8fou3VjS"
      },
      "source": [
        ""
      ]
    },
    {
      "cell_type": "markdown",
      "metadata": {
        "id": "BEtsOWy83j5W"
      },
      "source": [
        "![rewards](https://user-images.githubusercontent.com/5820803/103320826-404a2a80-4a7a-11eb-9bb6-9dd04cef52d0.png)"
      ]
    },
    {
      "cell_type": "code",
      "metadata": {
        "id": "y9Upl2kkiARk"
      },
      "source": [
        "# torch.save(model.state_dict(),'ppomodel')\n",
        "# model.load_state_dict(torch.load('ppomodel'))\n",
        "# torch.save(model.state_dict(),'ppomodel{}'.format(100))"
      ],
      "execution_count": null,
      "outputs": []
    },
    {
      "cell_type": "markdown",
      "metadata": {
        "id": "kAwx6KcNdA12"
      },
      "source": [
        "# [Optuna](https://optuna.org/)\r\n"
      ]
    },
    {
      "cell_type": "code",
      "metadata": {
        "id": "wqPP6e08dOYI"
      },
      "source": [
        "!pip install optuna > /dev/null"
      ],
      "execution_count": null,
      "outputs": []
    },
    {
      "cell_type": "code",
      "metadata": {
        "id": "lNoP7bO0dANJ",
        "colab": {
          "base_uri": "https://localhost:8080/",
          "height": 240
        },
        "outputId": "dca7b01d-53b5-4836-b558-7b2a1dfca6eb"
      },
      "source": [
        "import optuna\r\n",
        "\r\n",
        "def objective(trial):\r\n",
        "    # Categorical parameter\r\n",
        "    # optimizer = trial.suggest_categorical('k', [2,4,6,8,10,14,16])\r\n",
        "\r\n",
        "    # Int parameter\r\n",
        "    # num_layers = trial.suggest_int('deladloss', 1, 51)\r\n",
        "\r\n",
        "    # Loguniform parameter\r\n",
        "    # gamma = trial.suggest_loguniform('gamma', 0.90, 0.97)\r\n",
        "    eb = trial.suggest_loguniform('eb',0.006,0.1)\r\n",
        "\r\n",
        "    m = Main(SEEDZero,k=NFRAMES,skip=2,deadloss=0,noop_max=16,resume=False,lr=0.0015,eb=eb)\r\n",
        "    mrewards = m.run_training_loop()\r\n",
        "    m.destroy()\r\n",
        "\r\n",
        "    return -mrewards\r\n",
        "\r\n",
        "study = optuna.create_study()\r\n",
        "study.optimize(objective, n_trials=10)\r\n",
        "study.best_params  # "
      ],
      "execution_count": null,
      "outputs": [
        {
          "output_type": "stream",
          "text": [
            "\u001b[32m[I 2020-12-29 13:12:37,595]\u001b[0m A new study created in memory with name: no-name-944a7419-505a-45cd-85d9-47787ba97ef2\u001b[0m\n"
          ],
          "name": "stderr"
        },
        {
          "output_type": "display_data",
          "data": {
            "text/html": [
              ""
            ],
            "text/plain": [
              "<IPython.core.display.HTML object>"
            ]
          },
          "metadata": {
            "tags": []
          }
        },
        {
          "output_type": "stream",
          "text": [
            "\u001b[32m[I 2020-12-29 13:20:01,548]\u001b[0m Trial 0 finished with value: -22.70833396911621 and parameters: {'eb': 0.009226583067767354}. Best is trial 0 with value: -22.70833396911621.\u001b[0m\n"
          ],
          "name": "stderr"
        },
        {
          "output_type": "display_data",
          "data": {
            "text/html": [
              ""
            ],
            "text/plain": [
              "<IPython.core.display.HTML object>"
            ]
          },
          "metadata": {
            "tags": []
          }
        },
        {
          "output_type": "stream",
          "text": [
            "\u001b[32m[I 2020-12-29 13:27:25,885]\u001b[0m Trial 1 finished with value: -13.214285850524902 and parameters: {'eb': 0.02505062922916771}. Best is trial 0 with value: -22.70833396911621.\u001b[0m\n"
          ],
          "name": "stderr"
        },
        {
          "output_type": "display_data",
          "data": {
            "text/html": [
              ""
            ],
            "text/plain": [
              "<IPython.core.display.HTML object>"
            ]
          },
          "metadata": {
            "tags": []
          }
        },
        {
          "output_type": "stream",
          "text": [
            "\u001b[32m[I 2020-12-29 13:34:49,843]\u001b[0m Trial 2 finished with value: -13.69565200805664 and parameters: {'eb': 0.008589591819676763}. Best is trial 0 with value: -22.70833396911621.\u001b[0m\n"
          ],
          "name": "stderr"
        },
        {
          "output_type": "display_data",
          "data": {
            "text/html": [
              ""
            ],
            "text/plain": [
              "<IPython.core.display.HTML object>"
            ]
          },
          "metadata": {
            "tags": []
          }
        },
        {
          "output_type": "stream",
          "text": [
            "\u001b[32m[I 2020-12-29 13:42:15,990]\u001b[0m Trial 3 finished with value: -25.625 and parameters: {'eb': 0.0877108482599416}. Best is trial 3 with value: -25.625.\u001b[0m\n"
          ],
          "name": "stderr"
        },
        {
          "output_type": "display_data",
          "data": {
            "text/html": [
              ""
            ],
            "text/plain": [
              "<IPython.core.display.HTML object>"
            ]
          },
          "metadata": {
            "tags": []
          }
        },
        {
          "output_type": "stream",
          "text": [
            "\u001b[32m[I 2020-12-29 13:49:39,463]\u001b[0m Trial 4 finished with value: -10.384614944458008 and parameters: {'eb': 0.00732262468678601}. Best is trial 3 with value: -25.625.\u001b[0m\n"
          ],
          "name": "stderr"
        },
        {
          "output_type": "display_data",
          "data": {
            "text/html": [
              ""
            ],
            "text/plain": [
              "<IPython.core.display.HTML object>"
            ]
          },
          "metadata": {
            "tags": []
          }
        },
        {
          "output_type": "stream",
          "text": [
            "\u001b[32m[I 2020-12-29 13:57:05,027]\u001b[0m Trial 5 finished with value: -12.741935729980469 and parameters: {'eb': 0.007252702219857107}. Best is trial 3 with value: -25.625.\u001b[0m\n"
          ],
          "name": "stderr"
        },
        {
          "output_type": "display_data",
          "data": {
            "text/html": [
              ""
            ],
            "text/plain": [
              "<IPython.core.display.HTML object>"
            ]
          },
          "metadata": {
            "tags": []
          }
        },
        {
          "output_type": "stream",
          "text": [
            "\u001b[32m[I 2020-12-29 14:04:29,513]\u001b[0m Trial 6 finished with value: -12.5 and parameters: {'eb': 0.015636227168278966}. Best is trial 3 with value: -25.625.\u001b[0m\n"
          ],
          "name": "stderr"
        },
        {
          "output_type": "display_data",
          "data": {
            "text/html": [
              ""
            ],
            "text/plain": [
              "<IPython.core.display.HTML object>"
            ]
          },
          "metadata": {
            "tags": []
          }
        },
        {
          "output_type": "stream",
          "text": [
            "\u001b[32m[I 2020-12-29 14:11:53,689]\u001b[0m Trial 7 finished with value: -11.25 and parameters: {'eb': 0.008056487110270742}. Best is trial 3 with value: -25.625.\u001b[0m\n"
          ],
          "name": "stderr"
        },
        {
          "output_type": "display_data",
          "data": {
            "text/html": [
              ""
            ],
            "text/plain": [
              "<IPython.core.display.HTML object>"
            ]
          },
          "metadata": {
            "tags": []
          }
        },
        {
          "output_type": "stream",
          "text": [
            "\u001b[32m[I 2020-12-29 14:19:20,786]\u001b[0m Trial 8 finished with value: -9.615385055541992 and parameters: {'eb': 0.030985104016693958}. Best is trial 3 with value: -25.625.\u001b[0m\n"
          ],
          "name": "stderr"
        },
        {
          "output_type": "display_data",
          "data": {
            "text/html": [
              ""
            ],
            "text/plain": [
              "<IPython.core.display.HTML object>"
            ]
          },
          "metadata": {
            "tags": []
          }
        },
        {
          "output_type": "stream",
          "text": [
            "\u001b[32m[I 2020-12-29 14:26:45,818]\u001b[0m Trial 9 finished with value: -12.291666984558105 and parameters: {'eb': 0.03374553985680278}. Best is trial 3 with value: -25.625.\u001b[0m\n"
          ],
          "name": "stderr"
        },
        {
          "output_type": "execute_result",
          "data": {
            "text/plain": [
              "{'eb': 0.0877108482599416}"
            ]
          },
          "metadata": {
            "tags": []
          },
          "execution_count": 80
        }
      ]
    },
    {
      "cell_type": "markdown",
      "metadata": {
        "id": "aFxQSkkh9nlQ"
      },
      "source": [
        "# Demoモード\r\n",
        "\r\n",
        "Colab では表示できません"
      ]
    },
    {
      "cell_type": "code",
      "metadata": {
        "id": "50QeBOYDgwWj"
      },
      "source": [
        "random.seed(datetime.now())\r\n",
        "DEFAULTSEED = random.randint(1, 10000)\r\n",
        "import time\r\n",
        "\r\n",
        "model = Model(NFRAMES).to(device)\r\n",
        "model.load_state_dict(torch.load(SAVEFOLDER+\"/model\" ))\r\n",
        "game = Game(seed=DEFAULTSEED, k=NFRAMES,skip=2,noop_max=0,demo=True)\r\n",
        "\r\n",
        "def _toTT(obs: np.ndarray) -> torch.Tensor:\r\n",
        "    return torch.tensor(obs, dtype=torch.float32, device=device) / 255.0    \r\n",
        "\r\n",
        "for i in range(10):\r\n",
        "    print(i,end='')\r\n",
        "    observation = game.reset()  \r\n",
        "    while True:\r\n",
        "        time.sleep(0.02)\r\n",
        "        game.render()\r\n",
        "        pi, v = model(_toTT(observation))\r\n",
        "        action = pi.sample().cpu().numpy()[0] # 方策関数によりアクションを決定\r\n",
        "        observation, reward, done, info = game.step(action) \r\n",
        "        if done: \r\n",
        "          break;\r\n",
        "        \r\n",
        "game.close()"
      ],
      "execution_count": null,
      "outputs": []
    },
    {
      "cell_type": "code",
      "metadata": {
        "id": "Uq_ns9qe51Dd"
      },
      "source": [
        ""
      ],
      "execution_count": null,
      "outputs": []
    }
  ]
}