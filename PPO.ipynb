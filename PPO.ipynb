{
  "nbformat": 4,
  "nbformat_minor": 0,
  "metadata": {
    "colab": {
      "name": "PPO.ipynb",
      "provenance": [],
      "collapsed_sections": [],
      "toc_visible": true,
      "include_colab_link": true
    },
    "kernelspec": {
      "display_name": "Python 3",
      "language": "python",
      "name": "python3"
    },
    "language_info": {
      "codemirror_mode": {
        "name": "ipython",
        "version": 3
      },
      "file_extension": ".py",
      "mimetype": "text/x-python",
      "name": "python",
      "nbconvert_exporter": "python",
      "pygments_lexer": "ipython3",
      "version": "3.6.9"
    },
    "accelerator": "GPU"
  },
  "cells": [
    {
      "cell_type": "markdown",
      "metadata": {
        "id": "view-in-github",
        "colab_type": "text"
      },
      "source": [
        "<a href=\"https://colab.research.google.com/github/aquapathos/MLLesson/blob/master/PPO.ipynb\" target=\"_parent\"><img src=\"https://colab.research.google.com/assets/colab-badge.svg\" alt=\"Open In Colab\"/></a>"
      ]
    },
    {
      "cell_type": "markdown",
      "metadata": {
        "id": "8CS72K-uiAQn"
      },
      "source": [
        "# AtariスペースインベーダのPPO による強化学習の実装\n",
        "\n",
        "参考\n",
        "\n",
        "- https://github.com/vpj/rl_samples\n",
        "http://blog.varunajayasiri.com/ml/ppo_pytorch.html\n",
        "\n",
        "ほぼそのままです。違いはクラウドログサービスを WandB に変更してあることと、そのままだと過学習のせいか得点が伸びずに戦略が固まってしまうようなので、εグリーディを pytorch だよりとは別に設定できるようにした点ぐらいです。\n",
        "\n",
        "#### 他に参考にしたサイト\n",
        "\n",
        "- [PythonでPPOを実装してみた](https://qiita.com/oki_uta_aiota/items/a15ba5de6ed3c1268ed3#%E5%85%A8%E4%BD%93%E3%81%AE%E3%82%B3%E3%83%BC%E3%83%89)"
      ]
    },
    {
      "cell_type": "code",
      "metadata": {
        "colab": {
          "base_uri": "https://localhost:8080/"
        },
        "id": "4S2e1GxIKGiA",
        "outputId": "92e1c4c5-99bb-4fbd-d771-05de88b47bce"
      },
      "source": [
        "import random\n",
        "import time\n",
        "random.seed(time.time())\n",
        "\n",
        "import torch\n",
        "device = torch.device('cuda:0' if torch.cuda.is_available() else 'cpu')\n",
        "print(repr(device))"
      ],
      "execution_count": null,
      "outputs": [
        {
          "output_type": "stream",
          "text": [
            "device(type='cpu')\n"
          ],
          "name": "stdout"
        }
      ]
    },
    {
      "cell_type": "code",
      "metadata": {
        "colab": {
          "base_uri": "https://localhost:8080/"
        },
        "id": "Y7B5y3RLEPsY",
        "outputId": "7a0d8fea-f2b7-45ef-fc8e-e84e5c492217"
      },
      "source": [
        "from google.colab import drive\n",
        "drive.mount('/content/drive')"
      ],
      "execution_count": null,
      "outputs": [
        {
          "output_type": "stream",
          "text": [
            "Mounted at /content/drive\n"
          ],
          "name": "stdout"
        }
      ]
    },
    {
      "cell_type": "markdown",
      "metadata": {
        "id": "M_ndL3LBK3Vg"
      },
      "source": [
        "# 外部ライブラリの追加"
      ]
    },
    {
      "cell_type": "code",
      "metadata": {
        "id": "l7cJQgKWihEN"
      },
      "source": [
        "!pip install pfrl > /dev/null\n",
        "!pip install wandb > /dev/null\n",
        "!pip install fastprogress > /dev/null\n",
        "#!pip install gym[atari] > /dev/null"
      ],
      "execution_count": null,
      "outputs": []
    },
    {
      "cell_type": "code",
      "metadata": {
        "id": "avyWPx9-iAQ-"
      },
      "source": [
        "import multiprocessing\n",
        "import multiprocessing.connection\n",
        "from typing import Dict, List\n",
        "from fastprogress.fastprogress import master_bar, progress_bar\n",
        "\n",
        "import gym\n",
        "from gym import ObservationWrapper\n",
        "from gym.spaces import Box\n",
        "\n",
        "import cv2\n",
        "import numpy as np\n",
        "import torch\n",
        "\n",
        "from torch import nn\n",
        "from torch import optim\n",
        "from torch.distributions import Categorical\n",
        "from torch.nn import functional as F\n",
        "\n",
        "from pfrl.wrappers.atari_wrappers import FrameStack,NoopResetEnv,MaxAndSkipEnv\n",
        "from PIL import Image\n",
        "from IPython.display import display\n",
        "import matplotlib.pyplot as plt\n",
        "\n",
        "import shutil"
      ],
      "execution_count": null,
      "outputs": []
    },
    {
      "cell_type": "markdown",
      "metadata": {
        "id": "pvyoQhmZLybp"
      },
      "source": [
        "# ラッパー定義"
      ]
    },
    {
      "cell_type": "code",
      "metadata": {
        "id": "4mJYbVP1TMCN"
      },
      "source": [
        ""
      ],
      "execution_count": null,
      "outputs": []
    },
    {
      "cell_type": "code",
      "metadata": {
        "id": "yq2fQjdZiARA",
        "colab": {
          "base_uri": "https://localhost:8080/",
          "height": 232
        },
        "outputId": "a6d13851-3ef4-4441-8b7e-7930df7c84de"
      },
      "source": [
        "class myCrop(ObservationWrapper):\n",
        "    def __init__(self, env, tmgn=0, bmgn=0,lmgn=0,rmgn=0,igcolors=[],bgcolor=[0,0,0]):\n",
        "        super(myCrop, self).__init__(env)\n",
        "        self.tmgn, self.bmgn = tmgn, bmgn\n",
        "        self.lmgn, self.rmgn = lmgn, rmgn\n",
        "        self.igcolors, self.bgcolors = igcolors, bgcolor\n",
        "        self.observation_space = Box(low=0, high=255, shape=(84,84), dtype=np.uint8)\n",
        "    def observation(self, obs):\n",
        "        img_mask = np.zeros(obs.shape[:2],np.uint8)\n",
        "        for color in self.igcolors:\n",
        "            bgrLower = np.array(color)    \n",
        "            bgrUpper = np.array(color)\n",
        "            tmask = cv2.inRange(obs, bgrLower, bgrUpper) \n",
        "            img_mask = cv2.bitwise_or(img_mask,tmask)\n",
        "        obs = cv2.bitwise_and(obs,obs,mask=255-img_mask) # 元画像とマスクを合成\n",
        "        RIGHT=obs.shape[1]-self.rmgn\n",
        "        BOTTOM=obs.shape[0]-self.bmgn\n",
        "        obs = obs[self.tmgn:BOTTOM,self.lmgn:RIGHT]\n",
        "        obs = cv2.cvtColor(obs, cv2.COLOR_RGB2GRAY)\n",
        "        observation = cv2.resize(obs, (84, 84), interpolation=cv2.INTER_AREA)\n",
        "        return observation\n",
        "\n",
        "class myFrameStack(FrameStack):\n",
        "    def __init__(self, env, k=8, demo=False, mode=0):\n",
        "        super(myFrameStack, self).__init__(env, k=k, channel_order=\"chw\")\n",
        "        self.lives = 0\n",
        "        self.lsumrewards = 0\n",
        "        self.localsteps = 0\n",
        "        self.demo = demo\n",
        "        self.mode = mode\n",
        "    def reset(self):\n",
        "        ob = self.env.reset()\n",
        "        for _ in range(self.k):\n",
        "            self.frames.append(ob)\n",
        "        return self._reset()\n",
        "    def _reset(self):\n",
        "        self.lives = self.env.unwrapped.ale.lives()\n",
        "        self.lsumrewards = 0\n",
        "        self.localsteps = 0\n",
        "        return  np.array([list(self.frames)])\n",
        "    def step(self, action):\n",
        "        self.localsteps += 1  \n",
        "        ob, reward, done1, info = self.env.step(action)\n",
        "        self.lsumrewards += reward\n",
        "        self.frames.append(ob)\n",
        "        returnobs = np.array([list(self.frames)])\n",
        "        episode_info = None\n",
        "        if self.demo:\n",
        "            return returnobs,rewad,done1,info\n",
        "        # 残機数確認\n",
        "        else: # if train mode\n",
        "            lives = self.env.unwrapped.ale.lives()\n",
        "            if done1 or lives < self.lives: # １機死んだら終了とする\n",
        "                done = True\n",
        "                episode_info = {\"reward\": self.lsumrewards, \"length\": self.localsteps}\n",
        "                if done1 or self.mode == 0: \n",
        "                  self.reset() \n",
        "                else: # mode 1 ライフが減っただけの場合はシーンは継続\n",
        "                  self._reset()\n",
        "            else:\n",
        "                done = False\n",
        "            return returnobs, reward, done, episode_info\n",
        "\n",
        "def mkenv(envname,k=8,skip=2,tmgn=0,bmgn=0,lmgn=0,rmgn=0,igcolors=[],noop_max=30, demo=False):\n",
        "  env=gym.make(envname)\n",
        "  if noop_max > 0:\n",
        "      env = NoopResetEnv(env, noop_max=noop_max)\n",
        "  if skip > 1:\n",
        "      env = MaxAndSkipEnv(env, skip=skip)\n",
        "  env=myCrop(env, tmgn=tmgn, bmgn=bmgn, lmgn=lmgn, rmgn=rmgn, igcolors=igcolors)\n",
        "  env=myFrameStack(env,k=k,demo=demo)\n",
        "  return env"
      ],
      "execution_count": 1,
      "outputs": [
        {
          "output_type": "error",
          "ename": "NameError",
          "evalue": "ignored",
          "traceback": [
            "\u001b[0;31m---------------------------------------------------------------------------\u001b[0m",
            "\u001b[0;31mNameError\u001b[0m                                 Traceback (most recent call last)",
            "\u001b[0;32m<ipython-input-1-3319f9d7ed0c>\u001b[0m in \u001b[0;36m<module>\u001b[0;34m()\u001b[0m\n\u001b[0;32m----> 1\u001b[0;31m \u001b[0;32mclass\u001b[0m \u001b[0mmyCrop\u001b[0m\u001b[0;34m(\u001b[0m\u001b[0mObservationWrapper\u001b[0m\u001b[0;34m)\u001b[0m\u001b[0;34m:\u001b[0m\u001b[0;34m\u001b[0m\u001b[0;34m\u001b[0m\u001b[0m\n\u001b[0m\u001b[1;32m      2\u001b[0m     \u001b[0;32mdef\u001b[0m \u001b[0m__init__\u001b[0m\u001b[0;34m(\u001b[0m\u001b[0mself\u001b[0m\u001b[0;34m,\u001b[0m \u001b[0menv\u001b[0m\u001b[0;34m,\u001b[0m \u001b[0mtmgn\u001b[0m\u001b[0;34m=\u001b[0m\u001b[0;36m0\u001b[0m\u001b[0;34m,\u001b[0m \u001b[0mbmgn\u001b[0m\u001b[0;34m=\u001b[0m\u001b[0;36m0\u001b[0m\u001b[0;34m,\u001b[0m\u001b[0mlmgn\u001b[0m\u001b[0;34m=\u001b[0m\u001b[0;36m0\u001b[0m\u001b[0;34m,\u001b[0m\u001b[0mrmgn\u001b[0m\u001b[0;34m=\u001b[0m\u001b[0;36m0\u001b[0m\u001b[0;34m,\u001b[0m\u001b[0migcolors\u001b[0m\u001b[0;34m=\u001b[0m\u001b[0;34m[\u001b[0m\u001b[0;34m]\u001b[0m\u001b[0;34m,\u001b[0m\u001b[0mbgcolor\u001b[0m\u001b[0;34m=\u001b[0m\u001b[0;34m[\u001b[0m\u001b[0;36m0\u001b[0m\u001b[0;34m,\u001b[0m\u001b[0;36m0\u001b[0m\u001b[0;34m,\u001b[0m\u001b[0;36m0\u001b[0m\u001b[0;34m]\u001b[0m\u001b[0;34m)\u001b[0m\u001b[0;34m:\u001b[0m\u001b[0;34m\u001b[0m\u001b[0;34m\u001b[0m\u001b[0m\n\u001b[1;32m      3\u001b[0m         \u001b[0msuper\u001b[0m\u001b[0;34m(\u001b[0m\u001b[0mmyCrop\u001b[0m\u001b[0;34m,\u001b[0m \u001b[0mself\u001b[0m\u001b[0;34m)\u001b[0m\u001b[0;34m.\u001b[0m\u001b[0m__init__\u001b[0m\u001b[0;34m(\u001b[0m\u001b[0menv\u001b[0m\u001b[0;34m)\u001b[0m\u001b[0;34m\u001b[0m\u001b[0;34m\u001b[0m\u001b[0m\n\u001b[1;32m      4\u001b[0m         \u001b[0mself\u001b[0m\u001b[0;34m.\u001b[0m\u001b[0mtmgn\u001b[0m\u001b[0;34m,\u001b[0m \u001b[0mself\u001b[0m\u001b[0;34m.\u001b[0m\u001b[0mbmgn\u001b[0m \u001b[0;34m=\u001b[0m \u001b[0mtmgn\u001b[0m\u001b[0;34m,\u001b[0m \u001b[0mbmgn\u001b[0m\u001b[0;34m\u001b[0m\u001b[0;34m\u001b[0m\u001b[0m\n\u001b[1;32m      5\u001b[0m         \u001b[0mself\u001b[0m\u001b[0;34m.\u001b[0m\u001b[0mlmgn\u001b[0m\u001b[0;34m,\u001b[0m \u001b[0mself\u001b[0m\u001b[0;34m.\u001b[0m\u001b[0mrmgn\u001b[0m \u001b[0;34m=\u001b[0m \u001b[0mlmgn\u001b[0m\u001b[0;34m,\u001b[0m \u001b[0mrmgn\u001b[0m\u001b[0;34m\u001b[0m\u001b[0;34m\u001b[0m\u001b[0m\n",
            "\u001b[0;31mNameError\u001b[0m: name 'ObservationWrapper' is not defined"
          ]
        }
      ]
    },
    {
      "cell_type": "markdown",
      "metadata": {
        "id": "uWIH0JlWiARD"
      },
      "source": [
        "# Game Environment の定義"
      ]
    },
    {
      "cell_type": "code",
      "metadata": {
        "id": "8bc2-DseiARG"
      },
      "source": [
        "import random\n",
        "from datetime import datetime\n",
        "random.seed(datetime.now())\n",
        "DEFAULTSEED = random.randint(1, 10000)\n",
        "def Game(seed=DEFAULTSEED,k=8,skip=2,noop_max=30):\n",
        "    ENV_NAME = 'SpaceInvadersNoFrameskip-v4'\n",
        "    Tmgn=20\n",
        "    Bmgn=12\n",
        "    Lmgn=8\n",
        "    Rmgn=8\n",
        "    #NOCOLOR=[[162,134,56]]  # 背景と同一視するカラー\n",
        "    NOCOLOR=[]\n",
        "\n",
        "    env = mkenv(ENV_NAME,k,skip,Tmgn,Bmgn,Lmgn,Rmgn,NOCOLOR,noop_max=noop_max)\n",
        "    env.seed(seed)\n",
        "    return env"
      ],
      "execution_count": null,
      "outputs": []
    },
    {
      "cell_type": "markdown",
      "metadata": {
        "id": "zhWKKV7miARI"
      },
      "source": [
        "### 補足\n",
        "**k** : 過去何フレーム分の画面をデータとするか  \n",
        "**skip** : 何フレームおきにサンプリングするか  \n",
        "**Tmgn,Bmgn,Lmgn,Rmgn** カットする余白量  \n",
        "**NOCOLOR** 黒に置き換える色をRGB指定。複数指定可能  \n",
        "上の設定はインベーダ決め打ち\n",
        "\n",
        "## 動作確認"
      ]
    },
    {
      "cell_type": "code",
      "metadata": {
        "colab": {
          "base_uri": "https://localhost:8080/",
          "height": 730
        },
        "id": "ZisujiNyiARJ",
        "outputId": "bb0974a7-f9b7-44d9-83af-1a85209c586e"
      },
      "source": [
        "import random\n",
        "from datetime import datetime\n",
        "DEFAULTSEED = random.seed(datetime.now())\n",
        "\n",
        "# 原画像が表示できるかテスト\n",
        "game = Game(DEFAULTSEED,7)\n",
        "orgimg = game.render(mode='rgb_array')\n",
        "display(Image.fromarray(orgimg))\n",
        "display(orgimg.shape)\n",
        "\n",
        "# リセット画像の確認\n",
        "plt.figure(figsize=(8,4),dpi=150)\n",
        "imgs = game.reset()\n",
        "imgs = imgs[0]\n",
        "for i,img in enumerate(imgs):\n",
        "    plt.subplot(2,8,i+1)\n",
        "    plt.imshow(img)\n",
        "# ステップ画像の確認\n",
        "for _ in range(60):\n",
        "  imgs,r,d,i= game.step(game.action_space.sample()) \n",
        "imgs = imgs[0]\n",
        "for i,img in enumerate(imgs):\n",
        "    plt.subplot(2,8,i+9)\n",
        "    plt.imshow(img)\n",
        "    \n",
        "# Check types\n",
        "display(imgs.shape,imgs[0,0,0],imgs[0,40,40],type(imgs[0,0,0]))"
      ],
      "execution_count": null,
      "outputs": [
        {
          "output_type": "display_data",
          "data": {
            "image/png": "[encoded data removed]",
            "text/plain": [
              "<PIL.Image.Image image mode=RGB size=160x210 at 0x7FD49FF661D0>"
            ]
          },
          "metadata": {
            "tags": []
          }
        },
        {
          "output_type": "display_data",
          "data": {
            "text/plain": [
              "(210, 160, 3)"
            ]
          },
          "metadata": {
            "tags": []
          }
        },
        {
          "output_type": "display_data",
          "data": {
            "text/plain": [
              "(7, 84, 84)"
            ]
          },
          "metadata": {
            "tags": []
          }
        },
        {
          "output_type": "display_data",
          "data": {
            "text/plain": [
              "0"
            ]
          },
          "metadata": {
            "tags": []
          }
        },
        {
          "output_type": "display_data",
          "data": {
            "text/plain": [
              "94"
            ]
          },
          "metadata": {
            "tags": []
          }
        },
        {
          "output_type": "display_data",
          "data": {
            "text/plain": [
              "numpy.uint8"
            ]
          },
          "metadata": {
            "tags": []
          }
        },
        {
          "output_type": "display_data",
          "data": {
            "image/png": "[encoded data removed]",
            "text/plain": [
              "<Figure size 1200x600 with 14 Axes>"
            ]
          },
          "metadata": {
            "tags": [],
            "needs_background": "light"
          }
        }
      ]
    },
    {
      "cell_type": "markdown",
      "metadata": {
        "id": "iLOJWZ3ZM9hb"
      },
      "source": [
        "# PPO用ニューラルネットのモデル定義"
      ]
    },
    {
      "cell_type": "code",
      "metadata": {
        "id": "S-EyRai1iARP"
      },
      "source": [
        "class Model(nn.Module):\n",
        "\n",
        "    def __init__(self,nframes=8):\n",
        "        super().__init__()\n",
        "\n",
        "        # 4x84x84 → 32x20x20 \n",
        "        self.conv1 = nn.Conv2d(in_channels=nframes, out_channels=64, kernel_size=8, stride=4)\n",
        "        # 32x20x20 →64x9x9\n",
        "        self.conv2 = nn.Conv2d(in_channels=64, out_channels=64, kernel_size=4, stride=2)\n",
        "        # 64x9x9 → 64x7x7 \n",
        "        self.conv3 = nn.Conv2d(in_channels=64, out_channels=64, kernel_size=3, stride=1)\n",
        "        # 64x7x7 → 512 \n",
        "        self.lin = nn.Linear(in_features=7 * 7 * 64, out_features=256)\n",
        "        # 512 → 4 actions 0-1 （行動決定）\n",
        "        self.pi_logits = nn.Linear(in_features=256, out_features=4)\n",
        "        # 行動価値\n",
        "        self.value = nn.Linear(in_features=256, out_features=1)\n",
        "\n",
        "    def forward(self, obs: torch.Tensor):\n",
        "        h = F.relu(self.conv1(obs))\n",
        "        h = F.relu(self.conv2(h))\n",
        "        h = F.relu(self.conv3(h))\n",
        "        h = h.reshape((-1, 7 * 7 * 64))\n",
        "\n",
        "        h = F.relu(self.lin(h))\n",
        "\n",
        "        pi = Categorical(logits=self.pi_logits(h))\n",
        "        value = self.value(h).reshape(-1)\n",
        "\n",
        "        return pi, value"
      ],
      "execution_count": null,
      "outputs": []
    },
    {
      "cell_type": "code",
      "metadata": {
        "colab": {
          "base_uri": "https://localhost:8080/",
          "height": 237
        },
        "id": "tGVSB2NriARV",
        "scrolled": true,
        "outputId": "f9744d1d-10b6-443e-c760-27a380206809"
      },
      "source": [
        "model = Model(16)\n",
        "model.to(device)\n",
        "game = Game(0,16)\n",
        "obs = game.reset()\n",
        "pi,v = model.forward(torch.tensor(obs,dtype=torch.float32,device=device)/255)\n",
        "a0 = pi.sample() # 方策関数によりアクションを決定\n",
        "a = a0[0] # アクション番号の数値化\n",
        "b = pi.log_prob(a0) # \n",
        "\n",
        "display(obs.shape) # 画面データのシェイプを表示\n",
        "display(a0)\n",
        "display(a) # 選ばれたアクション番号を表示\n",
        "display(b) # \n",
        "display(v.detach()) # 状態価値を表示\n",
        "display(model) # モデルを表示"
      ],
      "execution_count": null,
      "outputs": [
        {
          "output_type": "display_data",
          "data": {
            "text/plain": [
              "(1, 16, 84, 84)"
            ]
          },
          "metadata": {
            "tags": []
          }
        },
        {
          "output_type": "display_data",
          "data": {
            "text/plain": [
              "tensor([1])"
            ]
          },
          "metadata": {
            "tags": []
          }
        },
        {
          "output_type": "display_data",
          "data": {
            "text/plain": [
              "tensor(1)"
            ]
          },
          "metadata": {
            "tags": []
          }
        },
        {
          "output_type": "display_data",
          "data": {
            "text/plain": [
              "tensor([-1.3743], grad_fn=<SqueezeBackward1>)"
            ]
          },
          "metadata": {
            "tags": []
          }
        },
        {
          "output_type": "display_data",
          "data": {
            "text/plain": [
              "tensor([-0.0286])"
            ]
          },
          "metadata": {
            "tags": []
          }
        },
        {
          "output_type": "display_data",
          "data": {
            "text/plain": [
              "Model(\n",
              "  (conv1): Conv2d(16, 64, kernel_size=(8, 8), stride=(4, 4))\n",
              "  (conv2): Conv2d(64, 64, kernel_size=(4, 4), stride=(2, 2))\n",
              "  (conv3): Conv2d(64, 64, kernel_size=(3, 3), stride=(1, 1))\n",
              "  (lin): Linear(in_features=3136, out_features=256, bias=True)\n",
              "  (pi_logits): Linear(in_features=256, out_features=4, bias=True)\n",
              "  (value): Linear(in_features=256, out_features=1, bias=True)\n",
              ")"
            ]
          },
          "metadata": {
            "tags": []
          }
        }
      ]
    },
    {
      "cell_type": "markdown",
      "metadata": {
        "id": "mYvKriYliARb"
      },
      "source": [
        "# Multiprocessing Playloop\n",
        "# 学習のメインプログラム"
      ]
    },
    {
      "cell_type": "code",
      "metadata": {
        "id": "ghC4pGrBiARh"
      },
      "source": [
        "def playloop(agent: multiprocessing.connection.Connection,seed:int,k=8,skip=2,noop_max=30):\n",
        "\n",
        "    # create game\n",
        "    game = Game(seed=seed, k=k,skip=skip,noop_max=noop_max)\n",
        "    # AI player \n",
        "    while True:\n",
        "        cmd, action = agent.recv()\n",
        "        if cmd == \"step\":\n",
        "            agent.send(game.step(action))\n",
        "        elif cmd == \"reset\":\n",
        "            agent.send(game.reset())\n",
        "        elif cmd == \"close\":\n",
        "            agent.close()\n",
        "            break\n",
        "        else:\n",
        "            raise NotImplementedError\n",
        "\n",
        "class CoPlayer:\n",
        "    def __init__(self, seed, k=8,skip=2,noop_max=30):\n",
        "        self.child, parent = multiprocessing.Pipe()\n",
        "        self.process = multiprocessing.Process(target=playloop, args=(parent, seed, k,skip,noop_max))\n",
        "        self.process.start()"
      ],
      "execution_count": null,
      "outputs": []
    },
    {
      "cell_type": "markdown",
      "metadata": {
        "id": "uQr3RqvxEoHA"
      },
      "source": [
        "### パイプ動作確認"
      ]
    },
    {
      "cell_type": "code",
      "metadata": {
        "colab": {
          "base_uri": "https://localhost:8080/"
        },
        "id": "hv7YYQpo6HGy",
        "outputId": "41ef4c18-6386-4d50-b4fe-f4749b9f26c1"
      },
      "source": [
        "cop2 = CoPlayer(0,8)\n",
        "cop2.child.send((\"reset\",None))\n",
        "a = cop2.child.recv()\n",
        "cop2.child.send((\"step\",1))\n",
        "a2,b,c,d = cop2.child.recv()\n",
        "cop2.child.send((\"close\",None))\n",
        "a.shape,a2.shape,b,c,d"
      ],
      "execution_count": null,
      "outputs": [
        {
          "output_type": "execute_result",
          "data": {
            "text/plain": [
              "((1, 8, 84, 84), (1, 8, 84, 84), 0.0, False, None)"
            ]
          },
          "metadata": {
            "tags": []
          },
          "execution_count": 13
        }
      ]
    },
    {
      "cell_type": "markdown",
      "metadata": {
        "id": "YLo5NlOfLFDJ"
      },
      "source": [
        "### ログフォルダの設定"
      ]
    },
    {
      "cell_type": "code",
      "metadata": {
        "id": "WuSlfu2Xn7b9"
      },
      "source": [
        "import os\n",
        "SAVEFOLDER = '/content/drive/MyDrive/M/ppo'\n",
        "os.makedirs(SAVEFOLDER,exist_ok=True)\n",
        "modelPath = SAVEFOLDER+\"/model\"  # モデルの重みファイル名  拡張子　.pt　省略 "
      ],
      "execution_count": null,
      "outputs": []
    },
    {
      "cell_type": "code",
      "metadata": {
        "id": "e4FcgTbTkBBd"
      },
      "source": [
        "# from tqdm.notebook import tqdm\n",
        "NCYCLES = 1000 # 学習サイクル数　（データ収集→学習　が1サイクル）\n",
        "\n",
        "END_GREEDY_Progress = 0.0 # 0.8  付加的な擾乱期間　開始から全体の 0.8\n",
        "GreedyEPS_START = 0.03 # 0.3 擾乱期間開始時の付加的擾乱\n",
        "GreedyEPS_END = 0.01 # 0.1 擾乱期間終了後の付加的擾乱\n",
        "\n",
        "END_LOSTLIFE_Penalty_Progress = 1.0 # 1.0  初期の仮ペナルティ適用期間　開始から終了までの期間に対する割合\n",
        "\n",
        "# Hyper Parameters\n",
        "GAMMA = 0.93 # 0.99\n",
        "LAMDA = 0.90 # 0.906\n",
        "EPOCHS =  4 # サンプル１セットを何度学習プロセスに通すか\n",
        "NPLAYERS = 8 # 並列実行する数game\n",
        "NBATCHES = 256 # １度に処理するデータ数\n",
        "NDIVIDE = 4 # バッチの分割数\n",
        "SEEDZero = random.randint(1,10000)\n",
        "LearningRate = 0.0015\n",
        "NFRAMES = 6\n",
        "W_VFLOSS = 0.5 # loss におけるvfloss の重み\n",
        "W_BONUS = 0.01 # loss における entropy bonus の重み\n",
        "CLIPRANGE = 0.2 # ## Run it"
      ],
      "execution_count": null,
      "outputs": []
    },
    {
      "cell_type": "code",
      "metadata": {
        "id": "5vrWOt3NiARi"
      },
      "source": [
        "class Main:\n",
        "\n",
        "    def __init__(self,seed=SEEDZero,k=NFRAMES,skip=2,deadloss=38,noop_max=16,resume=False,lr=LearningRate,gamma=GAMMA):\n",
        "\n",
        "        self.lr = lr\n",
        "        self.gamma = gamma\n",
        "        self.k = k\n",
        "        self.lifes = 0 # 失った機体数 lost lifes\n",
        "        self.cycles = 0 # バッチ回数\n",
        "        self.deadloss = deadloss\n",
        "\n",
        "        self.progress = 0\n",
        "        \n",
        "        # 1サイクルに必要なサンプル数\n",
        "        self.batch_size = NPLAYERS * NBATCHES\n",
        "        # ミニバッチのサイズ\n",
        "        self.mini_batch_size = self.batch_size // NDIVIDE\n",
        "\n",
        "        # 初期化\n",
        "        # CoPlayerの生成\n",
        "        self.coplayers = [CoPlayer(seed + i, k,) for i in range(NPLAYERS)]\n",
        "\n",
        "        # 観測情報の初期化　この部分を float や tensor にすると k が４に制限されてしまうので int で\n",
        "        self.obs = np.zeros((NPLAYERS, k, 84, 84), dtype=np.uint8)\n",
        "        for player in self.coplayers:\n",
        "            player.child.send((\"reset\", None))\n",
        "        for i, player in enumerate(self.coplayers):\n",
        "            self.obs[i] = player.child.recv()\n",
        "\n",
        "        # model for sampling\n",
        "        self.model = model = Model(k).to(device)\n",
        "        if resume: # 学習済み重みがある場合\n",
        "          shutil.copy( modelPath+'.pt', modelPath+'.bak.pt')\n",
        "          if torch.cuda.is_available():\n",
        "            self.model.load_state_dict(torch.load(modelPath+'.pt'))\n",
        "          else: #  gpu ありを前提としているが、cpu で続きを計算したい場合\n",
        "            self.model.load_state_dict(torch.load(modelPath+'.pt', map_location=torch.device('cpu')))\n",
        "\n",
        "        # optimizer\n",
        "        # lr = LearningRate\n",
        "        optimizers = {}\n",
        "        # optimizers['SGD'] = optim.SGD(model.parameters(), lr)\n",
        "        # optimizers['Adagrad'] = optim.Adagrad(model.parameters(), lr)\n",
        "        # optimizers['RMSprop'] = optim.RMSprop(model.parameters(), lr)\n",
        "        # optimizers['Adadelta'] = optim.Adadelta(model.parameters(), lr)\n",
        "        # optimizers['Adam'] = optim.Adam(model.parameters(), lr)\n",
        "        optimizers['AdamW'] = optim.AdamW(model.parameters(), lr)\n",
        "        self.optimizer = optimizers['AdamW']\n",
        "\n",
        "    @staticmethod\n",
        "    def _toTT(obs: np.ndarray) -> torch.Tensor:\n",
        "        return torch.tensor(obs, dtype=torch.float32, device=device) / 255.0\n",
        "\n",
        "    @staticmethod\n",
        "    def _normalize(adv: torch.Tensor):\n",
        "        return (adv - adv.mean()) / (adv.std() + 1e-8)\n",
        "\n",
        "    def sample(self) -> (Dict[str, torch.Tensor], List):\n",
        "        # 学習データの記憶域確保\n",
        "        rewards = np.zeros((NPLAYERS, NBATCHES), dtype=np.float32)\n",
        "        actions = np.zeros((NPLAYERS, NBATCHES), dtype=np.int32)\n",
        "        done = np.zeros((NPLAYERS, NBATCHES), dtype=np.bool)\n",
        "        obs = np.zeros((NPLAYERS, NBATCHES, self.k, 84, 84), dtype=np.float32)\n",
        "        log_pis = np.zeros((NPLAYERS, NBATCHES), dtype=np.float32)\n",
        "        values = np.zeros((NPLAYERS, NBATCHES), dtype=np.float32)\n",
        "        \n",
        "        # 画像データの初期化\n",
        "        for t in progress_bar(range(NBATCHES), parent=self.mpbar):\n",
        "            with torch.no_grad(): # 傾きを固定して実行\n",
        "                obs[:, t] = self.obs\n",
        "                pi, v = self.model(self._toTT(self.obs))\n",
        "                values[:, t] = v.cpu().numpy()\n",
        "                a0 = pi.sample()\n",
        "                \n",
        "                # epsiron greedy action selection\n",
        "                if self.progress >= END_GREEDY_Progress:\n",
        "                    g_eps = GreedyEPS_END\n",
        "                else:\n",
        "                    g_eps = GreedyEPS_START + self.progress * (END_GREEDY_Progress- GreedyEPS_START)/END_GREEDY_Progress\n",
        "                for i in range(NPLAYERS):\n",
        "                    if torch.rand(1) <= g_eps: \n",
        "                        a0[i] = torch.randint(0,4,(1,))\n",
        "                a =a0.cpu().numpy()\n",
        "                actions[:, t] = a\n",
        "                log_pis[:, t] = pi.log_prob(a0).cpu().numpy()\n",
        "                \n",
        "            for w, player in enumerate(self.coplayers):\n",
        "                player.child.send((\"step\", actions[w, t]))\n",
        " \n",
        "            for w, player in enumerate(self.coplayers):\n",
        "                self.obs[w], rewards[w, t], done[w, t], info  =  player.child.recv()\n",
        "\n",
        "                if info : # info \n",
        "                    if self.progress >= END_LOSTLIFE_Penalty_Progress:\n",
        "                       dlrate = 0\n",
        "                    else:\n",
        "                       dlrate = 1 - self.progress/END_LOSTLIFE_Penalty_Progress \n",
        "                    rewards[w, t] -=  dlrate * self.deadloss\n",
        "                    self.lifes += 1\n",
        "                    wandb.log({'reward':info['reward'],'lengt':info['length']})\n",
        "                    wandb.log({'lifes':self.lifes,'cycles':self.cycles})\n",
        "             \n",
        "        # calculate advantages\n",
        "        advantages = self._calc_advantages(done, rewards, values)\n",
        "        samples = {\n",
        "            'obs': obs,\n",
        "            'actions': actions,\n",
        "            'values': values,\n",
        "            'log_pis': log_pis,\n",
        "            'advantages': advantages\n",
        "        }\n",
        "\n",
        "        samples_flat = {}\n",
        "        for k, v in samples.items():\n",
        "            v = v.reshape(v.shape[0] * v.shape[1], *v.shape[2:])\n",
        "            if k == 'obs':\n",
        "                samples_flat[k] = self._toTT(v)\n",
        "            else:\n",
        "                samples_flat[k] = torch.tensor(v, device=device)\n",
        "        return samples_flat, rewards[rewards>0].mean()\n",
        "\n",
        "    def _calc_advantages(self, done: np.ndarray, rewards: np.ndarray, values: torch.Tensor) -> np.ndarray:\n",
        "        advantages = np.zeros((NPLAYERS, NBATCHES), dtype=np.float32)\n",
        "        last_advantage = 0\n",
        "        _, last_value = self.model(self._toTT(self.obs))\n",
        "        last_value = last_value.cpu().data.numpy()\n",
        "\n",
        "        for t in reversed(range(NBATCHES)):\n",
        "            mask = 1 - done[:, t]\n",
        "            last_value = last_value * mask\n",
        "            last_advantage = last_advantage * mask\n",
        "            #delta = rewards[:, t] + GAMMA * last_value - values[:, t]\n",
        "            #last_advantage = delta + GAMMA * LAMDA * last_advantage\n",
        "            delta = rewards[:, t] + self.gamma * last_value - values[:, t]\n",
        "            last_advantage = delta + self.gamma * LAMDA * last_advantage\n",
        "            advantages[:, t] = last_advantage\n",
        "            last_value = values[:, t]\n",
        "\n",
        "        return advantages\n",
        "    \n",
        "    # 1サイクルの学習\n",
        "    def train(self, samples: Dict[str, torch.Tensor], learning_rate: float, clip_range: float):\n",
        "\n",
        "        for _ in range(EPOCHS):\n",
        "            # 並べ替え用の数列\n",
        "            indexes = torch.randperm(self.batch_size)\n",
        "\n",
        "            # ミニバッチ単位で処理\n",
        "            for start in range(0, self.batch_size, self.mini_batch_size):\n",
        "                # get mini batch\n",
        "                end = start + self.mini_batch_size\n",
        "                mini_batch_indexes = indexes[start: end]\n",
        "                mini_batch = {}\n",
        "                for k, v in samples.items():\n",
        "                    mini_batch[k] = v[mini_batch_indexes]\n",
        "\n",
        "                # train\n",
        "                loss = self._calc_loss(clip_range=clip_range,\n",
        "                                       samples=mini_batch)\n",
        "\n",
        "                # compute gradients\n",
        "                for pg in self.optimizer.param_groups:\n",
        "                    pg['lr'] = learning_rate\n",
        "                self.optimizer.zero_grad()\n",
        "                loss.backward()\n",
        "                torch.nn.utils.clip_grad_norm_(self.model.parameters(), max_norm=0.5)\n",
        "                self.optimizer.step()\n",
        "\n",
        "    def _calc_loss(self, samples: Dict[str, torch.Tensor], clip_range: float) -> torch.Tensor:\n",
        "        sampled_return = samples['values'] + samples['advantages']\n",
        "        sampled_normalized_advantage = self._normalize(samples['advantages'])\n",
        "        pi, value = self.model(samples['obs'])\n",
        "\n",
        "        # #### Policy\n",
        "        log_pi = pi.log_prob(samples['actions'])\n",
        "\n",
        "        ratio = torch.exp(log_pi - samples['log_pis'])\n",
        "\n",
        "        clipped_ratio = ratio.clamp(min=1.0 - clip_range,\n",
        "                                    max=1.0 + clip_range)\n",
        "        policy_reward = torch.min(ratio * sampled_normalized_advantage,\n",
        "                                  clipped_ratio * sampled_normalized_advantage)\n",
        "        policy_reward = policy_reward.mean()\n",
        "\n",
        "        # #### Entropy Bonus\n",
        "        entropy_bonus = pi.entropy()\n",
        "        entropy_bonus = entropy_bonus.mean()\n",
        "\n",
        "        # #### Value\n",
        "        clipped_value = samples['values'] + (value - samples['values']).clamp(min=-clip_range,\n",
        "                                                                              max=clip_range)\n",
        "        vf_loss = torch.max((value - sampled_return) ** 2, (clipped_value - sampled_return) ** 2)\n",
        "        vf_loss = 0.5 * vf_loss.mean()\n",
        "        loss = -(policy_reward - W_VFLOSS* vf_loss + W_BONUS  * entropy_bonus)\n",
        "\n",
        "        # for monitoring\n",
        "        approx_kl_divergence = .5 * ((samples['log_pis'] - log_pi) ** 2).mean()\n",
        "        clip_fraction = (abs((ratio - 1.0)) > clip_range).to(torch.float).mean()\n",
        "        \n",
        "        wandb.log({'policy_reward': policy_reward,\n",
        "                     'vf_loss': vf_loss,\n",
        "                     'entropy_bonus': entropy_bonus,\n",
        "                     'kl_div': approx_kl_divergence,\n",
        "                     'clip_fraction': clip_fraction})        \n",
        "        return loss\n",
        "\n",
        "    def run_training_loop(self):\n",
        "\n",
        "        ### Run training loop\n",
        "        self.mpbar = master_bar(range(NCYCLES))\n",
        "        for cycle in self.mpbar:\n",
        "            self.cycles = cycle \n",
        "            self.progress = progress = cycle / NCYCLES\n",
        "\n",
        "            # decreasing `learning_rate` and `clip_range` \n",
        "            #learning_rate = LearningRate * (1 - progress)\n",
        "            learning_rate = self.lr * (1 - progress)\n",
        "            clip_range = CLIPRANGE * (1 - progress)\n",
        "            samples,mrewards = self.sample()\n",
        "            # train the model\n",
        "            self.train(samples, learning_rate, clip_range)\n",
        "\n",
        "            # write summary info to the writer, and log to the screen\n",
        "            if (cycle + 1) % 10 == 0:\n",
        "                #torch.save(self.model.state_dict(),modelPath+'.pt' )SAVEFOLDER+\"/model\"\n",
        "                torch.save(self.model.state_dict(),SAVEFOLDER+\"/modelA\"+'.pt' )\n",
        "            if (cycle + 1) % 250 == 0:\n",
        "                torch.save(self.model.state_dict(),SAVEFOLDER+\"/modelA\"+'{}'.format(cycle+1)+'.pt')\n",
        "        torch.save(self.model.state_dict(),modelPath+'.pt')\n",
        "        return mrewards\n",
        "\n",
        "    def destroy(self):\n",
        "\n",
        "        for player in self.coplayers:\n",
        "            player.child.send((\"close\", None))"
      ],
      "execution_count": null,
      "outputs": []
    },
    {
      "cell_type": "markdown",
      "metadata": {
        "id": "ywW3eB4vLOa0"
      },
      "source": [
        "## W and B\n"
      ]
    },
    {
      "cell_type": "code",
      "metadata": {
        "colab": {
          "base_uri": "https://localhost:8080/",
          "height": 616
        },
        "id": "JmoHAp4qiAQ3",
        "scrolled": true,
        "outputId": "c90e879b-fe39-47fe-dbf7-1f024ead4dfc"
      },
      "source": [
        "# Inside my model training code \n",
        "import wandb\n",
        "PROJECTNAME='ppo5'\n",
        "wandb.init(project=PROJECTNAME)"
      ],
      "execution_count": null,
      "outputs": [
        {
          "output_type": "display_data",
          "data": {
            "application/javascript": [
              "\n",
              "        window._wandbApiKey = new Promise((resolve, reject) => {\n",
              "            function loadScript(url) {\n",
              "            return new Promise(function(resolve, reject) {\n",
              "                let newScript = document.createElement(\"script\");\n",
              "                newScript.onerror = reject;\n",
              "                newScript.onload = resolve;\n",
              "                document.body.appendChild(newScript);\n",
              "                newScript.src = url;\n",
              "            });\n",
              "            }\n",
              "            loadScript(\"https://cdn.jsdelivr.net/npm/postmate/build/postmate.min.js\").then(() => {\n",
              "            const iframe = document.createElement('iframe')\n",
              "            iframe.style.cssText = \"width:0;height:0;border:none\"\n",
              "            document.body.appendChild(iframe)\n",
              "            const handshake = new Postmate({\n",
              "                container: iframe,\n",
              "                url: 'https://wandb.ai/authorize'\n",
              "            });\n",
              "            const timeout = setTimeout(() => reject(\"Couldn't auto authenticate\"), 5000)\n",
              "            handshake.then(function(child) {\n",
              "                child.on('authorize', data => {\n",
              "                    clearTimeout(timeout)\n",
              "                    resolve(data)\n",
              "                });\n",
              "            });\n",
              "            })\n",
              "        });\n",
              "    "
            ],
            "text/plain": [
              "<IPython.core.display.Javascript object>"
            ]
          },
          "metadata": {
            "tags": []
          }
        },
        {
          "output_type": "stream",
          "text": [
            "\u001b[34m\u001b[1mwandb\u001b[0m: Appending key for api.wandb.ai to your netrc file: /root/.netrc\n"
          ],
          "name": "stderr"
        },
        {
          "output_type": "display_data",
          "data": {
            "text/html": [
              "\n",
              "                Tracking run with wandb version 0.10.12<br/>\n",
              "                Syncing run <strong style=\"color:#cdcd00\">fresh-field-2</strong> to <a href=\"https://wandb.ai\" target=\"_blank\">Weights & Biases</a> <a href=\"https://docs.wandb.com/integrations/jupyter.html\" target=\"_blank\">(Documentation)</a>.<br/>\n",
              "                Project page: <a href=\"https://wandb.ai/aquapathos/ppo5\" target=\"_blank\">https://wandb.ai/aquapathos/ppo5</a><br/>\n",
              "                Run page: <a href=\"https://wandb.ai/aquapathos/ppo5/runs/1q22tyds\" target=\"_blank\">https://wandb.ai/aquapathos/ppo5/runs/1q22tyds</a><br/>\n",
              "                Run data is saved locally in <code>/content/wandb/run-20201228_103602-1q22tyds</code><br/><br/>\n",
              "            "
            ],
            "text/plain": [
              "<IPython.core.display.HTML object>"
            ]
          },
          "metadata": {
            "tags": []
          }
        },
        {
          "output_type": "execute_result",
          "data": {
            "text/plain": [
              "<wandb.sdk.wandb_run.Run at 0x7fd498091128>"
            ],
            "text/html": [
              "<h1>Run(1q22tyds)</h1><p></p><iframe src=\"https://wandb.ai/aquapathos/ppo5/runs/1q22tyds\" style=\"border:none;width:100%;height:400px\"></iframe>"
            ]
          },
          "metadata": {
            "tags": []
          },
          "execution_count": 17
        }
      ]
    },
    {
      "cell_type": "code",
      "metadata": {
        "colab": {
          "base_uri": "https://localhost:8080/",
          "height": 57
        },
        "id": "xN_-yArl4PRu",
        "outputId": "107fc0c7-19d9-4df0-f7af-840f982ef399"
      },
      "source": [
        "if __name__ == \"__main__\":\n",
        "    # 初期のペナルティを deadloss とし、徐々に下げて終了時は０とする。　続きの場合は resume = True\n",
        "    m = Main(SEEDZero,k=NFRAMES,skip=2,deadloss=38,noop_max=16,resume=False)\n",
        "    m.run_training_loop()\n",
        "    m.destroy()"
      ],
      "execution_count": null,
      "outputs": [
        {
          "output_type": "display_data",
          "data": {
            "text/html": [
              "\n",
              "    <div>\n",
              "        <style>\n",
              "            /* Turns off some styling */\n",
              "            progress {\n",
              "                /* gets rid of default border in Firefox and Opera. */\n",
              "                border: none;\n",
              "                /* Needs to be in here for Safari polyfill so background images work as expected. */\n",
              "                background-size: auto;\n",
              "            }\n",
              "            .progress-bar-interrupted, .progress-bar-interrupted::-webkit-progress-bar {\n",
              "                background: #F44336;\n",
              "            }\n",
              "        </style>\n",
              "      <progress value='680' class='' max='1000' style='width:300px; height:20px; vertical-align: middle;'></progress>\n",
              "      68.00% [680/1000 4:20:22<2:02:31]\n",
              "    </div>\n",
              "    \n",
              "\n",
              "\n",
              "    <div>\n",
              "        <style>\n",
              "            /* Turns off some styling */\n",
              "            progress {\n",
              "                /* gets rid of default border in Firefox and Opera. */\n",
              "                border: none;\n",
              "                /* Needs to be in here for Safari polyfill so background images work as expected. */\n",
              "                background-size: auto;\n",
              "            }\n",
              "            .progress-bar-interrupted, .progress-bar-interrupted::-webkit-progress-bar {\n",
              "                background: #F44336;\n",
              "            }\n",
              "        </style>\n",
              "      <progress value='256' class='' max='256' style='width:300px; height:20px; vertical-align: middle;'></progress>\n",
              "      100.00% [256/256 00:04<00:00]\n",
              "    </div>\n",
              "    "
            ],
            "text/plain": [
              "<IPython.core.display.HTML object>"
            ]
          },
          "metadata": {
            "tags": []
          }
        }
      ]
    },
    {
      "cell_type": "code",
      "metadata": {
        "id": "y9Upl2kkiARk"
      },
      "source": [
        "# torch.save(model.state_dict(),'ppomodel')\n",
        "# model.load_state_dict(torch.load('ppomodel'))\n",
        "# torch.save(model.state_dict(),'ppomodel{}'.format(100))"
      ],
      "execution_count": null,
      "outputs": []
    },
    {
      "cell_type": "markdown",
      "metadata": {
        "id": "kAwx6KcNdA12"
      },
      "source": [
        "# [Optuna](https://optuna.org/)\r\n"
      ]
    },
    {
      "cell_type": "code",
      "metadata": {
        "id": "wqPP6e08dOYI"
      },
      "source": [
        "!pip install optuna > /dev/null"
      ],
      "execution_count": null,
      "outputs": []
    },
    {
      "cell_type": "code",
      "metadata": {
        "id": "lNoP7bO0dANJ"
      },
      "source": [
        "import optuna\r\n",
        "\r\n",
        "def objective(trial):\r\n",
        "    # Categorical parameter\r\n",
        "    # optimizer = trial.suggest_categorical('k', [2,4,6,8,10,14,16])\r\n",
        "\r\n",
        "    # Int parameter\r\n",
        "    # num_layers = trial.suggest_int('deladloss', 1, 51)\r\n",
        "\r\n",
        "    # Loguniform parameter\r\n",
        "    gamma = trial.suggest_loguniform('gamma', 0.90, 0.97)\r\n",
        "\r\n",
        "    m = Main(SEEDZero,k=NFRAMES,skip=2,deadloss=0,noop_max=16,resume=True,lr=0.0015,gamma=gamma)\r\n",
        "    mrewards = m.run_training_loop()\r\n",
        "    m.destroy()\r\n",
        "\r\n",
        "    return -mrewards\r\n",
        "\r\n",
        "study = optuna.create_study()\r\n",
        "study.optimize(objective, n_trials=10)\r\n",
        "study.best_params  # "
      ],
      "execution_count": null,
      "outputs": []
    },
    {
      "cell_type": "markdown",
      "metadata": {
        "id": "aFxQSkkh9nlQ"
      },
      "source": [
        "# Demoモード\r\n",
        "\r\n",
        "Colab では表示できません"
      ]
    },
    {
      "cell_type": "code",
      "metadata": {
        "id": "50QeBOYDgwWj"
      },
      "source": [
        "random.seed(datetime.now())\r\n",
        "DEFAULTSEED = random.randint(1, 10000)\r\n",
        "import time\r\n",
        "\r\n",
        "model = Model(NFRAMES).to(device)\r\n",
        "model.load_state_dict(torch.load(SAVEFOLDER+\"/model\" ))\r\n",
        "game = Game(seed=DEFAULTSEED, k=NFRAMES,skip=2,noop_max=0,demo=True)\r\n",
        "\r\n",
        "def _toTT(obs: np.ndarray) -> torch.Tensor:\r\n",
        "    return torch.tensor(obs, dtype=torch.float32, device=device) / 255.0    \r\n",
        "\r\n",
        "for i in range(10):\r\n",
        "    print(i,end='')\r\n",
        "    observation = game.reset()  \r\n",
        "    while True:\r\n",
        "        time.sleep(0.02)\r\n",
        "        game.render()\r\n",
        "        pi, v = model(_toTT(observation))\r\n",
        "        action = pi.sample().cpu().numpy()[0] # 方策関数によりアクションを決定\r\n",
        "        observation, reward, done, info = game.step(action) \r\n",
        "        if done: \r\n",
        "          break;\r\n",
        "        \r\n",
        "game.close()"
      ],
      "execution_count": null,
      "outputs": []
    },
    {
      "cell_type": "code",
      "metadata": {
        "id": "Uq_ns9qe51Dd"
      },
      "source": [
        ""
      ],
      "execution_count": null,
      "outputs": []
    }
  ]
}