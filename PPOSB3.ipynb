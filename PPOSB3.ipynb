{
  "nbformat": 4,
  "nbformat_minor": 0,
  "metadata": {
    "colab": {
      "name": "PPOSB3.ipynb",
      "provenance": [],
      "collapsed_sections": [],
      "authorship_tag": "ABX9TyMm2pXqKvy8qiLJhaEsO1nA",
      "include_colab_link": true
    },
    "kernelspec": {
      "name": "python3",
      "display_name": "Python 3"
    },
    "accelerator": "GPU"
  },
  "cells": [
    {
      "cell_type": "markdown",
      "metadata": {
        "id": "view-in-github",
        "colab_type": "text"
      },
      "source": [
        "<a href=\"https://colab.research.google.com/github/aquapathos/MLLesson/blob/master/PPOSB3.ipynb\" target=\"_parent\"><img src=\"https://colab.research.google.com/assets/colab-badge.svg\" alt=\"Open In Colab\"/></a>"
      ]
    },
    {
      "cell_type": "code",
      "metadata": {
        "id": "33kDiG7APzaf"
      },
      "source": [
        "!pip install stable-baselines3[extra] > /dev/null\r\n",
        "!pip install wandb > /dev/null"
      ],
      "execution_count": 1,
      "outputs": []
    },
    {
      "cell_type": "code",
      "metadata": {
        "colab": {
          "base_uri": "https://localhost:8080/"
        },
        "id": "7fEc8ZufRP-U",
        "outputId": "a94deb72-d5d3-4733-b214-062f88ccc3bb"
      },
      "source": [
        "from google.colab import drive\n",
        "drive.mount('/content/drive')"
      ],
      "execution_count": 2,
      "outputs": [
        {
          "output_type": "stream",
          "text": [
            "Mounted at /content/drive\n"
          ],
          "name": "stdout"
        }
      ]
    },
    {
      "cell_type": "code",
      "metadata": {
        "id": "LVJ0qCc0Pxcb",
        "colab": {
          "base_uri": "https://localhost:8080/"
        },
        "outputId": "aa9c1592-0c85-4a50-af39-26b9e3dd9289"
      },
      "source": [
        "from stable_baselines3.common.env_util import make_atari_env\r\n",
        "from stable_baselines3.common.vec_env import DummyVecEnv,SubprocVecEnv,VecFrameStack\r\n",
        "from stable_baselines3 import PPO\r\n",
        "import wandb,os\r\n",
        "import numpy as np\r\n",
        "from stable_baselines3.common.callbacks import BaseCallback\r\n",
        "from stable_baselines3.common.results_plotter import load_results, ts2xy\r\n",
        "from stable_baselines3.common.monitor import Monitor\r\n",
        "\r\n",
        "import torch\r\n",
        "device = torch.device('cuda:0' if torch.cuda.is_available() else 'cpu')\r\n",
        "print(repr(device))\r\n",
        "\r\n",
        "# Load the TensorBoard notebook extension\r\n",
        "#%load_ext tensorboard\r\n",
        "#%tensorboard --logdir ./logsP --host 0.0.0.0\r\n",
        "log_dir = \"/content/drive/MyDrive/M/logsP/\""
      ],
      "execution_count": 3,
      "outputs": [
        {
          "output_type": "stream",
          "text": [
            "device(type='cuda', index=0)\n"
          ],
          "name": "stdout"
        }
      ]
    },
    {
      "cell_type": "code",
      "metadata": {
        "id": "0BMOLuvDQwXM"
      },
      "source": [
        "class TensorboardCallback(BaseCallback):\r\n",
        "    def __init__(self, check_freq: int, log_dir: str, verbose=1):\r\n",
        "        super(TensorboardCallback, self).__init__(verbose)\r\n",
        "        self.check_freq = check_freq\r\n",
        "        self.log_dir = log_dir\r\n",
        "        self.save_path = os.path.join(log_dir, 'best_model')\r\n",
        "        self.best_mean_reward = 0 # 直近100lifeの平均スコアのベスト\r\n",
        "\r\n",
        "    def _init_callback(self) -> None:\r\n",
        "        if self.save_path is not None:\r\n",
        "            os.makedirs(self.save_path, exist_ok=True)\r\n",
        "\r\n",
        "    def _on_step(self) -> bool:\r\n",
        "        if self.n_calls % self.check_freq == 0:\r\n",
        "          # スコアの検索\r\n",
        "          x, y = ts2xy(load_results(self.log_dir), 'timesteps')\r\n",
        "          self.logger.record('timesteps', self.num_timesteps)\r\n",
        "          self.logger.record('mean_reward', self.best_mean_reward)\r\n",
        "          wandb.log({'mean_reward':self.best_mean_reward})\r\n",
        "          wandb.log({'timesteps':self.num_timesteps})\r\n",
        "          if len(x) > 0:\r\n",
        "              # 直近100lifeのスコアの平均\r\n",
        "              mean_reward = np.mean(y[-100:])\r\n",
        "              if self.verbose > 0:\r\n",
        "                print(f\"Num timesteps: {self.num_timesteps} : \",end='')\r\n",
        "                print(f\"Best mean reward: {self.best_mean_reward:.2f} - Last mean reward/ep: {mean_reward:.2f}\")\r\n",
        "\r\n",
        "              # 直近の平均報酬が上昇した場合はモデルを保存\r\n",
        "              if mean_reward > self.best_mean_reward:\r\n",
        "                  self.best_mean_reward = mean_reward\r\n",
        "                  if self.verbose > 0:\r\n",
        "                    print(f\"Saving new best model to {self.save_path}.zip\")\r\n",
        "                  self.model.save(self.save_path)\r\n",
        "        return True"
      ],
      "execution_count": null,
      "outputs": []
    },
    {
      "cell_type": "code",
      "metadata": {
        "id": "3MaZfqZmRvtk"
      },
      "source": [
        "env8 = make_atari_env('SpaceInvadersNoFrameskip-v4', n_envs=8, seed=0,vec_env_cls=SubprocVecEnv, monitor_dir= log_dir)\r\n",
        "#env8 = make_atari_env('SpaceInvadersNoFrameskip-v4', n_envs=8, seed=0,vec_env_cls=SubprocVecEnv, wrapper_kwargs={'clip_reward':True,'frame_skip':4}, monitor_dir= log_dir)\r\n",
        "#env = make_atari_env('SpaceInvadersNoFrameskip-v4', n_envs=8, seed=0,vec_env_cls=DummyVecEnv, wrapper_kwargs={'clip_reward':True}, monitor_dir= log_dir)\r\n",
        "env8 = VecFrameStack(env8, n_stack=4)\r\n",
        "callback = TensorboardCallback(check_freq=1000, log_dir=log_dir)\r\n",
        "\r\n",
        "# 最適パラメータ https://github.com/DLR-RM/rl-baselines3-zoo/blob/master/hyperparams/ppo.yml\r\n",
        "model8 = PPO('CnnPolicy', env8, verbose=1,device=device,        \r\n",
        "    learning_rate = 2.5e-4,  # default  3e-4\r\n",
        "    n_steps = 128, # 2048\r\n",
        "    clip_range = 0.1, # default 0.2\r\n",
        "    ent_coef = 0.01, # default 0.0\r\n",
        "    batch_size = 256, #64\r\n",
        "    n_epochs = 4 )\r\n",
        "\r\n",
        "total_timesteps = 1e7/10\r\n",
        "%time model8.learn(total_timesteps=total_timesteps, callback=callback,tb_log_name=\"1_run\")\r\n",
        "%time model8.learn(total_timesteps=total_timesteps, callback=callback,tb_log_name=\"2_run\", reset_num_timesteps=False)\r\n",
        "%time model8.learn(total_timesteps=total_timesteps, callback=callback,tb_log_name=\"3_run\", reset_num_timesteps=False)\r\n",
        "%time model8.learn(total_timesteps=total_timesteps, callback=callback,tb_log_name=\"4_run\", reset_num_timesteps=False)\r\n",
        "%time model8.learn(total_timesteps=total_timesteps, callback=callback,tb_log_name=\"5_run\", reset_num_timesteps=False)\r\n",
        "%time model8.learn(total_timesteps=total_timesteps, callback=callback,tb_log_name=\"6_run\", reset_num_timesteps=False)\r\n",
        "%time model8.learn(total_timesteps=total_timesteps, callback=callback,tb_log_name=\"7_run\", reset_num_timesteps=False)\r\n",
        "%time model8.learn(total_timesteps=total_timesteps, callback=callback,tb_log_name=\"8_run\", reset_num_timesteps=False)\r\n"
      ],
      "execution_count": null,
      "outputs": []
    },
    {
      "cell_type": "code",
      "metadata": {
        "colab": {
          "base_uri": "https://localhost:8080/",
          "height": 616
        },
        "id": "3YWi3bp9gQOm",
        "outputId": "9ec10400-cb30-4765-de19-d04da2453907"
      },
      "source": [
        "# Inside my model training code \r\n",
        "!export WANDB_NOTEBOOK_NAME=\"SB3.ipynb\"\r\n",
        "import wandb\r\n",
        "PROJECTNAME='SB3Inv'\r\n",
        "wandb.init(project=PROJECTNAME)"
      ],
      "execution_count": null,
      "outputs": [
        {
          "output_type": "display_data",
          "data": {
            "application/javascript": [
              "\n",
              "        window._wandbApiKey = new Promise((resolve, reject) => {\n",
              "            function loadScript(url) {\n",
              "            return new Promise(function(resolve, reject) {\n",
              "                let newScript = document.createElement(\"script\");\n",
              "                newScript.onerror = reject;\n",
              "                newScript.onload = resolve;\n",
              "                document.body.appendChild(newScript);\n",
              "                newScript.src = url;\n",
              "            });\n",
              "            }\n",
              "            loadScript(\"https://cdn.jsdelivr.net/npm/postmate/build/postmate.min.js\").then(() => {\n",
              "            const iframe = document.createElement('iframe')\n",
              "            iframe.style.cssText = \"width:0;height:0;border:none\"\n",
              "            document.body.appendChild(iframe)\n",
              "            const handshake = new Postmate({\n",
              "                container: iframe,\n",
              "                url: 'https://wandb.ai/authorize'\n",
              "            });\n",
              "            const timeout = setTimeout(() => reject(\"Couldn't auto authenticate\"), 5000)\n",
              "            handshake.then(function(child) {\n",
              "                child.on('authorize', data => {\n",
              "                    clearTimeout(timeout)\n",
              "                    resolve(data)\n",
              "                });\n",
              "            });\n",
              "            })\n",
              "        });\n",
              "    "
            ],
            "text/plain": [
              "<IPython.core.display.Javascript object>"
            ]
          },
          "metadata": {
            "tags": []
          }
        },
        {
          "output_type": "stream",
          "text": [
            "\u001b[34m\u001b[1mwandb\u001b[0m: Appending key for api.wandb.ai to your netrc file: /root/.netrc\n"
          ],
          "name": "stderr"
        },
        {
          "output_type": "display_data",
          "data": {
            "text/html": [
              "\n",
              "                Tracking run with wandb version 0.10.12<br/>\n",
              "                Syncing run <strong style=\"color:#cdcd00\">good-fog-25</strong> to <a href=\"https://wandb.ai\" target=\"_blank\">Weights & Biases</a> <a href=\"https://docs.wandb.com/integrations/jupyter.html\" target=\"_blank\">(Documentation)</a>.<br/>\n",
              "                Project page: <a href=\"https://wandb.ai/aquapathos/SB3Inv\" target=\"_blank\">https://wandb.ai/aquapathos/SB3Inv</a><br/>\n",
              "                Run page: <a href=\"https://wandb.ai/aquapathos/SB3Inv/runs/36f29pr5\" target=\"_blank\">https://wandb.ai/aquapathos/SB3Inv/runs/36f29pr5</a><br/>\n",
              "                Run data is saved locally in <code>/content/wandb/run-20210109_093739-36f29pr5</code><br/><br/>\n",
              "            "
            ],
            "text/plain": [
              "<IPython.core.display.HTML object>"
            ]
          },
          "metadata": {
            "tags": []
          }
        },
        {
          "output_type": "execute_result",
          "data": {
            "text/plain": [
              "<wandb.sdk.wandb_run.Run at 0x7fe4a8154048>"
            ],
            "text/html": [
              "<h1>Run(36f29pr5)</h1><p></p><iframe src=\"https://wandb.ai/aquapathos/SB3Inv/runs/36f29pr5\" style=\"border:none;width:100%;height:400px\"></iframe>"
            ]
          },
          "metadata": {
            "tags": []
          },
          "execution_count": 9
        }
      ]
    },
    {
      "cell_type": "code",
      "metadata": {
        "id": "TJdBBgw4gh5N",
        "colab": {
          "base_uri": "https://localhost:8080/"
        },
        "outputId": "2fe6972a-e46b-4f53-e0ac-c2ecf7d7b859"
      },
      "source": [
        "import imageio\r\n",
        "import numpy as np\r\n",
        "\r\n",
        "model.load(\"/content/drive/MyDrive/M/logsP/SpaceInvadersBest_model\")\r\n",
        "#env8 = make_atari_env('SpaceInvadersNoFrameskip-v4', n_envs=8, seed=0,vec_env_cls=SubprocVecEnv, monitor_dir= log_dir)\r\n",
        "env8 = make_atari_env('SpaceInvadersNoFrameskip-v4', n_envs=8, seed=0,vec_env_cls=DummyVecEnv, monitor_dir= log_dir)\r\n",
        "env8 = VecFrameStack(env8, n_stack=4)\r\n",
        "model.set_env(env8)\r\n",
        "\r\n",
        "images = []\r\n",
        "obs = model.env.reset()\r\n",
        "img = model.env.envs[0].render(mode='rgb_array')\r\n",
        "for i in range(1800):\r\n",
        "    images.append(img)\r\n",
        "    action, _ = model.predict(obs)\r\n",
        "    obs, _, _ ,_ = model.env.step(action)\r\n",
        "    img = model.env.envs[0].render(mode='rgb_array')\r\n",
        "\r\n",
        "#imageio.mimsave('/SpaceInvadersBes.gif', [np.array(img) for i, img in enumerate(images) if i%2 == 0], fps=29)"
      ],
      "execution_count": 64,
      "outputs": [
        {
          "output_type": "stream",
          "text": [
            "Wrapping the env in a VecTransposeImage.\n"
          ],
          "name": "stdout"
        }
      ]
    },
    {
      "cell_type": "code",
      "metadata": {
        "id": "GE4ZKFFluJyH"
      },
      "source": [
        "frame_rate = 30.0  #FPS\r\n",
        "def timelaps(images,width,height):\r\n",
        "    \r\n",
        "    fourcc = cv2.VideoWriter_fourcc('m','p','4','v')\r\n",
        "    video = cv2.VideoWriter('timelaps.mp4', fourcc, frame_rate, (width, height))\r\n",
        "       \r\n",
        "    print(\"動画変換中...\")\r\n",
        "    \r\n",
        "    for img in images:\r\n",
        "        video.write(img[:,:,::-1]) \r\n",
        "        \r\n",
        "    \r\n",
        "    video.release()\r\n",
        "    print(\"動画変換完了\")"
      ],
      "execution_count": 69,
      "outputs": []
    },
    {
      "cell_type": "code",
      "metadata": {
        "colab": {
          "base_uri": "https://localhost:8080/"
        },
        "id": "paTMEaDyv7AK",
        "outputId": "6f64733e-1754-46b0-bdd7-3331bc8aeeae"
      },
      "source": [
        "timelaps(images,160,210)"
      ],
      "execution_count": 67,
      "outputs": [
        {
          "output_type": "stream",
          "text": [
            "動画変換中...\n",
            "動画変換完了\n"
          ],
          "name": "stdout"
        }
      ]
    },
    {
      "cell_type": "code",
      "metadata": {
        "id": "zs5paDo-xybz"
      },
      "source": [
        "!mv timelaps.mp4 drive/MyDrive/M"
      ],
      "execution_count": 39,
      "outputs": []
    },
    {
      "cell_type": "code",
      "metadata": {
        "colab": {
          "base_uri": "https://localhost:8080/",
          "height": 244
        },
        "id": "xcZ4w8QLygdL",
        "outputId": "195e2f89-39dd-44f0-ddda-7fcdb4b3b150"
      },
      "source": [
        "cv2_imshow(images[0][:,:,::-1]),len(images)"
      ],
      "execution_count": 58,
      "outputs": [
        {
          "output_type": "display_data",
          "data": {
            "image/png": "[encoded data removed]",
            "text/plain": [
              "<PIL.Image.Image image mode=RGB size=160x210 at 0x7FB00AA4A588>"
            ]
          },
          "metadata": {
            "tags": []
          }
        },
        {
          "output_type": "execute_result",
          "data": {
            "text/plain": [
              "(None, 600)"
            ]
          },
          "metadata": {
            "tags": []
          },
          "execution_count": 58
        }
      ]
    },
    {
      "cell_type": "code",
      "metadata": {
        "colab": {
          "base_uri": "https://localhost:8080/"
        },
        "id": "o88u2Gee1l0E",
        "outputId": "3088d2b2-b6c5-4007-b6d7-0183e08ce2e8"
      },
      "source": [
        "import imageio\r\n",
        "import numpy as np\r\n",
        "\r\n",
        "model.load(\"/content/drive/MyDrive/M/logsP/SpaceInvadersBest_model\")\r\n",
        "#env8 = make_atari_env('SpaceInvadersNoFrameskip-v4', n_envs=8, seed=0,vec_env_cls=SubprocVecEnv, monitor_dir= log_dir)\r\n",
        "env8 = make_atari_env('SpaceInvadersNoFrameskip-v4', n_envs=8, seed=0,vec_env_cls=DummyVecEnv, monitor_dir= log_dir)\r\n",
        "env8 = VecFrameStack(env8, n_stack=4)\r\n",
        "model.set_env(env8)\r\n",
        "\r\n",
        "images = []\r\n",
        "obs = model.env.reset()\r\n",
        "img = model.env.render(mode='rgb_array')[:420,:320]\r\n",
        "for i in range(1800):\r\n",
        "    images.append(img)\r\n",
        "    action, _ = model.predict(obs)\r\n",
        "    obs, _, _ ,_ = model.env.step(action)\r\n",
        "    img = model.env.render(mode='rgb_array')[:420,:320]\r\n",
        "\r\n",
        "#imageio.mimsave('/SpaceInvadersBes.gif', [np.array(img) for i, img in enumerate(images) if i%2 == 0], fps=29)"
      ],
      "execution_count": 66,
      "outputs": [
        {
          "output_type": "stream",
          "text": [
            "Wrapping the env in a VecTransposeImage.\n"
          ],
          "name": "stdout"
        }
      ]
    },
    {
      "cell_type": "code",
      "metadata": {
        "colab": {
          "base_uri": "https://localhost:8080/"
        },
        "id": "rjvP1kFn4yFg",
        "outputId": "96574094-48fb-47e8-c363-b9d95f08f383"
      },
      "source": [
        "timelaps(images,320,420)"
      ],
      "execution_count": 70,
      "outputs": [
        {
          "output_type": "stream",
          "text": [
            "動画変換中...\n",
            "動画変換完了\n"
          ],
          "name": "stdout"
        }
      ]
    },
    {
      "cell_type": "code",
      "metadata": {
        "id": "sjeyWguZ5U-P"
      },
      "source": [
        ""
      ],
      "execution_count": null,
      "outputs": []
    }
  ]
}