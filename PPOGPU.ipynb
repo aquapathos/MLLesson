{
  "nbformat": 4,
  "nbformat_minor": 0,
  "metadata": {
    "colab": {
      "name": "PPOGPU.ipynb",
      "provenance": [],
      "collapsed_sections": [],
      "toc_visible": true,
      "include_colab_link": true
    },
    "kernelspec": {
      "display_name": "Python 3",
      "language": "python",
      "name": "python3"
    },
    "language_info": {
      "codemirror_mode": {
        "name": "ipython",
        "version": 3
      },
      "file_extension": ".py",
      "mimetype": "text/x-python",
      "name": "python",
      "nbconvert_exporter": "python",
      "pygments_lexer": "ipython3",
      "version": "3.6.9"
    }
  },
  "cells": [
    {
      "cell_type": "markdown",
      "metadata": {
        "id": "view-in-github",
        "colab_type": "text"
      },
      "source": [
        "<a href=\"https://colab.research.google.com/github/aquapathos/MLLesson/blob/master/PPOGPU.ipynb\" target=\"_parent\"><img src=\"https://colab.research.google.com/assets/colab-badge.svg\" alt=\"Open In Colab\"/></a>"
      ]
    },
    {
      "cell_type": "markdown",
      "metadata": {
        "id": "8CS72K-uiAQn"
      },
      "source": [
        "参考\n",
        "- https://github.com/vpj/rl_samples\n",
        "http://blog.varunajayasiri.com/ml/ppo_pytorch.html  \n",
        "- [PythonでPPOを実装してみた](https://qiita.com/oki_uta_aiota/items/a15ba5de6ed3c1268ed3#%E5%85%A8%E4%BD%93%E3%81%AE%E3%82%B3%E3%83%BC%E3%83%89)\n",
        "\n",
        "### このファイルは Google Colab 用ではありません"
      ]
    },
    {
      "cell_type": "markdown",
      "metadata": {
        "id": "0QgfIVsbwQ-5"
      },
      "source": [
        "# GPU対応"
      ]
    },
    {
      "cell_type": "code",
      "metadata": {
        "id": "1LyCg5u0rgIw"
      },
      "source": [
        "import random\r\n",
        "import time\r\n",
        "random.seed(time.time())"
      ],
      "execution_count": null,
      "outputs": []
    },
    {
      "cell_type": "code",
      "metadata": {
        "id": "mUDPOKFMWsGB"
      },
      "source": [
        "import torch\r\n",
        "\r\n",
        "device = torch.device('cuda:0' if torch.cuda.is_available() else 'cpu')\r\n",
        "print(repr(device))\r\n",
        "print(device)"
      ],
      "execution_count": null,
      "outputs": []
    },
    {
      "cell_type": "markdown",
      "metadata": {
        "id": "J8RSnwLocRCN"
      },
      "source": [
        "# 外部ライブラリの追加\r\n",
        "\r\n",
        "\r\n"
      ]
    },
    {
      "cell_type": "code",
      "metadata": {
        "id": "l7cJQgKWihEN"
      },
      "source": [
        "#!pip install pfrl > /dev/null\n",
        "#!pip install wandb > /dev/null\n",
        "#!pip install tqdm > /dev/null\n",
        "#!pip install gym[atari] > /dev/null"
      ],
      "execution_count": null,
      "outputs": []
    },
    {
      "cell_type": "markdown",
      "metadata": {
        "id": "RDaiTEuxdxHV"
      },
      "source": [
        "# ライブラリのインポート"
      ]
    },
    {
      "cell_type": "code",
      "metadata": {
        "id": "RxI6_tN2wQ-7"
      },
      "source": [
        "import multiprocessing\n",
        "import multiprocessing.connection\n",
        "from typing import Dict, List\n",
        "#from tqdm.notebook import tqdm\n",
        "from fastprogress.fastprogress import  progress_bar\n",
        "\n",
        "import gym\n",
        "from gym import ObservationWrapper\n",
        "from gym.spaces import Box\n",
        "\n",
        "import cv2\n",
        "import numpy as np\n",
        "import torch\n",
        "\n",
        "from torch import nn\n",
        "from torch import optim\n",
        "from torch.distributions import Categorical\n",
        "from torch.nn import functional as F\n",
        "\n",
        "from pfrl.wrappers.atari_wrappers import FrameStack,NoopResetEnv,MaxAndSkipEnv\n",
        "from PIL import Image\n",
        "from IPython.display import display\n",
        "import matplotlib.pyplot as plt"
      ],
      "execution_count": null,
      "outputs": []
    },
    {
      "cell_type": "markdown",
      "metadata": {
        "id": "J9diXX52eHIq"
      },
      "source": [
        "\r\n",
        "# ラッパー定義"
      ]
    },
    {
      "cell_type": "code",
      "metadata": {
        "id": "yq2fQjdZiARA"
      },
      "source": [
        "class myCrop(ObservationWrapper):\n",
        "    def __init__(self, env, tmgn=0, bmgn=0,lmgn=0,rmgn=0,igcolors=[],bgcolor=[0,0,0]):\n",
        "        super(myCrop, self).__init__(env)\n",
        "        self.tmgn, self.bmgn = tmgn, bmgn\n",
        "        self.lmgn, self.rmgn = lmgn, rmgn\n",
        "        self.igcolors, self.bgcolors = igcolors, bgcolor\n",
        "        self.observation_space = Box(low=0, high=255, shape=(84,84), dtype=np.uint8)\n",
        "    def observation(self, obs):\n",
        "        img_mask = np.zeros(obs.shape[:2],np.uint8)\n",
        "        for color in self.igcolors:\n",
        "            bgrLower = np.array(color)    \n",
        "            bgrUpper = np.array(color)\n",
        "            tmask = cv2.inRange(obs, bgrLower, bgrUpper) \n",
        "            img_mask = cv2.bitwise_or(img_mask,tmask)\n",
        "        obs = cv2.bitwise_and(obs,obs,mask=255-img_mask) # 元画像とマスクを合成\n",
        "        RIGHT=obs.shape[1]-self.rmgn\n",
        "        BOTTOM=obs.shape[0]-self.bmgn\n",
        "        obs = obs[self.tmgn:BOTTOM,self.lmgn:RIGHT]\n",
        "        obs = cv2.cvtColor(obs, cv2.COLOR_RGB2GRAY)\n",
        "        observation = cv2.resize(obs, (84, 84), interpolation=cv2.INTER_AREA)\n",
        "        return observation\n",
        "\n",
        "class myFrameStack(FrameStack):\n",
        "    def __init__(self, env, k=4, deadloss=0):\n",
        "        super(myFrameStack, self).__init__(env, k=k, channel_order=\"chw\")\n",
        "        self.deadloss = deadloss\n",
        "        self.lives = 0\n",
        "        self.lsumrewards = 0\n",
        "        self.localsteps = 0\n",
        "    def reset(self):\n",
        "        ob = self.env.reset()\n",
        "        for _ in range(self.k):\n",
        "            self.frames.append(ob)\n",
        "        self.lives = self.env.unwrapped.ale.lives()\n",
        "        self.lsumrewards = 0\n",
        "        self.localsteps = 0\n",
        "        return  self.obs_to_torch(np.array(list(self.frames)))\n",
        "    def step(self, action):\n",
        "        ob, reward, done1, info = self.env.step(action)\n",
        "        self.frames.append(ob)\n",
        "        rewardalpha = reward\n",
        "        episode_info = None\n",
        "        # 残機数確認\n",
        "        lives = self.env.unwrapped.ale.lives()\n",
        "        self.localsteps += 1  \n",
        "        self.lsumrewards += reward\n",
        "        if done1 or lives < self.lives: # １機死んだら終了とする\n",
        "            done = True\n",
        "            episode_info = {\"reward\": self.lsumrewards, \"length\": self.localsteps}\n",
        "            if lives < self.lives:\n",
        "                rewardalpha = reward - self.deadloss # 機体を失うことのペナルティ\n",
        "            self.reset()\n",
        "        done = False\n",
        "        return  self.obs_to_torch(np.array(list(self.frames))), rewardalpha, done, episode_info\n",
        "    @staticmethod\n",
        "    def obs_to_torch(obs: torch.Tensor) -> torch.Tensor:\n",
        "        return torch.tensor([obs], dtype=torch.float32, device=device) / 255.\n",
        "\n",
        "def mkenv(envname,k=8,skip=2,tmgn=0,bmgn=0,lmgn=0,rmgn=0,igcolors=[],deadloss=0,noop_max=30):\n",
        "  env=gym.make(envname)\n",
        "  if noop_max > 0:\n",
        "      env = NoopResetEnv(env, noop_max=noop_max)\n",
        "  env = MaxAndSkipEnv(env, skip=skip)\n",
        "  env=myCrop(env, tmgn=tmgn, bmgn=bmgn, lmgn=lmgn, rmgn=rmgn, igcolors=igcolors)\n",
        "  env=myFrameStack(env,k=k,deadloss=deadloss)\n",
        "  return env"
      ],
      "execution_count": null,
      "outputs": []
    },
    {
      "cell_type": "markdown",
      "metadata": {
        "id": "uWIH0JlWiARD"
      },
      "source": [
        "# Game Environmentの定義"
      ]
    },
    {
      "cell_type": "code",
      "metadata": {
        "id": "8bc2-DseiARG"
      },
      "source": [
        "import random\n",
        "from datetime import datetime\n",
        "random.seed(datetime.now())\n",
        "DEFAULTSEED = random.randint(1, 10000)\n",
        "def Game(seed=DEFAULTSEED,k=8,skip=1,deadloss=0,noop_max=30):\n",
        "    ENV_NAME = 'SpaceInvadersNoFrameskip-v4'\n",
        "    Tmgn=20\n",
        "    Bmgn=12\n",
        "    Lmgn=8\n",
        "    Rmgn=8\n",
        "    #NOCOLOR=[[162,134,56]]  # 背景と同一視するカラー\n",
        "    NOCOLOR=[]  # 背景と同一視するカラー\n",
        "\n",
        "    env = mkenv(ENV_NAME,k,skip,Tmgn,Bmgn,Lmgn,Rmgn,NOCOLOR,deadloss=deadloss,noop_max=noop_max)\n",
        "    env.seed(seed)\n",
        "    return env"
      ],
      "execution_count": null,
      "outputs": []
    },
    {
      "cell_type": "markdown",
      "metadata": {
        "id": "zWXQ3WFTwQ--"
      },
      "source": [
        "### 補足\n",
        "**k** : 過去何フレーム分の画面をデータとするか  \n",
        "**skip** : 何フレームおきにサンプリングするか  \n",
        "**Tmgn,Bmgn,Lmgn,Rmgn** カットする余白量  \n",
        "**NOCOLOR** 黒に置き換える色をRGB指定。複数指定可能\n",
        "**noop_max** リセット後読み飛ばすフレーム数"
      ]
    },
    {
      "cell_type": "markdown",
      "metadata": {
        "id": "zhWKKV7miARI"
      },
      "source": [
        "## 動作確認"
      ]
    },
    {
      "cell_type": "code",
      "metadata": {
        "id": "ZisujiNyiARJ"
      },
      "source": [
        "import random\n",
        "from datetime import datetime\n",
        "DEFAULTSEED = random.seed(datetime.now())\n",
        "\n",
        "# 原画像が表示できるかテスト\n",
        "game = Game(DEFAULTSEED,noop_max=100)\n",
        "orgimg = game.render(mode='rgb_array')\n",
        "display(Image.fromarray(orgimg))\n",
        "display(orgimg.shape)\n",
        "\n",
        "# リセット画像の確認\n",
        "plt.figure(figsize=(8,4),dpi=150)\n",
        "imgs = game.reset()\n",
        "imgs = imgs[0].cpu().numpy()\n",
        "for i,img in enumerate(imgs):\n",
        "    plt.subplot(2,8,i+1)\n",
        "    plt.imshow(img)\n",
        "# ステップ画像の確認\n",
        "for _ in range(60):\n",
        "  imgs,r,d,i= game.step(game.action_space.sample()) \n",
        "imgs = imgs[0].cpu().numpy()\n",
        "for i,img in enumerate(imgs):\n",
        "    plt.subplot(2,8,i+9)\n",
        "    plt.imshow(img)\n",
        "    \n",
        "# Check types\n",
        "display(imgs.shape,imgs[0,0,0],imgs[0,40,40],type(imgs[0,0,0]))"
      ],
      "execution_count": null,
      "outputs": []
    },
    {
      "cell_type": "markdown",
      "metadata": {
        "id": "bKq0Uknjgl3n"
      },
      "source": [
        "# PPO用ニューラルネットのモデル定義\r\n",
        "\r\n",
        "\r\n"
      ]
    },
    {
      "cell_type": "code",
      "metadata": {
        "id": "S-EyRai1iARP"
      },
      "source": [
        "from torch import nn\n",
        "class Model(nn.Module):\n",
        "\n",
        "    def __init__(self,nframes=8):\n",
        "        super().__init__()\n",
        "\n",
        "        # 4x84x84 → 32x20x20 \n",
        "        self.conv1 = nn.Conv2d(in_channels=nframes, out_channels=32, kernel_size=8, stride=4)\n",
        "        # 32x20x20 →64x9x9\n",
        "        self.conv2 = nn.Conv2d(in_channels=32, out_channels=64, kernel_size=4, stride=2)\n",
        "        # 64x9x9 → 64x7x7 \n",
        "        self.conv3 = nn.Conv2d(in_channels=64, out_channels=64, kernel_size=3, stride=1)\n",
        "        # 64x7x7 → 512 \n",
        "        self.lin = nn.Linear(in_features=7 * 7 * 64, out_features=512)\n",
        "        # 512 → 4 actions 0-1 （行動決定）\n",
        "        self.pi_logits = nn.Linear(in_features=512, out_features=4)\n",
        "        # 行動価値\n",
        "        self.value = nn.Linear(in_features=512, out_features=1)\n",
        "\n",
        "    def forward(self, obs: torch.Tensor):\n",
        "        h = F.relu(self.conv1(obs))\n",
        "        h = F.relu(self.conv2(h))\n",
        "        h = F.relu(self.conv3(h))\n",
        "        h = h.reshape((-1, 7 * 7 * 64))\n",
        "\n",
        "        h = F.relu(self.lin(h))\n",
        "\n",
        "        pi = Categorical(logits=self.pi_logits(h))\n",
        "        value = self.value(h).reshape(-1)\n",
        "\n",
        "        return pi, value"
      ],
      "execution_count": null,
      "outputs": []
    },
    {
      "cell_type": "code",
      "metadata": {
        "id": "tGVSB2NriARV",
        "scrolled": true
      },
      "source": [
        "import torch\n",
        "\n",
        "device = torch.device('cuda:0' if torch.cuda.is_available() else 'cpu')\n",
        "print(repr(device))\n",
        "print(device)\n",
        "\n",
        "model = Model()\n",
        "model.to(device)\n",
        "obs = game.reset()\n",
        "pi,v = model.forward(obs)\n",
        "\n",
        "a0 = pi.sample() # 方策関数によりアクションを決定\n",
        "a = a0.cpu().numpy()[0] # アクション番号の数値化\n",
        "b = pi.log_prob(a0) # \n",
        "\n",
        "display(obs.shape) # 画面データのシェイプを表示\n",
        "display(a) # 選ばれたアクション番号を表示\n",
        "display(b) # \n",
        "display(v.detach()) # 状態価値を表示\n",
        "display(model) # モデルを表示"
      ],
      "execution_count": null,
      "outputs": []
    },
    {
      "cell_type": "markdown",
      "metadata": {
        "id": "mYvKriYliARb"
      },
      "source": [
        "# Multiprocessing Playloop"
      ]
    },
    {
      "cell_type": "markdown",
      "metadata": {
        "id": "xpUHgThZiOcC"
      },
      "source": [
        "# 学習のメインプログラム\n",
        "### ログフォルダの設定"
      ]
    },
    {
      "cell_type": "code",
      "metadata": {
        "id": "x8eSJu41wQ_B"
      },
      "source": [
        "import os\n",
        "PROJECTNAME = 'ppo8players'\n",
        "SAVEFOLDER = '/root/M/{}'.format(PROJECTNAME)\n",
        "os.makedirs(SAVEFOLDER,exist_ok=True)"
      ],
      "execution_count": null,
      "outputs": []
    },
    {
      "cell_type": "code",
      "metadata": {
        "id": "5vrWOt3NiARi"
      },
      "source": [
        "NCYCLES = 1200 # 学習サイクル数　（データ収集→学習　が1サイクル）\n",
        "# εグリーディで、ランダムの割合 GreedyESP_START で開始し、ENDGREEDYCYCLES回後は、ランダムの割合GreedyEPS_END\n",
        "ENDGREEDYCYCLES = 1000 \n",
        "GreedyEPS_START = 0.3 \n",
        "GreedyEPS_END = 0.05\n",
        "# Hyper Parameters\n",
        "GAMMA = 0.99\n",
        "LAMDA = 0.95\n",
        "EPOCKS =  4 # サンプル１セットを何度学習プロセスに通すか\n",
        "NPLAYERS = 16 # 並列実行する数game\n",
        "NBATCHES = 128 # １度に処理するデータ数\n",
        "NDIVIDE = 4 # バッチの分割数\n",
        "SEEDZero = random.randint(1,10000)\n",
        "LearningRate = 0.0002\n",
        "NFRAMES = 12\n",
        "W_VFLOSS = 0.5 # loss におけるvfloss の重み\n",
        "W_BONUS = 0.01 # loss における entropy bonus の重み\n",
        "CLIPRANGE = 0.2 # ## Run it\n",
        "\n",
        "# エージェントとして独立にゲームを実行するプレイヤのクラス定義\n",
        "class CoPlayer:\n",
        "    def __init__(self, seed, k=4,deadloss=0,noop_max=30):\n",
        "        self.game = Game(seed, k,deadloss,noop_max)\n",
        "\n",
        "class Main:\n",
        "\n",
        "    def __init__(self, seed = 0,deadloss=0,noop_max=30):\n",
        "\n",
        "        self.progress = progress = 0\n",
        "        \n",
        "        # 1サイクルに必要なサンプル数\n",
        "        self.batch_size = NPLAYERS * NBATCHES\n",
        "        # ミニバッチのサイズ\n",
        "        self.mini_batch_size = self.batch_size // NDIVIDE\n",
        "\n",
        "        # 初期化\n",
        "        # CoPlayerの生成\n",
        "        self.coplayers = [CoPlayer(SEEDZero + i, NFRAMES,deadloss,noop_max) for i in range(NPLAYERS)]\n",
        "\n",
        "        # 観測テンソルの初期化\n",
        "        self.obs = torch.zeros((NPLAYERS, NFRAMES, 84, 84), dtype=torch.float32)\n",
        "        for i,player in enumerate(self.coplayers):\n",
        "            self.obs[i] = player.game.reset()\n",
        "          \n",
        "        # model for sampling\n",
        "        self.model = Model(NFRAMES)\n",
        "        resume = False # 学習済みモデルから始めるときは True にしてください\n",
        "        if resume:\n",
        "          model.load_state_dict(torch.load(SAVEFOLDER+\"/model\" ))\n",
        "\n",
        "        # optimizer\n",
        "        self.optimizer = optim.Adam(self.model.\n",
        "        parameters(), lr=LearningRate,betas = (0.9, 0.999))\n",
        "\n",
        "    def sample(self) -> (Dict[str, np.ndarray], List):\n",
        "    #def sample(self) -> (Dict[str, torch.Tensor], List):\n",
        "        # 学習データの記憶域確保\n",
        "        '''\n",
        "        rewards = np.zeros((NPLAYERS, NBATCHES), dtype=np.float32)\n",
        "        actions = np.zeros((NPLAYERS, NBATCHES), dtype=np.int32)\n",
        "        done = np.zeros((NPLAYERS, NBATCHES), dtype=np.bool)\n",
        "        obs = torch.zeros((NPLAYERS, NBATCHES, NFRAMES, 84, 84), dtype=torch.float32)\n",
        "        log_pis = np.zeros((NPLAYERS, NBATCHES, dtype= np.float32)\n",
        "        values = np.zeros((NPLAYERS, NBATCHES), dtype=np.float32)'''\n",
        "        rewards = torch.zeros((NPLAYERS, NBATCHES), dtype=torch.float32)\n",
        "        actions = torch.zeros((NPLAYERS, NBATCHES), dtype=torch.int32)\n",
        "        done = torch.zeros((NPLAYERS, NBATCHES), dtype=torch.bool)\n",
        "        obs = torch.zeros((NPLAYERS,NBATCHES, NFRAMES, 84, 84), dtype=torch.float32)\n",
        "        log_pis = torch.zeros((NPLAYERS, NBATCHES), dtype= torch.float32)\n",
        "        values = torch.zeros((NPLAYERS, NBATCHES), dtype=torch.float32)\n",
        "        \n",
        "        # 画像データの初期化\n",
        "        for t in range(NBATCHES): # 各初期シーンに対し、\n",
        "            with torch.no_grad(): # 傾きを固定して実行\n",
        "                obs[:, t] = self.obs.clone().detach()  # 黒画面をプレイヤ数複製\n",
        "                pi, v = self.model(self.obs)   # モデルで pi, v を初期化 \n",
        "                values[:, t] = v.clone().detach() # 初期シーンの評価値を各プレイヤに伝達\n",
        "                         \n",
        "                # epsiron greedy action selection\n",
        "                if self.progress >= ENDGREEDYCYCLES:\n",
        "                    g_eps = GreedyEPS_END\n",
        "                else:\n",
        "                    g_eps = GreedyEPS_START + self.progress * (GreedyEPS_END - GreedyEPS_START) \n",
        "                if torch.rand(1) <= g_eps:  # ランダム行動\n",
        "                    a = torch.randint(0,4,(1,))\n",
        "                else:\n",
        "                    a = pi.sample() # アクションをランダムに発生\n",
        "                \n",
        "                actions[:, t] = a.clone().detach() #.各プレイヤにアクション伝達\n",
        "                va = pi.log_prob(a) \n",
        "                log_pis[:, t] = va.clone().detach()# アクションの評価値を伝達\n",
        "\n",
        "            lorew,lolen,lon = 0,0,0\n",
        "            for w, player in enumerate(self.coplayers):\n",
        "                self.obs[w], rewards[w, t], done[w, t], info = player.game.step(actions[w, t])\n",
        "                if info:\n",
        "                    lorew += info['reward']\n",
        "                    lolen += info['length']\n",
        "                    lon += 1\n",
        "            if lon > 0:\n",
        "                wandb.log({'reward':lorew/lon,'lengt':lolen/lon})\n",
        "             \n",
        "        # calculate advantages\n",
        "        advantages = self._calc_advantages(done, rewards, values)\n",
        "        samples = {\n",
        "            'obs': obs,\n",
        "            'actions': actions,\n",
        "            'values': values,\n",
        "            'log_pis': log_pis,\n",
        "            'advantages': advantages\n",
        "        }\n",
        "\n",
        "        samples_flat = {}\n",
        "        for k, v in samples.items():\n",
        "            v = v.reshape(v.shape[0] * v.shape[1], *v.shape[2:])\n",
        "            samples_flat[k] = torch.tensor(v, device=device)\n",
        "            '''\n",
        "            if k == 'obs':\n",
        "                samples_flat[k] = v\n",
        "            else:\n",
        "                samples_flat[k] = torch.tensor(v, device=device)'''\n",
        "\n",
        "        return samples_flat\n",
        "\n",
        "    #def _calc_advantages(self, done: np.ndarray, rewards: np.ndarray, values: np.ndarray) -> np.ndarray:\n",
        "    def _calc_advantages(self, done: torch.Tensor, rewards: torch.Tensor, values: torch.Tensor) -> torch.Tensor:\n",
        "        #advantages = np.zeros((NPLAYERS, NBATCHES), dtype=np.float32)\n",
        "        advantages = torch.zeros((NPLAYERS, NBATCHES), dtype=torch.float32)\n",
        "        last_advantage = 0\n",
        "        _, last_value = self.model(self.obs)\n",
        "        last_value = last_value\n",
        "        for t in reversed(range(NBATCHES)):\n",
        "            #mask = 1 - done[:, t]\n",
        "            # mask = ~done[:, t]\n",
        "            mask = torch.Tensor([1 if ~d else 0 for d in done[:,t]])\n",
        "            last_value = last_value * mask\n",
        "            last_advantage = last_advantage * mask\n",
        "            delta = rewards[:, t] + GAMMA * last_value - values[:, t]\n",
        "            last_advantage = delta + GAMMA * LAMDA * last_advantage\n",
        "            advantages[:, t] = last_advantage\n",
        "            last_value = values[:, t]\n",
        "\n",
        "        return advantages\n",
        "    \n",
        "    # 1サイクルの学習\n",
        "    def train(self, samples: Dict[str, torch.Tensor], learning_rate: float, clip_range: float):\n",
        "\n",
        "        for _ in range(EPOCKS):\n",
        "            # 並べ替え用の数列\n",
        "            indexes = torch.randperm(self.batch_size)\n",
        "\n",
        "            # ミニバッチ単位で処理\n",
        "            for start in range(0, self.batch_size, self.mini_batch_size):\n",
        "                # get mini batch\n",
        "                end = start + self.mini_batch_size\n",
        "                mini_batch_indexes = indexes[start: end]\n",
        "                mini_batch = {}\n",
        "                for k, v in samples.items():\n",
        "                    mini_batch[k] = v[mini_batch_indexes]\n",
        "\n",
        "                # train\n",
        "                loss = self._calc_loss(clip_range=clip_range,samples=mini_batch)\n",
        "\n",
        "                # compute gradients\n",
        "                for pg in self.optimizer.param_groups:\n",
        "                    pg['lr'] = learning_rate\n",
        "                self.optimizer.zero_grad()\n",
        "                loss.backward()\n",
        "                torch.nn.utils.clip_grad_norm_(self.model.parameters(), max_norm=0.5)\n",
        "                self.optimizer.step()\n",
        "\n",
        "    @staticmethod\n",
        "    def _normalize(adv: torch.Tensor):\n",
        "        return (adv - adv.mean()) / (adv.std() + 1e-8)\n",
        "\n",
        "    def _calc_loss(self, samples: Dict[str, torch.Tensor], clip_range: torch.Tensor) -> torch.Tensor:\n",
        "        sampled_return = samples['values'] + samples['advantages']\n",
        "        sampled_normalized_advantage = self._normalize(samples['advantages'])\n",
        "        pi, value = self.model(samples['obs'])\n",
        "\n",
        "        # #### Policy\n",
        "\n",
        "        log_pi = pi.log_prob(samples['actions'])\n",
        "\n",
        "        ratio = torch.exp(log_pi - samples['log_pis'])\n",
        "\n",
        "        clipped_ratio = ratio.clamp(min=1.0 - clip_range,\n",
        "                                    max=1.0 + clip_range)\n",
        "        policy_reward = torch.min(ratio * sampled_normalized_advantage,\n",
        "                                  clipped_ratio * sampled_normalized_advantage)\n",
        "        policy_reward = policy_reward.mean()\n",
        "\n",
        "        # #### Entropy Bonus\n",
        "        entropy_bonus = pi.entropy()\n",
        "        entropy_bonus = entropy_bonus.mean()\n",
        "\n",
        "        # #### Value\n",
        "        clipped_value = samples['values'] + (value - samples['values']).clamp(min=-clip_range,\n",
        "                                                                              max=clip_range)\n",
        "        vf_loss = torch.max((value - sampled_return) ** 2, (clipped_value - sampled_return) ** 2)\n",
        "        vf_loss = 0.5 * vf_loss.mean()\n",
        "        loss = -(policy_reward - W_VFLOSS* vf_loss + W_BONUS  * entropy_bonus)\n",
        "\n",
        "        # for monitoring\n",
        "        approx_kl_divergence = .5 * ((samples['log_pis'] - log_pi) ** 2).mean()\n",
        "        clip_fraction = (abs((ratio - 1.0)) > clip_range).to(torch.float).mean()\n",
        "\n",
        "        wandb.log({'policy_reward': policy_reward.cpu(),\n",
        "                     'vf_loss': vf_loss.cpu(),\n",
        "                     'entropy_bonus': entropy_bonus.cpu(),\n",
        "                     'kl_div': approx_kl_divergence.cpu(),\n",
        "                     'clip_fraction': clip_fraction.cpu()})   \n",
        "        return loss\n",
        "\n",
        "    def run_training_loop(self):\n",
        "\n",
        "        ### Run training loop\n",
        "        #pbar = tqdm(range(NCYCLES))\n",
        "        pbar = progress_bar(NCYCLES))\n",
        "        for cycle in pbar:\n",
        "        #for cycle in range(NCYCLES):\n",
        "            pbar.set_description('tran loop')\n",
        "            self.progress = progress = cycle / NCYCLES\n",
        "\n",
        "            # decreasing `learning_rate` and `clip_range` \n",
        "            learning_rate = LearningRate * (1 - progress)\n",
        "            clip_range = CLIPRANGE * (1 - progress)\n",
        "            samples = self.sample()\n",
        "            # train the model\n",
        "            self.train(samples, learning_rate, clip_range)\n",
        "\n",
        "            # write summary info to the writer, and log to the screen\n",
        "            if (cycle + 1) % 100 == 0:\n",
        "                torch.save(self.model.state_dict(),SAVEFOLDER+\"/model\" )\n",
        "            if (cycle + 1) % 250 == 0:\n",
        "                torch.save(self.model.state_dict(),SAVEFOLDER+'/model{}'.format(cycle+1))\n",
        "\n",
        "    def destroy(self):\n",
        "\n",
        "        for player in self.coplayers:\n",
        "            player.child.send((\"close\", None))"
      ],
      "execution_count": null,
      "outputs": []
    },
    {
      "cell_type": "markdown",
      "metadata": {
        "id": "y9Upl2kkiARk"
      },
      "source": [
        "# W and B"
      ]
    },
    {
      "cell_type": "code",
      "metadata": {
        "id": "WL3gAJx3wQ_V"
      },
      "source": [
        "# Inside my model training code\n",
        "import wandb\n",
        "import os\n",
        "os.environ['WANDB_NOTEBOOK_NAME'] = 'PPOJetson1'\n",
        "wandb.init(project=PROJECTNAME)"
      ],
      "execution_count": null,
      "outputs": []
    },
    {
      "cell_type": "code",
      "metadata": {
        "id": "2YekSI4-iARk"
      },
      "source": [
        "if torch.cuda.is_available() :\n",
        "    torch.set_default_tensor_type('torch.cuda.FloatTensor')\n",
        "if __name__ == \"__main__\":\n",
        "    #experiment.create(name=\"PPOsimgle.ipynb\")\n",
        "    m = Main(SEEDZero,deadloss=0)\n",
        "    #experiment.start()\n",
        "    m.run_training_loop()\n",
        "    m.destroy()"
      ],
      "execution_count": null,
      "outputs": []
    },
    {
      "cell_type": "code",
      "metadata": {
        "id": "2GLrDddtXz2y"
      },
      "source": [
        "# torch.save(model.state_dict(),'ppomodel')\n",
        "# model.load_state_dict(torch.load('ppomodel'))\n",
        "# torch.save(model.state_dict(),'ppomodel{}'.format(100))"
      ],
      "execution_count": null,
      "outputs": []
    },
    {
      "cell_type": "code",
      "metadata": {
        "id": "-hs95yfSnqYR"
      },
      "source": [
        ""
      ],
      "execution_count": null,
      "outputs": []
    }
  ]
}