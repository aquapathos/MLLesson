{
  "nbformat": 4,
  "nbformat_minor": 0,
  "metadata": {
    "kernelspec": {
      "display_name": "Python 3",
      "language": "python",
      "name": "python3"
    },
    "language_info": {
      "codemirror_mode": {
        "name": "ipython",
        "version": 3
      },
      "file_extension": ".py",
      "mimetype": "text/x-python",
      "name": "python",
      "nbconvert_exporter": "python",
      "pygments_lexer": "ipython3",
      "version": "3.6.2"
    },
    "colab": {
      "name": "0. Example1.ipynb",
      "provenance": [],
      "include_colab_link": true
    }
  },
  "cells": [
    {
      "cell_type": "markdown",
      "metadata": {
        "id": "view-in-github",
        "colab_type": "text"
      },
      "source": [
        "<a href=\"https://colab.research.google.com/github/aquapathos/MLLesson/blob/master/ML02%20%E6%B1%BA%E5%AE%9A%E6%9C%A8%E3%81%AE%E5%AD%A6%E7%BF%92/0.%20Example1.ipynb\" target=\"_parent\"><img src=\"https://colab.research.google.com/assets/colab-badge.svg\" alt=\"Open In Colab\"/></a>"
      ]
    },
    {
      "cell_type": "code",
      "metadata": {
        "collapsed": true,
        "id": "AVFrvwCtFVUt"
      },
      "source": [
        "# モジュールのインポート\n",
        "!apt-get -qq -y install fonts-ipafont-gothic > /dev/null\n",
        "import pandas as pd\n",
        "import numpy as np\n",
        "from sklearn import tree\n",
        "from graphviz import Digraph,Source\n",
        "import pydotplus as pdp"
      ],
      "execution_count": 2,
      "outputs": []
    },
    {
      "cell_type": "markdown",
      "metadata": {
        "id": "vYypqnA3FVUu"
      },
      "source": [
        "![2017-09-23 18 27 59](https://user-images.githubusercontent.com/5820803/30771930-0fbc20de-a08d-11e7-922a-6e8e641170f4.PNG)\n",
        "\n"
      ]
    },
    {
      "cell_type": "code",
      "metadata": {
        "id": "Tysr5RHxUg-o",
        "outputId": "c82e85de-c431-4404-c962-bd0fd1bd89f2",
        "colab": {
          "base_uri": "https://localhost:8080/",
          "height": 299
        }
      },
      "source": [
        "rawdata=np.array([\n",
        "    [0,0,0,1,\"負\"],\n",
        "    [1,2,1,1,\"負\"],\n",
        "    [1,1,0,1,\"負\"],\n",
        "    [0,0,1,1,\"負\"],\n",
        "    [0,2,1,0,\"正\"],\n",
        "    [0,1,1,0,\"正\"],\n",
        "    [0,2,0,0,\"負\"],\n",
        "    [1,2,1,0,\"正\"],\n",
        "    ])\n",
        "\n",
        "items=['住居形態','家族構成','収入','ローン残']\n",
        "results=['販売実績']\n",
        "df = pd.DataFrame(rawdata,columns=np.r_[items,results])\n",
        "df"
      ],
      "execution_count": 4,
      "outputs": [
        {
          "output_type": "execute_result",
          "data": {
            "text/html": [
              "<div>\n",
              "<style scoped>\n",
              "    .dataframe tbody tr th:only-of-type {\n",
              "        vertical-align: middle;\n",
              "    }\n",
              "\n",
              "    .dataframe tbody tr th {\n",
              "        vertical-align: top;\n",
              "    }\n",
              "\n",
              "    .dataframe thead th {\n",
              "        text-align: right;\n",
              "    }\n",
              "</style>\n",
              "<table border=\"1\" class=\"dataframe\">\n",
              "  <thead>\n",
              "    <tr style=\"text-align: right;\">\n",
              "      <th></th>\n",
              "      <th>住居形態</th>\n",
              "      <th>家族構成</th>\n",
              "      <th>収入</th>\n",
              "      <th>ローン残</th>\n",
              "      <th>販売実績</th>\n",
              "    </tr>\n",
              "  </thead>\n",
              "  <tbody>\n",
              "    <tr>\n",
              "      <th>0</th>\n",
              "      <td>0</td>\n",
              "      <td>0</td>\n",
              "      <td>0</td>\n",
              "      <td>1</td>\n",
              "      <td>負</td>\n",
              "    </tr>\n",
              "    <tr>\n",
              "      <th>1</th>\n",
              "      <td>1</td>\n",
              "      <td>2</td>\n",
              "      <td>1</td>\n",
              "      <td>1</td>\n",
              "      <td>負</td>\n",
              "    </tr>\n",
              "    <tr>\n",
              "      <th>2</th>\n",
              "      <td>1</td>\n",
              "      <td>1</td>\n",
              "      <td>0</td>\n",
              "      <td>1</td>\n",
              "      <td>負</td>\n",
              "    </tr>\n",
              "    <tr>\n",
              "      <th>3</th>\n",
              "      <td>0</td>\n",
              "      <td>0</td>\n",
              "      <td>1</td>\n",
              "      <td>1</td>\n",
              "      <td>負</td>\n",
              "    </tr>\n",
              "    <tr>\n",
              "      <th>4</th>\n",
              "      <td>0</td>\n",
              "      <td>2</td>\n",
              "      <td>1</td>\n",
              "      <td>0</td>\n",
              "      <td>正</td>\n",
              "    </tr>\n",
              "    <tr>\n",
              "      <th>5</th>\n",
              "      <td>0</td>\n",
              "      <td>1</td>\n",
              "      <td>1</td>\n",
              "      <td>0</td>\n",
              "      <td>正</td>\n",
              "    </tr>\n",
              "    <tr>\n",
              "      <th>6</th>\n",
              "      <td>0</td>\n",
              "      <td>2</td>\n",
              "      <td>0</td>\n",
              "      <td>0</td>\n",
              "      <td>負</td>\n",
              "    </tr>\n",
              "    <tr>\n",
              "      <th>7</th>\n",
              "      <td>1</td>\n",
              "      <td>2</td>\n",
              "      <td>1</td>\n",
              "      <td>0</td>\n",
              "      <td>正</td>\n",
              "    </tr>\n",
              "  </tbody>\n",
              "</table>\n",
              "</div>"
            ],
            "text/plain": [
              "  住居形態 家族構成 収入 ローン残 販売実績\n",
              "0    0    0  0    1    負\n",
              "1    1    2  1    1    負\n",
              "2    1    1  0    1    負\n",
              "3    0    0  1    1    負\n",
              "4    0    2  1    0    正\n",
              "5    0    1  1    0    正\n",
              "6    0    2  0    0    負\n",
              "7    1    2  1    0    正"
            ]
          },
          "metadata": {
            "tags": []
          },
          "execution_count": 4
        }
      ]
    },
    {
      "cell_type": "markdown",
      "metadata": {
        "id": "m5jPyRl1FVUv"
      },
      "source": [
        "# 決定木の生成プログラム"
      ]
    },
    {
      "cell_type": "markdown",
      "metadata": {
        "id": "J-wHhj5QFVUv"
      },
      "source": [
        "# 訓練データをもとに決定木を構成する"
      ]
    },
    {
      "cell_type": "code",
      "metadata": {
        "collapsed": true,
        "id": "gxY8__ZDFVUw"
      },
      "source": [
        "# 決定木学習器の準備\n",
        "classifier = tree.DecisionTreeClassifier(criterion='entropy') # 評価基準を情報量基準（entropy)とする。\n",
        "# 訓練データをもとに学習の実行\n",
        "classifier.fit(df[items],df[results]);"
      ],
      "execution_count": 5,
      "outputs": []
    },
    {
      "cell_type": "markdown",
      "metadata": {
        "id": "gLbf99XGFVUx"
      },
      "source": [
        "# 完成した決定木をpng画像として出力"
      ]
    },
    {
      "cell_type": "code",
      "metadata": {
        "id": "NmB8syztFVUx",
        "outputId": "07c1591b-1280-4c1c-e45e-059736f4dd07",
        "colab": {
          "base_uri": "https://localhost:8080/",
          "height": 379
        }
      },
      "source": [
        "# Graphviz 用の dot データを作成する\n",
        "dot_data = tree.export_graphviz(classifier, \n",
        "            out_file=None, # 出力ファイル名 None なら出力しない\n",
        "            filled=True, # ノードを色づけする\n",
        "            rounded=True, # ノードの角を丸く\n",
        "            feature_names=items) \n",
        "\n",
        "# 画像の保存\n",
        "graph = pdp.graph_from_dot_data(dot_data)\n",
        "for node in graph.get_nodes():\n",
        "    node.set_fontname(\"IPAGothic\")\n",
        "graph.write_png(\"販売予測.png\")\n",
        "\n",
        "# 画面表示用データの作成\n",
        "Source(dot_data)"
      ],
      "execution_count": 6,
      "outputs": [
        {
          "output_type": "execute_result",
          "data": {
            "text/plain": [
              "<graphviz.files.Source at 0x7f451e8a8a90>"
            ],
            "image/svg+xml": "<?xml version=\"1.0\" encoding=\"UTF-8\" standalone=\"no\"?>\n<!DOCTYPE svg PUBLIC \"-//W3C//DTD SVG 1.1//EN\"\n \"http://www.w3.org/Graphics/SVG/1.1/DTD/svg11.dtd\">\n<!-- Generated by graphviz version 2.40.1 (20161225.0304)\n -->\n<!-- Title: Tree Pages: 1 -->\n<svg width=\"296pt\" height=\"269pt\"\n viewBox=\"0.00 0.00 296.00 269.00\" xmlns=\"http://www.w3.org/2000/svg\" xmlns:xlink=\"http://www.w3.org/1999/xlink\">\n<g id=\"graph0\" class=\"graph\" transform=\"scale(1 1) rotate(0) translate(4 265)\">\n<title>Tree</title>\n<polygon fill=\"#ffffff\" stroke=\"transparent\" points=\"-4,4 -4,-265 292,-265 292,4 -4,4\"/>\n<!-- 0 -->\n<g id=\"node1\" class=\"node\">\n<title>0</title>\n<path fill=\"#b0d8f5\" stroke=\"#000000\" d=\"M220.5,-261C220.5,-261 126.5,-261 126.5,-261 120.5,-261 114.5,-255 114.5,-249 114.5,-249 114.5,-205 114.5,-205 114.5,-199 120.5,-193 126.5,-193 126.5,-193 220.5,-193 220.5,-193 226.5,-193 232.5,-199 232.5,-205 232.5,-205 232.5,-249 232.5,-249 232.5,-255 226.5,-261 220.5,-261\"/>\n<text text-anchor=\"middle\" x=\"173.5\" y=\"-245.8\" font-family=\"Helvetica,sans-Serif\" font-size=\"14.00\" fill=\"#000000\">ローン残 &lt;= 0.5</text>\n<text text-anchor=\"middle\" x=\"173.5\" y=\"-230.8\" font-family=\"Helvetica,sans-Serif\" font-size=\"14.00\" fill=\"#000000\">entropy = 0.954</text>\n<text text-anchor=\"middle\" x=\"173.5\" y=\"-215.8\" font-family=\"Helvetica,sans-Serif\" font-size=\"14.00\" fill=\"#000000\">samples = 8</text>\n<text text-anchor=\"middle\" x=\"173.5\" y=\"-200.8\" font-family=\"Helvetica,sans-Serif\" font-size=\"14.00\" fill=\"#000000\">value = [3, 5]</text>\n</g>\n<!-- 1 -->\n<g id=\"node2\" class=\"node\">\n<title>1</title>\n<path fill=\"#eeab7b\" stroke=\"#000000\" d=\"M156.5,-157C156.5,-157 62.5,-157 62.5,-157 56.5,-157 50.5,-151 50.5,-145 50.5,-145 50.5,-101 50.5,-101 50.5,-95 56.5,-89 62.5,-89 62.5,-89 156.5,-89 156.5,-89 162.5,-89 168.5,-95 168.5,-101 168.5,-101 168.5,-145 168.5,-145 168.5,-151 162.5,-157 156.5,-157\"/>\n<text text-anchor=\"middle\" x=\"109.5\" y=\"-141.8\" font-family=\"Helvetica,sans-Serif\" font-size=\"14.00\" fill=\"#000000\">収入 &lt;= 0.5</text>\n<text text-anchor=\"middle\" x=\"109.5\" y=\"-126.8\" font-family=\"Helvetica,sans-Serif\" font-size=\"14.00\" fill=\"#000000\">entropy = 0.811</text>\n<text text-anchor=\"middle\" x=\"109.5\" y=\"-111.8\" font-family=\"Helvetica,sans-Serif\" font-size=\"14.00\" fill=\"#000000\">samples = 4</text>\n<text text-anchor=\"middle\" x=\"109.5\" y=\"-96.8\" font-family=\"Helvetica,sans-Serif\" font-size=\"14.00\" fill=\"#000000\">value = [3, 1]</text>\n</g>\n<!-- 0&#45;&gt;1 -->\n<g id=\"edge1\" class=\"edge\">\n<title>0&#45;&gt;1</title>\n<path fill=\"none\" stroke=\"#000000\" d=\"M152.544,-192.9465C147.1845,-184.2373 141.3539,-174.7626 135.7647,-165.6801\"/>\n<polygon fill=\"#000000\" stroke=\"#000000\" points=\"138.7249,-163.8122 130.5031,-157.13 132.7633,-167.481 138.7249,-163.8122\"/>\n<text text-anchor=\"middle\" x=\"124.7126\" y=\"-177.7502\" font-family=\"Helvetica,sans-Serif\" font-size=\"14.00\" fill=\"#000000\">True</text>\n</g>\n<!-- 4 -->\n<g id=\"node5\" class=\"node\">\n<title>4</title>\n<path fill=\"#399de5\" stroke=\"#000000\" d=\"M276,-149.5C276,-149.5 199,-149.5 199,-149.5 193,-149.5 187,-143.5 187,-137.5 187,-137.5 187,-108.5 187,-108.5 187,-102.5 193,-96.5 199,-96.5 199,-96.5 276,-96.5 276,-96.5 282,-96.5 288,-102.5 288,-108.5 288,-108.5 288,-137.5 288,-137.5 288,-143.5 282,-149.5 276,-149.5\"/>\n<text text-anchor=\"middle\" x=\"237.5\" y=\"-134.3\" font-family=\"Helvetica,sans-Serif\" font-size=\"14.00\" fill=\"#000000\">entropy = 0.0</text>\n<text text-anchor=\"middle\" x=\"237.5\" y=\"-119.3\" font-family=\"Helvetica,sans-Serif\" font-size=\"14.00\" fill=\"#000000\">samples = 4</text>\n<text text-anchor=\"middle\" x=\"237.5\" y=\"-104.3\" font-family=\"Helvetica,sans-Serif\" font-size=\"14.00\" fill=\"#000000\">value = [0, 4]</text>\n</g>\n<!-- 0&#45;&gt;4 -->\n<g id=\"edge4\" class=\"edge\">\n<title>0&#45;&gt;4</title>\n<path fill=\"none\" stroke=\"#000000\" d=\"M194.456,-192.9465C201.3022,-181.8215 208.9171,-169.4473 215.8157,-158.237\"/>\n<polygon fill=\"#000000\" stroke=\"#000000\" points=\"218.9061,-159.8931 221.1664,-149.5422 212.9445,-156.2244 218.9061,-159.8931\"/>\n<text text-anchor=\"middle\" x=\"226.9569\" y=\"-170.1623\" font-family=\"Helvetica,sans-Serif\" font-size=\"14.00\" fill=\"#000000\">False</text>\n</g>\n<!-- 2 -->\n<g id=\"node3\" class=\"node\">\n<title>2</title>\n<path fill=\"#399de5\" stroke=\"#000000\" d=\"M89,-53C89,-53 12,-53 12,-53 6,-53 0,-47 0,-41 0,-41 0,-12 0,-12 0,-6 6,0 12,0 12,0 89,0 89,0 95,0 101,-6 101,-12 101,-12 101,-41 101,-41 101,-47 95,-53 89,-53\"/>\n<text text-anchor=\"middle\" x=\"50.5\" y=\"-37.8\" font-family=\"Helvetica,sans-Serif\" font-size=\"14.00\" fill=\"#000000\">entropy = 0.0</text>\n<text text-anchor=\"middle\" x=\"50.5\" y=\"-22.8\" font-family=\"Helvetica,sans-Serif\" font-size=\"14.00\" fill=\"#000000\">samples = 1</text>\n<text text-anchor=\"middle\" x=\"50.5\" y=\"-7.8\" font-family=\"Helvetica,sans-Serif\" font-size=\"14.00\" fill=\"#000000\">value = [0, 1]</text>\n</g>\n<!-- 1&#45;&gt;2 -->\n<g id=\"edge2\" class=\"edge\">\n<title>1&#45;&gt;2</title>\n<path fill=\"none\" stroke=\"#000000\" d=\"M88.6988,-88.9777C83.3242,-80.187 77.5265,-70.7044 72.1115,-61.8477\"/>\n<polygon fill=\"#000000\" stroke=\"#000000\" points=\"75.0564,-59.9545 66.854,-53.2485 69.0842,-63.6059 75.0564,-59.9545\"/>\n</g>\n<!-- 3 -->\n<g id=\"node4\" class=\"node\">\n<title>3</title>\n<path fill=\"#e58139\" stroke=\"#000000\" d=\"M208,-53C208,-53 131,-53 131,-53 125,-53 119,-47 119,-41 119,-41 119,-12 119,-12 119,-6 125,0 131,0 131,0 208,0 208,0 214,0 220,-6 220,-12 220,-12 220,-41 220,-41 220,-47 214,-53 208,-53\"/>\n<text text-anchor=\"middle\" x=\"169.5\" y=\"-37.8\" font-family=\"Helvetica,sans-Serif\" font-size=\"14.00\" fill=\"#000000\">entropy = 0.0</text>\n<text text-anchor=\"middle\" x=\"169.5\" y=\"-22.8\" font-family=\"Helvetica,sans-Serif\" font-size=\"14.00\" fill=\"#000000\">samples = 3</text>\n<text text-anchor=\"middle\" x=\"169.5\" y=\"-7.8\" font-family=\"Helvetica,sans-Serif\" font-size=\"14.00\" fill=\"#000000\">value = [3, 0]</text>\n</g>\n<!-- 1&#45;&gt;3 -->\n<g id=\"edge3\" class=\"edge\">\n<title>1&#45;&gt;3</title>\n<path fill=\"none\" stroke=\"#000000\" d=\"M130.6538,-88.9777C136.1195,-80.187 142.0154,-70.7044 147.5222,-61.8477\"/>\n<polygon fill=\"#000000\" stroke=\"#000000\" points=\"150.5609,-63.5889 152.8688,-53.2485 144.6163,-59.8927 150.5609,-63.5889\"/>\n</g>\n</g>\n</svg>\n"
          },
          "metadata": {
            "tags": []
          },
          "execution_count": 6
        }
      ]
    },
    {
      "cell_type": "markdown",
      "metadata": {
        "collapsed": true,
        "id": "_WMwXTIjFVUy"
      },
      "source": [
        "### 解説\n",
        "既知の８ケース中、住宅形態、家族構成、収入、ローン残高の４項目のうち一つだけで決まっている可能性を考える。  \n",
        "- 「住宅形態」をチェックすると、マンション住まいの人がかならず買ってくれる、あるいは買わないということはない。一戸建ても同様である。\n",
        "- 「家族構成」では、独身は買わないようである、ということだけわかる。独身は８ケース中２ケースだから、この法則が正しいなら、1/4 は独身かどうかだけチェックしたら確定する。\n",
        "- 「収入」については、高収入の人は買ってくれることもあるが必ずそうとも限らない。低収入の人は総じて買わない。この経験的知識で判断できるケースは3/8である。\n",
        "- 「ローン残高」の場合は、残高がある人は購入してくれたないという法則が成り立ちそうである。これで判断できるのは 1/2\n",
        "\n",
        "よって、効率を考えれば、「ローン残高」を最初のチェック項目とするのがよいという結論になる。この項目で八件中四件は購入しないと予測できるので、あとは残りの４件に絞って次の判断項目を考えればよい。  \n",
        "\n",
        "残り４件も同様にしてどの項目が実績のあるなしと相関があるかを調べていけばよいのだが、次は簡単で、収入の高低と実績の有無が完全に一致しているので、２つ目の検査項目は「収入」がベストであるのは自明である。\n",
        "\n",
        "上の図では、「ローン残 <= 0.5」と表示されているが、ローン残は０か１かのデータとしているので、True はローン残が０つまり「なし」、False は「あり」を意味する。\n",
        "\n",
        "\n"
      ]
    },
    {
      "cell_type": "markdown",
      "metadata": {
        "id": "i99cio8nFVUz"
      },
      "source": [
        "# 全判定結果"
      ]
    },
    {
      "cell_type": "code",
      "metadata": {
        "id": "CvPEe7WOFVUz",
        "outputId": "e242631b-9df9-4a6c-b370-5c72673b16b9",
        "colab": {
          "base_uri": "https://localhost:8080/",
          "height": 299
        }
      },
      "source": [
        "df['判定結果']=classifier.predict(df[items])\n",
        "df"
      ],
      "execution_count": 8,
      "outputs": [
        {
          "output_type": "execute_result",
          "data": {
            "text/html": [
              "<div>\n",
              "<style scoped>\n",
              "    .dataframe tbody tr th:only-of-type {\n",
              "        vertical-align: middle;\n",
              "    }\n",
              "\n",
              "    .dataframe tbody tr th {\n",
              "        vertical-align: top;\n",
              "    }\n",
              "\n",
              "    .dataframe thead th {\n",
              "        text-align: right;\n",
              "    }\n",
              "</style>\n",
              "<table border=\"1\" class=\"dataframe\">\n",
              "  <thead>\n",
              "    <tr style=\"text-align: right;\">\n",
              "      <th></th>\n",
              "      <th>住居形態</th>\n",
              "      <th>家族構成</th>\n",
              "      <th>収入</th>\n",
              "      <th>ローン残</th>\n",
              "      <th>販売実績</th>\n",
              "      <th>判定結果</th>\n",
              "    </tr>\n",
              "  </thead>\n",
              "  <tbody>\n",
              "    <tr>\n",
              "      <th>0</th>\n",
              "      <td>0</td>\n",
              "      <td>0</td>\n",
              "      <td>0</td>\n",
              "      <td>1</td>\n",
              "      <td>負</td>\n",
              "      <td>負</td>\n",
              "    </tr>\n",
              "    <tr>\n",
              "      <th>1</th>\n",
              "      <td>1</td>\n",
              "      <td>2</td>\n",
              "      <td>1</td>\n",
              "      <td>1</td>\n",
              "      <td>負</td>\n",
              "      <td>負</td>\n",
              "    </tr>\n",
              "    <tr>\n",
              "      <th>2</th>\n",
              "      <td>1</td>\n",
              "      <td>1</td>\n",
              "      <td>0</td>\n",
              "      <td>1</td>\n",
              "      <td>負</td>\n",
              "      <td>負</td>\n",
              "    </tr>\n",
              "    <tr>\n",
              "      <th>3</th>\n",
              "      <td>0</td>\n",
              "      <td>0</td>\n",
              "      <td>1</td>\n",
              "      <td>1</td>\n",
              "      <td>負</td>\n",
              "      <td>負</td>\n",
              "    </tr>\n",
              "    <tr>\n",
              "      <th>4</th>\n",
              "      <td>0</td>\n",
              "      <td>2</td>\n",
              "      <td>1</td>\n",
              "      <td>0</td>\n",
              "      <td>正</td>\n",
              "      <td>正</td>\n",
              "    </tr>\n",
              "    <tr>\n",
              "      <th>5</th>\n",
              "      <td>0</td>\n",
              "      <td>1</td>\n",
              "      <td>1</td>\n",
              "      <td>0</td>\n",
              "      <td>正</td>\n",
              "      <td>正</td>\n",
              "    </tr>\n",
              "    <tr>\n",
              "      <th>6</th>\n",
              "      <td>0</td>\n",
              "      <td>2</td>\n",
              "      <td>0</td>\n",
              "      <td>0</td>\n",
              "      <td>負</td>\n",
              "      <td>負</td>\n",
              "    </tr>\n",
              "    <tr>\n",
              "      <th>7</th>\n",
              "      <td>1</td>\n",
              "      <td>2</td>\n",
              "      <td>1</td>\n",
              "      <td>0</td>\n",
              "      <td>正</td>\n",
              "      <td>正</td>\n",
              "    </tr>\n",
              "  </tbody>\n",
              "</table>\n",
              "</div>"
            ],
            "text/plain": [
              "  住居形態 家族構成 収入 ローン残 販売実績 判定結果\n",
              "0    0    0  0    1    負    負\n",
              "1    1    2  1    1    負    負\n",
              "2    1    1  0    1    負    負\n",
              "3    0    0  1    1    負    負\n",
              "4    0    2  1    0    正    正\n",
              "5    0    1  1    0    正    正\n",
              "6    0    2  0    0    負    負\n",
              "7    1    2  1    0    正    正"
            ]
          },
          "metadata": {
            "tags": []
          },
          "execution_count": 8
        }
      ]
    },
    {
      "cell_type": "code",
      "metadata": {
        "id": "TDLwRUDiFVU0",
        "outputId": "0776be9b-a583-468f-ed1e-aec08939cadb",
        "colab": {
          "base_uri": "https://localhost:8080/"
        }
      },
      "source": [
        "print(\"正解率 {:3.2f}　％\".format((df['販売実績'] != df['判定結果']).value_counts()[False]*100/8))"
      ],
      "execution_count": 9,
      "outputs": [
        {
          "output_type": "stream",
          "text": [
            "正解率 100.00　％\n"
          ],
          "name": "stdout"
        }
      ]
    },
    {
      "cell_type": "code",
      "metadata": {
        "collapsed": true,
        "id": "QPobv9YbFVU0"
      },
      "source": [
        ""
      ],
      "execution_count": null,
      "outputs": []
    }
  ]
}