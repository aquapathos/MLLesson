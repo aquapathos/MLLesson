{
  "nbformat": 4,
  "nbformat_minor": 0,
  "metadata": {
    "kernelspec": {
      "display_name": "Python 3",
      "language": "python",
      "name": "python3"
    },
    "language_info": {
      "codemirror_mode": {
        "name": "ipython",
        "version": 3
      },
      "file_extension": ".py",
      "mimetype": "text/x-python",
      "name": "python",
      "nbconvert_exporter": "python",
      "pygments_lexer": "ipython3",
      "version": "3.7.3"
    },
    "colab": {
      "name": "1. 有罪無罪.ipynb",
      "provenance": [],
      "collapsed_sections": [],
      "include_colab_link": true
    }
  },
  "cells": [
    {
      "cell_type": "markdown",
      "metadata": {
        "id": "view-in-github",
        "colab_type": "text"
      },
      "source": [
        "<a href=\"https://colab.research.google.com/github/aquapathos/MLLesson/blob/master/ML02%20%E6%B1%BA%E5%AE%9A%E6%9C%A8%E3%81%AE%E5%AD%A6%E7%BF%92/1_%E6%9C%89%E7%BD%AA%E7%84%A1%E7%BD%AA.ipynb\" target=\"_parent\"><img src=\"https://colab.research.google.com/assets/colab-badge.svg\" alt=\"Open In Colab\"/></a>"
      ]
    },
    {
      "cell_type": "code",
      "metadata": {
        "id": "apAO7x1vGpL5"
      },
      "source": [
        "# モジュールのインポート\n",
        "!apt-get -qq -y install fonts-ipafont-gothic > /dev/null\n",
        "import pandas as pd\n",
        "import numpy as np\n",
        "from sklearn import tree\n",
        "from graphviz import Digraph,Source\n",
        "import pydotplus as pdp"
      ],
      "execution_count": 2,
      "outputs": []
    },
    {
      "cell_type": "markdown",
      "metadata": {
        "id": "3zepYfAOGpL7"
      },
      "source": [
        "# 識別対象データ"
      ]
    },
    {
      "cell_type": "code",
      "metadata": {
        "colab": {
          "base_uri": "https://localhost:8080/",
          "height": 362
        },
        "id": "PtYOUAaEGpL8",
        "outputId": "97f8347f-9eec-4eb8-bb87-96090ebf411e"
      },
      "source": [
        "rawdata = np.array([\n",
        "    # ５つの成分の意味\n",
        "    # 第0成分: 性別 0:男性、1:女性\n",
        "    # 第1成分: 年齢 0:未成年、1:成年、2:老人\n",
        "    # 第2成分: 薬物　　０:シンナー、1:大麻　　２：覚せい剤\n",
        "    # 第3成分: 犯罪歴　0:なし、1:あり\n",
        "    # 第4成分: 実判決　　猶予、実刑\n",
        "    [0,0,0,0,\"猶予\"],\n",
        "    [1,0,0,0,\"猶予\"],\n",
        "    [0,2,1,0,\"猶予\"],\n",
        "    [0,0,0,1,\"実刑\"],\n",
        "    [0,2,1,1,\"実刑\"],\n",
        "    [1,1,2,1,\"実刑\"],\n",
        "    [1,1,0,1,\"実刑\"],\n",
        "    [1,0,2,1,\"実刑\"],\n",
        "    [0,2,2,0,\"実刑\"],\n",
        "    [1,0,2,1,\"実刑\"]\n",
        "    ])\n",
        "\n",
        "items=['性別','年齢','薬物','犯罪歴']\n",
        "results=['実判決']\n",
        "df = pd.DataFrame(rawdata,columns=np.r_[items,results])\n",
        "df"
      ],
      "execution_count": 3,
      "outputs": [
        {
          "output_type": "execute_result",
          "data": {
            "text/html": [
              "<div>\n",
              "<style scoped>\n",
              "    .dataframe tbody tr th:only-of-type {\n",
              "        vertical-align: middle;\n",
              "    }\n",
              "\n",
              "    .dataframe tbody tr th {\n",
              "        vertical-align: top;\n",
              "    }\n",
              "\n",
              "    .dataframe thead th {\n",
              "        text-align: right;\n",
              "    }\n",
              "</style>\n",
              "<table border=\"1\" class=\"dataframe\">\n",
              "  <thead>\n",
              "    <tr style=\"text-align: right;\">\n",
              "      <th></th>\n",
              "      <th>性別</th>\n",
              "      <th>年齢</th>\n",
              "      <th>薬物</th>\n",
              "      <th>犯罪歴</th>\n",
              "      <th>実判決</th>\n",
              "    </tr>\n",
              "  </thead>\n",
              "  <tbody>\n",
              "    <tr>\n",
              "      <th>0</th>\n",
              "      <td>0</td>\n",
              "      <td>0</td>\n",
              "      <td>0</td>\n",
              "      <td>0</td>\n",
              "      <td>猶予</td>\n",
              "    </tr>\n",
              "    <tr>\n",
              "      <th>1</th>\n",
              "      <td>1</td>\n",
              "      <td>0</td>\n",
              "      <td>0</td>\n",
              "      <td>0</td>\n",
              "      <td>猶予</td>\n",
              "    </tr>\n",
              "    <tr>\n",
              "      <th>2</th>\n",
              "      <td>0</td>\n",
              "      <td>2</td>\n",
              "      <td>1</td>\n",
              "      <td>0</td>\n",
              "      <td>猶予</td>\n",
              "    </tr>\n",
              "    <tr>\n",
              "      <th>3</th>\n",
              "      <td>0</td>\n",
              "      <td>0</td>\n",
              "      <td>0</td>\n",
              "      <td>1</td>\n",
              "      <td>実刑</td>\n",
              "    </tr>\n",
              "    <tr>\n",
              "      <th>4</th>\n",
              "      <td>0</td>\n",
              "      <td>2</td>\n",
              "      <td>1</td>\n",
              "      <td>1</td>\n",
              "      <td>実刑</td>\n",
              "    </tr>\n",
              "    <tr>\n",
              "      <th>5</th>\n",
              "      <td>1</td>\n",
              "      <td>1</td>\n",
              "      <td>2</td>\n",
              "      <td>1</td>\n",
              "      <td>実刑</td>\n",
              "    </tr>\n",
              "    <tr>\n",
              "      <th>6</th>\n",
              "      <td>1</td>\n",
              "      <td>1</td>\n",
              "      <td>0</td>\n",
              "      <td>1</td>\n",
              "      <td>実刑</td>\n",
              "    </tr>\n",
              "    <tr>\n",
              "      <th>7</th>\n",
              "      <td>1</td>\n",
              "      <td>0</td>\n",
              "      <td>2</td>\n",
              "      <td>1</td>\n",
              "      <td>実刑</td>\n",
              "    </tr>\n",
              "    <tr>\n",
              "      <th>8</th>\n",
              "      <td>0</td>\n",
              "      <td>2</td>\n",
              "      <td>2</td>\n",
              "      <td>0</td>\n",
              "      <td>実刑</td>\n",
              "    </tr>\n",
              "    <tr>\n",
              "      <th>9</th>\n",
              "      <td>1</td>\n",
              "      <td>0</td>\n",
              "      <td>2</td>\n",
              "      <td>1</td>\n",
              "      <td>実刑</td>\n",
              "    </tr>\n",
              "  </tbody>\n",
              "</table>\n",
              "</div>"
            ],
            "text/plain": [
              "  性別 年齢 薬物 犯罪歴 実判決\n",
              "0  0  0  0   0  猶予\n",
              "1  1  0  0   0  猶予\n",
              "2  0  2  1   0  猶予\n",
              "3  0  0  0   1  実刑\n",
              "4  0  2  1   1  実刑\n",
              "5  1  1  2   1  実刑\n",
              "6  1  1  0   1  実刑\n",
              "7  1  0  2   1  実刑\n",
              "8  0  2  2   0  実刑\n",
              "9  1  0  2   1  実刑"
            ]
          },
          "metadata": {
            "tags": []
          },
          "execution_count": 3
        }
      ]
    },
    {
      "cell_type": "markdown",
      "metadata": {
        "id": "rYmIzpRpGpL-"
      },
      "source": [
        "# 決定木の生成プログラム"
      ]
    },
    {
      "cell_type": "code",
      "metadata": {
        "id": "Ip9vBShaGpMB"
      },
      "source": [
        "# 決定木学習器の準備\n",
        "classifier = tree.DecisionTreeClassifier(criterion='entropy') # 評価基準を情報量基準（entropy)とする。\n",
        "# 訓練データをもとに学習の実行\n",
        "classifier.fit(df[items],df[results]);"
      ],
      "execution_count": 4,
      "outputs": []
    },
    {
      "cell_type": "markdown",
      "metadata": {
        "id": "H6yUNN4AGpMC"
      },
      "source": [
        "# 完成した決定木をpng画像として出力"
      ]
    },
    {
      "cell_type": "code",
      "metadata": {
        "colab": {
          "base_uri": "https://localhost:8080/",
          "height": 379
        },
        "id": "xP_hxCLrGpMC",
        "outputId": "4c23b577-28d0-4330-c137-a3bc75068998"
      },
      "source": [
        "\n",
        "# Graphviz 用の dot データを作成する\n",
        "dot_data = tree.export_graphviz(classifier, \n",
        "            out_file=None, # 出力ファイル名 None なら出力しない\n",
        "            filled=True, # ノードを色づけする\n",
        "            rounded=True, # ノードの角を丸く\n",
        "            feature_names=items) \n",
        "\n",
        "# 画像の保存\n",
        "graph = pdp.graph_from_dot_data(dot_data)\n",
        "for node in graph.get_nodes():\n",
        "    node.set_fontname(\"IPAGothic\")\n",
        "graph.write_png(\"判決予測.png\")\n",
        "\n",
        "# 画面表示用データの作成\n",
        "Source(dot_data)\n"
      ],
      "execution_count": 5,
      "outputs": [
        {
          "output_type": "execute_result",
          "data": {
            "text/plain": [
              "<graphviz.files.Source at 0x7fe62b62e3d0>"
            ],
            "image/svg+xml": "<?xml version=\"1.0\" encoding=\"UTF-8\" standalone=\"no\"?>\n<!DOCTYPE svg PUBLIC \"-//W3C//DTD SVG 1.1//EN\"\n \"http://www.w3.org/Graphics/SVG/1.1/DTD/svg11.dtd\">\n<!-- Generated by graphviz version 2.40.1 (20161225.0304)\n -->\n<!-- Title: Tree Pages: 1 -->\n<svg width=\"296pt\" height=\"269pt\"\n viewBox=\"0.00 0.00 296.00 269.00\" xmlns=\"http://www.w3.org/2000/svg\" xmlns:xlink=\"http://www.w3.org/1999/xlink\">\n<g id=\"graph0\" class=\"graph\" transform=\"scale(1 1) rotate(0) translate(4 265)\">\n<title>Tree</title>\n<polygon fill=\"#ffffff\" stroke=\"transparent\" points=\"-4,4 -4,-265 292,-265 292,4 -4,4\"/>\n<!-- 0 -->\n<g id=\"node1\" class=\"node\">\n<title>0</title>\n<path fill=\"#f0b78e\" stroke=\"#000000\" d=\"M220.5,-261C220.5,-261 126.5,-261 126.5,-261 120.5,-261 114.5,-255 114.5,-249 114.5,-249 114.5,-205 114.5,-205 114.5,-199 120.5,-193 126.5,-193 126.5,-193 220.5,-193 220.5,-193 226.5,-193 232.5,-199 232.5,-205 232.5,-205 232.5,-249 232.5,-249 232.5,-255 226.5,-261 220.5,-261\"/>\n<text text-anchor=\"middle\" x=\"173.5\" y=\"-245.8\" font-family=\"Helvetica,sans-Serif\" font-size=\"14.00\" fill=\"#000000\">犯罪歴 &lt;= 0.5</text>\n<text text-anchor=\"middle\" x=\"173.5\" y=\"-230.8\" font-family=\"Helvetica,sans-Serif\" font-size=\"14.00\" fill=\"#000000\">entropy = 0.881</text>\n<text text-anchor=\"middle\" x=\"173.5\" y=\"-215.8\" font-family=\"Helvetica,sans-Serif\" font-size=\"14.00\" fill=\"#000000\">samples = 10</text>\n<text text-anchor=\"middle\" x=\"173.5\" y=\"-200.8\" font-family=\"Helvetica,sans-Serif\" font-size=\"14.00\" fill=\"#000000\">value = [7, 3]</text>\n</g>\n<!-- 1 -->\n<g id=\"node2\" class=\"node\">\n<title>1</title>\n<path fill=\"#7bbeee\" stroke=\"#000000\" d=\"M156.5,-157C156.5,-157 62.5,-157 62.5,-157 56.5,-157 50.5,-151 50.5,-145 50.5,-145 50.5,-101 50.5,-101 50.5,-95 56.5,-89 62.5,-89 62.5,-89 156.5,-89 156.5,-89 162.5,-89 168.5,-95 168.5,-101 168.5,-101 168.5,-145 168.5,-145 168.5,-151 162.5,-157 156.5,-157\"/>\n<text text-anchor=\"middle\" x=\"109.5\" y=\"-141.8\" font-family=\"Helvetica,sans-Serif\" font-size=\"14.00\" fill=\"#000000\">薬物 &lt;= 1.5</text>\n<text text-anchor=\"middle\" x=\"109.5\" y=\"-126.8\" font-family=\"Helvetica,sans-Serif\" font-size=\"14.00\" fill=\"#000000\">entropy = 0.811</text>\n<text text-anchor=\"middle\" x=\"109.5\" y=\"-111.8\" font-family=\"Helvetica,sans-Serif\" font-size=\"14.00\" fill=\"#000000\">samples = 4</text>\n<text text-anchor=\"middle\" x=\"109.5\" y=\"-96.8\" font-family=\"Helvetica,sans-Serif\" font-size=\"14.00\" fill=\"#000000\">value = [1, 3]</text>\n</g>\n<!-- 0&#45;&gt;1 -->\n<g id=\"edge1\" class=\"edge\">\n<title>0&#45;&gt;1</title>\n<path fill=\"none\" stroke=\"#000000\" d=\"M152.544,-192.9465C147.1845,-184.2373 141.3539,-174.7626 135.7647,-165.6801\"/>\n<polygon fill=\"#000000\" stroke=\"#000000\" points=\"138.7249,-163.8122 130.5031,-157.13 132.7633,-167.481 138.7249,-163.8122\"/>\n<text text-anchor=\"middle\" x=\"124.7126\" y=\"-177.7502\" font-family=\"Helvetica,sans-Serif\" font-size=\"14.00\" fill=\"#000000\">True</text>\n</g>\n<!-- 4 -->\n<g id=\"node5\" class=\"node\">\n<title>4</title>\n<path fill=\"#e58139\" stroke=\"#000000\" d=\"M276,-149.5C276,-149.5 199,-149.5 199,-149.5 193,-149.5 187,-143.5 187,-137.5 187,-137.5 187,-108.5 187,-108.5 187,-102.5 193,-96.5 199,-96.5 199,-96.5 276,-96.5 276,-96.5 282,-96.5 288,-102.5 288,-108.5 288,-108.5 288,-137.5 288,-137.5 288,-143.5 282,-149.5 276,-149.5\"/>\n<text text-anchor=\"middle\" x=\"237.5\" y=\"-134.3\" font-family=\"Helvetica,sans-Serif\" font-size=\"14.00\" fill=\"#000000\">entropy = 0.0</text>\n<text text-anchor=\"middle\" x=\"237.5\" y=\"-119.3\" font-family=\"Helvetica,sans-Serif\" font-size=\"14.00\" fill=\"#000000\">samples = 6</text>\n<text text-anchor=\"middle\" x=\"237.5\" y=\"-104.3\" font-family=\"Helvetica,sans-Serif\" font-size=\"14.00\" fill=\"#000000\">value = [6, 0]</text>\n</g>\n<!-- 0&#45;&gt;4 -->\n<g id=\"edge4\" class=\"edge\">\n<title>0&#45;&gt;4</title>\n<path fill=\"none\" stroke=\"#000000\" d=\"M194.456,-192.9465C201.3022,-181.8215 208.9171,-169.4473 215.8157,-158.237\"/>\n<polygon fill=\"#000000\" stroke=\"#000000\" points=\"218.9061,-159.8931 221.1664,-149.5422 212.9445,-156.2244 218.9061,-159.8931\"/>\n<text text-anchor=\"middle\" x=\"226.9569\" y=\"-170.1623\" font-family=\"Helvetica,sans-Serif\" font-size=\"14.00\" fill=\"#000000\">False</text>\n</g>\n<!-- 2 -->\n<g id=\"node3\" class=\"node\">\n<title>2</title>\n<path fill=\"#399de5\" stroke=\"#000000\" d=\"M89,-53C89,-53 12,-53 12,-53 6,-53 0,-47 0,-41 0,-41 0,-12 0,-12 0,-6 6,0 12,0 12,0 89,0 89,0 95,0 101,-6 101,-12 101,-12 101,-41 101,-41 101,-47 95,-53 89,-53\"/>\n<text text-anchor=\"middle\" x=\"50.5\" y=\"-37.8\" font-family=\"Helvetica,sans-Serif\" font-size=\"14.00\" fill=\"#000000\">entropy = 0.0</text>\n<text text-anchor=\"middle\" x=\"50.5\" y=\"-22.8\" font-family=\"Helvetica,sans-Serif\" font-size=\"14.00\" fill=\"#000000\">samples = 3</text>\n<text text-anchor=\"middle\" x=\"50.5\" y=\"-7.8\" font-family=\"Helvetica,sans-Serif\" font-size=\"14.00\" fill=\"#000000\">value = [0, 3]</text>\n</g>\n<!-- 1&#45;&gt;2 -->\n<g id=\"edge2\" class=\"edge\">\n<title>1&#45;&gt;2</title>\n<path fill=\"none\" stroke=\"#000000\" d=\"M88.6988,-88.9777C83.3242,-80.187 77.5265,-70.7044 72.1115,-61.8477\"/>\n<polygon fill=\"#000000\" stroke=\"#000000\" points=\"75.0564,-59.9545 66.854,-53.2485 69.0842,-63.6059 75.0564,-59.9545\"/>\n</g>\n<!-- 3 -->\n<g id=\"node4\" class=\"node\">\n<title>3</title>\n<path fill=\"#e58139\" stroke=\"#000000\" d=\"M208,-53C208,-53 131,-53 131,-53 125,-53 119,-47 119,-41 119,-41 119,-12 119,-12 119,-6 125,0 131,0 131,0 208,0 208,0 214,0 220,-6 220,-12 220,-12 220,-41 220,-41 220,-47 214,-53 208,-53\"/>\n<text text-anchor=\"middle\" x=\"169.5\" y=\"-37.8\" font-family=\"Helvetica,sans-Serif\" font-size=\"14.00\" fill=\"#000000\">entropy = 0.0</text>\n<text text-anchor=\"middle\" x=\"169.5\" y=\"-22.8\" font-family=\"Helvetica,sans-Serif\" font-size=\"14.00\" fill=\"#000000\">samples = 1</text>\n<text text-anchor=\"middle\" x=\"169.5\" y=\"-7.8\" font-family=\"Helvetica,sans-Serif\" font-size=\"14.00\" fill=\"#000000\">value = [1, 0]</text>\n</g>\n<!-- 1&#45;&gt;3 -->\n<g id=\"edge3\" class=\"edge\">\n<title>1&#45;&gt;3</title>\n<path fill=\"none\" stroke=\"#000000\" d=\"M130.6538,-88.9777C136.1195,-80.187 142.0154,-70.7044 147.5222,-61.8477\"/>\n<polygon fill=\"#000000\" stroke=\"#000000\" points=\"150.5609,-63.5889 152.8688,-53.2485 144.6163,-59.8927 150.5609,-63.5889\"/>\n</g>\n</g>\n</svg>\n"
          },
          "metadata": {
            "tags": []
          },
          "execution_count": 5
        }
      ]
    },
    {
      "cell_type": "markdown",
      "metadata": {
        "id": "xqQdZWptGpMD"
      },
      "source": [
        "薬物は3種あるが、**tree.DecisionTreeClassifier** は2分木しかつくれないので、薬物の部分は 1.5 以下と 1.5 以上という分岐になっている。項目は 0,1,2 なので、0 or 1 と 2 つまり、（シンナーと大麻）か（覚醒剤）かという分岐を意味する。"
      ]
    },
    {
      "cell_type": "markdown",
      "metadata": {
        "id": "5iHvkJwjGpME"
      },
      "source": [
        "# 全判定結果"
      ]
    },
    {
      "cell_type": "code",
      "metadata": {
        "colab": {
          "base_uri": "https://localhost:8080/",
          "height": 362
        },
        "id": "Cvts2GKtGpME",
        "outputId": "3ecd49af-116b-472e-c59a-05c85af2e9ae"
      },
      "source": [
        "df['判定結果']=classifier.predict(df[items])\n",
        "df"
      ],
      "execution_count": 6,
      "outputs": [
        {
          "output_type": "execute_result",
          "data": {
            "text/html": [
              "<div>\n",
              "<style scoped>\n",
              "    .dataframe tbody tr th:only-of-type {\n",
              "        vertical-align: middle;\n",
              "    }\n",
              "\n",
              "    .dataframe tbody tr th {\n",
              "        vertical-align: top;\n",
              "    }\n",
              "\n",
              "    .dataframe thead th {\n",
              "        text-align: right;\n",
              "    }\n",
              "</style>\n",
              "<table border=\"1\" class=\"dataframe\">\n",
              "  <thead>\n",
              "    <tr style=\"text-align: right;\">\n",
              "      <th></th>\n",
              "      <th>性別</th>\n",
              "      <th>年齢</th>\n",
              "      <th>薬物</th>\n",
              "      <th>犯罪歴</th>\n",
              "      <th>実判決</th>\n",
              "      <th>判定結果</th>\n",
              "    </tr>\n",
              "  </thead>\n",
              "  <tbody>\n",
              "    <tr>\n",
              "      <th>0</th>\n",
              "      <td>0</td>\n",
              "      <td>0</td>\n",
              "      <td>0</td>\n",
              "      <td>0</td>\n",
              "      <td>猶予</td>\n",
              "      <td>猶予</td>\n",
              "    </tr>\n",
              "    <tr>\n",
              "      <th>1</th>\n",
              "      <td>1</td>\n",
              "      <td>0</td>\n",
              "      <td>0</td>\n",
              "      <td>0</td>\n",
              "      <td>猶予</td>\n",
              "      <td>猶予</td>\n",
              "    </tr>\n",
              "    <tr>\n",
              "      <th>2</th>\n",
              "      <td>0</td>\n",
              "      <td>2</td>\n",
              "      <td>1</td>\n",
              "      <td>0</td>\n",
              "      <td>猶予</td>\n",
              "      <td>猶予</td>\n",
              "    </tr>\n",
              "    <tr>\n",
              "      <th>3</th>\n",
              "      <td>0</td>\n",
              "      <td>0</td>\n",
              "      <td>0</td>\n",
              "      <td>1</td>\n",
              "      <td>実刑</td>\n",
              "      <td>実刑</td>\n",
              "    </tr>\n",
              "    <tr>\n",
              "      <th>4</th>\n",
              "      <td>0</td>\n",
              "      <td>2</td>\n",
              "      <td>1</td>\n",
              "      <td>1</td>\n",
              "      <td>実刑</td>\n",
              "      <td>実刑</td>\n",
              "    </tr>\n",
              "    <tr>\n",
              "      <th>5</th>\n",
              "      <td>1</td>\n",
              "      <td>1</td>\n",
              "      <td>2</td>\n",
              "      <td>1</td>\n",
              "      <td>実刑</td>\n",
              "      <td>実刑</td>\n",
              "    </tr>\n",
              "    <tr>\n",
              "      <th>6</th>\n",
              "      <td>1</td>\n",
              "      <td>1</td>\n",
              "      <td>0</td>\n",
              "      <td>1</td>\n",
              "      <td>実刑</td>\n",
              "      <td>実刑</td>\n",
              "    </tr>\n",
              "    <tr>\n",
              "      <th>7</th>\n",
              "      <td>1</td>\n",
              "      <td>0</td>\n",
              "      <td>2</td>\n",
              "      <td>1</td>\n",
              "      <td>実刑</td>\n",
              "      <td>実刑</td>\n",
              "    </tr>\n",
              "    <tr>\n",
              "      <th>8</th>\n",
              "      <td>0</td>\n",
              "      <td>2</td>\n",
              "      <td>2</td>\n",
              "      <td>0</td>\n",
              "      <td>実刑</td>\n",
              "      <td>実刑</td>\n",
              "    </tr>\n",
              "    <tr>\n",
              "      <th>9</th>\n",
              "      <td>1</td>\n",
              "      <td>0</td>\n",
              "      <td>2</td>\n",
              "      <td>1</td>\n",
              "      <td>実刑</td>\n",
              "      <td>実刑</td>\n",
              "    </tr>\n",
              "  </tbody>\n",
              "</table>\n",
              "</div>"
            ],
            "text/plain": [
              "  性別 年齢 薬物 犯罪歴 実判決 判定結果\n",
              "0  0  0  0   0  猶予   猶予\n",
              "1  1  0  0   0  猶予   猶予\n",
              "2  0  2  1   0  猶予   猶予\n",
              "3  0  0  0   1  実刑   実刑\n",
              "4  0  2  1   1  実刑   実刑\n",
              "5  1  1  2   1  実刑   実刑\n",
              "6  1  1  0   1  実刑   実刑\n",
              "7  1  0  2   1  実刑   実刑\n",
              "8  0  2  2   0  実刑   実刑\n",
              "9  1  0  2   1  実刑   実刑"
            ]
          },
          "metadata": {
            "tags": []
          },
          "execution_count": 6
        }
      ]
    },
    {
      "cell_type": "code",
      "metadata": {
        "colab": {
          "base_uri": "https://localhost:8080/"
        },
        "id": "8TKsaplyGpMF",
        "outputId": "eb6d3c25-cd1c-4c91-d491-94b05c4d412e"
      },
      "source": [
        "print(\"正解率 {:3.2f}　％\".format((df['実判決'] != df['判定結果']).value_counts()[False]*100/10))"
      ],
      "execution_count": 7,
      "outputs": [
        {
          "output_type": "stream",
          "text": [
            "正解率 100.00　％\n"
          ],
          "name": "stdout"
        }
      ]
    },
    {
      "cell_type": "code",
      "metadata": {
        "id": "L0i_vwH8GpMF"
      },
      "source": [
        ""
      ],
      "execution_count": null,
      "outputs": []
    },
    {
      "cell_type": "code",
      "metadata": {
        "id": "6px3EFwiGpMF"
      },
      "source": [
        ""
      ],
      "execution_count": null,
      "outputs": []
    }
  ]
}