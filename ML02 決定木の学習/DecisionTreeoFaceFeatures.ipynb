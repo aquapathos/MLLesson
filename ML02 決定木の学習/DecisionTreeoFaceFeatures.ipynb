{
 "cells": [
  {
   "cell_type": "code",
   "execution_count": 1,
   "metadata": {},
   "outputs": [
    {
     "name": "stdout",
     "output_type": "stream",
     "text": [
      "顔認識の決定木作成\n"
     ]
    }
   ],
   "source": [
    "'''顔認識の決定木作成'''\n",
    "print(__doc__)"
   ]
  },
  {
   "cell_type": "markdown",
   "metadata": {},
   "source": [
    "決定木の理解のために、顔の構成部品のあるなしだけのデータだけで顔に見えるかどうかを判定する決定木を作成してみる。\n",
    "\n",
    "- 参考サイト [ブースティングで、簡単な真顔と偽顔の図形を識別する](http://ishidate.my.coocan.jp/opencv_16/opencv_16.htm)\n",
    "\n",
    "参考にしたサイトはBoostingによる顔認識を理解するために問題を単純化して扱っているのだが、その表現を使わせてもらい、Boostingではなく決定木を作成してみる。\n",
    "\n",
    "<img width=\"638\" alt=\"2017-09-20 13 59 38\" src=\"https://user-images.githubusercontent.com/5820803/30627844-b9c8a00c-9e0d-11e7-95cc-4b71d4f72995.png\">"
   ]
  },
  {
   "cell_type": "markdown",
   "metadata": {},
   "source": [
    "### 必要な非標準モジュール\n",
    "- graphviz\n",
    "- pydotplus\n",
    "- opencv2\n",
    "\n",
    "#### graphviz\n",
    "\n",
    "> pip install graphviz\n",
    "\n",
    "でインストール可能\n",
    "\n",
    "##### Windows の場合、\n",
    "- [Graphviz - Graph Visualization Software](http://www.graphviz.org/Download_windows.php) で入手できます。\n",
    "\n",
    "#### pydotplus\n",
    "\n",
    "> pip install pydotplus\n",
    "\n",
    "#### graphviz\n",
    "\n"
   ]
  },
  {
   "cell_type": "code",
   "execution_count": 2,
   "metadata": {},
   "outputs": [
    {
     "name": "stdout",
     "output_type": "stream",
     "text": [
      "Requirement already satisfied: graphviz in /Users/dan/anaconda/lib/python3.6/site-packages\n",
      "Requirement already satisfied: pydotplus in /Users/dan/anaconda/lib/python3.6/site-packages\n",
      "Requirement already satisfied: pyparsing>=2.0.1 in /Users/dan/anaconda/lib/python3.6/site-packages (from pydotplus)\n"
     ]
    }
   ],
   "source": [
    "!pip install graphviz  # 　インストール。これらは２度実効する必要はない\n",
    "!pip install pydotplus # already satisfied と表示されるときはすでに導入済みであるということ"
   ]
  },
  {
   "cell_type": "code",
   "execution_count": 3,
   "metadata": {
    "collapsed": true
   },
   "outputs": [],
   "source": [
    "# モジュールのインポート\n",
    "import pandas as pd\n",
    "from sklearn import tree\n",
    "from sklearn.externals.six import StringIO\n",
    "from graphviz import Digraph\n",
    "import pydotplus\n",
    "import matplotlib.pyplot as plt\n",
    "import matplotlib.image as mpimg\n",
    "# import cv2\n",
    "from  PIL import Image,ImageDraw,ImageFont\n",
    "import numpy as np\n",
    "from IPython.display import display"
   ]
  },
  {
   "cell_type": "markdown",
   "metadata": {},
   "source": [
    "# 識別対象データ\n",
    "顔の構成部品のある無しのみのリストを対象データとする"
   ]
  },
  {
   "cell_type": "code",
   "execution_count": 4,
   "metadata": {
    "collapsed": true
   },
   "outputs": [],
   "source": [
    "faces=np.array([\n",
    "    # 9 つの成分の意味\n",
    "    # 第0成分: 左眉 0:なし、1:あり\n",
    "    # 第1成分: 右眉 0:なし、1:あり\n",
    "    # 第2成分: 左目 0:なし、1:あり\n",
    "    # 第3成分: 右目 0:なし、1:あり\n",
    "    # 第4成分: 　鼻 0:なし、1:あり\n",
    "    # 第5成分: 　口 0:なし、1:あり\n",
    "    # 第6―8成分: ほくろ　第6　左頬 第7　右頬　第８　おでこ\n",
    "\n",
    "    [1,1,1,1,1,1,0,0,0], #0\n",
    "    [0,1,1,1,1,1,0,0,0], #1\n",
    "    [1,0,1,1,1,0,0,0,0], #2\n",
    "    [1,1,1,1,0,1,0,0,0], #3\n",
    "    [1,1,1,0,1,1,0,0,0], #4\n",
    "    [1,1,0,1,1,1,0,0,0], #5\n",
    "    [0,0,1,1,0,1,0,0,0], #6\n",
    "    [1,1,1,1,1,0,1,0,0], #7\n",
    "    [0,0,1,1,1,1,0,1,0], #8\n",
    "    [1,1,1,1,1,1,0,0,1], #9\n",
    "\n",
    "    [1,1,1,1,1,1,1,1,0], #10\n",
    "    [0,1,1,1,1,1,1,0,1], #11\n",
    "    [0,0,1,1,1,0,0,0,0], #12\n",
    "    [1,0,1,1,1,1,0,1,1], #13\n",
    "    [1,1,1,1,0,0,0,0,1], #14\n",
    "    # 正の例ここまで\n",
    "\n",
    "    [0,0,0,0,1,1,0,0,0], #15\n",
    "    [1,0,0,0,1,1,1,1,1], #16\n",
    "    [0,1,0,1,0,1,0,0,0], #17\n",
    "    [1,0,1,0,0,1,0,0,0], #18\n",
    "    [0,1,0,1,0,1,1,0,0], #19\n",
    "    [1,0,1,0,1,0,1,0,0], #20\n",
    "    [1,0,1,0,0,1,1,0,0], #21\n",
    "    [0,1,0,1,0,1,0,0,1], #22\n",
    "    [1,1,0,0,1,0,1,1,0], #23\n",
    "    [0,0,0,0,0,1,1,1,1], #24\n",
    "\n",
    "    [0,0,0,0,1,1,0,0,1], #25\n",
    "    [1,0,1,0,0,0,1,0,0], #26\n",
    "    [1,1,0,0,1,1,1,1,0], #27\n",
    "    [1,1,0,0,1,1,0,0,0], #28\n",
    "    [1,0,1,0,1,1,0,1,0] #29\n",
    "    # 負の例ここまで\n",
    "    ])"
   ]
  },
  {
   "cell_type": "markdown",
   "metadata": {},
   "source": [
    "# 描画メソッド\n",
    "描画する必要はないが、不要だが、０１データでは素っ気ないので描画してみる。  \n",
    "視覚化すると判断がそれに引きずられる可能性があるので良し悪しであるが。"
   ]
  },
  {
   "cell_type": "code",
   "execution_count": 5,
   "metadata": {
    "collapsed": true
   },
   "outputs": [],
   "source": [
    "WIDTH, HEIGHT = 70,90\n",
    "# 上のデータを簡易画像として表示するメソッド\n",
    "def drawFaces(faces, i, b = None):\n",
    "    faceparts = faces[i]\n",
    "    img = Image.new('RGB', (WIDTH, HEIGHT), (255, 255, 255))    \n",
    "    dr = ImageDraw.Draw(img)\n",
    "    if faceparts[0]==1:   # 左まゆ 棒状\n",
    "        dr.rectangle(((15,22),(25,28)),(0,0,0),1)\n",
    "    if faceparts[1]==1:   # 右まゆ\n",
    "        dr.rectangle(((45,22),(55,28)),(0,0,0),1)\n",
    "    if faceparts[2]==1:  # 左目 まんまる\n",
    "        dr.ellipse(((16,31),(24,39)), (0,0,0),1)\n",
    "    if faceparts[3]==1:  # 右目　　まんまる\n",
    "        dr.ellipse(((46,31),(54,39)), (0,0,0),1) \n",
    "    if faceparts[4]==1:  # 鼻　　団子っ鼻\n",
    "        dr.ellipse(((26,43),(34,47)), (0,0,0),1)\n",
    "    if faceparts[5]==1:  # 口　横開き\n",
    "        dr.ellipse(((22,63),(38,67)), (0,0,0),1) \n",
    "    if faceparts[6]==1:  # 左頬\n",
    "        dr.ellipse(((5,42),(15,58)), (0,0,0),1) \n",
    "    if faceparts[7]==1:  # 右頬\n",
    "        dr.ellipse(((55,42),(65,58)), (0,0,0),1) \n",
    "    if faceparts[8]==1:  # でこぼくろ\n",
    "        dr.ellipse(((30,12),(40,18)), (0,0,0),1) \n",
    "    # 輪郭\n",
    "    dr.ellipse(((5,5),(65,85)), None,(0,0,0))\n",
    "    font = ImageFont.truetype('Meiryo', 10)\n",
    "    dr.text((0,75),(\"True\" if b==1 else (\"False\" if b==0 else \"?\")),(255,0,0),font =font)\n",
    "    return img    "
   ]
  },
  {
   "cell_type": "code",
   "execution_count": 6,
   "metadata": {},
   "outputs": [
    {
     "data": {
      "image/png": "[encoded data removed]",
      "text/plain": [
       "<PIL.Image.Image image mode=RGB size=140x90 at 0x112630908>"
      ]
     },
     "execution_count": 6,
     "metadata": {},
     "output_type": "execute_result"
    }
   ],
   "source": [
    "f0, f9 = drawFaces(faces,0),drawFaces(faces,9)\n",
    "canvas = Image.new('RGB', (WIDTH*2, HEIGHT), (255, 255, 255))\n",
    "canvas.paste(f0,(0,0))\n",
    "canvas.paste(f9,(f0.width,0))\n",
    "canvas"
   ]
  },
  {
   "cell_type": "code",
   "execution_count": 7,
   "metadata": {
    "collapsed": true
   },
   "outputs": [],
   "source": [
    "def expandfeatureVec(vec) :# ３値の成分を２値✕２に置き換える 返り値はただのリスト\n",
    "      return np.array(vec).astype(np.float32)\n",
    "\n",
    "def expandfeatureVecAll(faces): # 返り値は array\n",
    "    list = []\n",
    "    for vec in faces:\n",
    "        list.append(expandfeatureVec(vec))\n",
    "    return np.array(list).astype(np.float32)\n",
    "\n",
    "def drawsamples(faces, text, nums ):\n",
    "    t_canvas = Image.new('RGB', (WIDTH*10, HEIGHT+35), (255, 255, 255))   # 訓練例の表示のためのキャンバス（表示のみ）\n",
    "    for i in range(10): # 学習用の正の例と負の例それぞれ10個ずつを読み込み\n",
    "        dr = ImageDraw.Draw(t_canvas)\n",
    "        font = ImageFont.truetype('Meiryo', 24)\n",
    "        dr.text((0,0),text,(0,0,0),font =font)\n",
    "        t_canvas.paste(drawFaces(faces,nums[i],nums[i]<15),(WIDTH*i, 35))\n",
    "    display(t_canvas)\n",
    "    return t_canvas"
   ]
  },
  {
   "cell_type": "code",
   "execution_count": 8,
   "metadata": {},
   "outputs": [
    {
     "data": {
      "image/png": "[encoded data removed]",
      "text/plain": [
       "<PIL.Image.Image image mode=RGB size=700x125 at 0x11268B160>"
      ]
     },
     "metadata": {},
     "output_type": "display_data"
    },
    {
     "data": {
      "image/png": "[encoded data removed]",
      "text/plain": [
       "<PIL.Image.Image image mode=RGB size=700x125 at 0x11268B208>"
      ]
     },
     "metadata": {},
     "output_type": "display_data"
    },
    {
     "data": {
      "image/png": "[encoded data removed]",
      "text/plain": [
       "<PIL.Image.Image image mode=RGB size=700x125 at 0x11268B2B0>"
      ]
     },
     "metadata": {},
     "output_type": "display_data"
    }
   ],
   "source": [
    "rdT = np.random.permutation(np.arange(15))    # 正の例を並べ替え\n",
    "rdF = np.random.permutation(np.arange(15,30)) # 負の例を並べ替え\n",
    "train = np.r_[rdT[:10],rdF[:10]] # 正負先頭から１０個ずつ連結\n",
    "test = np.r_[rdT[10:],rdF[10:]]  # 残りをテストデータとする\n",
    "drawsamples(faces,\"True\",train[:10])  # \n",
    "drawsamples(faces,\"False\",train[10:]) # \n",
    "drawsamples(faces,\"Test\",test); # "
   ]
  },
  {
   "cell_type": "markdown",
   "metadata": {},
   "source": [
    "# 決定木の生成プログラム"
   ]
  },
  {
   "cell_type": "code",
   "execution_count": 9,
   "metadata": {
    "collapsed": true
   },
   "outputs": [],
   "source": [
    "truefaces = faces[rdT[:10]] # 顔特長ベクトルの正の例10個\n",
    "falsefaces = faces[rdF[:10]] # 顔特長ベクトルの負の例10個\n",
    "testfaces = faces[test]\n",
    "\n",
    "# rdT[:10],rdF[:10],test"
   ]
  },
  {
   "cell_type": "code",
   "execution_count": 10,
   "metadata": {
    "collapsed": true
   },
   "outputs": [],
   "source": [
    "pdata = pd.DataFrame(np.r_[truefaces,falsefaces],columns=['右眉','左眉','右目','左目','鼻','口','右黒子','左黒子','額黒子'])\n",
    "tdata = pd.DataFrame(testfaces,columns=['右眉','左眉','右目','左目','鼻','口','右黒子','左黒子','額黒子'])"
   ]
  },
  {
   "cell_type": "code",
   "execution_count": 11,
   "metadata": {},
   "outputs": [
    {
     "data": {
      "text/html": [
       "<div>\n",
       "<style>\n",
       "    .dataframe thead tr:only-child th {\n",
       "        text-align: right;\n",
       "    }\n",
       "\n",
       "    .dataframe thead th {\n",
       "        text-align: left;\n",
       "    }\n",
       "\n",
       "    .dataframe tbody tr th {\n",
       "        vertical-align: top;\n",
       "    }\n",
       "</style>\n",
       "<table border=\"1\" class=\"dataframe\">\n",
       "  <thead>\n",
       "    <tr style=\"text-align: right;\">\n",
       "      <th></th>\n",
       "      <th>右眉</th>\n",
       "      <th>左眉</th>\n",
       "      <th>右目</th>\n",
       "      <th>左目</th>\n",
       "      <th>鼻</th>\n",
       "      <th>口</th>\n",
       "      <th>右黒子</th>\n",
       "      <th>左黒子</th>\n",
       "      <th>額黒子</th>\n",
       "    </tr>\n",
       "  </thead>\n",
       "  <tbody>\n",
       "    <tr>\n",
       "      <th>0</th>\n",
       "      <td>1</td>\n",
       "      <td>0</td>\n",
       "      <td>1</td>\n",
       "      <td>1</td>\n",
       "      <td>1</td>\n",
       "      <td>1</td>\n",
       "      <td>0</td>\n",
       "      <td>1</td>\n",
       "      <td>1</td>\n",
       "    </tr>\n",
       "    <tr>\n",
       "      <th>1</th>\n",
       "      <td>0</td>\n",
       "      <td>0</td>\n",
       "      <td>1</td>\n",
       "      <td>1</td>\n",
       "      <td>1</td>\n",
       "      <td>0</td>\n",
       "      <td>0</td>\n",
       "      <td>0</td>\n",
       "      <td>0</td>\n",
       "    </tr>\n",
       "    <tr>\n",
       "      <th>2</th>\n",
       "      <td>1</td>\n",
       "      <td>1</td>\n",
       "      <td>1</td>\n",
       "      <td>0</td>\n",
       "      <td>1</td>\n",
       "      <td>1</td>\n",
       "      <td>0</td>\n",
       "      <td>0</td>\n",
       "      <td>0</td>\n",
       "    </tr>\n",
       "    <tr>\n",
       "      <th>3</th>\n",
       "      <td>0</td>\n",
       "      <td>0</td>\n",
       "      <td>1</td>\n",
       "      <td>1</td>\n",
       "      <td>1</td>\n",
       "      <td>1</td>\n",
       "      <td>0</td>\n",
       "      <td>1</td>\n",
       "      <td>0</td>\n",
       "    </tr>\n",
       "    <tr>\n",
       "      <th>4</th>\n",
       "      <td>0</td>\n",
       "      <td>0</td>\n",
       "      <td>1</td>\n",
       "      <td>1</td>\n",
       "      <td>0</td>\n",
       "      <td>1</td>\n",
       "      <td>0</td>\n",
       "      <td>0</td>\n",
       "      <td>0</td>\n",
       "    </tr>\n",
       "    <tr>\n",
       "      <th>5</th>\n",
       "      <td>1</td>\n",
       "      <td>1</td>\n",
       "      <td>1</td>\n",
       "      <td>1</td>\n",
       "      <td>1</td>\n",
       "      <td>0</td>\n",
       "      <td>1</td>\n",
       "      <td>0</td>\n",
       "      <td>0</td>\n",
       "    </tr>\n",
       "    <tr>\n",
       "      <th>6</th>\n",
       "      <td>1</td>\n",
       "      <td>1</td>\n",
       "      <td>1</td>\n",
       "      <td>1</td>\n",
       "      <td>0</td>\n",
       "      <td>1</td>\n",
       "      <td>0</td>\n",
       "      <td>0</td>\n",
       "      <td>0</td>\n",
       "    </tr>\n",
       "    <tr>\n",
       "      <th>7</th>\n",
       "      <td>1</td>\n",
       "      <td>1</td>\n",
       "      <td>1</td>\n",
       "      <td>1</td>\n",
       "      <td>1</td>\n",
       "      <td>1</td>\n",
       "      <td>0</td>\n",
       "      <td>0</td>\n",
       "      <td>0</td>\n",
       "    </tr>\n",
       "    <tr>\n",
       "      <th>8</th>\n",
       "      <td>1</td>\n",
       "      <td>1</td>\n",
       "      <td>1</td>\n",
       "      <td>1</td>\n",
       "      <td>0</td>\n",
       "      <td>0</td>\n",
       "      <td>0</td>\n",
       "      <td>0</td>\n",
       "      <td>1</td>\n",
       "    </tr>\n",
       "    <tr>\n",
       "      <th>9</th>\n",
       "      <td>1</td>\n",
       "      <td>0</td>\n",
       "      <td>1</td>\n",
       "      <td>1</td>\n",
       "      <td>1</td>\n",
       "      <td>0</td>\n",
       "      <td>0</td>\n",
       "      <td>0</td>\n",
       "      <td>0</td>\n",
       "    </tr>\n",
       "    <tr>\n",
       "      <th>10</th>\n",
       "      <td>1</td>\n",
       "      <td>1</td>\n",
       "      <td>0</td>\n",
       "      <td>0</td>\n",
       "      <td>1</td>\n",
       "      <td>0</td>\n",
       "      <td>1</td>\n",
       "      <td>1</td>\n",
       "      <td>0</td>\n",
       "    </tr>\n",
       "    <tr>\n",
       "      <th>11</th>\n",
       "      <td>1</td>\n",
       "      <td>1</td>\n",
       "      <td>0</td>\n",
       "      <td>0</td>\n",
       "      <td>1</td>\n",
       "      <td>1</td>\n",
       "      <td>1</td>\n",
       "      <td>1</td>\n",
       "      <td>0</td>\n",
       "    </tr>\n",
       "    <tr>\n",
       "      <th>12</th>\n",
       "      <td>0</td>\n",
       "      <td>1</td>\n",
       "      <td>0</td>\n",
       "      <td>1</td>\n",
       "      <td>0</td>\n",
       "      <td>1</td>\n",
       "      <td>0</td>\n",
       "      <td>0</td>\n",
       "      <td>0</td>\n",
       "    </tr>\n",
       "    <tr>\n",
       "      <th>13</th>\n",
       "      <td>1</td>\n",
       "      <td>0</td>\n",
       "      <td>1</td>\n",
       "      <td>0</td>\n",
       "      <td>0</td>\n",
       "      <td>1</td>\n",
       "      <td>1</td>\n",
       "      <td>0</td>\n",
       "      <td>0</td>\n",
       "    </tr>\n",
       "    <tr>\n",
       "      <th>14</th>\n",
       "      <td>1</td>\n",
       "      <td>0</td>\n",
       "      <td>1</td>\n",
       "      <td>0</td>\n",
       "      <td>1</td>\n",
       "      <td>0</td>\n",
       "      <td>1</td>\n",
       "      <td>0</td>\n",
       "      <td>0</td>\n",
       "    </tr>\n",
       "    <tr>\n",
       "      <th>15</th>\n",
       "      <td>1</td>\n",
       "      <td>0</td>\n",
       "      <td>1</td>\n",
       "      <td>0</td>\n",
       "      <td>0</td>\n",
       "      <td>1</td>\n",
       "      <td>0</td>\n",
       "      <td>0</td>\n",
       "      <td>0</td>\n",
       "    </tr>\n",
       "    <tr>\n",
       "      <th>16</th>\n",
       "      <td>1</td>\n",
       "      <td>0</td>\n",
       "      <td>1</td>\n",
       "      <td>0</td>\n",
       "      <td>0</td>\n",
       "      <td>0</td>\n",
       "      <td>1</td>\n",
       "      <td>0</td>\n",
       "      <td>0</td>\n",
       "    </tr>\n",
       "    <tr>\n",
       "      <th>17</th>\n",
       "      <td>0</td>\n",
       "      <td>1</td>\n",
       "      <td>0</td>\n",
       "      <td>1</td>\n",
       "      <td>0</td>\n",
       "      <td>1</td>\n",
       "      <td>1</td>\n",
       "      <td>0</td>\n",
       "      <td>0</td>\n",
       "    </tr>\n",
       "    <tr>\n",
       "      <th>18</th>\n",
       "      <td>1</td>\n",
       "      <td>1</td>\n",
       "      <td>0</td>\n",
       "      <td>0</td>\n",
       "      <td>1</td>\n",
       "      <td>1</td>\n",
       "      <td>0</td>\n",
       "      <td>0</td>\n",
       "      <td>0</td>\n",
       "    </tr>\n",
       "    <tr>\n",
       "      <th>19</th>\n",
       "      <td>0</td>\n",
       "      <td>1</td>\n",
       "      <td>0</td>\n",
       "      <td>1</td>\n",
       "      <td>0</td>\n",
       "      <td>1</td>\n",
       "      <td>0</td>\n",
       "      <td>0</td>\n",
       "      <td>1</td>\n",
       "    </tr>\n",
       "  </tbody>\n",
       "</table>\n",
       "</div>"
      ],
      "text/plain": [
       "    右眉  左眉  右目  左目  鼻  口  右黒子  左黒子  額黒子\n",
       "0    1   0   1   1  1  1    0    1    1\n",
       "1    0   0   1   1  1  0    0    0    0\n",
       "2    1   1   1   0  1  1    0    0    0\n",
       "3    0   0   1   1  1  1    0    1    0\n",
       "4    0   0   1   1  0  1    0    0    0\n",
       "5    1   1   1   1  1  0    1    0    0\n",
       "6    1   1   1   1  0  1    0    0    0\n",
       "7    1   1   1   1  1  1    0    0    0\n",
       "8    1   1   1   1  0  0    0    0    1\n",
       "9    1   0   1   1  1  0    0    0    0\n",
       "10   1   1   0   0  1  0    1    1    0\n",
       "11   1   1   0   0  1  1    1    1    0\n",
       "12   0   1   0   1  0  1    0    0    0\n",
       "13   1   0   1   0  0  1    1    0    0\n",
       "14   1   0   1   0  1  0    1    0    0\n",
       "15   1   0   1   0  0  1    0    0    0\n",
       "16   1   0   1   0  0  0    1    0    0\n",
       "17   0   1   0   1  0  1    1    0    0\n",
       "18   1   1   0   0  1  1    0    0    0\n",
       "19   0   1   0   1  0  1    0    0    1"
      ]
     },
     "execution_count": 11,
     "metadata": {},
     "output_type": "execute_result"
    }
   ],
   "source": [
    "#データの確認\n",
    "pdata"
   ]
  },
  {
   "cell_type": "code",
   "execution_count": 12,
   "metadata": {},
   "outputs": [
    {
     "data": {
      "text/html": [
       "<div>\n",
       "<style>\n",
       "    .dataframe thead tr:only-child th {\n",
       "        text-align: right;\n",
       "    }\n",
       "\n",
       "    .dataframe thead th {\n",
       "        text-align: left;\n",
       "    }\n",
       "\n",
       "    .dataframe tbody tr th {\n",
       "        vertical-align: top;\n",
       "    }\n",
       "</style>\n",
       "<table border=\"1\" class=\"dataframe\">\n",
       "  <thead>\n",
       "    <tr style=\"text-align: right;\">\n",
       "      <th></th>\n",
       "      <th>右眉</th>\n",
       "      <th>左眉</th>\n",
       "      <th>右目</th>\n",
       "      <th>左目</th>\n",
       "      <th>鼻</th>\n",
       "      <th>口</th>\n",
       "      <th>右黒子</th>\n",
       "      <th>左黒子</th>\n",
       "      <th>額黒子</th>\n",
       "    </tr>\n",
       "  </thead>\n",
       "  <tbody>\n",
       "    <tr>\n",
       "      <th>0</th>\n",
       "      <td>1</td>\n",
       "      <td>1</td>\n",
       "      <td>1</td>\n",
       "      <td>1</td>\n",
       "      <td>1</td>\n",
       "      <td>1</td>\n",
       "      <td>1</td>\n",
       "      <td>1</td>\n",
       "      <td>0</td>\n",
       "    </tr>\n",
       "    <tr>\n",
       "      <th>1</th>\n",
       "      <td>1</td>\n",
       "      <td>1</td>\n",
       "      <td>1</td>\n",
       "      <td>1</td>\n",
       "      <td>1</td>\n",
       "      <td>1</td>\n",
       "      <td>0</td>\n",
       "      <td>0</td>\n",
       "      <td>1</td>\n",
       "    </tr>\n",
       "    <tr>\n",
       "      <th>2</th>\n",
       "      <td>0</td>\n",
       "      <td>1</td>\n",
       "      <td>1</td>\n",
       "      <td>1</td>\n",
       "      <td>1</td>\n",
       "      <td>1</td>\n",
       "      <td>0</td>\n",
       "      <td>0</td>\n",
       "      <td>0</td>\n",
       "    </tr>\n",
       "    <tr>\n",
       "      <th>3</th>\n",
       "      <td>1</td>\n",
       "      <td>1</td>\n",
       "      <td>0</td>\n",
       "      <td>1</td>\n",
       "      <td>1</td>\n",
       "      <td>1</td>\n",
       "      <td>0</td>\n",
       "      <td>0</td>\n",
       "      <td>0</td>\n",
       "    </tr>\n",
       "    <tr>\n",
       "      <th>4</th>\n",
       "      <td>0</td>\n",
       "      <td>1</td>\n",
       "      <td>1</td>\n",
       "      <td>1</td>\n",
       "      <td>1</td>\n",
       "      <td>1</td>\n",
       "      <td>1</td>\n",
       "      <td>0</td>\n",
       "      <td>1</td>\n",
       "    </tr>\n",
       "    <tr>\n",
       "      <th>5</th>\n",
       "      <td>0</td>\n",
       "      <td>0</td>\n",
       "      <td>0</td>\n",
       "      <td>0</td>\n",
       "      <td>1</td>\n",
       "      <td>1</td>\n",
       "      <td>0</td>\n",
       "      <td>0</td>\n",
       "      <td>0</td>\n",
       "    </tr>\n",
       "    <tr>\n",
       "      <th>6</th>\n",
       "      <td>1</td>\n",
       "      <td>0</td>\n",
       "      <td>1</td>\n",
       "      <td>0</td>\n",
       "      <td>1</td>\n",
       "      <td>1</td>\n",
       "      <td>0</td>\n",
       "      <td>1</td>\n",
       "      <td>0</td>\n",
       "    </tr>\n",
       "    <tr>\n",
       "      <th>7</th>\n",
       "      <td>0</td>\n",
       "      <td>0</td>\n",
       "      <td>0</td>\n",
       "      <td>0</td>\n",
       "      <td>0</td>\n",
       "      <td>1</td>\n",
       "      <td>1</td>\n",
       "      <td>1</td>\n",
       "      <td>1</td>\n",
       "    </tr>\n",
       "    <tr>\n",
       "      <th>8</th>\n",
       "      <td>1</td>\n",
       "      <td>0</td>\n",
       "      <td>0</td>\n",
       "      <td>0</td>\n",
       "      <td>1</td>\n",
       "      <td>1</td>\n",
       "      <td>1</td>\n",
       "      <td>1</td>\n",
       "      <td>1</td>\n",
       "    </tr>\n",
       "    <tr>\n",
       "      <th>9</th>\n",
       "      <td>0</td>\n",
       "      <td>0</td>\n",
       "      <td>0</td>\n",
       "      <td>0</td>\n",
       "      <td>1</td>\n",
       "      <td>1</td>\n",
       "      <td>0</td>\n",
       "      <td>0</td>\n",
       "      <td>1</td>\n",
       "    </tr>\n",
       "  </tbody>\n",
       "</table>\n",
       "</div>"
      ],
      "text/plain": [
       "   右眉  左眉  右目  左目  鼻  口  右黒子  左黒子  額黒子\n",
       "0   1   1   1   1  1  1    1    1    0\n",
       "1   1   1   1   1  1  1    0    0    1\n",
       "2   0   1   1   1  1  1    0    0    0\n",
       "3   1   1   0   1  1  1    0    0    0\n",
       "4   0   1   1   1  1  1    1    0    1\n",
       "5   0   0   0   0  1  1    0    0    0\n",
       "6   1   0   1   0  1  1    0    1    0\n",
       "7   0   0   0   0  0  1    1    1    1\n",
       "8   1   0   0   0  1  1    1    1    1\n",
       "9   0   0   0   0  1  1    0    0    1"
      ]
     },
     "execution_count": 12,
     "metadata": {},
     "output_type": "execute_result"
    }
   ],
   "source": [
    "tdata"
   ]
  },
  {
   "cell_type": "markdown",
   "metadata": {},
   "source": [
    "# 決定木の準備"
   ]
  },
  {
   "cell_type": "code",
   "execution_count": 13,
   "metadata": {
    "collapsed": true
   },
   "outputs": [],
   "source": [
    "classifier = tree.DecisionTreeClassifier()"
   ]
  },
  {
   "cell_type": "markdown",
   "metadata": {},
   "source": [
    "# 訓練データもとに決定木を構成する\n"
   ]
  },
  {
   "cell_type": "code",
   "execution_count": 14,
   "metadata": {
    "collapsed": true
   },
   "outputs": [],
   "source": [
    "classifier.fit(pdata,pd.DataFrame(list('++++++++++----------')));"
   ]
  },
  {
   "cell_type": "markdown",
   "metadata": {},
   "source": [
    "# 完成した決定木をPDFで出力"
   ]
  },
  {
   "cell_type": "code",
   "execution_count": 15,
   "metadata": {},
   "outputs": [
    {
     "data": {
      "text/plain": [
       "'digraph Tree {\\nnode [shape=box] ;\\n0 [label=\"X[2] <= 0.5\\\\ngini = 0.5\\\\nsamples = 20\\\\nvalue = [10, 10]\"] ;\\n1 [label=\"gini = 0.0\\\\nsamples = 6\\\\nvalue = [0, 6]\"] ;\\n0 -> 1 [labeldistance=2.5, labelangle=45, headlabel=\"True\"] ;\\n2 [label=\"X[3] <= 0.5\\\\ngini = 0.4082\\\\nsamples = 14\\\\nvalue = [10, 4]\"] ;\\n0 -> 2 [labeldistance=2.5, labelangle=-45, headlabel=\"False\"] ;\\n3 [label=\"X[1] <= 0.5\\\\ngini = 0.32\\\\nsamples = 5\\\\nvalue = [1, 4]\"] ;\\n2 -> 3 ;\\n4 [label=\"gini = 0.0\\\\nsamples = 4\\\\nvalue = [0, 4]\"] ;\\n3 -> 4 ;\\n5 [label=\"gini = 0.0\\\\nsamples = 1\\\\nvalue = [1, 0]\"] ;\\n3 -> 5 ;\\n6 [label=\"gini = 0.0\\\\nsamples = 9\\\\nvalue = [9, 0]\"] ;\\n2 -> 6 ;\\n}'"
      ]
     },
     "execution_count": 15,
     "metadata": {},
     "output_type": "execute_result"
    }
   ],
   "source": [
    "dot_data = StringIO() # 仮想テキストファイル\n",
    "tree.export_graphviz(classifier, out_file=dot_data) # 決定木の描画用データ dot_data を生成する\n",
    "dot_text = dot_data.getvalue() # dot_data を文字列として取り出し， X[_] を表見出しに使っている言葉で置換\n",
    "dot_text"
   ]
  },
  {
   "cell_type": "code",
   "execution_count": 16,
   "metadata": {
    "collapsed": true
   },
   "outputs": [],
   "source": [
    "dot_text = dot_text.replace('X[0] <= 0.5','右眉がない').replace('X[1] <= 0.5','左眉がない').replace('X[2] <= 0.5','右目がない').replace('X[3] <= 0.5','左目がない')\n",
    "dot_text = dot_text.replace('X[4] <= 0.5','鼻がない').replace('X[5] <= 0.5','口がない').replace('X[6] <= 0.5','右黒子がない').replace('X[7] <= 0.5','左黒子がない').replace('X[8] <= 0.5','額黒子がない')"
   ]
  },
  {
   "cell_type": "code",
   "execution_count": 17,
   "metadata": {},
   "outputs": [
    {
     "data": {
      "text/plain": [
       "True"
      ]
     },
     "execution_count": 17,
     "metadata": {},
     "output_type": "execute_result"
    }
   ],
   "source": [
    "# 決定木を PDF ファイルとして出力\n",
    "graph = pydotplus.graph_from_dot_data(dot_text)\n",
    "graph.write_pdf('facedetectTree.pdf')\n",
    "graph.write_png('facedetectTree.png')  #png 画像として書き出し"
   ]
  },
  {
   "cell_type": "code",
   "execution_count": 18,
   "metadata": {},
   "outputs": [
    {
     "data": {
      "text/plain": [
       "'digraph Tree {\\nnode [shape=box] ;\\n0 [label=\"右目がない\\\\ngini = 0.5\\\\nsamples = 20\\\\nvalue = [10, 10]\"] ;\\n1 [label=\"gini = 0.0\\\\nsamples = 6\\\\nvalue = [0, 6]\"] ;\\n0 -> 1 [labeldistance=2.5, labelangle=45, headlabel=\"True\"] ;\\n2 [label=\"左目がない\\\\ngini = 0.4082\\\\nsamples = 14\\\\nvalue = [10, 4]\"] ;\\n0 -> 2 [labeldistance=2.5, labelangle=-45, headlabel=\"False\"] ;\\n3 [label=\"左眉がない\\\\ngini = 0.32\\\\nsamples = 5\\\\nvalue = [1, 4]\"] ;\\n2 -> 3 ;\\n4 [label=\"gini = 0.0\\\\nsamples = 4\\\\nvalue = [0, 4]\"] ;\\n3 -> 4 ;\\n5 [label=\"gini = 0.0\\\\nsamples = 1\\\\nvalue = [1, 0]\"] ;\\n3 -> 5 ;\\n6 [label=\"gini = 0.0\\\\nsamples = 9\\\\nvalue = [9, 0]\"] ;\\n2 -> 6 ;\\n}'"
      ]
     },
     "execution_count": 18,
     "metadata": {},
     "output_type": "execute_result"
    }
   ],
   "source": [
    "dot_text"
   ]
  },
  {
   "cell_type": "code",
   "execution_count": null,
   "metadata": {
    "collapsed": true
   },
   "outputs": [],
   "source": []
  }
 ],
 "metadata": {
  "kernelspec": {
   "display_name": "Python 3",
   "language": "python",
   "name": "python3"
  },
  "language_info": {
   "codemirror_mode": {
    "name": "ipython",
    "version": 3
   },
   "file_extension": ".py",
   "mimetype": "text/x-python",
   "name": "python",
   "nbconvert_exporter": "python",
   "pygments_lexer": "ipython3",
   "version": "3.6.2"
  }
 },
 "nbformat": 4,
 "nbformat_minor": 2
}
