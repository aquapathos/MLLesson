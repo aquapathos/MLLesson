{
 "cells": [
  {
   "cell_type": "markdown",
   "metadata": {},
   "source": [
    "### 準備\n",
    "\n",
    "このプログラムではグラフ表示のために **graphviz** というツールを使っていますので、実行に先立って graphviz を使えるようにするための作業が必要です。その内容は、「[Windows10 で Graphviz を使うための設定](http://localhost:8888/notebooks/ML02%20%E6%B1%BA%E5%AE%9A%E6%9C%A8%E3%81%AE%E5%AD%A6%E7%BF%92/Windows10%20%E3%81%A6%E3%82%99%20Graphviz%20%E3%82%92%E4%BD%BF%E3%81%86%E3%81%9F%E3%82%81%E3%81%AE%E8%A8%AD%E5%AE%9A.ipynb)」に書いてありますので、先にそちらを済ませて下さい。\n"
   ]
  },
  {
   "cell_type": "code",
   "execution_count": 1,
   "metadata": {
    "collapsed": true
   },
   "outputs": [],
   "source": [
    "# !pip install graphviz  \n",
    "# !pip install pydotplus "
   ]
  },
  {
   "cell_type": "code",
   "execution_count": 2,
   "metadata": {
    "collapsed": true
   },
   "outputs": [],
   "source": [
    "# モジュールのインポート\n",
    "import pandas as pd\n",
    "from sklearn import tree\n",
    "from sklearn.externals.six import StringIO\n",
    "from graphviz import Digraph\n",
    "import pydotplus\n",
    "import matplotlib.pyplot as plt\n",
    "import matplotlib.image as mpimg\n",
    "from  PIL import Image,ImageDraw,ImageFont\n",
    "import numpy as np\n",
    "from IPython.display import display\n",
    "\n",
    "# FONTPATH = \"C:\\\\Windows\\\\Fonts\\\\meiryo.ttc\"  # for Windows\n",
    "#FONTPATH = '/Library/Fonts/SFNSText.ttf'  # for Macintosh"
   ]
  },
  {
   "cell_type": "markdown",
   "metadata": {},
   "source": [
    "# 識別対象データ\n",
    "顔の構成部品のある無しのみのリストを対象データとする"
   ]
  },
  {
   "cell_type": "code",
   "execution_count": 3,
   "metadata": {},
   "outputs": [
    {
     "data": {
      "text/html": [
       "<div>\n",
       "<style>\n",
       "    .dataframe thead tr:only-child th {\n",
       "        text-align: right;\n",
       "    }\n",
       "\n",
       "    .dataframe thead th {\n",
       "        text-align: left;\n",
       "    }\n",
       "\n",
       "    .dataframe tbody tr th {\n",
       "        vertical-align: top;\n",
       "    }\n",
       "</style>\n",
       "<table border=\"1\" class=\"dataframe\">\n",
       "  <thead>\n",
       "    <tr style=\"text-align: right;\">\n",
       "      <th></th>\n",
       "      <th>住居形態</th>\n",
       "      <th>家族構成</th>\n",
       "      <th>収入</th>\n",
       "      <th>ローン残高</th>\n",
       "      <th>販売実績</th>\n",
       "      <th>判定結果</th>\n",
       "    </tr>\n",
       "  </thead>\n",
       "  <tbody>\n",
       "    <tr>\n",
       "      <th>0</th>\n",
       "      <td>0</td>\n",
       "      <td>0</td>\n",
       "      <td>0</td>\n",
       "      <td>0</td>\n",
       "      <td>なし</td>\n",
       "      <td>None</td>\n",
       "    </tr>\n",
       "    <tr>\n",
       "      <th>1</th>\n",
       "      <td>1</td>\n",
       "      <td>2</td>\n",
       "      <td>1</td>\n",
       "      <td>0</td>\n",
       "      <td>なし</td>\n",
       "      <td>None</td>\n",
       "    </tr>\n",
       "    <tr>\n",
       "      <th>2</th>\n",
       "      <td>0</td>\n",
       "      <td>2</td>\n",
       "      <td>1</td>\n",
       "      <td>1</td>\n",
       "      <td>あり</td>\n",
       "      <td>None</td>\n",
       "    </tr>\n",
       "    <tr>\n",
       "      <th>3</th>\n",
       "      <td>0</td>\n",
       "      <td>1</td>\n",
       "      <td>1</td>\n",
       "      <td>1</td>\n",
       "      <td>あり</td>\n",
       "      <td>None</td>\n",
       "    </tr>\n",
       "    <tr>\n",
       "      <th>4</th>\n",
       "      <td>1</td>\n",
       "      <td>1</td>\n",
       "      <td>0</td>\n",
       "      <td>0</td>\n",
       "      <td>なし</td>\n",
       "      <td>None</td>\n",
       "    </tr>\n",
       "    <tr>\n",
       "      <th>5</th>\n",
       "      <td>0</td>\n",
       "      <td>0</td>\n",
       "      <td>1</td>\n",
       "      <td>0</td>\n",
       "      <td>なし</td>\n",
       "      <td>None</td>\n",
       "    </tr>\n",
       "    <tr>\n",
       "      <th>6</th>\n",
       "      <td>0</td>\n",
       "      <td>2</td>\n",
       "      <td>0</td>\n",
       "      <td>1</td>\n",
       "      <td>なし</td>\n",
       "      <td>None</td>\n",
       "    </tr>\n",
       "    <tr>\n",
       "      <th>7</th>\n",
       "      <td>1</td>\n",
       "      <td>2</td>\n",
       "      <td>1</td>\n",
       "      <td>1</td>\n",
       "      <td>あり</td>\n",
       "      <td>None</td>\n",
       "    </tr>\n",
       "  </tbody>\n",
       "</table>\n",
       "</div>"
      ],
      "text/plain": [
       "  住居形態 家族構成 収入 ローン残高 販売実績  判定結果\n",
       "0    0    0  0     0   なし  None\n",
       "1    1    2  1     0   なし  None\n",
       "2    0    2  1     1   あり  None\n",
       "3    0    1  1     1   あり  None\n",
       "4    1    1  0     0   なし  None\n",
       "5    0    0  1     0   なし  None\n",
       "6    0    2  0     1   なし  None\n",
       "7    1    2  1     1   あり  None"
      ]
     },
     "execution_count": 3,
     "metadata": {},
     "output_type": "execute_result"
    }
   ],
   "source": [
    "faces=np.array([\n",
    "    # 9 つの成分の意味\n",
    "    # 第0成分: 住居形態　　０:マンション、1:一戸建て\n",
    "    # 第1成分: 家族構成 0:独身、1:小家族、2:大家族\n",
    "    # 第2成分: 収入　　０:低収入、1:高収入\n",
    "    # 第3成分: ローン残高　0:なし、1:あり\n",
    "    # 第4成分: 販売実績　　0:なし、1:あり\n",
    "    [0,0,0,0,\"なし\"],\n",
    "    [1,2,1,0,\"なし\"],\n",
    "    [0,2,1,1,\"あり\"],\n",
    "    [0,1,1,1,\"あり\"],\n",
    "    [1,1,0,0,\"なし\"],\n",
    "    [0,0,1,0,\"なし\"],\n",
    "    [0,2,0,1,\"なし\"],\n",
    "    [1,2,1,1,\"あり\"]\n",
    "    ])\n",
    "\n",
    "items1=['住居形態','家族構成','収入','ローン残高']\n",
    "items2=['販売実績','判定結果']\n",
    "dummy=np.array([None]*8)\n",
    "fd = pd.DataFrame(np.c_[faces,dummy],columns=np.r_[items1,items2])\n",
    "fd"
   ]
  },
  {
   "cell_type": "markdown",
   "metadata": {},
   "source": [
    "# 決定木の生成プログラム"
   ]
  },
  {
   "cell_type": "markdown",
   "metadata": {},
   "source": [
    "# 決定木の準備"
   ]
  },
  {
   "cell_type": "code",
   "execution_count": 4,
   "metadata": {
    "collapsed": true
   },
   "outputs": [],
   "source": [
    "classifier = tree.DecisionTreeClassifier(criterion='entropy') # default の criterion は gini"
   ]
  },
  {
   "cell_type": "markdown",
   "metadata": {},
   "source": [
    "# 訓練データをもとに決定木を構成する\n"
   ]
  },
  {
   "cell_type": "code",
   "execution_count": 5,
   "metadata": {
    "collapsed": true
   },
   "outputs": [],
   "source": [
    "classifier.fit(fd[items1],fd['販売実績']);"
   ]
  },
  {
   "cell_type": "markdown",
   "metadata": {},
   "source": [
    "# 完成した決定木をpng画像として出力"
   ]
  },
  {
   "cell_type": "code",
   "execution_count": 6,
   "metadata": {
    "collapsed": true
   },
   "outputs": [],
   "source": [
    "dot_data = StringIO() # 仮想テキストファイル\n",
    "tree.export_graphviz(classifier, out_file=dot_data) # 決定木の描画用データ dot_data を生成する\n",
    "# tree.export_graphviz(classifier, out_file=\"dot_data.dot\") # 決定木の描画用データ dot_data を生成する\n",
    "dot_text = dot_data.getvalue() # dot_data を文字列として取り出し， X[_] を表見出しに使っている言葉で置換"
   ]
  },
  {
   "cell_type": "code",
   "execution_count": 7,
   "metadata": {
    "collapsed": true
   },
   "outputs": [],
   "source": [
    "# dot_text"
   ]
  },
  {
   "cell_type": "code",
   "execution_count": 8,
   "metadata": {},
   "outputs": [
    {
     "data": {
      "text/plain": [
       "'digraph Tree {\\nnode [shape=box] ;\\n0 [label=\"ローン残高 <= 0.5\\\\nentropy = 0.954\\\\nsamples = 8\\\\nvalue = [3, 5]\"] ;\\n1 [label=\"entropy = 0.0\\\\nsamples = 4\\\\nvalue = [0, 4]\"] ;\\n0 -> 1 [labeldistance=2.5, labelangle=45, headlabel=\"True\"] ;\\n2 [label=\"収入 <= 0.5\\\\nentropy = 0.811\\\\nsamples = 4\\\\nvalue = [3, 1]\"] ;\\n0 -> 2 [labeldistance=2.5, labelangle=-45, headlabel=\"False\"] ;\\n3 [label=\"entropy = 0.0\\\\nsamples = 1\\\\nvalue = [0, 1]\"] ;\\n2 -> 3 ;\\n4 [label=\"entropy = 0.0\\\\nsamples = 3\\\\nvalue = [3, 0]\"] ;\\n2 -> 4 ;\\n}'"
      ]
     },
     "execution_count": 8,
     "metadata": {},
     "output_type": "execute_result"
    }
   ],
   "source": [
    "for i in range(len(items1)):\n",
    "    dot_text = dot_text.replace('X[{}]'.format(i),items1[i])\n",
    "dot_text"
   ]
  },
  {
   "cell_type": "code",
   "execution_count": 9,
   "metadata": {},
   "outputs": [
    {
     "data": {
      "image/svg+xml": [
       "<?xml version=\"1.0\" encoding=\"UTF-8\" standalone=\"no\"?>\n",
       "<!DOCTYPE svg PUBLIC \"-//W3C//DTD SVG 1.1//EN\"\n",
       " \"http://www.w3.org/Graphics/SVG/1.1/DTD/svg11.dtd\">\n",
       "<!-- Generated by graphviz version 2.40.1 (20161225.0304)\n",
       " -->\n",
       "<!-- Title: Tree Pages: 1 -->\n",
       "<svg width=\"271pt\" height=\"276pt\"\n",
       " viewBox=\"0.00 0.00 270.54 275.64\" xmlns=\"http://www.w3.org/2000/svg\" xmlns:xlink=\"http://www.w3.org/1999/xlink\">\n",
       "<g id=\"graph0\" class=\"graph\" transform=\"scale(1 1) rotate(0) translate(4 271.6401)\">\n",
       "<title>Tree</title>\n",
       "<polygon fill=\"#ffffff\" stroke=\"transparent\" points=\"-4,4 -4,-271.6401 266.5371,-271.6401 266.5371,4 -4,4\"/>\n",
       "<!-- 0 -->\n",
       "<g id=\"node1\" class=\"node\">\n",
       "<title>0</title>\n",
       "<polygon fill=\"none\" stroke=\"#000000\" points=\"166.4999,-267.5503 41.0373,-267.5503 41.0373,-194.9098 166.4999,-194.9098 166.4999,-267.5503\"/>\n",
       "<text text-anchor=\"middle\" x=\"103.7686\" y=\"-252.4401\" font-family=\"Times,serif\" font-size=\"14.00\" fill=\"#000000\">ローン残高 &lt;= 0.5</text>\n",
       "<text text-anchor=\"middle\" x=\"103.7686\" y=\"-229.62\" font-family=\"Times,serif\" font-size=\"14.00\" fill=\"#000000\">entropy = 0.954</text>\n",
       "<text text-anchor=\"middle\" x=\"103.7686\" y=\"-215.62\" font-family=\"Times,serif\" font-size=\"14.00\" fill=\"#000000\">samples = 8</text>\n",
       "<text text-anchor=\"middle\" x=\"103.7686\" y=\"-201.62\" font-family=\"Times,serif\" font-size=\"14.00\" fill=\"#000000\">value = [3, 5]</text>\n",
       "</g>\n",
       "<!-- 1 -->\n",
       "<g id=\"node2\" class=\"node\">\n",
       "<title>1</title>\n",
       "<polygon fill=\"none\" stroke=\"#000000\" points=\"91.3068,-147.41 .2303,-147.41 .2303,-97.41 91.3068,-97.41 91.3068,-147.41\"/>\n",
       "<text text-anchor=\"middle\" x=\"45.7686\" y=\"-132.21\" font-family=\"Times,serif\" font-size=\"14.00\" fill=\"#000000\">entropy = 0.0</text>\n",
       "<text text-anchor=\"middle\" x=\"45.7686\" y=\"-118.21\" font-family=\"Times,serif\" font-size=\"14.00\" fill=\"#000000\">samples = 4</text>\n",
       "<text text-anchor=\"middle\" x=\"45.7686\" y=\"-104.21\" font-family=\"Times,serif\" font-size=\"14.00\" fill=\"#000000\">value = [0, 4]</text>\n",
       "</g>\n",
       "<!-- 0&#45;&gt;1 -->\n",
       "<g id=\"edge1\" class=\"edge\">\n",
       "<title>0&#45;&gt;1</title>\n",
       "<path fill=\"none\" stroke=\"#000000\" d=\"M84.294,-194.6918C77.7379,-182.3911 70.451,-168.7194 63.9947,-156.606\"/>\n",
       "<polygon fill=\"#000000\" stroke=\"#000000\" points=\"67.0375,-154.8736 59.2452,-147.6951 60.8601,-158.1661 67.0375,-154.8736\"/>\n",
       "<text text-anchor=\"middle\" x=\"51.9598\" y=\"-167.41\" font-family=\"Times,serif\" font-size=\"14.00\" fill=\"#000000\">True</text>\n",
       "</g>\n",
       "<!-- 2 -->\n",
       "<g id=\"node3\" class=\"node\">\n",
       "<title>2</title>\n",
       "<polygon fill=\"none\" stroke=\"#000000\" points=\"213.9176,-158.7303 109.6195,-158.7303 109.6195,-86.0898 213.9176,-86.0898 213.9176,-158.7303\"/>\n",
       "<text text-anchor=\"middle\" x=\"161.7686\" y=\"-143.62\" font-family=\"Times,serif\" font-size=\"14.00\" fill=\"#000000\">収入 &lt;= 0.5</text>\n",
       "<text text-anchor=\"middle\" x=\"161.7686\" y=\"-120.8\" font-family=\"Times,serif\" font-size=\"14.00\" fill=\"#000000\">entropy = 0.811</text>\n",
       "<text text-anchor=\"middle\" x=\"161.7686\" y=\"-106.8\" font-family=\"Times,serif\" font-size=\"14.00\" fill=\"#000000\">samples = 4</text>\n",
       "<text text-anchor=\"middle\" x=\"161.7686\" y=\"-92.8\" font-family=\"Times,serif\" font-size=\"14.00\" fill=\"#000000\">value = [3, 1]</text>\n",
       "</g>\n",
       "<!-- 0&#45;&gt;2 -->\n",
       "<g id=\"edge2\" class=\"edge\">\n",
       "<title>0&#45;&gt;2</title>\n",
       "<path fill=\"none\" stroke=\"#000000\" d=\"M123.2431,-194.6918C127.7861,-186.1682 132.68,-176.9862 137.4053,-168.1206\"/>\n",
       "<polygon fill=\"#000000\" stroke=\"#000000\" points=\"140.6318,-169.5081 142.2467,-159.037 134.4545,-166.2156 140.6318,-169.5081\"/>\n",
       "<text text-anchor=\"middle\" x=\"149.5322\" y=\"-178.7519\" font-family=\"Times,serif\" font-size=\"14.00\" fill=\"#000000\">False</text>\n",
       "</g>\n",
       "<!-- 3 -->\n",
       "<g id=\"node4\" class=\"node\">\n",
       "<title>3</title>\n",
       "<polygon fill=\"none\" stroke=\"#000000\" points=\"152.3068,-50 61.2303,-50 61.2303,0 152.3068,0 152.3068,-50\"/>\n",
       "<text text-anchor=\"middle\" x=\"106.7686\" y=\"-34.8\" font-family=\"Times,serif\" font-size=\"14.00\" fill=\"#000000\">entropy = 0.0</text>\n",
       "<text text-anchor=\"middle\" x=\"106.7686\" y=\"-20.8\" font-family=\"Times,serif\" font-size=\"14.00\" fill=\"#000000\">samples = 1</text>\n",
       "<text text-anchor=\"middle\" x=\"106.7686\" y=\"-6.8\" font-family=\"Times,serif\" font-size=\"14.00\" fill=\"#000000\">value = [0, 1]</text>\n",
       "</g>\n",
       "<!-- 2&#45;&gt;3 -->\n",
       "<g id=\"edge3\" class=\"edge\">\n",
       "<title>2&#45;&gt;3</title>\n",
       "<path fill=\"none\" stroke=\"#000000\" d=\"M141.1321,-85.861C136.1551,-77.0462 130.8576,-67.6639 125.9503,-58.9726\"/>\n",
       "<polygon fill=\"#000000\" stroke=\"#000000\" points=\"128.9718,-57.2051 121.0073,-50.2181 122.8763,-60.6468 128.9718,-57.2051\"/>\n",
       "</g>\n",
       "<!-- 4 -->\n",
       "<g id=\"node5\" class=\"node\">\n",
       "<title>4</title>\n",
       "<polygon fill=\"none\" stroke=\"#000000\" points=\"262.3068,-50 171.2303,-50 171.2303,0 262.3068,0 262.3068,-50\"/>\n",
       "<text text-anchor=\"middle\" x=\"216.7686\" y=\"-34.8\" font-family=\"Times,serif\" font-size=\"14.00\" fill=\"#000000\">entropy = 0.0</text>\n",
       "<text text-anchor=\"middle\" x=\"216.7686\" y=\"-20.8\" font-family=\"Times,serif\" font-size=\"14.00\" fill=\"#000000\">samples = 3</text>\n",
       "<text text-anchor=\"middle\" x=\"216.7686\" y=\"-6.8\" font-family=\"Times,serif\" font-size=\"14.00\" fill=\"#000000\">value = [3, 0]</text>\n",
       "</g>\n",
       "<!-- 2&#45;&gt;4 -->\n",
       "<g id=\"edge4\" class=\"edge\">\n",
       "<title>2&#45;&gt;4</title>\n",
       "<path fill=\"none\" stroke=\"#000000\" d=\"M182.405,-85.861C187.382,-77.0462 192.6795,-67.6639 197.5868,-58.9726\"/>\n",
       "<polygon fill=\"#000000\" stroke=\"#000000\" points=\"200.6609,-60.6468 202.5298,-50.2181 194.5654,-57.2051 200.6609,-60.6468\"/>\n",
       "</g>\n",
       "</g>\n",
       "</svg>\n"
      ],
      "text/plain": [
       "<graphviz.files.Source at 0x115a7f2b0>"
      ]
     },
     "execution_count": 9,
     "metadata": {},
     "output_type": "execute_result"
    }
   ],
   "source": [
    "from graphviz import Source\n",
    "src = Source(dot_text)\n",
    "src.format=\"png\"\n",
    "src.render(\"juutaku.png\")\n",
    "src"
   ]
  },
  {
   "cell_type": "markdown",
   "metadata": {
    "collapsed": true
   },
   "source": [
    "# 決定木を png ファイルとして出力\n",
    "```\n",
    "graph = pydotplus.graph_from_dot_data(dot_text)\n",
    "for node in graph.get_nodes():\n",
    "    node.set_fontname(\"Meiryo\")\n",
    "graph.write_png('facedetectTree.png');  #png 画像として書き出し\n",
    "# Image.open('facedetectTree.png')  # 即表示して確認したけばコメントをはずす\n",
    "```"
   ]
  },
  {
   "cell_type": "markdown",
   "metadata": {},
   "source": [
    "# 全判定結果"
   ]
  },
  {
   "cell_type": "code",
   "execution_count": 10,
   "metadata": {},
   "outputs": [
    {
     "data": {
      "text/html": [
       "<div>\n",
       "<style>\n",
       "    .dataframe thead tr:only-child th {\n",
       "        text-align: right;\n",
       "    }\n",
       "\n",
       "    .dataframe thead th {\n",
       "        text-align: left;\n",
       "    }\n",
       "\n",
       "    .dataframe tbody tr th {\n",
       "        vertical-align: top;\n",
       "    }\n",
       "</style>\n",
       "<table border=\"1\" class=\"dataframe\">\n",
       "  <thead>\n",
       "    <tr style=\"text-align: right;\">\n",
       "      <th></th>\n",
       "      <th>住居形態</th>\n",
       "      <th>家族構成</th>\n",
       "      <th>収入</th>\n",
       "      <th>ローン残高</th>\n",
       "      <th>販売実績</th>\n",
       "      <th>判定結果</th>\n",
       "    </tr>\n",
       "  </thead>\n",
       "  <tbody>\n",
       "    <tr>\n",
       "      <th>0</th>\n",
       "      <td>0</td>\n",
       "      <td>0</td>\n",
       "      <td>0</td>\n",
       "      <td>0</td>\n",
       "      <td>なし</td>\n",
       "      <td>なし</td>\n",
       "    </tr>\n",
       "    <tr>\n",
       "      <th>1</th>\n",
       "      <td>1</td>\n",
       "      <td>2</td>\n",
       "      <td>1</td>\n",
       "      <td>0</td>\n",
       "      <td>なし</td>\n",
       "      <td>なし</td>\n",
       "    </tr>\n",
       "    <tr>\n",
       "      <th>2</th>\n",
       "      <td>0</td>\n",
       "      <td>2</td>\n",
       "      <td>1</td>\n",
       "      <td>1</td>\n",
       "      <td>あり</td>\n",
       "      <td>あり</td>\n",
       "    </tr>\n",
       "    <tr>\n",
       "      <th>3</th>\n",
       "      <td>0</td>\n",
       "      <td>1</td>\n",
       "      <td>1</td>\n",
       "      <td>1</td>\n",
       "      <td>あり</td>\n",
       "      <td>あり</td>\n",
       "    </tr>\n",
       "    <tr>\n",
       "      <th>4</th>\n",
       "      <td>1</td>\n",
       "      <td>1</td>\n",
       "      <td>0</td>\n",
       "      <td>0</td>\n",
       "      <td>なし</td>\n",
       "      <td>なし</td>\n",
       "    </tr>\n",
       "    <tr>\n",
       "      <th>5</th>\n",
       "      <td>0</td>\n",
       "      <td>0</td>\n",
       "      <td>1</td>\n",
       "      <td>0</td>\n",
       "      <td>なし</td>\n",
       "      <td>なし</td>\n",
       "    </tr>\n",
       "    <tr>\n",
       "      <th>6</th>\n",
       "      <td>0</td>\n",
       "      <td>2</td>\n",
       "      <td>0</td>\n",
       "      <td>1</td>\n",
       "      <td>なし</td>\n",
       "      <td>なし</td>\n",
       "    </tr>\n",
       "    <tr>\n",
       "      <th>7</th>\n",
       "      <td>1</td>\n",
       "      <td>2</td>\n",
       "      <td>1</td>\n",
       "      <td>1</td>\n",
       "      <td>あり</td>\n",
       "      <td>あり</td>\n",
       "    </tr>\n",
       "  </tbody>\n",
       "</table>\n",
       "</div>"
      ],
      "text/plain": [
       "  住居形態 家族構成 収入 ローン残高 販売実績 判定結果\n",
       "0    0    0  0     0   なし   なし\n",
       "1    1    2  1     0   なし   なし\n",
       "2    0    2  1     1   あり   あり\n",
       "3    0    1  1     1   あり   あり\n",
       "4    1    1  0     0   なし   なし\n",
       "5    0    0  1     0   なし   なし\n",
       "6    0    2  0     1   なし   なし\n",
       "7    1    2  1     1   あり   あり"
      ]
     },
     "execution_count": 10,
     "metadata": {},
     "output_type": "execute_result"
    }
   ],
   "source": [
    "fd['判定結果']=classifier.predict(fd[items1])\n",
    "fd"
   ]
  },
  {
   "cell_type": "code",
   "execution_count": 11,
   "metadata": {},
   "outputs": [
    {
     "name": "stdout",
     "output_type": "stream",
     "text": [
      "正解率 100.00　％\n"
     ]
    }
   ],
   "source": [
    "print(\"正解率 {:3.2f}　％\".format((fd['販売実績'] != fd['判定結果']).value_counts()[False]*100/8))"
   ]
  },
  {
   "cell_type": "code",
   "execution_count": null,
   "metadata": {
    "collapsed": true
   },
   "outputs": [],
   "source": []
  }
 ],
 "metadata": {
  "kernelspec": {
   "display_name": "Python 3",
   "language": "python",
   "name": "python3"
  },
  "language_info": {
   "codemirror_mode": {
    "name": "ipython",
    "version": 3
   },
   "file_extension": ".py",
   "mimetype": "text/x-python",
   "name": "python",
   "nbconvert_exporter": "python",
   "pygments_lexer": "ipython3",
   "version": "3.6.2"
  }
 },
 "nbformat": 4,
 "nbformat_minor": 2
}
