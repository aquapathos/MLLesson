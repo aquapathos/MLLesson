{
  "nbformat": 4,
  "nbformat_minor": 0,
  "metadata": {
    "colab": {
      "name": "AIChallenge001_画像の収集.ipynb",
      "provenance": [],
      "collapsed_sections": []
    },
    "language_info": {
      "codemirror_mode": {
        "name": "ipython",
        "version": 3
      },
      "file_extension": ".py",
      "mimetype": "text/x-python",
      "name": "python",
      "nbconvert_exporter": "python",
      "pygments_lexer": "ipython3",
      "version": "3.6.8"
    },
    "kernelspec": {
      "name": "python3",
      "display_name": "Python 3"
    },
    "accelerator": "GPU"
  },
  "cells": [
    {
      "cell_type": "markdown",
      "metadata": {
        "id": "view-in-github"
      },
      "source": [
        "<a href=\"https://colab.research.google.com/github/aquapathos/BasicAI/blob/master/AIChallenge001_%E7%94%BB%E5%83%8F%E3%81%AE%E5%8F%8E%E9%9B%86.ipynb\" target=\"_parent\"><img src=\"https://colab.research.google.com/assets/colab-badge.svg\" alt=\"Open In Colab\"/></a>"
      ]
    },
    {
      "cell_type": "markdown",
      "metadata": {
        "id": "61EJrthYVNs1"
      },
      "source": [
        "# 画像の収集\n",
        "画像を認識するためには、まず事前にたくさんの事例をAIに機械学習させておく必要がありますが、\n",
        "大量の画像を自分で用意するのは大変なので、プログラムで収集することにします。\n",
        "\n",
        "以下、重要な指示は<font color='blue'>青字</font>にしてありますので、見落とさないように演習を進めていってください。"
      ]
    },
    {
      "cell_type": "markdown",
      "metadata": {
        "id": "Qb-gjmONUAh5"
      },
      "source": [
        "# 1. Google Drive をマウント\n",
        "Google Colaboratory は一定時間経過すると作業内容が削除されてしまいます。消したくないデータや後日再利用したいデータは Google Drive に保存するようにプログラムすることで、残すことができます。\n",
        "\n",
        "\n",
        "1. <font color='blue'>次のセルを実行この説明の下のセルを実行する\n",
        "2. リンクと入力フィールドが表示されるのでリンクをクリック\n",
        "3. 本人認証が要求されるので、応じる。\n",
        "4. アクセスリクエストを許可するとアクセス用のコードが表示されるのでコピー\n",
        "5. 下の　Enter your authorization code: の下の枠に貼り付けて Enter\n",
        "6. 左のファイル一覧エリアで「更新アイコン」（回転マーク）をクリック（エリアが表示されていないなら「ファイルアイコン」（フォルダ型）をクリック）</font>\n",
        "\n",
        "\n",
        "<img width=\"390\" alt=\"googlecolab\" src=\"https://user-images.githubusercontent.com/5820803/94802343-739cff00-0422-11eb-8c0d-affa919f8e58.png\">\n",
        "\n",
        "\n"
      ]
    },
    {
      "cell_type": "code",
      "metadata": {
        "id": "7Aybmfg6VyYD"
      },
      "source": [
        "from google.colab import drive\n",
        "drive.mount('/content/drive')"
      ],
      "execution_count": null,
      "outputs": []
    },
    {
      "cell_type": "markdown",
      "metadata": {
        "id": "0KXtY7GoTACe"
      },
      "source": [
        "# 2. 画像の収集と選別\n",
        "## 2.1 画像の収集\n",
        "\n",
        "画像を収集するために必要なライブラリを準備します。  <font color='blue'>次のセルを実行</font>\n"
      ]
    },
    {
      "cell_type": "code",
      "metadata": {
        "id": "_zxaL0yjggTT"
      },
      "source": [
        "import glob\n",
        "import cv2\n",
        "import matplotlib.pyplot as plt\n",
        "from PIL import Image\n",
        "import numpy as np\n",
        "!pip -q install icrawler\n",
        "from icrawler.builtin import BingImageCrawler\n",
        "\n",
        "SIZE = 128 # リサイズ後の画像の高さと幅"
      ],
      "execution_count": null,
      "outputs": []
    },
    {
      "cell_type": "markdown",
      "metadata": {
        "id": "NcstW8y0ZwbZ"
      },
      "source": [
        "機械学習の際に画像のサイズをすべて同じに揃えます。 SIZE はそのサイズです。このサイズを大きくすると画像は鮮明になりますが、学習に時間がかかってしまいます。どれくらいのサイズが適当なのかは、何をしたいかによりますが、対象が何かを見分けるだけならこの程度で十分です。"
      ]
    },
    {
      "cell_type": "markdown",
      "metadata": {
        "id": "bJckyD8cK00W"
      },
      "source": [
        "### 画像収集の例　　ネコの画像をあつめてみる\n",
        "ネット上で公開されている画像を収集するためのライブラリ、icrawler を使って画像を収集します。\n",
        "今回は Bing から画像を拾ってくることにします。\n",
        "\n",
        "次のセルは、猫の画像を最大３００枚まで収集して、一旦 Google Drive の　マイドライブ内の 'tmp/ネコ'　という名のフォルダに保存するプログラムです。　　（ \"drive/MyDrive\" が Google Driveのマイドライブを表しています）\n",
        "\n",
        "**keyword= [\"ネコ\",\"猫\",\"cat\"]** で検索ワードをしてしています。\n",
        "\n",
        "\n",
        "<font color='blue'>次のセルを実行</font> 　　（３分ぐらいかかります）\n",
        "\n"
      ]
    },
    {
      "cell_type": "code",
      "metadata": {
        "id": "oN200b3VJx-B",
        "scrolled": false
      },
      "source": [
        "%%time\n",
        "max_num = 300 # 収集枚数\n",
        "TMPFOLDER = 'drive/MyDrive/tmp/' # Google ドライブの マイドライブ内の tmp フォルダ\n",
        "def collectPictures(folderName = \"\", keywords = [], max_num = max_num):\n",
        "    crawler = BingImageCrawler(storage={\"root_dir\":TMPFOLDER+folderName})\n",
        "    crawler.crawl(keyword= keywords, max_num=max_num)\n",
        "\n",
        "collectPictures(folderName = \"ネコ\", keywords = [\"ネコ\",\"猫\",\"cat\"])"
      ],
      "execution_count": null,
      "outputs": []
    },
    {
      "cell_type": "markdown",
      "metadata": {
        "id": "PC0AO7unIYHK"
      },
      "source": [
        "# 2.2 画像の選別\n",
        "\n",
        "![Google Drive](https://raw.githubusercontent.com/aquapathos/pictures/gh-pages/BasicAIFig001.png)　　　　　　 ![Google Drive](https://raw.githubusercontent.com/aquapathos/pictures/gh-pages/BasicAIFig002.png)   \n",
        "\n",
        "![Google Drive](https://github.com/aquapathos/pictures/blob/gh-pages/BasicAIFig003.png?raw=true)\n",
        "\n",
        "1. <font color='blue'>ブラウザで新しいタブをつくり、[Google Drive](https://drive.google.com/) を開きます。\n",
        "2. **マイドライブ**を開き、**tmp/ネコ** を開きます。\n",
        "3. リスト名表示からギャラリー表示に切り替えて不適だと思われる画像を削除してください。</font>\n",
        "\n",
        "不適なのは、次のような画像です。\n",
        "- ネコが写っていない画像。写っていても小さすぎる画像\n",
        "- 主要被写体がネコではない画像、つまりネコ以外のものが目立っている画像\n",
        "- 文字が目立つ画像。できれば文字は入っていないことが望ましいですが、目立たなければOK\n",
        "- デフォルメされたぬいぐるみやイラスト。\n",
        "- GIF 動画\n",
        "- 同一の写真\n",
        "\n",
        "パット見て、これは「ネコ」が主題の写真だと感じられるものを残して、そうでないもの、他のモノが多くの面積を締めているものは削除してください。(厳密なルールはありません。あなた自身がこれは何かと問われて「ネコ」と答える写真を選べばいいです。あなたの選んだものが教師データとなります。)\n",
        "\n",
        "# 2.3　画像のリサイズ\n",
        "\n",
        "何度も使うので関数を定義しておくことにする．  <font color='blue'>次のセルを実行</font>"
      ]
    },
    {
      "cell_type": "code",
      "metadata": {
        "id": "juUaAHyeMHKQ"
      },
      "source": [
        "def resize(foldername, size=SIZE):\n",
        "    imgnames = glob.glob(foldername+\"/*\") # 画像ファイル名のリスト\n",
        "    images = []\n",
        "    for imgname in imgnames:\n",
        "        img = cv2.cvtColor(np.array(Image.open(imgname).convert('RGBA')),cv2.COLOR_RGBA2BGR)\n",
        "        height = img.shape[0]\n",
        "        width = img.shape[1]\n",
        "        if height > width :\n",
        "            m = (height - width)//2 \n",
        "            img = img[m:m+width]\n",
        "        else:\n",
        "            m = (width - height)//2\n",
        "            img = img[:,m:m+height]\n",
        "        img = cv2.resize(img, (SIZE,SIZE))\n",
        "        images.append(img)\n",
        "    return images"
      ],
      "execution_count": null,
      "outputs": []
    },
    {
      "cell_type": "markdown",
      "metadata": {
        "id": "p_3sxJwiYbx3"
      },
      "source": [
        "さっそくリサイズしてみましょう。　　<font color='blue'>次のセルを実行</font>"
      ]
    },
    {
      "cell_type": "code",
      "metadata": {
        "id": "zDBGYvS6YbIM"
      },
      "source": [
        "# リサイズを実行\n",
        "c1img = resize(TMPFOLDER+\"ネコ\")\n",
        "print(\"ネコ - \", len(c1img),\"枚の画像がリサイズされました\")"
      ],
      "execution_count": null,
      "outputs": []
    },
    {
      "cell_type": "markdown",
      "metadata": {
        "id": "YDR6URAARl4Z"
      },
      "source": [
        "上のプログラムでは、ネコの画像をリサイズし、その集まりを、c1img と名付けています。\n",
        "\n",
        "表示用関数を定義し、表示して確認してみます。　 <font color='blue'>次のセルを実行</font>"
      ]
    },
    {
      "cell_type": "code",
      "metadata": {
        "id": "AIxAUAnNOSHO"
      },
      "source": [
        "import math\n",
        "# start番からnpic枚表示する関数を定義\n",
        "plt.rcParams['figure.figsize'] = (12.0, 7.0)\n",
        "def showimg(images, start = 0, npic = 48):\n",
        "    n = npic if len(images) >= start+npic else len(images) - start\n",
        "    plt.figure(figsize=(8,7.5*(math.ceil(n/8))/6),dpi=150)\n",
        "    i = 0\n",
        "    while True:\n",
        "        if i < n :  \n",
        "            plt.subplot((n-1)//8+1,8,i+1)\n",
        "            plt.xticks([])\n",
        "            plt.yticks([])\n",
        "            plt.imshow(images[start+i][:,:,::-1])\n",
        "            plt.title(\"{}\".format(start+i))\n",
        "            i += 1\n",
        "        else:\n",
        "            break"
      ],
      "execution_count": null,
      "outputs": []
    },
    {
      "cell_type": "markdown",
      "metadata": {
        "id": "rkZ0GCspYWRc"
      },
      "source": [
        "さっそく表示させてみましょう。　１００枚まで表示と指定していますが、たくさん削除していたら１００枚ないかもしれません。　<font color='blue'>次のセルを実行</font>"
      ]
    },
    {
      "cell_type": "code",
      "metadata": {
        "id": "5kfj5HpSRHZQ"
      },
      "source": [
        "showimg(images = c1img,start=0,npic=100) # c1img の 最初（０番）から100枚までを表示"
      ],
      "execution_count": null,
      "outputs": []
    },
    {
      "cell_type": "markdown",
      "metadata": {
        "id": "K8Bs5-2_aOaC"
      },
      "source": [
        "## 2.4　　不適切画像を再チェック\n",
        "Google Drive 上で削除漏れした画像や同一の写真が複数枚あることに気づいた場合のために、番号を指定して削除する関数を定義しておきましょう。\n",
        "\n",
        "　　<font color='blue'>次のセルを実行</font>"
      ]
    },
    {
      "cell_type": "code",
      "metadata": {
        "id": "TpSDNkisT2Im"
      },
      "source": [
        "from copy import copy\n",
        "\n",
        "# メモリ上で番号指定で画像を削除する関数\n",
        "def delimages(images, dellist=[]):\n",
        "    newimg = copy(images)\n",
        "    if len(dellist)>0:\n",
        "        for i, img in enumerate(dellist):\n",
        "            del newimg[img-i]\n",
        "    if len(dellist)>0 and len(newimg) > dellist[0]:\n",
        "        showimg(newimg,dellist[0])\n",
        "    return newimg"
      ],
      "execution_count": null,
      "outputs": []
    },
    {
      "cell_type": "markdown",
      "metadata": {
        "id": "4JoLfGu4rD2t"
      },
      "source": [
        "# 削除関数の使用例\n",
        "0 、１、２０、２５番を削除したい場合は次のコマンドを実行します。  \n",
        "**delimages(c1img, [0,1,20,25])**\n",
        "\n",
        "<font color='red'>注意 削除する番号は必ず昇順とすること．[20,25,1,0] のように大きい番号のあとに小さい番号が来てはいけない．</font>\n"
      ]
    },
    {
      "cell_type": "markdown",
      "metadata": {
        "id": "X47nzmi4Z_H1"
      },
      "source": [
        "削除したい画像がある場合は、次のセルの [] にその番号をカンマ(,)で区切って並べ、実行してください。"
      ]
    },
    {
      "cell_type": "code",
      "metadata": {
        "id": "ETqJeTcMggTs"
      },
      "source": [
        "c1img = delimages(c1img, [])"
      ],
      "execution_count": null,
      "outputs": []
    },
    {
      "cell_type": "markdown",
      "metadata": {
        "id": "ZZUSluXg19iK"
      },
      "source": [
        "# 2.5　　同様にして別のカテゴリの画像を集める．\n",
        "\n",
        "こんどはイヌの画像を集めましょう。 　<font color='blue'>次のセルを実行</font>"
      ]
    },
    {
      "cell_type": "code",
      "metadata": {
        "id": "Y6XDYkV6e9a1"
      },
      "source": [
        "%%time\n",
        "collectPictures(folderName = \"イヌ\", keywords = [\"イヌ\",\"犬\",\"dog\"])"
      ],
      "execution_count": null,
      "outputs": []
    },
    {
      "cell_type": "markdown",
      "metadata": {
        "id": "wROsWNeB57Lj"
      },
      "source": [
        "## ネコと同じ要領で画像を選別\n",
        "\n",
        "<font color='blue'>google drive 上で画像を選別し、不適切な画像を削除してください。</font>　<font color='blue'>削除後、次のセルを実行</font>"
      ]
    },
    {
      "cell_type": "code",
      "metadata": {
        "id": "J-kR-mX7ff-k"
      },
      "source": [
        "c2img = resize(TMPFOLDER+\"イヌ\")\n",
        "print(\"イヌ - \", len(c2img),\"枚の画像がリサイズされました\")"
      ],
      "execution_count": null,
      "outputs": []
    },
    {
      "cell_type": "code",
      "metadata": {
        "id": "HFHTWei-if7H"
      },
      "source": [
        "showimg(images = c2img,start = 0,npic = 100)"
      ],
      "execution_count": null,
      "outputs": []
    },
    {
      "cell_type": "markdown",
      "metadata": {
        "id": "RAx_zEYLci0Q"
      },
      "source": [
        "削除したい画像がある場合は、次のセルの [] にその番号をカンマ(,)で区切って並べ、実行してください。\n",
        "\n"
      ]
    },
    {
      "cell_type": "code",
      "metadata": {
        "id": "4kZw3D6mikXq"
      },
      "source": [
        "c2img = delimages(c2img, [])"
      ],
      "execution_count": null,
      "outputs": []
    },
    {
      "cell_type": "markdown",
      "metadata": {
        "id": "M2IspO1fB3DQ"
      },
      "source": [
        "# ３．　学習用画像データの保存と読み込み\n",
        "サイズが正規化され、選別ずみの画像はこの時点で c1img, c2img という名の python オブジェクト内に入っており、メモリ上に置かれています。\n",
        "\n",
        "これらはGoogle Colaboratory を終了したり、一定時間経過すると消えてしまい、再利用できません。　\n",
        "\n",
        "## 3.1 データの保存と読み出しの関数を定義\n",
        "python にはメモリ上に置かれた変数の値をそっくりそのままファイルとして保存する関数が用意されていますので、その関数を使って変数の中身を Google ドライブに保存したり、読み出したりできるようにしておきます。　　　<font color='blue'>次のセルを実行</font>"
      ]
    },
    {
      "cell_type": "code",
      "metadata": {
        "id": "7J_14C_ZB-56"
      },
      "source": [
        "import pickle\n",
        "import os\n",
        "\n",
        "# 画像データを pickle 形式で保存\n",
        "def storeCategoryImages(cat, fname, folder = \".\"):\n",
        "    os.makedirs(folder, exist_ok=True)\n",
        "    f = open(folder+\"/\"+fname,'wb')\n",
        "    pickle.dump(cat,f)\n",
        "    f.close\n",
        "    \n",
        "# pickle 形式で保存された画像データの読み込み\n",
        "def loadCategoryImages(fname, folder = \".\"):\n",
        "    f = open(folder+\"/\"+fname,'rb')\n",
        "    cat = pickle.load(f)\n",
        "    f.close\n",
        "    return cat"
      ],
      "execution_count": null,
      "outputs": []
    },
    {
      "cell_type": "markdown",
      "metadata": {
        "id": "LlBAD2AGd2Po"
      },
      "source": [
        "## 3.2 変数内のデータをファイルとして出力\n",
        "\n",
        "さっそく c1img（ネコ画像の集まり） と c2img（イヌ画像の集まり）を　pickle 形式で保存しましょう。　　　<font color='blue'>次のセルを実行</font>"
      ]
    },
    {
      "cell_type": "code",
      "metadata": {
        "id": "EHiF55UzggUO"
      },
      "source": [
        "GFOLDER = \"drive/MyDrive/LDATA\"  # データ保存用のフォルダ名\n",
        "storeCategoryImages(c1img,\"ネコ.pkl\",folder=GFOLDER)\n",
        "storeCategoryImages(c2img,\"イヌ.pkl\",folder=GFOLDER)"
      ],
      "execution_count": null,
      "outputs": []
    },
    {
      "cell_type": "markdown",
      "metadata": {
        "id": "vxrOzV8jggUP"
      },
      "source": [
        "# 3.2 学習用画像データの読み込み\n",
        "\n",
        "今度は逆に、pickle 形式で保存されたデータを変数に読み込み、正しく復元できるか確認しておきましょう。　　<font color='blue'>次のセルを実行</font>"
      ]
    },
    {
      "cell_type": "code",
      "metadata": {
        "id": "TzrvXjLnggUQ"
      },
      "source": [
        "testimg = loadCategoryImages(\"ネコ.pkl\", folder=GFOLDER)\n",
        "showimg(images = testimg,start = 3)"
      ],
      "execution_count": null,
      "outputs": []
    },
    {
      "cell_type": "markdown",
      "metadata": {
        "id": "K271SzTDHq1F"
      },
      "source": [
        "# <font color='red'>課題\n",
        "\n",
        "ネコやイヌの例をまねて、「カメ」のデータを収集し、カメ.pkl を作りなさい。</font>"
      ]
    },
    {
      "cell_type": "markdown",
      "metadata": {
        "id": "o42kCa7kggUS"
      },
      "source": [
        "# 「[AIChallenge002-学習と識別](https://github.com/aquapathos/BasicAI/blob/master/5CNN/AIChallenge002_%E5%AD%A6%E7%BF%92%E3%81%A8%E8%AD%98%E5%88%A5.ipynb)」へつづく"
      ]
    },
    {
      "cell_type": "markdown",
      "metadata": {
        "id": "WrfzJPXXhFXy"
      },
      "source": [
        "# 課題実行のためのヒント\n",
        "画像の収集"
      ]
    },
    {
      "cell_type": "code",
      "metadata": {
        "id": "PBsSOHmkhNBr"
      },
      "source": [
        "# collectPictures(folderName = \"カメ\", keywords = [\"カメ\",\"亀\",\"turtle\"])\n",
        "# collectPictures(folderName = \"ニワトリ\", keywords = [\"ニワトリ\",\"鶏\",\"chicken\"])\n",
        "# collectPictures(folderName = \"ハムスター\", keywords = [\"ハムスター\",\"hamster\"])"
      ],
      "execution_count": null,
      "outputs": []
    },
    {
      "cell_type": "markdown",
      "metadata": {
        "id": "WAiCkXZOhMOt"
      },
      "source": [
        "リサイズ"
      ]
    },
    {
      "cell_type": "code",
      "metadata": {
        "id": "Vap1BVAtgiu9"
      },
      "source": [
        "# c3img = resize(TMPFOLDER+\"カメ\")\n",
        "# print(\"亀 - \",len(c3img),\"枚の画像がリサイズされました\")\n",
        "# c4img = resize(TMPFOLDER+\"ニワトリ\")\n",
        "# print(\"ニワトリ - \",len(c4img),\"枚の画像がリサイズされました\")\n",
        "# c5img = resize(TMPFOLDER+\"ハムスター\")\n",
        "# print(\"ハムスター - \",len(c5img),\"枚の画像がリサイズされました\")"
      ],
      "execution_count": null,
      "outputs": []
    },
    {
      "cell_type": "markdown",
      "metadata": {
        "id": "Fx09-Eh3hjSO"
      },
      "source": [
        "データの保存"
      ]
    },
    {
      "cell_type": "code",
      "metadata": {
        "id": "dfpKhlM6hh_R"
      },
      "source": [
        "# storeCategoryImages(c3img,\"カメ.pkl\",folder=GFOLDER)\n",
        "# storeCategoryImages(c4img,\"ニワトリ.pkl\",folder=GFOLDER)\n",
        "# storeCategoryImages(c5img,\"ハムスター.pkl\",folder=GFOLDER)"
      ],
      "execution_count": null,
      "outputs": []
    }
  ]
}