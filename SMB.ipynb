{
  "nbformat": 4,
  "nbformat_minor": 0,
  "metadata": {
    "colab": {
      "name": "SMB.ipynb",
      "provenance": [],
      "collapsed_sections": [],
      "authorship_tag": "ABX9TyN+nu9CgapU0xYM0hoJhgvo",
      "include_colab_link": true
    },
    "kernelspec": {
      "name": "python3",
      "display_name": "Python 3"
    },
    "accelerator": "GPU"
  },
  "cells": [
    {
      "cell_type": "markdown",
      "metadata": {
        "id": "view-in-github",
        "colab_type": "text"
      },
      "source": [
        "<a href=\"https://colab.research.google.com/github/aquapathos/MLLesson/blob/master/SMB.ipynb\" target=\"_parent\"><img src=\"https://colab.research.google.com/assets/colab-badge.svg\" alt=\"Open In Colab\"/></a>"
      ]
    },
    {
      "cell_type": "code",
      "metadata": {
        "id": "aamArzE5fLZk"
      },
      "source": [
        "!pip install gym-super-mario-bros > /dev/null\r\n",
        "!pip install wandb > /dev/null\r\n",
        "!pip install stable-baselines3 > /dev/null"
      ],
      "execution_count": 1,
      "outputs": []
    },
    {
      "cell_type": "markdown",
      "metadata": {
        "id": "VBWQbU5NrGZB"
      },
      "source": [
        "このインストール過程で、[nes-py](https://github.com/Kautenja/nes-py) というファミコンエミュレータがインストールされる模様。"
      ]
    },
    {
      "cell_type": "code",
      "metadata": {
        "colab": {
          "base_uri": "https://localhost:8080/"
        },
        "id": "ydh-R0zVWJxt",
        "outputId": "7f9f6a24-351d-41cb-aefe-a49fc6daa0f5"
      },
      "source": [
        "from google.colab import drive\n",
        "drive.mount('/content/drive')"
      ],
      "execution_count": 2,
      "outputs": [
        {
          "output_type": "stream",
          "text": [
            "Drive already mounted at /content/drive; to attempt to forcibly remount, call drive.mount(\"/content/drive\", force_remount=True).\n"
          ],
          "name": "stdout"
        }
      ]
    },
    {
      "cell_type": "code",
      "metadata": {
        "colab": {
          "base_uri": "https://localhost:8080/"
        },
        "id": "PX-ZiEnKfTdk",
        "outputId": "49367c00-0fdb-49e0-95c6-001137436912"
      },
      "source": [
        "import gym\r\n",
        "from nes_py.wrappers import JoypadSpace\r\n",
        "import gym_super_mario_bros\r\n",
        "from gym_super_mario_bros.actions import SIMPLE_MOVEMENT,COMPLEX_MOVEMENT,RIGHT_ONLY\r\n",
        "\r\n",
        "env_id = 'SuperMarioBros-v0'\r\n",
        "env = gym_super_mario_bros.make(env_id )\r\n",
        "print(env.action_space)\r\n",
        "env = JoypadSpace(env, SIMPLE_MOVEMENT)\r\n",
        "print(env.action_space)\r\n",
        "env.unwrapped.get_action_meanings() \r\n",
        "env.get_keys_to_action()"
      ],
      "execution_count": 8,
      "outputs": [
        {
          "output_type": "stream",
          "text": [
            "Discrete(256)\n",
            "Discrete(7)\n"
          ],
          "name": "stdout"
        },
        {
          "output_type": "execute_result",
          "data": {
            "text/plain": [
              "{(): 0,\n",
              " (97,): 6,\n",
              " (100,): 1,\n",
              " (100, 111): 2,\n",
              " (100, 111, 112): 4,\n",
              " (100, 112): 3,\n",
              " (111,): 5}"
            ]
          },
          "metadata": {
            "tags": []
          },
          "execution_count": 8
        }
      ]
    },
    {
      "cell_type": "markdown",
      "metadata": {
        "id": "4ejmabXPrxjx"
      },
      "source": [
        "スーパーマリオのアクションスペースは256種ものアクションがあり、[JoypadSpace() ](https://github.com/Kautenja/nes-py/blob/master/nes_py/wrappers/joypad_space.py))というラッパーを通すと7種に減ることがわかる。[JoypadSpace() ](https://github.com/Kautenja/nes-py/blob/master/nes_py/wrappers/joypad_space.py)のソースを見ると、\r\n",
        "\r\n",
        "```\r\n",
        "    # a mapping of buttons to binary values\r\n",
        "    _button_map = {\r\n",
        "        'right':  0b10000000,\r\n",
        "        'left':   0b01000000,\r\n",
        "        'down':   0b00100000,\r\n",
        "        'up':     0b00010000,\r\n",
        "        'start':  0b00001000,\r\n",
        "        'select': 0b00000100,\r\n",
        "        'B':      0b00000010,\r\n",
        "        'A':      0b00000001,\r\n",
        "        'NOOP':   0b00000000,\r\n",
        "    }```\r\n",
        "とあり、\r\n",
        "\r\n",
        "```\r\n",
        "from gym_super_mario_bros.actions import SIMPLE_MOVEMENT```\r\n",
        "\r\n",
        "は、[actions.py](https://github.com/Kautenja/gym-super-mario-bros/blob/1a3dde897700614f729fc3294c1e451528d9a112/gym_super_mario_bros/actions.py)で、\r\n",
        "\r\n",
        "```\r\n",
        "# actions for very simple movement\r\n",
        "SIMPLE_MOVEMENT = [\r\n",
        "    ['NOOP'],\r\n",
        "    ['right'],\r\n",
        "    ['right', 'A'],\r\n",
        "    ['right', 'B'],\r\n",
        "    ['right', 'A', 'B'],\r\n",
        "    ['A'],\r\n",
        "    ['left'],\r\n",
        "]\r\n",
        "```\r\n",
        "と定義されている。"
      ]
    },
    {
      "cell_type": "code",
      "metadata": {
        "colab": {
          "base_uri": "https://localhost:8080/"
        },
        "id": "IKy1PvjLfyFU",
        "outputId": "215aba76-e645-4b14-8300-ca772b106eab"
      },
      "source": [
        "env.reset().shape"
      ],
      "execution_count": 9,
      "outputs": [
        {
          "output_type": "execute_result",
          "data": {
            "text/plain": [
              "(240, 256, 3)"
            ]
          },
          "metadata": {
            "tags": []
          },
          "execution_count": 9
        }
      ]
    },
    {
      "cell_type": "code",
      "metadata": {
        "colab": {
          "base_uri": "https://localhost:8080/"
        },
        "id": "oWc0XIKFYKkY",
        "outputId": "978d4e7e-4cc9-4998-d35d-8b96620edf8d"
      },
      "source": [
        "dir(env.unwrapped)"
      ],
      "execution_count": 10,
      "outputs": [
        {
          "output_type": "execute_result",
          "data": {
            "text/plain": [
              "['__class__',\n",
              " '__delattr__',\n",
              " '__dict__',\n",
              " '__dir__',\n",
              " '__doc__',\n",
              " '__enter__',\n",
              " '__eq__',\n",
              " '__exit__',\n",
              " '__format__',\n",
              " '__ge__',\n",
              " '__getattribute__',\n",
              " '__gt__',\n",
              " '__hash__',\n",
              " '__init__',\n",
              " '__init_subclass__',\n",
              " '__le__',\n",
              " '__lt__',\n",
              " '__module__',\n",
              " '__ne__',\n",
              " '__new__',\n",
              " '__reduce__',\n",
              " '__reduce_ex__',\n",
              " '__repr__',\n",
              " '__setattr__',\n",
              " '__sizeof__',\n",
              " '__str__',\n",
              " '__subclasshook__',\n",
              " '__weakref__',\n",
              " '_area',\n",
              " '_backup',\n",
              " '_coins',\n",
              " '_controller_buffer',\n",
              " '_death_penalty',\n",
              " '_did_reset',\n",
              " '_did_step',\n",
              " '_env',\n",
              " '_flag_get',\n",
              " '_frame_advance',\n",
              " '_get_done',\n",
              " '_get_info',\n",
              " '_get_reward',\n",
              " '_has_backup',\n",
              " '_is_busy',\n",
              " '_is_dead',\n",
              " '_is_dying',\n",
              " '_is_game_over',\n",
              " '_is_stage_over',\n",
              " '_is_world_over',\n",
              " '_kill_mario',\n",
              " '_left_x_position',\n",
              " '_level',\n",
              " '_life',\n",
              " '_player_state',\n",
              " '_player_status',\n",
              " '_ram_buffer',\n",
              " '_read_mem_range',\n",
              " '_restore',\n",
              " '_rom_path',\n",
              " '_runout_prelevel_timer',\n",
              " '_score',\n",
              " '_screen_buffer',\n",
              " '_skip_change_area',\n",
              " '_skip_end_of_world',\n",
              " '_skip_occupied_states',\n",
              " '_skip_start_screen',\n",
              " '_stage',\n",
              " '_target_area',\n",
              " '_target_stage',\n",
              " '_target_world',\n",
              " '_time',\n",
              " '_time_last',\n",
              " '_time_penalty',\n",
              " '_will_reset',\n",
              " '_world',\n",
              " '_write_stage',\n",
              " '_x_position',\n",
              " '_x_position_last',\n",
              " '_x_reward',\n",
              " '_y_pixel',\n",
              " '_y_position',\n",
              " '_y_viewport',\n",
              " 'action_space',\n",
              " 'close',\n",
              " 'controllers',\n",
              " 'done',\n",
              " 'get_action_meanings',\n",
              " 'get_keys_to_action',\n",
              " 'is_single_stage_env',\n",
              " 'metadata',\n",
              " 'np_random',\n",
              " 'observation_space',\n",
              " 'ram',\n",
              " 'render',\n",
              " 'reset',\n",
              " 'reward_range',\n",
              " 'screen',\n",
              " 'seed',\n",
              " 'spec',\n",
              " 'step',\n",
              " 'unwrapped',\n",
              " 'viewer']"
            ]
          },
          "metadata": {
            "tags": []
          },
          "execution_count": 10
        }
      ]
    },
    {
      "cell_type": "code",
      "metadata": {
        "colab": {
          "base_uri": "https://localhost:8080/"
        },
        "id": "YmGbiANUGdnZ",
        "outputId": "dc19ed7a-e51f-4064-fd02-23185ed540b5"
      },
      "source": [
        "a,b,c,d = env.step(1)\r\n",
        "a.shape,b,c,d"
      ],
      "execution_count": 11,
      "outputs": [
        {
          "output_type": "execute_result",
          "data": {
            "text/plain": [
              "((240, 256, 3),\n",
              " 0,\n",
              " False,\n",
              " {'coins': 0,\n",
              "  'flag_get': False,\n",
              "  'life': 2,\n",
              "  'score': 0,\n",
              "  'stage': 1,\n",
              "  'status': 'small',\n",
              "  'time': 400,\n",
              "  'world': 1,\n",
              "  'x_pos': 40,\n",
              "  'y_pos': 79})"
            ]
          },
          "metadata": {
            "tags": []
          },
          "execution_count": 11
        }
      ]
    },
    {
      "cell_type": "code",
      "metadata": {
        "colab": {
          "base_uri": "https://localhost:8080/"
        },
        "id": "fbGdL84NTjxF",
        "outputId": "2421e623-6d03-43b6-d2a8-54ba330ea75a"
      },
      "source": [
        "dir(env.unwrapped)"
      ],
      "execution_count": 12,
      "outputs": [
        {
          "output_type": "execute_result",
          "data": {
            "text/plain": [
              "['__class__',\n",
              " '__delattr__',\n",
              " '__dict__',\n",
              " '__dir__',\n",
              " '__doc__',\n",
              " '__enter__',\n",
              " '__eq__',\n",
              " '__exit__',\n",
              " '__format__',\n",
              " '__ge__',\n",
              " '__getattribute__',\n",
              " '__gt__',\n",
              " '__hash__',\n",
              " '__init__',\n",
              " '__init_subclass__',\n",
              " '__le__',\n",
              " '__lt__',\n",
              " '__module__',\n",
              " '__ne__',\n",
              " '__new__',\n",
              " '__reduce__',\n",
              " '__reduce_ex__',\n",
              " '__repr__',\n",
              " '__setattr__',\n",
              " '__sizeof__',\n",
              " '__str__',\n",
              " '__subclasshook__',\n",
              " '__weakref__',\n",
              " '_area',\n",
              " '_backup',\n",
              " '_coins',\n",
              " '_controller_buffer',\n",
              " '_death_penalty',\n",
              " '_did_reset',\n",
              " '_did_step',\n",
              " '_env',\n",
              " '_flag_get',\n",
              " '_frame_advance',\n",
              " '_get_done',\n",
              " '_get_info',\n",
              " '_get_reward',\n",
              " '_has_backup',\n",
              " '_is_busy',\n",
              " '_is_dead',\n",
              " '_is_dying',\n",
              " '_is_game_over',\n",
              " '_is_stage_over',\n",
              " '_is_world_over',\n",
              " '_kill_mario',\n",
              " '_left_x_position',\n",
              " '_level',\n",
              " '_life',\n",
              " '_player_state',\n",
              " '_player_status',\n",
              " '_ram_buffer',\n",
              " '_read_mem_range',\n",
              " '_restore',\n",
              " '_rom_path',\n",
              " '_runout_prelevel_timer',\n",
              " '_score',\n",
              " '_screen_buffer',\n",
              " '_skip_change_area',\n",
              " '_skip_end_of_world',\n",
              " '_skip_occupied_states',\n",
              " '_skip_start_screen',\n",
              " '_stage',\n",
              " '_target_area',\n",
              " '_target_stage',\n",
              " '_target_world',\n",
              " '_time',\n",
              " '_time_last',\n",
              " '_time_penalty',\n",
              " '_will_reset',\n",
              " '_world',\n",
              " '_write_stage',\n",
              " '_x_position',\n",
              " '_x_position_last',\n",
              " '_x_reward',\n",
              " '_y_pixel',\n",
              " '_y_position',\n",
              " '_y_viewport',\n",
              " 'action_space',\n",
              " 'close',\n",
              " 'controllers',\n",
              " 'done',\n",
              " 'get_action_meanings',\n",
              " 'get_keys_to_action',\n",
              " 'is_single_stage_env',\n",
              " 'metadata',\n",
              " 'np_random',\n",
              " 'observation_space',\n",
              " 'ram',\n",
              " 'render',\n",
              " 'reset',\n",
              " 'reward_range',\n",
              " 'screen',\n",
              " 'seed',\n",
              " 'spec',\n",
              " 'step',\n",
              " 'unwrapped',\n",
              " 'viewer']"
            ]
          },
          "metadata": {
            "tags": []
          },
          "execution_count": 12
        }
      ]
    },
    {
      "cell_type": "code",
      "metadata": {
        "colab": {
          "base_uri": "https://localhost:8080/"
        },
        "id": "3ZUOAFzVf5kF",
        "outputId": "4a85114e-4f2e-47c3-dff3-428f9c3fe262"
      },
      "source": [
        "from stable_baselines3.common.env_util import make_atari_env\r\n",
        "from stable_baselines3.common.vec_env import DummyVecEnv,SubprocVecEnv,VecFrameStack\r\n",
        "from stable_baselines3 import PPO\r\n",
        "import wandb,os\r\n",
        "import numpy as np\r\n",
        "from stable_baselines3.common.callbacks import BaseCallback\r\n",
        "from stable_baselines3.common.results_plotter import load_results, ts2xy\r\n",
        "from stable_baselines3.common.monitor import Monitor\r\n",
        "\r\n",
        "import torch\r\n",
        "device = torch.device('cuda:0' if torch.cuda.is_available() else 'cpu')\r\n",
        "print(repr(device))"
      ],
      "execution_count": 18,
      "outputs": [
        {
          "output_type": "stream",
          "text": [
            "device(type='cuda', index=0)\n"
          ],
          "name": "stdout"
        }
      ]
    },
    {
      "cell_type": "code",
      "metadata": {
        "colab": {
          "base_uri": "https://localhost:8080/",
          "height": 497
        },
        "id": "43MvWwALgAV8",
        "outputId": "96a4e503-60b8-4004-d35f-f885267e3bcd"
      },
      "source": [
        "log_dir ='/content/drive/MyDrive/M/smb'\r\n",
        "\r\n",
        "def Joy(env_id = 'SuperMarioBros-v0'):\r\n",
        "  env = gym_super_mario_bros.make(env_id)\r\n",
        "  env = JoypadSpace(env, SIMPLE_MOVEMENT)\r\n",
        "  return env\r\n",
        "\r\n",
        "#env = make_atari_env(env, n_envs=8, seed=0,vec_env_cls=SubprocVecEnv, wrapper_kwargs=wrapper_kwargs, monitor_dir= log_dir)\r\n",
        "env = make_atari_env(Joy, n_envs=4, seed=0,vec_env_cls=DummyVecEnv, monitor_dir= \"test\")\r\n",
        "env = VecFrameStack(env, n_stack=4)\r\n",
        "\r\n",
        "from PIL import Image \r\n",
        "Image.fromarray((env.render(mode='rgb_array')))\r\n"
      ],
      "execution_count": 23,
      "outputs": [
        {
          "output_type": "execute_result",
          "data": {
            "image/png": "[encoded data removed]",
            "text/plain": [
              "<PIL.Image.Image image mode=RGB size=512x480 at 0x7F8A90820748>"
            ]
          },
          "metadata": {
            "tags": []
          },
          "execution_count": 23
        }
      ]
    },
    {
      "cell_type": "code",
      "metadata": {
        "id": "EJ1H4w6CS-oN"
      },
      "source": [
        "log_dir ='/content/drive/MyDrive/M/smb'\r\n",
        "\r\n",
        "from stable_baselines3.common.callbacks import BaseCallback\r\n",
        "class TensorboardCallback(BaseCallback):\r\n",
        "    def __init__(self, check_freq: int, log_dir: str, verbose=1):\r\n",
        "        super(TensorboardCallback, self).__init__(verbose)\r\n",
        "        self.check_freq = check_freq\r\n",
        "        self.log_dir = log_dir\r\n",
        "        self.save_path = os.path.join(log_dir, 'best_model')\r\n",
        "        self.best_mean_reward = 0 # 直近100lifeの平均スコアのベスト\r\n",
        "\r\n",
        "    def _init_callback(self) -> None:\r\n",
        "        if self.save_path is not None:\r\n",
        "            os.makedirs(self.save_path, exist_ok=True)\r\n",
        "\r\n",
        "    def _on_step(self) -> bool:\r\n",
        "        if self.n_calls % self.check_freq == 0:\r\n",
        "          # スコアの検索\r\n",
        "          x, y = ts2xy(load_results(self.log_dir), 'timesteps')\r\n",
        "          self.logger.record('timesteps', self.num_timesteps)\r\n",
        "          self.logger.record('mean_reward', self.best_mean_reward)\r\n",
        "          wandb.log({'mean_reward':self.best_mean_reward})\r\n",
        "          wandb.log({'timesteps':self.num_timesteps})\r\n",
        "          if len(x) > 0:\r\n",
        "              # 直近100lifeのスコアの平均\r\n",
        "              mean_reward = np.mean(y[-100:])\r\n",
        "              if self.verbose > 0:\r\n",
        "                print(f\"Num timesteps: {self.num_timesteps} : \",end='')\r\n",
        "                print(f\"Best mean reward: {self.best_mean_reward:.2f} - Last mean reward/ep: {mean_reward:.2f}\")\r\n",
        "\r\n",
        "              # 直近の平均報酬が上昇した場合はモデルを保存\r\n",
        "              if mean_reward > self.best_mean_reward:\r\n",
        "                  self.best_mean_reward = mean_reward\r\n",
        "                  if self.verbose > 0:\r\n",
        "                    print(f\"Saving new best model to {self.save_path}.zip\")\r\n",
        "                  self.model.save(self.save_path)\r\n",
        "        return True"
      ],
      "execution_count": 20,
      "outputs": []
    },
    {
      "cell_type": "code",
      "metadata": {
        "id": "Y9_ZNgETEUWK"
      },
      "source": [
        "#env = make_atari_env(Joy, n_envs=8, seed=0,vec_env_cls=SubprocVecEnv, monitor_dir=log_dir)\r\n",
        "env = make_atari_env(Joy, n_envs=8, seed=0,vec_env_cls=DummyVecEnv, monitor_dir= log_dir)\r\n",
        "env = VecFrameStack(env, n_stack=4)\r\n",
        "# 最適パラメータ https://github.com/DLR-RM/rl-baselines3-zoo/blob/master/hyperparams/ppo.yml\r\n",
        "model = PPO('CnnPolicy', env, verbose=0,device=device,        \r\n",
        "    learning_rate = 2.5e-4,  # default  3e-4\r\n",
        "    n_steps = 128, # 2048\r\n",
        "    clip_range = 0.1, # default 0.2\r\n",
        "    ent_coef = 0.01, # default 0.0\r\n",
        "    batch_size = 256, #64\r\n",
        "    n_epochs = 4 )\r\n",
        "callback = TensorboardCallback(check_freq=500, log_dir=log_dir)\r\n",
        "total_timesteps = 1e7\r\n",
        "%time model.learn(total_timesteps=total_timesteps,callback=callback)"
      ],
      "execution_count": null,
      "outputs": []
    },
    {
      "cell_type": "code",
      "metadata": {
        "colab": {
          "base_uri": "https://localhost:8080/",
          "height": 633
        },
        "id": "GsjaV9UGAR9j",
        "outputId": "139371c4-88cd-410c-e068-da63032464e3"
      },
      "source": [
        "# Inside my model training code \r\n",
        "!export WANDB_NOTEBOOK_NAME=\"Mario\".ipynb\"\r\n",
        "import wandb\r\n",
        "PROJECTNAME='Mario'\r\n",
        "wandb.init(project=PROJECTNAME)"
      ],
      "execution_count": 30,
      "outputs": [
        {
          "output_type": "stream",
          "text": [
            "/bin/bash: -c: line 0: unexpected EOF while looking for matching `\"'\n",
            "/bin/bash: -c: line 1: syntax error: unexpected end of file\n"
          ],
          "name": "stdout"
        },
        {
          "output_type": "stream",
          "text": [
            "\u001b[34m\u001b[1mwandb\u001b[0m: Currently logged in as: \u001b[33maquapathos\u001b[0m (use `wandb login --relogin` to force relogin)\n"
          ],
          "name": "stderr"
        },
        {
          "output_type": "display_data",
          "data": {
            "text/html": [
              "\n",
              "                Tracking run with wandb version 0.10.12<br/>\n",
              "                Syncing run <strong style=\"color:#cdcd00\">balmy-pyramid-12</strong> to <a href=\"https://wandb.ai\" target=\"_blank\">Weights & Biases</a> <a href=\"https://docs.wandb.com/integrations/jupyter.html\" target=\"_blank\">(Documentation)</a>.<br/>\n",
              "                Project page: <a href=\"https://wandb.ai/aquapathos/Mario\" target=\"_blank\">https://wandb.ai/aquapathos/Mario</a><br/>\n",
              "                Run page: <a href=\"https://wandb.ai/aquapathos/Mario/runs/2ovccsvq\" target=\"_blank\">https://wandb.ai/aquapathos/Mario/runs/2ovccsvq</a><br/>\n",
              "                Run data is saved locally in <code>/content/wandb/run-20210110_144645-2ovccsvq</code><br/><br/>\n",
              "            "
            ],
            "text/plain": [
              "<IPython.core.display.HTML object>"
            ]
          },
          "metadata": {
            "tags": []
          }
        },
        {
          "output_type": "execute_result",
          "data": {
            "text/plain": [
              "<wandb.sdk.wandb_run.Run at 0x7f8a27bfbd30>"
            ],
            "text/html": [
              "<h1>Run(2ovccsvq)</h1><p></p><iframe src=\"https://wandb.ai/aquapathos/Mario/runs/2ovccsvq\" style=\"border:none;width:100%;height:400px\"></iframe>"
            ]
          },
          "metadata": {
            "tags": []
          },
          "execution_count": 30
        }
      ]
    },
    {
      "cell_type": "code",
      "metadata": {
        "id": "TPaDIAgXF7OI"
      },
      "source": [
        "import imageio\r\n",
        "import numpy as np\r\n",
        "\r\n",
        "#env8 = make_atari_env('SpaceInvadersNoFrameskip-v4', n_envs=8, seed=0,vec_env_cls=SubprocVecEnv, monitor_dir= log_dir)\r\n",
        "env = make_atari_env(Joy, n_envs=8, seed=0,vec_env_cls=DummyVecEnv, monitor_dir= log_dir)\r\n",
        "env = VecFrameStack(env, n_stack=4)\r\n",
        "model = PPO('CnnPolicy',env)\r\n",
        "model.load(\"/content/drive/MyDrive/M/smb/best_model.zip\")\r\n",
        "\r\n",
        "images = []\r\n",
        "obs = model.env.reset()\r\n",
        "img = model.env.envs[0].render(mode='rgb_array')\r\n",
        "for i in range(1800):\r\n",
        "    images.append(img)\r\n",
        "    action, _ = model.predict(obs)\r\n",
        "    obs, _, _ ,_ = model.env.step(action)\r\n",
        "    img = model.env.envs[0].render(mode='rgb_array')\r\n",
        "\r\n",
        "#imageio.mimsave('/SpaceInvadersBes.gif', [np.array(img) for i, img in enumerate(images) if i%2 == 0], fps=29)"
      ],
      "execution_count": 31,
      "outputs": []
    },
    {
      "cell_type": "code",
      "metadata": {
        "id": "clf1kCoDGMur"
      },
      "source": [
        "width,height = 256,240\r\n",
        "frame_rate = 30.0  #FPS\r\n",
        "def timelaps(images,width,height):\r\n",
        "    fourcc = cv2.VideoWriter_fourcc('m','p','4','v')\r\n",
        "    video = cv2.VideoWriter('inveders.mp4', fourcc, frame_rate, (width, height))\r\n",
        "    for img in images:\r\n",
        "        video.write(img[:,:,::-1]) \r\n",
        "    video.release()\r\n",
        "    print(\"動画変換完了\")"
      ],
      "execution_count": 32,
      "outputs": []
    },
    {
      "cell_type": "code",
      "metadata": {
        "id": "bzl8gffkwdlP"
      },
      "source": [
        ""
      ],
      "execution_count": null,
      "outputs": []
    }
  ]
}