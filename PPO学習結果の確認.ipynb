{
  "nbformat": 4,
  "nbformat_minor": 0,
  "metadata": {
    "colab": {
      "name": "PPO学習結果の確認",
      "provenance": [],
      "collapsed_sections": [],
      "authorship_tag": "ABX9TyNIID5ko4u+KtYs+EKjH/GB",
      "include_colab_link": true
    },
    "kernelspec": {
      "name": "python3",
      "display_name": "Python 3"
    }
  },
  "cells": [
    {
      "cell_type": "markdown",
      "metadata": {
        "id": "view-in-github",
        "colab_type": "text"
      },
      "source": [
        "<a href=\"https://colab.research.google.com/github/aquapathos/MLLesson/blob/master/PPO%E5%AD%A6%E7%BF%92%E7%B5%90%E6%9E%9C%E3%81%AE%E7%A2%BA%E8%AA%8D.ipynb\" target=\"_parent\"><img src=\"https://colab.research.google.com/assets/colab-badge.svg\" alt=\"Open In Colab\"/></a>"
      ]
    },
    {
      "cell_type": "code",
      "metadata": {
        "id": "V4-gs-Kf61mU"
      },
      "source": [
        "#remove \" > /dev/null 2>&1\" to see what is going on under the hood\r\n",
        "!pip install pyvirtualdisplay > /dev/null 2>&1\r\n",
        "!apt-get install -y xvfb python-opengl ffmpeg > /dev/null 2>&1\r\n",
        "!pip install pfrl > /dev/null 2>&1"
      ],
      "execution_count": null,
      "outputs": []
    },
    {
      "cell_type": "code",
      "metadata": {
        "id": "cqO5jtnA63F0"
      },
      "source": [
        "import gym\r\n",
        "from gym import logger as gymlogger\r\n",
        "from gym.wrappers import Monitor\r\n",
        "gymlogger.set_level(40) #error only\r\n",
        "import tensorflow as tf\r\n",
        "import numpy as np\r\n",
        "import random\r\n",
        "import matplotlib\r\n",
        "import matplotlib.pyplot as plt\r\n",
        "%matplotlib inline\r\n",
        "import math\r\n",
        "import glob\r\n",
        "import io\r\n",
        "import base64\r\n",
        "from IPython.display import HTML\r\n",
        "\r\n",
        "from IPython import display as ipythondisplay"
      ],
      "execution_count": null,
      "outputs": []
    },
    {
      "cell_type": "code",
      "metadata": {
        "colab": {
          "base_uri": "https://localhost:8080/"
        },
        "id": "aXNXJa_9674a",
        "outputId": "7a066ef5-d070-4176-cdc9-4283166f462b"
      },
      "source": [
        "from pyvirtualdisplay import Display\r\n",
        "display = Display(visible=0, size=(1400, 900))\r\n",
        "display.start()"
      ],
      "execution_count": null,
      "outputs": [
        {
          "output_type": "execute_result",
          "data": {
            "text/plain": [
              "<pyvirtualdisplay.display.Display at 0x7f212e4c0080>"
            ]
          },
          "metadata": {
            "tags": []
          },
          "execution_count": 4
        }
      ]
    },
    {
      "cell_type": "markdown",
      "metadata": {
        "id": "iUFqC3Cl7C75"
      },
      "source": [
        "\r\n",
        "\r\n",
        "> インデントされたブロック\r\n",
        "\r\n"
      ]
    },
    {
      "cell_type": "code",
      "metadata": {
        "id": "iH-IYfdQ65fg"
      },
      "source": [
        "def show_video():\r\n",
        "  mp4list = glob.glob('video/*.mp4')\r\n",
        "  if len(mp4list) > 0:\r\n",
        "    mp4 = mp4list[0]\r\n",
        "    video = io.open(mp4, 'r+b').read()\r\n",
        "    encoded = base64.b64encode(video)\r\n",
        "    ipythondisplay.display(HTML(data='''<video alt=\"test\" autoplay \r\n",
        "                loop controls style=\"height: 400px;\">\r\n",
        "                <source src=\"data:video/mp4;base64,{0}\" type=\"video/mp4\" />\r\n",
        "             </video>'''.format(encoded.decode('ascii'))))\r\n",
        "  else: \r\n",
        "    print(\"Could not find video\")\r\n",
        "    \r\n",
        "\r\n",
        "def wrap_env(env):\r\n",
        "  env = Monitor(env, './video', force=True)\r\n",
        "  return env"
      ],
      "execution_count": null,
      "outputs": []
    },
    {
      "cell_type": "code",
      "metadata": {
        "id": "yZaoMZFa7D7w"
      },
      "source": [
        "import gym\r\n",
        "from gym import ObservationWrapper\r\n",
        "from gym.spaces import Box\r\n",
        "\r\n",
        "import cv2\r\n",
        "import numpy as np\r\n",
        "import torch\r\n",
        "\r\n",
        "from torch import nn\r\n",
        "from torch import optim\r\n",
        "from torch.distributions import Categorical\r\n",
        "from torch.nn import functional as F\r\n",
        "\r\n",
        "from pfrl.wrappers.atari_wrappers import FrameStack,NoopResetEnv,MaxAndSkipEnv"
      ],
      "execution_count": null,
      "outputs": []
    },
    {
      "cell_type": "code",
      "metadata": {
        "id": "2Li8mrdj7Sa2"
      },
      "source": [
        "class myCrop(ObservationWrapper):\r\n",
        "    def __init__(self, env, tmgn=0, bmgn=0,lmgn=0,rmgn=0,igcolors=[],bgcolor=[0,0,0]):\r\n",
        "        super(myCrop, self).__init__(env)\r\n",
        "        self.tmgn, self.bmgn = tmgn, bmgn\r\n",
        "        self.lmgn, self.rmgn = lmgn, rmgn\r\n",
        "        self.igcolors, self.bgcolors = igcolors, bgcolor\r\n",
        "        self.observation_space = Box(low=0, high=255, shape=(84,84), dtype=np.uint8)\r\n",
        "    def observation(self, obs):\r\n",
        "        img_mask = np.zeros(obs.shape[:2],np.uint8)\r\n",
        "        for color in self.igcolors:\r\n",
        "            bgrLower = np.array(color)    \r\n",
        "            bgrUpper = np.array(color)\r\n",
        "            tmask = cv2.inRange(obs, bgrLower, bgrUpper) \r\n",
        "            img_mask = cv2.bitwise_or(img_mask,tmask)\r\n",
        "        obs = cv2.bitwise_and(obs,obs,mask=255-img_mask) # 元画像とマスクを合成\r\n",
        "        RIGHT=obs.shape[1]-self.rmgn\r\n",
        "        BOTTOM=obs.shape[0]-self.bmgn\r\n",
        "        obs = obs[self.tmgn:BOTTOM,self.lmgn:RIGHT]\r\n",
        "        obs = cv2.cvtColor(obs, cv2.COLOR_RGB2GRAY)\r\n",
        "        observation = cv2.resize(obs, (84, 84), interpolation=cv2.INTER_AREA)\r\n",
        "        return observation\r\n",
        "\r\n",
        "class myFrameStack(FrameStack):\r\n",
        "    def __init__(self, env, k=4, deadloss=0):\r\n",
        "        super(myFrameStack, self).__init__(env, k=k, channel_order=\"chw\")\r\n",
        "    def reset(self):\r\n",
        "        ob = self.env.reset()\r\n",
        "        for _ in range(self.k):\r\n",
        "            self.frames.append(ob)\r\n",
        "        self.lives = self.env.unwrapped.ale.lives()\r\n",
        "        return  self.obs_to_torch(np.array(list(self.frames)))\r\n",
        "    def step(self, action):\r\n",
        "        ob, reward, done, info = self.env.step(action)\r\n",
        "        self.frames.append(ob)\r\n",
        "        return  self.obs_to_torch(np.array(list(self.frames))), reward, done, info\r\n",
        "    @staticmethod\r\n",
        "    def obs_to_torch(obs: torch.Tensor) -> torch.Tensor:\r\n",
        "        return torch.tensor([obs], dtype=torch.float32, device=device) / 255.\r\n",
        "\r\n",
        "def mkenv(envname,k=8,skip=2,tmgn=0,bmgn=0,lmgn=0,rmgn=0,igcolors=[],deadloss=0,noop_max=30):\r\n",
        "  env=gym.make(envname)\r\n",
        "  if noop_max > 0:\r\n",
        "      env = NoopResetEnv(env, noop_max=noop_max)\r\n",
        "  env = MaxAndSkipEnv(env, skip=skip)\r\n",
        "  env=myCrop(env, tmgn=tmgn, bmgn=bmgn, lmgn=lmgn, rmgn=rmgn, igcolors=igcolors)\r\n",
        "  env=myFrameStack(env,k=k,deadloss=deadloss)\r\n",
        "  return env"
      ],
      "execution_count": null,
      "outputs": []
    },
    {
      "cell_type": "code",
      "metadata": {
        "id": "lYQI6JwS7lEI"
      },
      "source": [
        "import random\r\n",
        "from datetime import datetime\r\n",
        "random.seed(datetime.now())\r\n",
        "DEFAULTSEED = random.randint(1, 10000)\r\n",
        "def Game(seed=DEFAULTSEED,k=8,skip=1,deadloss=0):\r\n",
        "    ENV_NAME = 'SpaceInvadersNoFrameskip-v4'\r\n",
        "    Tmgn=20\r\n",
        "    Bmgn=12\r\n",
        "    Lmgn=8\r\n",
        "    Rmgn=8\r\n",
        "    #NOCOLOR=[[162,134,56]]  # 背景と同一視するカラー\r\n",
        "    NOCOLOR=[]  # 背景と同一視するカラー\r\n",
        "\r\n",
        "    env = mkenv(ENV_NAME,k,skip,Tmgn,Bmgn,Lmgn,Rmgn,NOCOLOR,deadloss=deadloss)\r\n",
        "    env.seed(seed)\r\n",
        "    return env"
      ],
      "execution_count": null,
      "outputs": []
    },
    {
      "cell_type": "code",
      "metadata": {
        "id": "XyGE7gVO7n0K"
      },
      "source": [
        "class Model(nn.Module):\r\n",
        "\r\n",
        "    def __init__(self,nframes=8):\r\n",
        "        super().__init__()\r\n",
        "\r\n",
        "        # 4x84x84 → 32x20x20 \r\n",
        "        self.conv1 = nn.Conv2d(in_channels=nframes, out_channels=32, kernel_size=8, stride=4)\r\n",
        "        # 32x20x20 →64x9x9\r\n",
        "        self.conv2 = nn.Conv2d(in_channels=32, out_channels=64, kernel_size=4, stride=2)\r\n",
        "        # 64x9x9 → 64x7x7 \r\n",
        "        self.conv3 = nn.Conv2d(in_channels=64, out_channels=64, kernel_size=3, stride=1)\r\n",
        "        # 64x7x7 → 512 \r\n",
        "        self.lin = nn.Linear(in_features=7 * 7 * 64, out_features=512)\r\n",
        "        # 512 → 4 actions 0-1 （行動決定）\r\n",
        "        self.pi_logits = nn.Linear(in_features=512, out_features=4)\r\n",
        "        # 行動価値\r\n",
        "        self.value = nn.Linear(in_features=512, out_features=1)\r\n",
        "\r\n",
        "    def forward(self, obs: torch.Tensor):\r\n",
        "        h = F.relu(self.conv1(obs))\r\n",
        "        h = F.relu(self.conv2(h))\r\n",
        "        h = F.relu(self.conv3(h))\r\n",
        "        h = h.reshape((-1, 7 * 7 * 64))\r\n",
        "\r\n",
        "        h = F.relu(self.lin(h))\r\n",
        "\r\n",
        "        pi = Categorical(logits=self.pi_logits(h))\r\n",
        "        value = self.value(h).reshape(-1)\r\n",
        "\r\n",
        "        return pi, value"
      ],
      "execution_count": null,
      "outputs": []
    },
    {
      "cell_type": "code",
      "metadata": {
        "colab": {
          "base_uri": "https://localhost:8080/"
        },
        "id": "lpt2Wy9b7yjg",
        "outputId": "4627fea8-4c71-4e1c-fdff-8a43a2bb5d33"
      },
      "source": [
        "from google.colab import drive\n",
        "drive.mount('/content/drive')"
      ],
      "execution_count": null,
      "outputs": [
        {
          "output_type": "stream",
          "text": [
            "Drive already mounted at /content/drive; to attempt to forcibly remount, call drive.mount(\"/content/drive\", force_remount=True).\n"
          ],
          "name": "stdout"
        }
      ]
    },
    {
      "cell_type": "code",
      "metadata": {
        "colab": {
          "base_uri": "https://localhost:8080/"
        },
        "id": "ycCTdC7W7z2u",
        "outputId": "6e1b6873-ee72-4566-c09a-095dff9f79f6"
      },
      "source": [
        "import os\r\n",
        "PROJECTNAME = 'ppo'\r\n",
        "SAVEFOLDER = '/content/drive/MyDrive/M/{}'.format(PROJECTNAME)\r\n",
        "import torch\r\n",
        "device = torch.device('cuda:0' if torch.cuda.is_available() else 'cpu')\r\n",
        "print(repr(device))\r\n",
        "print(device)"
      ],
      "execution_count": null,
      "outputs": [
        {
          "output_type": "stream",
          "text": [
            "device(type='cpu')\n",
            "cpu\n"
          ],
          "name": "stdout"
        }
      ]
    },
    {
      "cell_type": "markdown",
      "metadata": {
        "id": "rXI_Tzdx7A1A"
      },
      "source": [
        "# NFRAME を１２としています。適宜修正してください。"
      ]
    },
    {
      "cell_type": "code",
      "metadata": {
        "colab": {
          "base_uri": "https://localhost:8080/"
        },
        "id": "UWbB5Xh_7_Jh",
        "outputId": "b439a41b-f1d2-4c79-9120-43cf34ec2a56"
      },
      "source": [
        "NFRAME=12\r\n",
        "model = Model(NFRAME).to(device)\r\n",
        "model.load_state_dict(torch.load(SAVEFOLDER+'/model'))"
      ],
      "execution_count": null,
      "outputs": [
        {
          "output_type": "execute_result",
          "data": {
            "text/plain": [
              "<All keys matched successfully>"
            ]
          },
          "metadata": {
            "tags": []
          },
          "execution_count": 13
        }
      ]
    },
    {
      "cell_type": "code",
      "metadata": {
        "colab": {
          "base_uri": "https://localhost:8080/",
          "height": 420
        },
        "id": "5y582hNW8Je0",
        "outputId": "b3227ee2-06e5-4d64-c3e1-8c06fa50dc60"
      },
      "source": [
        "random.seed(datetime.now())\r\n",
        "DEFAULTSEED = random.randint(1, 10000)\r\n",
        "game = wrap_env(Game(DEFAULTSEED,NFRAME))\r\n",
        "\r\n",
        "observation = game.reset()\r\n",
        "while True:\r\n",
        "\r\n",
        "    game.render()\r\n",
        "    \r\n",
        "    pi, v = model(observation)\r\n",
        "    action = pi.sample() # 方策関数によりアクションを決定\r\n",
        "    # action =a0.cpu().numpy()[0] # アクション番号の数値化\r\n",
        "\r\n",
        "    observation, reward, done, info = game.step(action) \r\n",
        "        \r\n",
        "    if done: \r\n",
        "      break;            \r\n",
        "game.close()\r\n",
        "show_video()"
      ],
      "execution_count": null,
      "outputs": [
        {
          "output_type": "display_data",
          "data": {
            "text/html": [
              "<video alt=\"test\" autoplay \n",
              "                loop controls style=\"height: 400px;\">\n",
              "                <source src=\"data:video/mp4;base64,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\" type=\"video/mp4\" />\n",
              "             </video>"
            ],
            "text/plain": [
              "<IPython.core.display.HTML object>"
            ]
          },
          "metadata": {
            "tags": []
          }
        }
      ]
    },
    {
      "cell_type": "code",
      "metadata": {
        "id": "LwPyJwh6BVgp"
      },
      "source": [
        ""
      ],
      "execution_count": null,
      "outputs": []
    }
  ]
}